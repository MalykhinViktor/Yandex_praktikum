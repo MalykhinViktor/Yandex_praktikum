{
 "cells": [
  {
   "cell_type": "markdown",
   "id": "18b4b2bf",
   "metadata": {},
   "source": [
    "<div style=\"box-shadow: 2px 2px 2px; color: steelblue; border-radius: 10px; border:solid steelblue 3px; padding: 10px\">\n",
    "    \n",
    "<div style=\"color: black\">\n",
    "\n",
    "**Привет, Виктор!** 👋\n",
    "\n",
    "Меня зовут Алексей Манелюк, я буду проверять твой проект. В IT-среде принято общаться на \"ты\" 😉, но если некомфортно - скажи и будем на \"Вы\".\n",
    "\n",
    "Моя цель - не указать на совершенные тобой ошибки, а поделиться своим опытом и помочь в освоении анализа данных.\n",
    "\n",
    "В тексте проекта ты увидишь мои комментарии, пожалуйста, не удаляй, не перемещай и не изменяй их. У комментариев могут быть приписки **V2**, **V3** и т.д., которые соответствуют версии проверки. Я буду использовать цветовую разметку:\n",
    "<p>\n",
    "<div class=\"alert-danger\" style=\"border-radius: 10px; box-shadow: 2px 2px 2px; border: 1px solid; padding: 10px\">\n",
    "<b>Комментарий ревьюера ❌</b>\n",
    "\n",
    "Так выделены критические замечания. Без их отработки я не смогу принять проект. </div>\n",
    "\n",
    "<div class=\"alert-warning\" style=\"border-radius: 10px; box-shadow: 2px 2px 2px; border: 1px solid; padding: 10px\">\n",
    "<b>  Комментарий ревьюера ⚠️</b>\n",
    "\n",
    "Так выделены небольшие замечания или полезные советы. Постарайся учесть их.</div>\n",
    "<p>\n",
    "<div class=\"alert-success\" style=\"border-radius: 10px; box-shadow: 2px 2px 2px; border: 1px solid; padding: 10px\">\n",
    "<b>Комментарий ревьюера ✔️</b>\n",
    "\n",
    "Так выделены правильные решения.</div>\n",
    "\n",
    "Предлагаю работать в диалоге: если что-то дорабатываешь или отвечаешь на мой комментарий - пиши об этом. Мне будет удобней, если ты выделишь свои комментарии:\n",
    "<p>\n",
    "<div class=\"alert-info\" style=\"border-radius: 10px; box-shadow: 2px 2px 2px; border: 1px solid; padding: 10px\">\n",
    "<b>Комментарий студента 💎</b>\n",
    "\n",
    "Здесь исправил.</div>\n",
    "\n",
    "Все это поможет мне быстрее принять твой проект.</div>"
   ]
  },
  {
   "cell_type": "markdown",
   "id": "48ae4f3b",
   "metadata": {},
   "source": [
    "<div class=\"alert-info\" style=\"border-radius: 10px; box-shadow: 2px 2px 2px; border: 1px solid; padding: 10px\">\n",
    "<b>Комментарий студента 💎</b>\n",
    "\n",
    "Написать свой комментарий можно скопировав этот блок в ячейку Markdown</div>"
   ]
  },
  {
   "cell_type": "markdown",
   "id": "3a1abe16",
   "metadata": {
    "deletable": false,
    "editable": false,
    "id": "c81daeeb"
   },
   "source": [
    "# Исследование надежности заемщиков\n"
   ]
  },
  {
   "cell_type": "markdown",
   "id": "6a01fe10",
   "metadata": {
    "deletable": false,
    "editable": false,
    "id": "827c20bf"
   },
   "source": [
    "Во второй части проекта вы выполните шаги 3 и 4. Их вручную проверит ревьюер.\n",
    "Чтобы вам не пришлось писать код заново для шагов 1 и 2, мы добавили авторские решения в ячейки с кодом. \n",
    "\n"
   ]
  },
  {
   "cell_type": "markdown",
   "id": "e3115a8c",
   "metadata": {},
   "source": [
    "<div class=\"alert-warning\" style=\"border-radius: 10px; box-shadow: 2px 2px 2px; border: 1px solid; padding: 10px\">\n",
    "<b>Комментарий ревьюера ⚠️</b>\n",
    "\n",
    "Несмотря на то, что первая часть проекта проверяется автоматизрованно, дам по ней пару советов - они пригодятся тебе в следующих проектах. \n",
    "\n",
    "**Их отработка сейчас необязательна**.\n",
    "\n",
    "📌 После названия, обязательно нужно добавлять бриф, цели исследования, описание данных и план работы.</div>"
   ]
  },
  {
   "cell_type": "markdown",
   "id": "a0426ef2",
   "metadata": {
    "deletable": false,
    "editable": false,
    "id": "744d7639"
   },
   "source": [
    "## Откройте таблицу и изучите общую информацию о данных"
   ]
  },
  {
   "cell_type": "markdown",
   "id": "e4966841",
   "metadata": {
    "deletable": false,
    "editable": false,
    "id": "e7a14c31"
   },
   "source": [
    "**Задание 1. Импортируйте библиотеку pandas. Считайте данные из csv-файла в датафрейм и сохраните в переменную `data`. Путь к файлу:**\n",
    "\n",
    "`/datasets/data.csv`"
   ]
  },
  {
   "cell_type": "code",
   "execution_count": 1,
   "id": "2f245281",
   "metadata": {
    "deletable": false,
    "id": "7bcf75c9"
   },
   "outputs": [],
   "source": [
    "import pandas as pd\n",
    "\n"
   ]
  },
  {
   "cell_type": "code",
   "execution_count": 2,
   "id": "9b8438d4",
   "metadata": {},
   "outputs": [],
   "source": [
    "try:\n",
    "    data = pd.read_csv('/datasets/data.csv')\n",
    "except:\n",
    "    data = pd.read_csv('https://code.s3.yandex.net/datasets/data.csv')"
   ]
  },
  {
   "cell_type": "markdown",
   "id": "019655f9",
   "metadata": {},
   "source": [
    "<div class=\"alert-warning\" style=\"border-radius: 10px; box-shadow: 2px 2px 2px; border: 1px solid; padding: 10px\">\n",
    "<b>Комментарий ревьюера ⚠️</b>\n",
    "\n",
    "📌 Лучше разделять ячейки загрузки библиотек и данных. Если понадобится подключить дополнительную библиотеку, не нужно будет заново грузить данные и перезаписывать переменные.</div>"
   ]
  },
  {
   "cell_type": "markdown",
   "id": "65f4aa60",
   "metadata": {},
   "source": [
    "<div class=\"alert-info\" style=\"border-radius: 10px; box-shadow: 2px 2px 2px; border: 1px solid; padding: 10px\">\n",
    "<b>Комментарий студента 💎</b>\n",
    "\n",
    "Исправлено, \n",
    "    Буду использовать. "
   ]
  },
  {
   "cell_type": "markdown",
   "id": "e7dda9b9",
   "metadata": {},
   "source": [
    "<div class=\"alert-success\" style=\"border-radius: 10px; box-shadow: 2px 2px 2px; border: 1px solid; padding: 10px\">\n",
    "<b>Комментарий ревьюера V2 ✔️</b>\n",
    "\n",
    "Отлично, спасибо за обратную связь!</div>"
   ]
  },
  {
   "cell_type": "markdown",
   "id": "daeb2f98",
   "metadata": {
    "deletable": false,
    "editable": false,
    "id": "b8038fe3"
   },
   "source": [
    "**Задание 2. Выведите первые 20 строчек датафрейма `data` на экран.**"
   ]
  },
  {
   "cell_type": "code",
   "execution_count": 3,
   "id": "07f1fbe7",
   "metadata": {
    "deletable": false,
    "id": "2a7cab99",
    "outputId": "1a8f3ef2-d323-4ec2-ddf7-89670b5944c4"
   },
   "outputs": [
    {
     "data": {
      "text/html": [
       "<div>\n",
       "<style scoped>\n",
       "    .dataframe tbody tr th:only-of-type {\n",
       "        vertical-align: middle;\n",
       "    }\n",
       "\n",
       "    .dataframe tbody tr th {\n",
       "        vertical-align: top;\n",
       "    }\n",
       "\n",
       "    .dataframe thead th {\n",
       "        text-align: right;\n",
       "    }\n",
       "</style>\n",
       "<table border=\"1\" class=\"dataframe\">\n",
       "  <thead>\n",
       "    <tr style=\"text-align: right;\">\n",
       "      <th></th>\n",
       "      <th>children</th>\n",
       "      <th>days_employed</th>\n",
       "      <th>dob_years</th>\n",
       "      <th>education</th>\n",
       "      <th>education_id</th>\n",
       "      <th>family_status</th>\n",
       "      <th>family_status_id</th>\n",
       "      <th>gender</th>\n",
       "      <th>income_type</th>\n",
       "      <th>debt</th>\n",
       "      <th>total_income</th>\n",
       "      <th>purpose</th>\n",
       "    </tr>\n",
       "  </thead>\n",
       "  <tbody>\n",
       "    <tr>\n",
       "      <th>0</th>\n",
       "      <td>1</td>\n",
       "      <td>-8437.673028</td>\n",
       "      <td>42</td>\n",
       "      <td>высшее</td>\n",
       "      <td>0</td>\n",
       "      <td>женат / замужем</td>\n",
       "      <td>0</td>\n",
       "      <td>F</td>\n",
       "      <td>сотрудник</td>\n",
       "      <td>0</td>\n",
       "      <td>253875.639453</td>\n",
       "      <td>покупка жилья</td>\n",
       "    </tr>\n",
       "    <tr>\n",
       "      <th>1</th>\n",
       "      <td>1</td>\n",
       "      <td>-4024.803754</td>\n",
       "      <td>36</td>\n",
       "      <td>среднее</td>\n",
       "      <td>1</td>\n",
       "      <td>женат / замужем</td>\n",
       "      <td>0</td>\n",
       "      <td>F</td>\n",
       "      <td>сотрудник</td>\n",
       "      <td>0</td>\n",
       "      <td>112080.014102</td>\n",
       "      <td>приобретение автомобиля</td>\n",
       "    </tr>\n",
       "    <tr>\n",
       "      <th>2</th>\n",
       "      <td>0</td>\n",
       "      <td>-5623.422610</td>\n",
       "      <td>33</td>\n",
       "      <td>Среднее</td>\n",
       "      <td>1</td>\n",
       "      <td>женат / замужем</td>\n",
       "      <td>0</td>\n",
       "      <td>M</td>\n",
       "      <td>сотрудник</td>\n",
       "      <td>0</td>\n",
       "      <td>145885.952297</td>\n",
       "      <td>покупка жилья</td>\n",
       "    </tr>\n",
       "    <tr>\n",
       "      <th>3</th>\n",
       "      <td>3</td>\n",
       "      <td>-4124.747207</td>\n",
       "      <td>32</td>\n",
       "      <td>среднее</td>\n",
       "      <td>1</td>\n",
       "      <td>женат / замужем</td>\n",
       "      <td>0</td>\n",
       "      <td>M</td>\n",
       "      <td>сотрудник</td>\n",
       "      <td>0</td>\n",
       "      <td>267628.550329</td>\n",
       "      <td>дополнительное образование</td>\n",
       "    </tr>\n",
       "    <tr>\n",
       "      <th>4</th>\n",
       "      <td>0</td>\n",
       "      <td>340266.072047</td>\n",
       "      <td>53</td>\n",
       "      <td>среднее</td>\n",
       "      <td>1</td>\n",
       "      <td>гражданский брак</td>\n",
       "      <td>1</td>\n",
       "      <td>F</td>\n",
       "      <td>пенсионер</td>\n",
       "      <td>0</td>\n",
       "      <td>158616.077870</td>\n",
       "      <td>сыграть свадьбу</td>\n",
       "    </tr>\n",
       "    <tr>\n",
       "      <th>5</th>\n",
       "      <td>0</td>\n",
       "      <td>-926.185831</td>\n",
       "      <td>27</td>\n",
       "      <td>высшее</td>\n",
       "      <td>0</td>\n",
       "      <td>гражданский брак</td>\n",
       "      <td>1</td>\n",
       "      <td>M</td>\n",
       "      <td>компаньон</td>\n",
       "      <td>0</td>\n",
       "      <td>255763.565419</td>\n",
       "      <td>покупка жилья</td>\n",
       "    </tr>\n",
       "    <tr>\n",
       "      <th>6</th>\n",
       "      <td>0</td>\n",
       "      <td>-2879.202052</td>\n",
       "      <td>43</td>\n",
       "      <td>высшее</td>\n",
       "      <td>0</td>\n",
       "      <td>женат / замужем</td>\n",
       "      <td>0</td>\n",
       "      <td>F</td>\n",
       "      <td>компаньон</td>\n",
       "      <td>0</td>\n",
       "      <td>240525.971920</td>\n",
       "      <td>операции с жильем</td>\n",
       "    </tr>\n",
       "    <tr>\n",
       "      <th>7</th>\n",
       "      <td>0</td>\n",
       "      <td>-152.779569</td>\n",
       "      <td>50</td>\n",
       "      <td>СРЕДНЕЕ</td>\n",
       "      <td>1</td>\n",
       "      <td>женат / замужем</td>\n",
       "      <td>0</td>\n",
       "      <td>M</td>\n",
       "      <td>сотрудник</td>\n",
       "      <td>0</td>\n",
       "      <td>135823.934197</td>\n",
       "      <td>образование</td>\n",
       "    </tr>\n",
       "    <tr>\n",
       "      <th>8</th>\n",
       "      <td>2</td>\n",
       "      <td>-6929.865299</td>\n",
       "      <td>35</td>\n",
       "      <td>ВЫСШЕЕ</td>\n",
       "      <td>0</td>\n",
       "      <td>гражданский брак</td>\n",
       "      <td>1</td>\n",
       "      <td>F</td>\n",
       "      <td>сотрудник</td>\n",
       "      <td>0</td>\n",
       "      <td>95856.832424</td>\n",
       "      <td>на проведение свадьбы</td>\n",
       "    </tr>\n",
       "    <tr>\n",
       "      <th>9</th>\n",
       "      <td>0</td>\n",
       "      <td>-2188.756445</td>\n",
       "      <td>41</td>\n",
       "      <td>среднее</td>\n",
       "      <td>1</td>\n",
       "      <td>женат / замужем</td>\n",
       "      <td>0</td>\n",
       "      <td>M</td>\n",
       "      <td>сотрудник</td>\n",
       "      <td>0</td>\n",
       "      <td>144425.938277</td>\n",
       "      <td>покупка жилья для семьи</td>\n",
       "    </tr>\n",
       "    <tr>\n",
       "      <th>10</th>\n",
       "      <td>2</td>\n",
       "      <td>-4171.483647</td>\n",
       "      <td>36</td>\n",
       "      <td>высшее</td>\n",
       "      <td>0</td>\n",
       "      <td>женат / замужем</td>\n",
       "      <td>0</td>\n",
       "      <td>M</td>\n",
       "      <td>компаньон</td>\n",
       "      <td>0</td>\n",
       "      <td>113943.491460</td>\n",
       "      <td>покупка недвижимости</td>\n",
       "    </tr>\n",
       "    <tr>\n",
       "      <th>11</th>\n",
       "      <td>0</td>\n",
       "      <td>-792.701887</td>\n",
       "      <td>40</td>\n",
       "      <td>среднее</td>\n",
       "      <td>1</td>\n",
       "      <td>женат / замужем</td>\n",
       "      <td>0</td>\n",
       "      <td>F</td>\n",
       "      <td>сотрудник</td>\n",
       "      <td>0</td>\n",
       "      <td>77069.234271</td>\n",
       "      <td>покупка коммерческой недвижимости</td>\n",
       "    </tr>\n",
       "    <tr>\n",
       "      <th>12</th>\n",
       "      <td>0</td>\n",
       "      <td>NaN</td>\n",
       "      <td>65</td>\n",
       "      <td>среднее</td>\n",
       "      <td>1</td>\n",
       "      <td>гражданский брак</td>\n",
       "      <td>1</td>\n",
       "      <td>M</td>\n",
       "      <td>пенсионер</td>\n",
       "      <td>0</td>\n",
       "      <td>NaN</td>\n",
       "      <td>сыграть свадьбу</td>\n",
       "    </tr>\n",
       "    <tr>\n",
       "      <th>13</th>\n",
       "      <td>0</td>\n",
       "      <td>-1846.641941</td>\n",
       "      <td>54</td>\n",
       "      <td>неоконченное высшее</td>\n",
       "      <td>2</td>\n",
       "      <td>женат / замужем</td>\n",
       "      <td>0</td>\n",
       "      <td>F</td>\n",
       "      <td>сотрудник</td>\n",
       "      <td>0</td>\n",
       "      <td>130458.228857</td>\n",
       "      <td>приобретение автомобиля</td>\n",
       "    </tr>\n",
       "    <tr>\n",
       "      <th>14</th>\n",
       "      <td>0</td>\n",
       "      <td>-1844.956182</td>\n",
       "      <td>56</td>\n",
       "      <td>высшее</td>\n",
       "      <td>0</td>\n",
       "      <td>гражданский брак</td>\n",
       "      <td>1</td>\n",
       "      <td>F</td>\n",
       "      <td>компаньон</td>\n",
       "      <td>1</td>\n",
       "      <td>165127.911772</td>\n",
       "      <td>покупка жилой недвижимости</td>\n",
       "    </tr>\n",
       "    <tr>\n",
       "      <th>15</th>\n",
       "      <td>1</td>\n",
       "      <td>-972.364419</td>\n",
       "      <td>26</td>\n",
       "      <td>среднее</td>\n",
       "      <td>1</td>\n",
       "      <td>женат / замужем</td>\n",
       "      <td>0</td>\n",
       "      <td>F</td>\n",
       "      <td>сотрудник</td>\n",
       "      <td>0</td>\n",
       "      <td>116820.904450</td>\n",
       "      <td>строительство собственной недвижимости</td>\n",
       "    </tr>\n",
       "    <tr>\n",
       "      <th>16</th>\n",
       "      <td>0</td>\n",
       "      <td>-1719.934226</td>\n",
       "      <td>35</td>\n",
       "      <td>среднее</td>\n",
       "      <td>1</td>\n",
       "      <td>женат / замужем</td>\n",
       "      <td>0</td>\n",
       "      <td>F</td>\n",
       "      <td>сотрудник</td>\n",
       "      <td>0</td>\n",
       "      <td>289202.704229</td>\n",
       "      <td>недвижимость</td>\n",
       "    </tr>\n",
       "    <tr>\n",
       "      <th>17</th>\n",
       "      <td>0</td>\n",
       "      <td>-2369.999720</td>\n",
       "      <td>33</td>\n",
       "      <td>высшее</td>\n",
       "      <td>0</td>\n",
       "      <td>гражданский брак</td>\n",
       "      <td>1</td>\n",
       "      <td>M</td>\n",
       "      <td>сотрудник</td>\n",
       "      <td>0</td>\n",
       "      <td>90410.586745</td>\n",
       "      <td>строительство недвижимости</td>\n",
       "    </tr>\n",
       "    <tr>\n",
       "      <th>18</th>\n",
       "      <td>0</td>\n",
       "      <td>400281.136913</td>\n",
       "      <td>53</td>\n",
       "      <td>среднее</td>\n",
       "      <td>1</td>\n",
       "      <td>вдовец / вдова</td>\n",
       "      <td>2</td>\n",
       "      <td>F</td>\n",
       "      <td>пенсионер</td>\n",
       "      <td>0</td>\n",
       "      <td>56823.777243</td>\n",
       "      <td>на покупку подержанного автомобиля</td>\n",
       "    </tr>\n",
       "    <tr>\n",
       "      <th>19</th>\n",
       "      <td>0</td>\n",
       "      <td>-10038.818549</td>\n",
       "      <td>48</td>\n",
       "      <td>СРЕДНЕЕ</td>\n",
       "      <td>1</td>\n",
       "      <td>в разводе</td>\n",
       "      <td>3</td>\n",
       "      <td>F</td>\n",
       "      <td>сотрудник</td>\n",
       "      <td>0</td>\n",
       "      <td>242831.107982</td>\n",
       "      <td>на покупку своего автомобиля</td>\n",
       "    </tr>\n",
       "  </tbody>\n",
       "</table>\n",
       "</div>"
      ],
      "text/plain": [
       "    children  days_employed  dob_years            education  education_id  \\\n",
       "0          1   -8437.673028         42               высшее             0   \n",
       "1          1   -4024.803754         36              среднее             1   \n",
       "2          0   -5623.422610         33              Среднее             1   \n",
       "3          3   -4124.747207         32              среднее             1   \n",
       "4          0  340266.072047         53              среднее             1   \n",
       "5          0    -926.185831         27               высшее             0   \n",
       "6          0   -2879.202052         43               высшее             0   \n",
       "7          0    -152.779569         50              СРЕДНЕЕ             1   \n",
       "8          2   -6929.865299         35               ВЫСШЕЕ             0   \n",
       "9          0   -2188.756445         41              среднее             1   \n",
       "10         2   -4171.483647         36               высшее             0   \n",
       "11         0    -792.701887         40              среднее             1   \n",
       "12         0            NaN         65              среднее             1   \n",
       "13         0   -1846.641941         54  неоконченное высшее             2   \n",
       "14         0   -1844.956182         56               высшее             0   \n",
       "15         1    -972.364419         26              среднее             1   \n",
       "16         0   -1719.934226         35              среднее             1   \n",
       "17         0   -2369.999720         33               высшее             0   \n",
       "18         0  400281.136913         53              среднее             1   \n",
       "19         0  -10038.818549         48              СРЕДНЕЕ             1   \n",
       "\n",
       "       family_status  family_status_id gender income_type  debt  \\\n",
       "0    женат / замужем                 0      F   сотрудник     0   \n",
       "1    женат / замужем                 0      F   сотрудник     0   \n",
       "2    женат / замужем                 0      M   сотрудник     0   \n",
       "3    женат / замужем                 0      M   сотрудник     0   \n",
       "4   гражданский брак                 1      F   пенсионер     0   \n",
       "5   гражданский брак                 1      M   компаньон     0   \n",
       "6    женат / замужем                 0      F   компаньон     0   \n",
       "7    женат / замужем                 0      M   сотрудник     0   \n",
       "8   гражданский брак                 1      F   сотрудник     0   \n",
       "9    женат / замужем                 0      M   сотрудник     0   \n",
       "10   женат / замужем                 0      M   компаньон     0   \n",
       "11   женат / замужем                 0      F   сотрудник     0   \n",
       "12  гражданский брак                 1      M   пенсионер     0   \n",
       "13   женат / замужем                 0      F   сотрудник     0   \n",
       "14  гражданский брак                 1      F   компаньон     1   \n",
       "15   женат / замужем                 0      F   сотрудник     0   \n",
       "16   женат / замужем                 0      F   сотрудник     0   \n",
       "17  гражданский брак                 1      M   сотрудник     0   \n",
       "18    вдовец / вдова                 2      F   пенсионер     0   \n",
       "19         в разводе                 3      F   сотрудник     0   \n",
       "\n",
       "     total_income                                 purpose  \n",
       "0   253875.639453                           покупка жилья  \n",
       "1   112080.014102                 приобретение автомобиля  \n",
       "2   145885.952297                           покупка жилья  \n",
       "3   267628.550329              дополнительное образование  \n",
       "4   158616.077870                         сыграть свадьбу  \n",
       "5   255763.565419                           покупка жилья  \n",
       "6   240525.971920                       операции с жильем  \n",
       "7   135823.934197                             образование  \n",
       "8    95856.832424                   на проведение свадьбы  \n",
       "9   144425.938277                 покупка жилья для семьи  \n",
       "10  113943.491460                    покупка недвижимости  \n",
       "11   77069.234271       покупка коммерческой недвижимости  \n",
       "12            NaN                         сыграть свадьбу  \n",
       "13  130458.228857                 приобретение автомобиля  \n",
       "14  165127.911772              покупка жилой недвижимости  \n",
       "15  116820.904450  строительство собственной недвижимости  \n",
       "16  289202.704229                            недвижимость  \n",
       "17   90410.586745              строительство недвижимости  \n",
       "18   56823.777243      на покупку подержанного автомобиля  \n",
       "19  242831.107982            на покупку своего автомобиля  "
      ]
     },
     "execution_count": 3,
     "metadata": {},
     "output_type": "execute_result"
    }
   ],
   "source": [
    "data.head(20)\n"
   ]
  },
  {
   "cell_type": "markdown",
   "id": "b6ff0f8b",
   "metadata": {
    "deletable": false,
    "editable": false,
    "id": "1c12e233"
   },
   "source": [
    "**Задание 3. Выведите основную информацию о датафрейме с помощью метода `info()`.**"
   ]
  },
  {
   "cell_type": "code",
   "execution_count": 4,
   "id": "2399e67f",
   "metadata": {
    "deletable": false,
    "id": "2b757bca",
    "outputId": "15376089-8dad-46c9-b520-c05248d43158"
   },
   "outputs": [
    {
     "name": "stdout",
     "output_type": "stream",
     "text": [
      "<class 'pandas.core.frame.DataFrame'>\n",
      "RangeIndex: 21525 entries, 0 to 21524\n",
      "Data columns (total 12 columns):\n",
      " #   Column            Non-Null Count  Dtype  \n",
      "---  ------            --------------  -----  \n",
      " 0   children          21525 non-null  int64  \n",
      " 1   days_employed     19351 non-null  float64\n",
      " 2   dob_years         21525 non-null  int64  \n",
      " 3   education         21525 non-null  object \n",
      " 4   education_id      21525 non-null  int64  \n",
      " 5   family_status     21525 non-null  object \n",
      " 6   family_status_id  21525 non-null  int64  \n",
      " 7   gender            21525 non-null  object \n",
      " 8   income_type       21525 non-null  object \n",
      " 9   debt              21525 non-null  int64  \n",
      " 10  total_income      19351 non-null  float64\n",
      " 11  purpose           21525 non-null  object \n",
      "dtypes: float64(2), int64(5), object(5)\n",
      "memory usage: 2.0+ MB\n"
     ]
    }
   ],
   "source": [
    "data.info()"
   ]
  },
  {
   "cell_type": "markdown",
   "id": "866460f7",
   "metadata": {},
   "source": [
    "<div class=\"alert-warning\" style=\"border-radius: 10px; box-shadow: 2px 2px 2px; border: 1px solid; padding: 10px\">\n",
    "<b>Комментарий ревьюера ⚠️</b>\n",
    "\n",
    "📌 Каждый раздел работы стоит завершать кратким выводом, что было сделано, какие результаты получены.\n",
    "\n",
    "Ты можешь воспользоваться методичкой по оформлению проектов. Ее можно найти в блоке курса: `Полезные инструкции для учёбы - Оформление проекта - Рекомендации по выполнению проектов`\n",
    "</div>"
   ]
  },
  {
   "cell_type": "markdown",
   "id": "0b785cfd",
   "metadata": {},
   "source": [
    "Просмотрели основную информацию по dataframe **\"/datasets/data.csv\"**\n",
    "\n",
    "**Выводы:** Выявлены пропуски в данных колонок ‘days_employed’, ‘total_income' .\n"
   ]
  },
  {
   "cell_type": "markdown",
   "id": "07f128b7",
   "metadata": {},
   "source": [
    "<div class=\"alert-info\" style=\"border-radius: 10px; box-shadow: 2px 2px 2px; border: 1px solid; padding: 10px\">\n",
    "<b>Комментарий студента 💎</b>\n",
    "\n",
    "Исправлено, \n",
    "    Буду использовать. "
   ]
  },
  {
   "cell_type": "markdown",
   "id": "c6e6631f",
   "metadata": {},
   "source": [
    "<div class=\"alert-success\" style=\"border-radius: 10px; box-shadow: 2px 2px 2px; border: 1px solid; padding: 10px\">\n",
    "<b>Комментарий ревьюера V2 ✔️</b>\n",
    "\n",
    "Супер! Можно также добавить информацию о размере датафрейма, какие типы данных в нем содержатся, набросать план по предобработке.</div>"
   ]
  },
  {
   "cell_type": "markdown",
   "id": "8542f899",
   "metadata": {
    "deletable": false,
    "editable": false,
    "id": "333ec665"
   },
   "source": [
    "## Предобработка данных"
   ]
  },
  {
   "cell_type": "markdown",
   "id": "cba65d0e",
   "metadata": {
    "deletable": false,
    "editable": false,
    "id": "02d92d53"
   },
   "source": [
    "### Удаление пропусков"
   ]
  },
  {
   "cell_type": "markdown",
   "id": "d0ee70e9",
   "metadata": {
    "deletable": false,
    "editable": false,
    "id": "cd84967c"
   },
   "source": [
    "**Задание 4. Выведите количество пропущенных значений для каждого столбца. Используйте комбинацию двух методов.**"
   ]
  },
  {
   "cell_type": "code",
   "execution_count": 5,
   "id": "f52fe7a5",
   "metadata": {
    "deletable": false,
    "id": "7f9b2309",
    "outputId": "81f4d817-781c-465c-ed15-91ce4446810d"
   },
   "outputs": [
    {
     "data": {
      "text/plain": [
       "children               0\n",
       "days_employed       2174\n",
       "dob_years              0\n",
       "education              0\n",
       "education_id           0\n",
       "family_status          0\n",
       "family_status_id       0\n",
       "gender                 0\n",
       "income_type            0\n",
       "debt                   0\n",
       "total_income        2174\n",
       "purpose                0\n",
       "dtype: int64"
      ]
     },
     "execution_count": 5,
     "metadata": {},
     "output_type": "execute_result"
    }
   ],
   "source": [
    "data.isna().sum()"
   ]
  },
  {
   "cell_type": "markdown",
   "id": "ccb7ec82",
   "metadata": {
    "deletable": false,
    "editable": false,
    "id": "db86e27b"
   },
   "source": [
    "**Задание 5. В двух столбцах есть пропущенные значения. Один из них — `days_employed`. Пропуски в этом столбце вы обработаете на следующем этапе. Другой столбец с пропущенными значениями — `total_income` — хранит данные о доходах. На сумму дохода сильнее всего влияет тип занятости, поэтому заполнить пропуски в этом столбце нужно медианным значением по каждому типу из столбца `income_type`. Например, у человека с типом занятости `сотрудник` пропуск в столбце `total_income` должен быть заполнен медианным доходом среди всех записей с тем же типом.**"
   ]
  },
  {
   "cell_type": "code",
   "execution_count": 6,
   "id": "bfd8d5e7",
   "metadata": {
    "deletable": false,
    "id": "42006a93"
   },
   "outputs": [],
   "source": [
    "for t in data['income_type'].unique():\n",
    "    data.loc[(data['income_type'] == t) & (data['total_income'].isna()), 'total_income'] = \\\n",
    "    data.loc[(data['income_type'] == t), 'total_income'].median()"
   ]
  },
  {
   "cell_type": "markdown",
   "id": "ae67ae77",
   "metadata": {
    "deletable": false,
    "editable": false,
    "id": "89da5ece"
   },
   "source": [
    "### Обработка аномальных значений"
   ]
  },
  {
   "cell_type": "markdown",
   "id": "30c5d775",
   "metadata": {
    "deletable": false,
    "editable": false,
    "id": "57964554"
   },
   "source": [
    "**Задание 6. В данных могут встречаться артефакты (аномалии) — значения, которые не отражают действительность и появились по какой-то ошибке. таким артефактом будет отрицательное количество дней трудового стажа в столбце `days_employed`. Для реальных данных это нормально. Обработайте значения в этом столбце: замените все отрицательные значения положительными с помощью метода `abs()`.**"
   ]
  },
  {
   "cell_type": "code",
   "execution_count": 7,
   "id": "8b86bca1",
   "metadata": {
    "deletable": false,
    "id": "f6f055bf"
   },
   "outputs": [],
   "source": [
    "data['days_employed'] = data['days_employed'].abs()"
   ]
  },
  {
   "cell_type": "markdown",
   "id": "aaee7bb7",
   "metadata": {
    "deletable": false,
    "editable": false,
    "id": "6107dd2f"
   },
   "source": [
    "**Задание 7. Для каждого типа занятости выведите медианное значение трудового стажа `days_employed` в днях.**"
   ]
  },
  {
   "cell_type": "code",
   "execution_count": 8,
   "id": "25ad2c5a",
   "metadata": {
    "deletable": false,
    "id": "85a5faf6",
    "outputId": "801ef80e-522b-4668-f34e-565af7432bcf"
   },
   "outputs": [
    {
     "data": {
      "text/plain": [
       "income_type\n",
       "безработный        366413.652744\n",
       "в декрете            3296.759962\n",
       "госслужащий          2689.368353\n",
       "компаньон            1547.382223\n",
       "пенсионер          365213.306266\n",
       "предприниматель       520.848083\n",
       "сотрудник            1574.202821\n",
       "студент               578.751554\n",
       "Name: days_employed, dtype: float64"
      ]
     },
     "execution_count": 8,
     "metadata": {},
     "output_type": "execute_result"
    }
   ],
   "source": [
    "data.groupby('income_type')['days_employed'].agg('median')"
   ]
  },
  {
   "cell_type": "markdown",
   "id": "2422d10b",
   "metadata": {
    "deletable": false,
    "editable": false,
    "id": "38d1a030"
   },
   "source": [
    "У двух типов (безработные и пенсионеры) получатся аномально большие значения. Исправить такие значения сложно, поэтому оставьте их как есть. Тем более этот столбец не понадобится вам для исследования."
   ]
  },
  {
   "cell_type": "markdown",
   "id": "2aa6e405",
   "metadata": {
    "deletable": false,
    "editable": false,
    "id": "d8a9f147"
   },
   "source": [
    "**Задание 8. Выведите перечень уникальных значений столбца `children`.**"
   ]
  },
  {
   "cell_type": "code",
   "execution_count": 9,
   "id": "2da5616f",
   "metadata": {
    "deletable": false,
    "id": "ef5056eb",
    "outputId": "6975b15c-7f95-4697-d16d-a0c79b657b03"
   },
   "outputs": [
    {
     "data": {
      "text/plain": [
       "array([ 1,  0,  3,  2, -1,  4, 20,  5])"
      ]
     },
     "execution_count": 9,
     "metadata": {},
     "output_type": "execute_result"
    }
   ],
   "source": [
    "data['children'].unique()"
   ]
  },
  {
   "cell_type": "markdown",
   "id": "d8b54f1b",
   "metadata": {
    "deletable": false,
    "editable": false,
    "id": "40b9ebf2"
   },
   "source": [
    "**Задание 9. В столбце `children` есть два аномальных значения. Удалите строки, в которых встречаются такие аномальные значения из датафрейма `data`.**"
   ]
  },
  {
   "cell_type": "code",
   "execution_count": 10,
   "id": "564e1fbb",
   "metadata": {
    "deletable": false,
    "id": "3ff9801d"
   },
   "outputs": [],
   "source": [
    "data = data[(data['children'] != -1) & (data['children'] != 20)]"
   ]
  },
  {
   "cell_type": "markdown",
   "id": "3515968e",
   "metadata": {
    "deletable": false,
    "editable": false,
    "id": "bbc4d0ce"
   },
   "source": [
    "**Задание 10. Ещё раз выведите перечень уникальных значений столбца `children`, чтобы убедиться, что артефакты удалены.**"
   ]
  },
  {
   "cell_type": "code",
   "execution_count": 11,
   "id": "afe40b9f",
   "metadata": {
    "deletable": false,
    "id": "ad4fa8b7",
    "outputId": "b2097101-d49d-44d9-901b-32a65c9463d1"
   },
   "outputs": [
    {
     "data": {
      "text/plain": [
       "array([1, 0, 3, 2, 4, 5])"
      ]
     },
     "execution_count": 11,
     "metadata": {},
     "output_type": "execute_result"
    }
   ],
   "source": [
    "data['children'].unique()"
   ]
  },
  {
   "cell_type": "markdown",
   "id": "d8f017b2",
   "metadata": {
    "deletable": false,
    "editable": false,
    "id": "75440b63"
   },
   "source": [
    "### Удаление пропусков (продолжение)"
   ]
  },
  {
   "cell_type": "markdown",
   "id": "362a3488",
   "metadata": {
    "deletable": false,
    "editable": false,
    "id": "f4ea573f"
   },
   "source": [
    "**Задание 11. Заполните пропуски в столбце `days_employed` медианными значениями по каждого типа занятости `income_type`.**"
   ]
  },
  {
   "cell_type": "code",
   "execution_count": 12,
   "id": "04091733",
   "metadata": {
    "deletable": false,
    "id": "af6b1a7e"
   },
   "outputs": [],
   "source": [
    "for t in data['income_type'].unique():\n",
    "    data.loc[(data['income_type'] == t) & (data['days_employed'].isna()), 'days_employed'] = \\\n",
    "    data.loc[(data['income_type'] == t), 'days_employed'].median()"
   ]
  },
  {
   "cell_type": "markdown",
   "id": "368e8d06",
   "metadata": {
    "deletable": false,
    "editable": false,
    "id": "2753f40d"
   },
   "source": [
    "**Задание 12. Убедитесь, что все пропуски заполнены. Проверьте себя и ещё раз выведите количество пропущенных значений для каждого столбца с помощью двух методов.**"
   ]
  },
  {
   "cell_type": "code",
   "execution_count": 13,
   "id": "58341641",
   "metadata": {
    "deletable": false,
    "id": "55f78bc2",
    "outputId": "8da1e4e1-358e-4e87-98c9-f261bce0a7b2"
   },
   "outputs": [
    {
     "data": {
      "text/plain": [
       "children            0\n",
       "days_employed       0\n",
       "dob_years           0\n",
       "education           0\n",
       "education_id        0\n",
       "family_status       0\n",
       "family_status_id    0\n",
       "gender              0\n",
       "income_type         0\n",
       "debt                0\n",
       "total_income        0\n",
       "purpose             0\n",
       "dtype: int64"
      ]
     },
     "execution_count": 13,
     "metadata": {},
     "output_type": "execute_result"
    }
   ],
   "source": [
    "data.isna().sum()"
   ]
  },
  {
   "cell_type": "markdown",
   "id": "2d2089e6",
   "metadata": {
    "deletable": false,
    "editable": false,
    "id": "ddc81e43"
   },
   "source": [
    "### Изменение типов данных"
   ]
  },
  {
   "cell_type": "markdown",
   "id": "a45f6258",
   "metadata": {
    "deletable": false,
    "editable": false,
    "id": "42d19d24"
   },
   "source": [
    "**Задание 13. Замените вещественный тип данных в столбце `total_income` на целочисленный с помощью метода `astype()`.**"
   ]
  },
  {
   "cell_type": "code",
   "execution_count": 14,
   "id": "c23c7c65",
   "metadata": {
    "deletable": false,
    "id": "920b65ad"
   },
   "outputs": [],
   "source": [
    "data['total_income'] = data['total_income'].astype(int)"
   ]
  },
  {
   "cell_type": "markdown",
   "id": "f45832c2",
   "metadata": {
    "deletable": false,
    "editable": false,
    "id": "80c420ba"
   },
   "source": [
    "### Обработка дубликатов"
   ]
  },
  {
   "cell_type": "markdown",
   "id": "f86faeaf",
   "metadata": {
    "deletable": false,
    "editable": false
   },
   "source": [
    "**Задание 14. Обработайте неявные дубликаты в столбце `education`. В этом столбце есть одни и те же значения, но записанные по-разному: с использованием заглавных и строчных букв. Приведите их к нижнему регистру.**"
   ]
  },
  {
   "cell_type": "code",
   "execution_count": 15,
   "id": "2676418a",
   "metadata": {
    "deletable": false
   },
   "outputs": [],
   "source": [
    "data['education'] = data['education'].str.lower()"
   ]
  },
  {
   "cell_type": "markdown",
   "id": "579db0da",
   "metadata": {
    "deletable": false,
    "editable": false,
    "id": "dc587695"
   },
   "source": [
    "**Задание 15. Выведите на экран количество строк-дубликатов в данных. Если такие строки присутствуют, удалите их.**"
   ]
  },
  {
   "cell_type": "code",
   "execution_count": 16,
   "id": "81759fad",
   "metadata": {
    "deletable": false,
    "id": "3ee445e4",
    "outputId": "9684deba-1934-42d1-99e1-cda61740f822"
   },
   "outputs": [
    {
     "data": {
      "text/plain": [
       "71"
      ]
     },
     "execution_count": 16,
     "metadata": {},
     "output_type": "execute_result"
    }
   ],
   "source": [
    "data.duplicated().sum()"
   ]
  },
  {
   "cell_type": "code",
   "execution_count": 17,
   "id": "c91966f7",
   "metadata": {
    "deletable": false,
    "id": "8575fe05"
   },
   "outputs": [],
   "source": [
    "data = data.drop_duplicates()"
   ]
  },
  {
   "cell_type": "markdown",
   "id": "1cc1ab31",
   "metadata": {
    "deletable": false,
    "editable": false,
    "id": "9904cf55"
   },
   "source": [
    "### Категоризация данных"
   ]
  },
  {
   "cell_type": "markdown",
   "id": "7184a58f",
   "metadata": {
    "deletable": false,
    "editable": false,
    "id": "72fcc8a2"
   },
   "source": [
    "**Задание 16. На основании диапазонов, указанных ниже, создайте в датафрейме `data` столбец `total_income_category` с категориями:**\n",
    "\n",
    "- 0–30000 — `'E'`;\n",
    "- 30001–50000 — `'D'`;\n",
    "- 50001–200000 — `'C'`;\n",
    "- 200001–1000000 — `'B'`;\n",
    "- 1000001 и выше — `'A'`.\n",
    "\n",
    "\n",
    "**Например, кредитополучателю с доходом 25000 нужно назначить категорию `'E'`, а клиенту, получающему 235000, — `'B'`. Используйте собственную функцию с именем `categorize_income()` и метод `apply()`.**"
   ]
  },
  {
   "cell_type": "code",
   "execution_count": 18,
   "id": "9403c4f6",
   "metadata": {
    "deletable": false,
    "id": "e1771346"
   },
   "outputs": [],
   "source": [
    "def categorize_income(income):\n",
    "    try:\n",
    "        if 0 <= income <= 30000:\n",
    "            return 'E'\n",
    "        elif 30001 <= income <= 50000:\n",
    "            return 'D'\n",
    "        elif 50001 <= income <= 200000:\n",
    "            return 'C'\n",
    "        elif 200001 <= income <= 1000000:\n",
    "            return 'B'\n",
    "        elif income >= 1000001:\n",
    "            return 'A'\n",
    "    except:\n",
    "        pass"
   ]
  },
  {
   "cell_type": "code",
   "execution_count": 19,
   "id": "7724f4f9",
   "metadata": {
    "deletable": false,
    "id": "d5f3586d"
   },
   "outputs": [],
   "source": [
    "data['total_income_category'] = data['total_income'].apply(categorize_income)"
   ]
  },
  {
   "cell_type": "markdown",
   "id": "6b297b8d",
   "metadata": {
    "deletable": false,
    "editable": false,
    "id": "dde49b5c"
   },
   "source": [
    "**Задание 17. Выведите на экран перечень уникальных целей взятия кредита из столбца `purpose`.**"
   ]
  },
  {
   "cell_type": "code",
   "execution_count": 20,
   "id": "f64565a6",
   "metadata": {
    "deletable": false,
    "id": "f67ce9b3",
    "outputId": "673c12d9-7d7e-4ae0-9812-c622c89dd244"
   },
   "outputs": [
    {
     "data": {
      "text/plain": [
       "array(['покупка жилья', 'приобретение автомобиля',\n",
       "       'дополнительное образование', 'сыграть свадьбу',\n",
       "       'операции с жильем', 'образование', 'на проведение свадьбы',\n",
       "       'покупка жилья для семьи', 'покупка недвижимости',\n",
       "       'покупка коммерческой недвижимости', 'покупка жилой недвижимости',\n",
       "       'строительство собственной недвижимости', 'недвижимость',\n",
       "       'строительство недвижимости', 'на покупку подержанного автомобиля',\n",
       "       'на покупку своего автомобиля',\n",
       "       'операции с коммерческой недвижимостью',\n",
       "       'строительство жилой недвижимости', 'жилье',\n",
       "       'операции со своей недвижимостью', 'автомобили',\n",
       "       'заняться образованием', 'сделка с подержанным автомобилем',\n",
       "       'получение образования', 'автомобиль', 'свадьба',\n",
       "       'получение дополнительного образования', 'покупка своего жилья',\n",
       "       'операции с недвижимостью', 'получение высшего образования',\n",
       "       'свой автомобиль', 'сделка с автомобилем',\n",
       "       'профильное образование', 'высшее образование',\n",
       "       'покупка жилья для сдачи', 'на покупку автомобиля', 'ремонт жилью',\n",
       "       'заняться высшим образованием'], dtype=object)"
      ]
     },
     "execution_count": 20,
     "metadata": {},
     "output_type": "execute_result"
    }
   ],
   "source": [
    "data['purpose'].unique()"
   ]
  },
  {
   "cell_type": "markdown",
   "id": "164a42cc",
   "metadata": {
    "deletable": false,
    "editable": false,
    "id": "85d0aef0"
   },
   "source": [
    "**Задание 18. Создайте функцию, которая на основании данных из столбца `purpose` сформирует новый столбец `purpose_category`, в который войдут следующие категории:**\n",
    "\n",
    "- `'операции с автомобилем'`,\n",
    "- `'операции с недвижимостью'`,\n",
    "- `'проведение свадьбы'`,\n",
    "- `'получение образования'`.\n",
    "\n",
    "**Например, если в столбце `purpose` находится подстрока `'на покупку автомобиля'`, то в столбце `purpose_category` должна появиться строка `'операции с автомобилем'`.**\n",
    "\n",
    "**Используйте собственную функцию с именем `categorize_purpose()` и метод `apply()`. Изучите данные в столбце `purpose` и определите, какие подстроки помогут вам правильно определить категорию.**"
   ]
  },
  {
   "cell_type": "code",
   "execution_count": 21,
   "id": "13bf7058",
   "metadata": {
    "deletable": false,
    "id": "e149fab4"
   },
   "outputs": [],
   "source": [
    "def categorize_purpose(row):\n",
    "    try:\n",
    "        if 'автом' in row:\n",
    "            return 'операции с автомобилем'\n",
    "        elif 'жил' in row or 'недвиж' in row:\n",
    "            return 'операции с недвижимостью'\n",
    "        elif 'свад' in row:\n",
    "            return 'проведение свадьбы'\n",
    "        elif 'образов' in row:\n",
    "            return 'получение образования'\n",
    "    except:\n",
    "        return 'нет категории'"
   ]
  },
  {
   "cell_type": "code",
   "execution_count": 22,
   "id": "2b5ab796",
   "metadata": {
    "deletable": false,
    "id": "bf36e69b"
   },
   "outputs": [],
   "source": [
    "data['purpose_category'] = data['purpose'].apply(categorize_purpose)"
   ]
  },
  {
   "cell_type": "markdown",
   "id": "74bcee0d",
   "metadata": {
    "deletable": false,
    "editable": false,
    "id": "09b242bf"
   },
   "source": [
    "### Шаг 3. Исследуйте данные и ответьте на вопросы"
   ]
  },
  {
   "cell_type": "markdown",
   "id": "06b6d62d",
   "metadata": {},
   "source": []
  },
  {
   "cell_type": "markdown",
   "id": "9dd0e4c7",
   "metadata": {
    "deletable": false,
    "editable": false,
    "id": "c5d66278"
   },
   "source": [
    "#### 3.1 Есть ли зависимость между количеством детей и возвратом кредита в срок?"
   ]
  },
  {
   "cell_type": "code",
   "execution_count": 23,
   "id": "fa2b54a1",
   "metadata": {
    "deletable": false,
    "id": "2cacfc4a"
   },
   "outputs": [
    {
     "data": {
      "text/html": [
       "<div>\n",
       "<style scoped>\n",
       "    .dataframe tbody tr th:only-of-type {\n",
       "        vertical-align: middle;\n",
       "    }\n",
       "\n",
       "    .dataframe tbody tr th {\n",
       "        vertical-align: top;\n",
       "    }\n",
       "\n",
       "    .dataframe thead tr th {\n",
       "        text-align: left;\n",
       "    }\n",
       "\n",
       "    .dataframe thead tr:last-of-type th {\n",
       "        text-align: right;\n",
       "    }\n",
       "</style>\n",
       "<table border=\"1\" class=\"dataframe\">\n",
       "  <thead>\n",
       "    <tr>\n",
       "      <th></th>\n",
       "      <th>count</th>\n",
       "      <th>sum</th>\n",
       "      <th>mean</th>\n",
       "    </tr>\n",
       "    <tr>\n",
       "      <th></th>\n",
       "      <th>debt</th>\n",
       "      <th>debt</th>\n",
       "      <th>debt</th>\n",
       "    </tr>\n",
       "    <tr>\n",
       "      <th>children</th>\n",
       "      <th></th>\n",
       "      <th></th>\n",
       "      <th></th>\n",
       "    </tr>\n",
       "  </thead>\n",
       "  <tbody>\n",
       "    <tr>\n",
       "      <th>4</th>\n",
       "      <td>41</td>\n",
       "      <td>4</td>\n",
       "      <td>0.097561</td>\n",
       "    </tr>\n",
       "    <tr>\n",
       "      <th>2</th>\n",
       "      <td>2052</td>\n",
       "      <td>194</td>\n",
       "      <td>0.094542</td>\n",
       "    </tr>\n",
       "    <tr>\n",
       "      <th>1</th>\n",
       "      <td>4808</td>\n",
       "      <td>444</td>\n",
       "      <td>0.092346</td>\n",
       "    </tr>\n",
       "    <tr>\n",
       "      <th>3</th>\n",
       "      <td>330</td>\n",
       "      <td>27</td>\n",
       "      <td>0.081818</td>\n",
       "    </tr>\n",
       "    <tr>\n",
       "      <th>0</th>\n",
       "      <td>14091</td>\n",
       "      <td>1063</td>\n",
       "      <td>0.075438</td>\n",
       "    </tr>\n",
       "    <tr>\n",
       "      <th>5</th>\n",
       "      <td>9</td>\n",
       "      <td>0</td>\n",
       "      <td>0.000000</td>\n",
       "    </tr>\n",
       "  </tbody>\n",
       "</table>\n",
       "</div>"
      ],
      "text/plain": [
       "          count   sum      mean\n",
       "           debt  debt      debt\n",
       "children                       \n",
       "4            41     4  0.097561\n",
       "2          2052   194  0.094542\n",
       "1          4808   444  0.092346\n",
       "3           330    27  0.081818\n",
       "0         14091  1063  0.075438\n",
       "5             9     0  0.000000"
      ]
     },
     "execution_count": 23,
     "metadata": {},
     "output_type": "execute_result"
    }
   ],
   "source": [
    "data_pivot = pd.pivot_table(data, index=['children'], values='debt', aggfunc=['count', \"sum\", 'mean'])\n",
    "\n",
    "data_pivot.sort_values(by=('mean', 'debt'), ascending=False) # Ваш код будет здесь. Вы можете создавать новые ячейки."
   ]
  },
  {
   "cell_type": "markdown",
   "id": "339fb4ab",
   "metadata": {},
   "source": [
    "<div class=\"alert-success\" style=\"border-radius: 10px; box-shadow: 2px 2px 2px; border: 1px solid; padding: 10px\">\n",
    "<b>Комментарий ревьюера V2 ✔️</b>\n",
    "\n",
    "Это правильная сводная таблица со всеми нужными для сравнения категорий данными. 👌</div>"
   ]
  },
  {
   "cell_type": "markdown",
   "id": "b5810890",
   "metadata": {},
   "source": [
    "<div class=\"alert-danger\" style=\"border-radius: 10px; box-shadow: 2px 2px 2px; border: 1px solid; padding: 10px\">\n",
    "<b>Комментарий ревьюера ❌</b>\n",
    "\n",
    "В целом, ты все правильно посчитал. Здорово, что обратил внимание на то, что выборки не сбалансированы.\n",
    "\n",
    "Для более наглядного представления расчетов целесообразно вывести сводную таблицу, в которой будут следующие столбцы:\n",
    "- название категории\n",
    "- количество заемщиков (кредитов)\n",
    "- количество должников (этот столбец опциональный)\n",
    "- средний процент просрочки по категории\n",
    "\n",
    "Вывести такую таблицу можно с использованием методов как `groupby()`, так и `pivot_table()`.\n",
    "\n",
    "Такие сводные таблицы нужно будет вывести для каждого вопроса, далее в работе.</div>"
   ]
  },
  {
   "cell_type": "markdown",
   "id": "b2f3a3ef",
   "metadata": {},
   "source": [
    "<div class=\"alert-info\" style=\"border-radius: 10px; box-shadow: 2px 2px 2px; border: 1px solid; padding: 10px\">\n",
    "<b>Комментарий студента 💎</b>\n",
    "\n",
    "Исправлено, \n",
    "\n",
    "***Нужен совет стоит ли переименовывать название столбцов или и так достаточно наглядно?***\n"
   ]
  },
  {
   "cell_type": "markdown",
   "id": "873e287e",
   "metadata": {},
   "source": [
    "<div class=\"alert-success\" style=\"border-radius: 10px; box-shadow: 2px 2px 2px; border: 1px solid; padding: 10px\">\n",
    "<b>Комментарий ревьюера V2 ✔️</b>\n",
    "\n",
    "Для данного примера можно оставить названия столбцов - это не критично. Если хочешь, для тренировки можно переименовать. </div>"
   ]
  },
  {
   "cell_type": "markdown",
   "id": "4ce69774",
   "metadata": {
    "deletable": false,
    "id": "3a6b99ec"
   },
   "source": [
    "**Вывод :** \n"
   ]
  },
  {
   "cell_type": "markdown",
   "id": "be27680b",
   "metadata": {},
   "source": [
    "1. При отсутствии детей наблюдается минимальная просрочка по кредитам.\n",
    "2. Недостаточные данные по людям с 4,5 детьми.\n",
    "3. Больше всего просрочивают кредиты люди с 2 или 1 ребенком (пометим группы как наиболее не надежные заемщики).\n",
    "4. При наличии 3 -х детей  видна динамика на уменьшение просрочки по кредиту."
   ]
  },
  {
   "cell_type": "markdown",
   "id": "783e981d",
   "metadata": {},
   "source": [
    "<div class=\"alert-success\" style=\"border-radius: 10px; box-shadow: 2px 2px 2px; border: 1px solid; padding: 10px\">\n",
    "<b>Комментарий ревьюера V2 ✔️</b>\n",
    "\n",
    "Да, а если сравнить только самые многочисленные выборки с 0, 1 и 2 детьми, можно сказать, что чем больше у заемщика детей, тем выше риск допустить просрочку.</div>"
   ]
  },
  {
   "cell_type": "markdown",
   "id": "e8ecc10a",
   "metadata": {
    "deletable": false,
    "editable": false,
    "id": "97be82ca"
   },
   "source": [
    "#### 3.2 Есть ли зависимость между семейным положением и возвратом кредита в срок?"
   ]
  },
  {
   "cell_type": "code",
   "execution_count": 24,
   "id": "b277a797",
   "metadata": {
    "deletable": false,
    "id": "dc3f7ee8",
    "scrolled": true
   },
   "outputs": [
    {
     "data": {
      "text/html": [
       "<div>\n",
       "<style scoped>\n",
       "    .dataframe tbody tr th:only-of-type {\n",
       "        vertical-align: middle;\n",
       "    }\n",
       "\n",
       "    .dataframe tbody tr th {\n",
       "        vertical-align: top;\n",
       "    }\n",
       "\n",
       "    .dataframe thead tr th {\n",
       "        text-align: left;\n",
       "    }\n",
       "\n",
       "    .dataframe thead tr:last-of-type th {\n",
       "        text-align: right;\n",
       "    }\n",
       "</style>\n",
       "<table border=\"1\" class=\"dataframe\">\n",
       "  <thead>\n",
       "    <tr>\n",
       "      <th></th>\n",
       "      <th>count</th>\n",
       "      <th>sum</th>\n",
       "      <th>mean</th>\n",
       "    </tr>\n",
       "    <tr>\n",
       "      <th></th>\n",
       "      <th>debt</th>\n",
       "      <th>debt</th>\n",
       "      <th>debt</th>\n",
       "    </tr>\n",
       "    <tr>\n",
       "      <th>family_status</th>\n",
       "      <th></th>\n",
       "      <th></th>\n",
       "      <th></th>\n",
       "    </tr>\n",
       "  </thead>\n",
       "  <tbody>\n",
       "    <tr>\n",
       "      <th>Не женат / не замужем</th>\n",
       "      <td>2796</td>\n",
       "      <td>273</td>\n",
       "      <td>0.097639</td>\n",
       "    </tr>\n",
       "    <tr>\n",
       "      <th>гражданский брак</th>\n",
       "      <td>4134</td>\n",
       "      <td>385</td>\n",
       "      <td>0.093130</td>\n",
       "    </tr>\n",
       "    <tr>\n",
       "      <th>женат / замужем</th>\n",
       "      <td>12261</td>\n",
       "      <td>927</td>\n",
       "      <td>0.075606</td>\n",
       "    </tr>\n",
       "    <tr>\n",
       "      <th>в разводе</th>\n",
       "      <td>1189</td>\n",
       "      <td>84</td>\n",
       "      <td>0.070648</td>\n",
       "    </tr>\n",
       "    <tr>\n",
       "      <th>вдовец / вдова</th>\n",
       "      <td>951</td>\n",
       "      <td>63</td>\n",
       "      <td>0.066246</td>\n",
       "    </tr>\n",
       "  </tbody>\n",
       "</table>\n",
       "</div>"
      ],
      "text/plain": [
       "                       count  sum      mean\n",
       "                        debt debt      debt\n",
       "family_status                              \n",
       "Не женат / не замужем   2796  273  0.097639\n",
       "гражданский брак        4134  385  0.093130\n",
       "женат / замужем        12261  927  0.075606\n",
       "в разводе               1189   84  0.070648\n",
       "вдовец / вдова           951   63  0.066246"
      ]
     },
     "execution_count": 24,
     "metadata": {},
     "output_type": "execute_result"
    }
   ],
   "source": [
    "data_pivot = pd.pivot_table(data, index=['family_status'], values='debt', aggfunc=['count', \"sum\", 'mean'])\n",
    "data_pivot.sort_values(by=('mean', 'debt'), ascending=False)\n"
   ]
  },
  {
   "cell_type": "markdown",
   "id": "7046abb3",
   "metadata": {},
   "source": [
    "<div class=\"alert-warning\" style=\"border-radius: 10px; box-shadow: 2px 2px 2px; border: 1px solid; padding: 10px\">\n",
    "<b>Комментарий ревьюера ⚠️</b>\n",
    "\n",
    "Собери пожалуйста все данные в одну сводную таблицу.\n",
    "\n",
    "📌 Еще один момент: для более аккуратного вывода таблиц в Jupyter Notebook, лучше использовать функцию `display()` вместо `print()`.\n",
    "\n",
    "А если вывод таблицы в последней строке ячейки Jupyter Notebook, можно вообще эти функции не использовать.</div>"
   ]
  },
  {
   "cell_type": "markdown",
   "id": "c6b916f1",
   "metadata": {},
   "source": [
    "<div class=\"alert-info\" style=\"border-radius: 10px; box-shadow: 2px 2px 2px; border: 1px solid; padding: 10px\">\n",
    "<b>Комментарий студента 💎</b>\n",
    "\n",
    "Исправлено, \n",
    "    Буду использовать. Выглядит топ!!!!!\n",
    "    Спасибо.\n",
    "    "
   ]
  },
  {
   "cell_type": "markdown",
   "id": "5ee15bfd",
   "metadata": {},
   "source": [
    "<div class=\"alert-success\" style=\"border-radius: 10px; box-shadow: 2px 2px 2px; border: 1px solid; padding: 10px\">\n",
    "<b>Комментарий ревьюера V2 ✔️</b>\n",
    "\n",
    "👍</div>"
   ]
  },
  {
   "cell_type": "markdown",
   "id": "e2498364",
   "metadata": {
    "deletable": false,
    "id": "1cef7837"
   },
   "source": [
    "**Вывод:** \n",
    "1. По всем группам достаточно данных.\n",
    "\n",
    "2. Самые ненадежные заемщики это  живущие гражданским браком либо не женатые ( пометим их как самых не надежных заемщиков).\n",
    "3. Люди женатые, в разводе либо вдовствующие гораздо реже просрочивает свои кредиты. (пометим их как надежных заемщиков)."
   ]
  },
  {
   "cell_type": "markdown",
   "id": "b3d7f2aa",
   "metadata": {},
   "source": [
    "<div class=\"alert-warning\" style=\"border-radius: 10px; box-shadow: 2px 2px 2px; border: 1px solid; padding: 10px\">\n",
    "<b>Комментарий ревьюера ⚠️</b>\n",
    "\n",
    "Да, в целом все так, но как можно обобщить категории?</div>"
   ]
  },
  {
   "cell_type": "markdown",
   "id": "a3d23638",
   "metadata": {},
   "source": [
    "<div class=\"alert-info\" style=\"border-radius: 10px; box-shadow: 2px 2px 2px; border: 1px solid; padding: 10px\">\n",
    "<b>Комментарий студента 💎</b>\n",
    "\n",
    "Исправлено!"
   ]
  },
  {
   "cell_type": "markdown",
   "id": "61ab6330",
   "metadata": {},
   "source": [
    "<div class=\"alert-success\" style=\"border-radius: 10px; box-shadow: 2px 2px 2px; border: 1px solid; padding: 10px\">\n",
    "<b>Комментарий ревьюера V2 ✔️</b>\n",
    "\n",
    "Согласен, заемщики состоящие или состоявшие в браке более надежны.</div>"
   ]
  },
  {
   "cell_type": "markdown",
   "id": "43d6cb25",
   "metadata": {
    "deletable": false,
    "editable": false,
    "id": "1e8b2fca"
   },
   "source": [
    "#### 3.3 Есть ли зависимость между уровнем дохода и возвратом кредита в срок?"
   ]
  },
  {
   "cell_type": "code",
   "execution_count": 25,
   "id": "5bbc7915",
   "metadata": {
    "deletable": false,
    "id": "cd7e3720"
   },
   "outputs": [
    {
     "data": {
      "text/html": [
       "<div>\n",
       "<style scoped>\n",
       "    .dataframe tbody tr th:only-of-type {\n",
       "        vertical-align: middle;\n",
       "    }\n",
       "\n",
       "    .dataframe tbody tr th {\n",
       "        vertical-align: top;\n",
       "    }\n",
       "\n",
       "    .dataframe thead tr th {\n",
       "        text-align: left;\n",
       "    }\n",
       "\n",
       "    .dataframe thead tr:last-of-type th {\n",
       "        text-align: right;\n",
       "    }\n",
       "</style>\n",
       "<table border=\"1\" class=\"dataframe\">\n",
       "  <thead>\n",
       "    <tr>\n",
       "      <th></th>\n",
       "      <th>count</th>\n",
       "      <th>sum</th>\n",
       "      <th>mean</th>\n",
       "    </tr>\n",
       "    <tr>\n",
       "      <th></th>\n",
       "      <th>debt</th>\n",
       "      <th>debt</th>\n",
       "      <th>debt</th>\n",
       "    </tr>\n",
       "    <tr>\n",
       "      <th>total_income_category</th>\n",
       "      <th></th>\n",
       "      <th></th>\n",
       "      <th></th>\n",
       "    </tr>\n",
       "  </thead>\n",
       "  <tbody>\n",
       "    <tr>\n",
       "      <th>E</th>\n",
       "      <td>22</td>\n",
       "      <td>2</td>\n",
       "      <td>0.090909</td>\n",
       "    </tr>\n",
       "    <tr>\n",
       "      <th>C</th>\n",
       "      <td>15921</td>\n",
       "      <td>1353</td>\n",
       "      <td>0.084982</td>\n",
       "    </tr>\n",
       "    <tr>\n",
       "      <th>A</th>\n",
       "      <td>25</td>\n",
       "      <td>2</td>\n",
       "      <td>0.080000</td>\n",
       "    </tr>\n",
       "    <tr>\n",
       "      <th>B</th>\n",
       "      <td>5014</td>\n",
       "      <td>354</td>\n",
       "      <td>0.070602</td>\n",
       "    </tr>\n",
       "    <tr>\n",
       "      <th>D</th>\n",
       "      <td>349</td>\n",
       "      <td>21</td>\n",
       "      <td>0.060172</td>\n",
       "    </tr>\n",
       "  </tbody>\n",
       "</table>\n",
       "</div>"
      ],
      "text/plain": [
       "                       count   sum      mean\n",
       "                        debt  debt      debt\n",
       "total_income_category                       \n",
       "E                         22     2  0.090909\n",
       "C                      15921  1353  0.084982\n",
       "A                         25     2  0.080000\n",
       "B                       5014   354  0.070602\n",
       "D                        349    21  0.060172"
      ]
     },
     "execution_count": 25,
     "metadata": {},
     "output_type": "execute_result"
    }
   ],
   "source": [
    "data_pivot = pd.pivot_table(data, index=['total_income_category'], values='debt', aggfunc=['count', \"sum\", 'mean'])\n",
    "data_pivot.sort_values(by=('mean', 'debt'), ascending=False)# Ваш код будет здесь. Вы можете создавать новые ячейки."
   ]
  },
  {
   "cell_type": "markdown",
   "id": "eaa6e527",
   "metadata": {
    "deletable": false,
    "id": "e8593def"
   },
   "source": [
    "**Вывод:**\n",
    "1. Наблюдаются недостаточные данные в группах A (заработок от 1000001) и E (Заработок от 0 до 30000).\n",
    "2. Самыми ненадежными заемщиками являются люди  из группы C (заработок от 50001 до 200000.  \n",
    "3. Самые надежные заемщики это люди из группы  B (заработок от 200001 до 1000000)  и D (заработок от 30001 до 50000). \n",
    "4. При увеличение зароботка заемщиков выше 200001 резко падает процент не возврата по кредитам."
   ]
  },
  {
   "cell_type": "markdown",
   "id": "b16a0105",
   "metadata": {},
   "source": [
    "<div class=\"alert-warning\" style=\"border-radius: 10px; box-shadow: 2px 2px 2px; border: 1px solid; padding: 10px\">\n",
    "<b>Комментарий ревьюера ⚠️</b>\n",
    "\n",
    "А какую можно выявить зависимость, если сравнить только две самые многочисленные выборки?</div>"
   ]
  },
  {
   "cell_type": "markdown",
   "id": "b11f26fd",
   "metadata": {},
   "source": [
    "<div class=\"alert-info\" style=\"border-radius: 10px; box-shadow: 2px 2px 2px; border: 1px solid; padding: 10px\">\n",
    "<b>Комментарий студента 💎</b>\n",
    "\n",
    "Исправлено!\n",
    "    Пункт 4."
   ]
  },
  {
   "cell_type": "markdown",
   "id": "78bc5d10",
   "metadata": {},
   "source": [
    "<div class=\"alert-success\" style=\"border-radius: 10px; box-shadow: 2px 2px 2px; border: 1px solid; padding: 10px\">\n",
    "<b>Комментарий ревьюера V2 ✔️</b>\n",
    "\n",
    "Верно, если сравнить самые большие категории B и C, можно сказать, что заемщики с более высоким доходом платят кредиты вовремя лучше.</div>"
   ]
  },
  {
   "cell_type": "markdown",
   "id": "37de9937",
   "metadata": {
    "deletable": false,
    "editable": false,
    "id": "99ecbd1f"
   },
   "source": [
    "#### 3.4 Как разные цели кредита влияют на его возврат в срок?"
   ]
  },
  {
   "cell_type": "code",
   "execution_count": 26,
   "id": "7a1d9cbc",
   "metadata": {
    "deletable": false,
    "id": "2b687290"
   },
   "outputs": [
    {
     "data": {
      "text/html": [
       "<div>\n",
       "<style scoped>\n",
       "    .dataframe tbody tr th:only-of-type {\n",
       "        vertical-align: middle;\n",
       "    }\n",
       "\n",
       "    .dataframe tbody tr th {\n",
       "        vertical-align: top;\n",
       "    }\n",
       "\n",
       "    .dataframe thead tr th {\n",
       "        text-align: left;\n",
       "    }\n",
       "\n",
       "    .dataframe thead tr:last-of-type th {\n",
       "        text-align: right;\n",
       "    }\n",
       "</style>\n",
       "<table border=\"1\" class=\"dataframe\">\n",
       "  <thead>\n",
       "    <tr>\n",
       "      <th></th>\n",
       "      <th>count</th>\n",
       "      <th>sum</th>\n",
       "      <th>mean</th>\n",
       "    </tr>\n",
       "    <tr>\n",
       "      <th></th>\n",
       "      <th>debt</th>\n",
       "      <th>debt</th>\n",
       "      <th>debt</th>\n",
       "    </tr>\n",
       "    <tr>\n",
       "      <th>purpose_category</th>\n",
       "      <th></th>\n",
       "      <th></th>\n",
       "      <th></th>\n",
       "    </tr>\n",
       "  </thead>\n",
       "  <tbody>\n",
       "    <tr>\n",
       "      <th>операции с автомобилем</th>\n",
       "      <td>4279</td>\n",
       "      <td>400</td>\n",
       "      <td>0.093480</td>\n",
       "    </tr>\n",
       "    <tr>\n",
       "      <th>получение образования</th>\n",
       "      <td>3988</td>\n",
       "      <td>369</td>\n",
       "      <td>0.092528</td>\n",
       "    </tr>\n",
       "    <tr>\n",
       "      <th>проведение свадьбы</th>\n",
       "      <td>2313</td>\n",
       "      <td>183</td>\n",
       "      <td>0.079118</td>\n",
       "    </tr>\n",
       "    <tr>\n",
       "      <th>операции с недвижимостью</th>\n",
       "      <td>10751</td>\n",
       "      <td>780</td>\n",
       "      <td>0.072551</td>\n",
       "    </tr>\n",
       "  </tbody>\n",
       "</table>\n",
       "</div>"
      ],
      "text/plain": [
       "                          count  sum      mean\n",
       "                           debt debt      debt\n",
       "purpose_category                              \n",
       "операции с автомобилем     4279  400  0.093480\n",
       "получение образования      3988  369  0.092528\n",
       "проведение свадьбы         2313  183  0.079118\n",
       "операции с недвижимостью  10751  780  0.072551"
      ]
     },
     "execution_count": 26,
     "metadata": {},
     "output_type": "execute_result"
    }
   ],
   "source": [
    "data_pivot = pd.pivot_table(data, index=['purpose_category'], values='debt', aggfunc=['count', \"sum\", 'mean'])\n",
    "data_pivot.sort_values(by=('mean', 'debt'), ascending=False)# Ваш код будет здесь. Вы можете создавать новые ячейки."
   ]
  },
  {
   "cell_type": "markdown",
   "id": "4e5ec052",
   "metadata": {
    "deletable": false,
    "id": "b4bb2ce6"
   },
   "source": [
    "**Вывод:**\n",
    "1. По всем группам достаточно данных.\n",
    "2. Самые ненадежные заемщики это люди покупающие автомобили и берущие кредит на образование ( пометим их как самых не надежных заемщиков).\n",
    "3. Самые надежные заемщики это люди покупающие недвижимость и берущие кредит на свадьбу.\n"
   ]
  },
  {
   "cell_type": "markdown",
   "id": "8deb760c",
   "metadata": {},
   "source": [
    "<div class=\"alert-warning\" style=\"border-radius: 10px; box-shadow: 2px 2px 2px; border: 1px solid; padding: 10px\">\n",
    "<b>Комментарий ревьюера ⚠️</b>\n",
    "\n",
    "Ответ на вопрос правильный, нужно вывести только общую сводную таблицу с количеством заемщиков в каждой категории средним процентом просрочки. Для удобства чтения, можно категории отсортировать по проценту просрочки.</div>"
   ]
  },
  {
   "cell_type": "markdown",
   "id": "af5a042b",
   "metadata": {},
   "source": [
    "<div class=\"alert-info\" style=\"border-radius: 10px; box-shadow: 2px 2px 2px; border: 1px solid; padding: 10px\">\n",
    "<b>Комментарий студента 💎</b>\n",
    "   \n",
    " Исправлено!\n"
   ]
  },
  {
   "cell_type": "markdown",
   "id": "e4b60909",
   "metadata": {},
   "source": [
    "<div class=\"alert-success\" style=\"border-radius: 10px; box-shadow: 2px 2px 2px; border: 1px solid; padding: 10px\">\n",
    "<b>Комментарий ревьюера V2 ✔️</b>\n",
    "\n",
    "Сводная таблица выведена правильно. 👌</div>"
   ]
  },
  {
   "cell_type": "markdown",
   "id": "6d94b6bc",
   "metadata": {
    "deletable": false,
    "editable": false,
    "id": "09c3ac4c"
   },
   "source": [
    "#### 3.5 Приведите возможные причины появления пропусков в исходных данных."
   ]
  },
  {
   "cell_type": "markdown",
   "id": "0f847e84",
   "metadata": {
    "deletable": false,
    "id": "9da2ceda"
   },
   "source": [
    "*Ответ:* \n",
    "1. В данном датафрейме наблюдается пропуск данных в основном в 2х столбцах:\n",
    " - ’total_income’\n",
    " - ‘days_employed’\n",
    "2. Что свидетельствует о двух тенденциях люди не всегда любят распространятся о своих доходах и 2-ой важный фактор является человеческий люди забивающие данные иногда ошибаются.\n",
    "3. Так же потеря данных может возникать при системных сбоях ПО, отсутствия четуих критериев по заполнению таблиц с данными. \n",
    "\n"
   ]
  },
  {
   "cell_type": "markdown",
   "id": "704e121f",
   "metadata": {},
   "source": [
    "<div class=\"alert-warning\" style=\"border-radius: 10px; box-shadow: 2px 2px 2px; border: 1px solid; padding: 10px\">\n",
    "<b>Комментарий ревьюера ⚠️</b>\n",
    "\n",
    "Ты правильно указал человеческий фактор, как наиболее вероятную причину образования пропусков в данных. Но какая причина еще может вызвать потерю данных?</div>"
   ]
  },
  {
   "cell_type": "markdown",
   "id": "b7202f5f",
   "metadata": {},
   "source": [
    "<div class=\"alert-info\" style=\"border-radius: 10px; box-shadow: 2px 2px 2px; border: 1px solid; padding: 10px\">\n",
    "<b>Комментарий студента 💎</b>\n",
    "   \n",
    " Исправлено!\n"
   ]
  },
  {
   "cell_type": "markdown",
   "id": "f103dbc0",
   "metadata": {},
   "source": [
    "<div class=\"alert-success\" style=\"border-radius: 10px; box-shadow: 2px 2px 2px; border: 1px solid; padding: 10px\">\n",
    "<b>Комментарий ревьюера V2 ✔️</b>\n",
    "\n",
    "Согласен, техническую ошибку также исключать нельзя.</div>"
   ]
  },
  {
   "cell_type": "markdown",
   "id": "d368ba95",
   "metadata": {
    "deletable": false,
    "editable": false,
    "id": "7b0487d6"
   },
   "source": [
    "#### 3.6 Объясните, почему заполнить пропуски медианным значением — лучшее решение для количественных переменных."
   ]
  },
  {
   "cell_type": "markdown",
   "id": "2b9a3a04",
   "metadata": {
    "deletable": false,
    "id": "7ecf2b8e"
   },
   "source": [
    "*Ответ:* \n",
    "\n",
    "Статистика вещь неумолимая,  медианное значение для заполнения данных в группах подходит идеально так как : \n",
    " 1. оно одновременно не влияет на среднее значение группы\n",
    " 2. помогает сохранить данные в других колонках,  что в дальнейшем скажется благоприятно на все исследование.\n",
    " 3. Так же медиана предпочтительнее чем среднее значение так как, так как значения в dataset возможны критично высокие и критично низкие , что несомненно повлияет на среднее значение и нанесет неприятный удар по качеству анализа."
   ]
  },
  {
   "cell_type": "markdown",
   "id": "2760b19c",
   "metadata": {},
   "source": [
    "<div class=\"alert-danger\" style=\"border-radius: 10px; box-shadow: 2px 2px 2px; border: 1px solid; padding: 10px\">\n",
    "<b>Комментарий ревьюера ❌</b>\n",
    "\n",
    "Поясни пожалуйста поподробнее, почему медиана предпочтительнее чем среднее значение?</div>"
   ]
  },
  {
   "cell_type": "markdown",
   "id": "d31ed646",
   "metadata": {},
   "source": [
    "<div class=\"alert-info\" style=\"border-radius: 10px; box-shadow: 2px 2px 2px; border: 1px solid; padding: 10px\">\n",
    "<b>Комментарий студента 💎</b>\n",
    "   \n",
    " Исправлено! Пункт 3.\n"
   ]
  },
  {
   "cell_type": "markdown",
   "id": "604a4a0d",
   "metadata": {},
   "source": [
    "<div class=\"alert-success\" style=\"border-radius: 10px; box-shadow: 2px 2px 2px; border: 1px solid; padding: 10px\">\n",
    "<b>Комментарий ревьюера V2 ✔️</b>\n",
    "\n",
    "Верно, медиана менее чувствительна к выбросам. Убедиться в этом можно на примере столбца `days_employed`, где как раз есть выбросы: 👇</div>"
   ]
  },
  {
   "cell_type": "code",
   "execution_count": 28,
   "id": "6843a652",
   "metadata": {},
   "outputs": [
    {
     "data": {
      "image/png": "[encoded data removed]",
      "text/plain": [
       "<Figure size 1080x360 with 1 Axes>"
      ]
     },
     "metadata": {
      "needs_background": "light"
     },
     "output_type": "display_data"
    }
   ],
   "source": [
    "# Код ревьюера\n",
    "import matplotlib.pyplot as plt\n",
    "\n",
    "plt.figure(figsize = (15,5))\n",
    "\n",
    "ax = data['days_employed'].hist(bins = 40)\n",
    "\n",
    "ax.axvline(x = data['days_employed'].mean(), color = 'r', linestyle = 'dashed', label = 'mean')\n",
    "ax.axvline(x = data['days_employed'].median(), color = 'y', linestyle = 'dashed', label = 'median')\n",
    "plt.legend()\n",
    "plt.title('Гистограмма по столбцу days_employed с медианой и средним')\n",
    "plt.show()"
   ]
  },
  {
   "cell_type": "markdown",
   "id": "12093385",
   "metadata": {
    "deletable": false,
    "editable": false,
    "id": "6db5255a"
   },
   "source": [
    "### Шаг 4: общий вывод."
   ]
  },
  {
   "cell_type": "markdown",
   "id": "7471e775",
   "metadata": {
    "deletable": false,
    "id": "bad65432"
   },
   "source": [
    "Был проанализирован dataset предоставленный вашим банком\n",
    "1. **Ознакомление с данными**\n",
    "- dataset размер 21525 строк\n",
    "- наблюдаются пропуски данных в колонках “Стаж”( “days_employed”) и “доход”(”total_income”)\n",
    "Рекомендации: доработать методику ввода данных (ввести автоматическую проверку)\n",
    "2. **Предобработка данных**\n",
    "- Пропуски в “доход” (”total_income”) были заполнены медианными значениями по типам занятости “income_type”\n",
    "- В колонке “Стаж” (“days_employed”) были обработаны отрицательные значения и пропуски были заполнены медианными значениями по типам занятости “income_type”\n",
    "3. **Анализ даннных**\n",
    "- Выявлена зависимость между количеством детей и возвратом кредита в срок:\n",
    "   - При отсутствии детей наблюдается минимальная просрочка по кредитам\n",
    "- Выявлена зависимость между семейным положением и возвратом кредита в срок:\n",
    "   - Люди женатые, в разводе либо вдовствующие гораздо реже просрочивает свои кредиты\n",
    "- Выявлена зависимость между уровнем дохода и возвратом кредита в срок.\n",
    "  - Самые надежные заемщики это люди из группы  B (заработок от 200001 до 1000000)  и D (заработок от 30001 до 50000).\n",
    "- Выявлена зависимость как разные цели кредита влияют на его возврат в срок.\n",
    "  - Самые ненадежные заемщики это люди покупающие автомобили и берущие кредит на образование ( пометим их как самых не надежных заемщиков)\n",
    "\n",
    "4. **Рекомендация для построение рекламной компании по кредитованию** \n",
    "\n",
    "4.1. *Рекламную компанию необходимо выстраивать с прицелом на аудиторию:*\n",
    "  - Это женатые или разведенные люди\n",
    "  -  Без детей\n",
    "  - С целью покупки недвижимости\n",
    "  - С средним доходом на семью группа B (заработок от 200001 до 1000000) и D группа (заработок от 30001 до 50000).\n",
    "\n",
    "4.2. *Рекомендации по не желательным клиентам.*\n",
    "  - Люди имеющие одного или двух детей.\n",
    "  - Не женатые , не замужние либо живущие в гражданском браке.\n",
    "  - С заработком от 50001 до 200000. \n",
    "  - Люди берущие кредит на  автомобили и берущие кредит на образование "
   ]
  },
  {
   "cell_type": "markdown",
   "id": "376233b3",
   "metadata": {},
   "source": [
    "<div class=\"alert-warning\" style=\"border-radius: 10px; box-shadow: 2px 2px 2px; border: 1px solid; padding: 10px\">\n",
    "<b>Комментарий ревьюера ⚠️</b>\n",
    "\n",
    "Общий вывод в целом верный, но имеет смысл немного расширить его, взяв основные основные результаты по всем шагам работы. Например, добавить пару абзацев - с какими данными мы работали, что делали на этапе предобработки. Описать все выявленные зависимости просрочки от различных факторов в более общем виде. Также, можно дать рекомендации банку по улучшению сбора данных.\n",
    "\n",
    "Зачастую, заказчик читает только общий вывод, поэтому он должен быть максимально информативным.</div>"
   ]
  },
  {
   "cell_type": "markdown",
   "id": "5f962781",
   "metadata": {},
   "source": [
    "<div class=\"alert-info\" style=\"border-radius: 10px; box-shadow: 2px 2px 2px; border: 1px solid; padding: 10px\">\n",
    "<b>Комментарий студента 💎</b>\n",
    "   \n",
    " Исправлено! \n",
    "    \n",
    "    ***Прошу дать рекомендации по выводу правильно ли я понял ваши замечания?***\n"
   ]
  },
  {
   "cell_type": "markdown",
   "id": "38bf922a",
   "metadata": {},
   "source": [
    "<div class=\"alert-success\" style=\"border-radius: 10px; box-shadow: 2px 2px 2px; border: 1px solid; padding: 10px\">\n",
    "<b>Комментарий ревьюера V2 ✔️</b>\n",
    "\n",
    "Да, теперь у тебя получился подробный и правильный вывод, отражающий все основные результаты исследования. 👌</div>"
   ]
  },
  {
   "cell_type": "markdown",
   "id": "874af49a",
   "metadata": {},
   "source": [
    "<div style=\"box-shadow: 2px 2px 2px; color: steelblue; border-radius: 10px; border:solid steelblue 3px; padding: 10px\">\n",
    "    \n",
    "<div style=\"color: black\">\n",
    "    \n",
    "<b>Общий комментарий ревьюера:</b>\n",
    "\n",
    "Ты проделал большую работу, но нужно кое-что исправить, чтобы я ее принял.\n",
    "    \n",
    "Есть несколько критических замечаний:\n",
    "- по выводу сводных таблиц для ответов по поиску зависимостей\n",
    "- по формулировкам зависимостей просрочки от различных факторов (дети, семейный статус, уровень дохода)\n",
    "- по вопросу касательно заполнения пропусков медианой\n",
    "    \n",
    "Также, постарайся отработать желтые комментарии во второй части работы.\n",
    "    \n",
    "Буду ждать твой доработанный проект. ⌛️</div>"
   ]
  },
  {
   "cell_type": "markdown",
   "id": "86a0477e",
   "metadata": {},
   "source": [
    "<div style=\"box-shadow: 2px 2px 2px; color: steelblue; border-radius: 10px; border:solid steelblue 3px; padding: 10px\">\n",
    "    \n",
    "<div style=\"color: black\">\n",
    "    \n",
    "<b>Общий комментарий ревьюера V2:</b>\n",
    "\n",
    "Спасибо, что доработал проект. Критических замечаний больше нет, получилась очень хорошая работа!\n",
    "\n",
    "Успехов в дальнейшем обучении! 🏆</div>"
   ]
  },
  {
   "cell_type": "code",
   "execution_count": null,
   "id": "c19cc7a2",
   "metadata": {},
   "outputs": [],
   "source": []
  }
 ],
 "metadata": {
  "ExecuteTimeLog": [
   {
    "duration": 50,
    "start_time": "2023-01-04T07:09:52.694Z"
   },
   {
    "duration": 487,
    "start_time": "2023-01-04T07:10:04.823Z"
   },
   {
    "duration": 23,
    "start_time": "2023-01-04T07:10:05.312Z"
   },
   {
    "duration": 17,
    "start_time": "2023-01-04T07:10:05.337Z"
   },
   {
    "duration": 13,
    "start_time": "2023-01-04T07:10:05.356Z"
   },
   {
    "duration": 49,
    "start_time": "2023-01-04T07:10:05.370Z"
   },
   {
    "duration": 4,
    "start_time": "2023-01-04T07:10:05.421Z"
   },
   {
    "duration": 28,
    "start_time": "2023-01-04T07:10:05.427Z"
   },
   {
    "duration": 5,
    "start_time": "2023-01-04T07:10:05.457Z"
   },
   {
    "duration": 19,
    "start_time": "2023-01-04T07:10:05.464Z"
   },
   {
    "duration": 10,
    "start_time": "2023-01-04T07:10:05.486Z"
   },
   {
    "duration": 48,
    "start_time": "2023-01-04T07:10:05.497Z"
   },
   {
    "duration": 10,
    "start_time": "2023-01-04T07:10:05.546Z"
   },
   {
    "duration": 15,
    "start_time": "2023-01-04T07:10:05.558Z"
   },
   {
    "duration": 30,
    "start_time": "2023-01-04T07:10:05.575Z"
   },
   {
    "duration": 27,
    "start_time": "2023-01-04T07:10:05.607Z"
   },
   {
    "duration": 18,
    "start_time": "2023-01-04T07:10:05.636Z"
   },
   {
    "duration": 4,
    "start_time": "2023-01-04T07:10:05.656Z"
   },
   {
    "duration": 22,
    "start_time": "2023-01-04T07:10:05.661Z"
   },
   {
    "duration": 20,
    "start_time": "2023-01-04T07:10:05.685Z"
   },
   {
    "duration": 7,
    "start_time": "2023-01-04T07:10:05.706Z"
   },
   {
    "duration": 17,
    "start_time": "2023-01-04T07:10:05.716Z"
   },
   {
    "duration": 27,
    "start_time": "2023-01-04T07:10:05.734Z"
   },
   {
    "duration": 13,
    "start_time": "2023-01-04T07:10:05.763Z"
   },
   {
    "duration": 4,
    "start_time": "2023-01-04T07:10:05.778Z"
   },
   {
    "duration": 19,
    "start_time": "2023-01-04T07:10:05.784Z"
   },
   {
    "duration": 457,
    "start_time": "2023-01-04T09:00:40.250Z"
   },
   {
    "duration": 27,
    "start_time": "2023-01-04T09:00:40.709Z"
   },
   {
    "duration": 31,
    "start_time": "2023-01-04T09:00:40.738Z"
   },
   {
    "duration": 34,
    "start_time": "2023-01-04T09:00:40.772Z"
   },
   {
    "duration": 79,
    "start_time": "2023-01-04T09:00:40.808Z"
   },
   {
    "duration": 3,
    "start_time": "2023-01-04T09:00:40.888Z"
   },
   {
    "duration": 54,
    "start_time": "2023-01-04T09:00:40.892Z"
   },
   {
    "duration": 25,
    "start_time": "2023-01-04T09:00:40.948Z"
   },
   {
    "duration": 25,
    "start_time": "2023-01-04T09:00:40.975Z"
   },
   {
    "duration": 15,
    "start_time": "2023-01-04T09:00:41.003Z"
   },
   {
    "duration": 46,
    "start_time": "2023-01-04T09:00:41.019Z"
   },
   {
    "duration": 10,
    "start_time": "2023-01-04T09:00:41.067Z"
   },
   {
    "duration": 12,
    "start_time": "2023-01-04T09:00:41.079Z"
   },
   {
    "duration": 24,
    "start_time": "2023-01-04T09:00:41.093Z"
   },
   {
    "duration": 28,
    "start_time": "2023-01-04T09:00:41.120Z"
   },
   {
    "duration": 15,
    "start_time": "2023-01-04T09:00:41.150Z"
   },
   {
    "duration": 4,
    "start_time": "2023-01-04T09:00:41.166Z"
   },
   {
    "duration": 28,
    "start_time": "2023-01-04T09:00:41.172Z"
   },
   {
    "duration": 8,
    "start_time": "2023-01-04T09:00:41.202Z"
   },
   {
    "duration": 20,
    "start_time": "2023-01-04T09:00:41.212Z"
   },
   {
    "duration": 17,
    "start_time": "2023-01-04T09:00:41.234Z"
   },
   {
    "duration": 15,
    "start_time": "2023-01-04T09:00:41.253Z"
   },
   {
    "duration": 13,
    "start_time": "2023-01-04T09:00:41.269Z"
   },
   {
    "duration": 17,
    "start_time": "2023-01-04T09:00:41.283Z"
   },
   {
    "duration": 17,
    "start_time": "2023-01-04T09:00:41.301Z"
   },
   {
    "duration": 70,
    "start_time": "2023-01-04T09:09:43.264Z"
   },
   {
    "duration": 8,
    "start_time": "2023-01-04T09:09:53.105Z"
   },
   {
    "duration": 751,
    "start_time": "2023-01-05T00:27:57.192Z"
   },
   {
    "duration": 20,
    "start_time": "2023-01-05T00:27:57.944Z"
   },
   {
    "duration": 14,
    "start_time": "2023-01-05T00:27:57.966Z"
   },
   {
    "duration": 9,
    "start_time": "2023-01-05T00:27:57.981Z"
   },
   {
    "duration": 55,
    "start_time": "2023-01-05T00:27:57.991Z"
   },
   {
    "duration": 6,
    "start_time": "2023-01-05T00:27:58.048Z"
   },
   {
    "duration": 11,
    "start_time": "2023-01-05T00:27:58.055Z"
   },
   {
    "duration": 8,
    "start_time": "2023-01-05T00:27:58.067Z"
   },
   {
    "duration": 29,
    "start_time": "2023-01-05T00:27:58.076Z"
   },
   {
    "duration": 20,
    "start_time": "2023-01-05T00:27:58.107Z"
   },
   {
    "duration": 34,
    "start_time": "2023-01-05T00:27:58.129Z"
   },
   {
    "duration": 11,
    "start_time": "2023-01-05T00:27:58.165Z"
   },
   {
    "duration": 4,
    "start_time": "2023-01-05T00:27:58.177Z"
   },
   {
    "duration": 12,
    "start_time": "2023-01-05T00:27:58.183Z"
   },
   {
    "duration": 31,
    "start_time": "2023-01-05T00:27:58.196Z"
   },
   {
    "duration": 15,
    "start_time": "2023-01-05T00:27:58.229Z"
   },
   {
    "duration": 3,
    "start_time": "2023-01-05T00:27:58.246Z"
   },
   {
    "duration": 11,
    "start_time": "2023-01-05T00:27:58.250Z"
   },
   {
    "duration": 15,
    "start_time": "2023-01-05T00:27:58.263Z"
   },
   {
    "duration": 3,
    "start_time": "2023-01-05T00:27:58.279Z"
   },
   {
    "duration": 11,
    "start_time": "2023-01-05T00:27:58.284Z"
   },
   {
    "duration": 7,
    "start_time": "2023-01-05T00:27:58.296Z"
   },
   {
    "duration": 4,
    "start_time": "2023-01-05T00:27:58.304Z"
   },
   {
    "duration": 9,
    "start_time": "2023-01-05T00:27:58.318Z"
   },
   {
    "duration": 7,
    "start_time": "2023-01-05T00:27:58.329Z"
   },
   {
    "duration": 469,
    "start_time": "2023-01-05T01:37:54.910Z"
   },
   {
    "duration": 20,
    "start_time": "2023-01-05T01:37:55.381Z"
   },
   {
    "duration": 14,
    "start_time": "2023-01-05T01:37:55.402Z"
   },
   {
    "duration": 17,
    "start_time": "2023-01-05T01:37:55.418Z"
   },
   {
    "duration": 31,
    "start_time": "2023-01-05T01:37:55.436Z"
   },
   {
    "duration": 3,
    "start_time": "2023-01-05T01:37:55.468Z"
   },
   {
    "duration": 11,
    "start_time": "2023-01-05T01:37:55.473Z"
   },
   {
    "duration": 4,
    "start_time": "2023-01-05T01:37:55.486Z"
   },
   {
    "duration": 36,
    "start_time": "2023-01-05T01:37:55.491Z"
   },
   {
    "duration": 9,
    "start_time": "2023-01-05T01:37:55.529Z"
   },
   {
    "duration": 34,
    "start_time": "2023-01-05T01:37:55.540Z"
   },
   {
    "duration": 9,
    "start_time": "2023-01-05T01:37:55.576Z"
   },
   {
    "duration": 4,
    "start_time": "2023-01-05T01:37:55.586Z"
   },
   {
    "duration": 12,
    "start_time": "2023-01-05T01:37:55.591Z"
   },
   {
    "duration": 36,
    "start_time": "2023-01-05T01:37:55.605Z"
   },
   {
    "duration": 15,
    "start_time": "2023-01-05T01:37:55.642Z"
   },
   {
    "duration": 3,
    "start_time": "2023-01-05T01:37:55.659Z"
   },
   {
    "duration": 12,
    "start_time": "2023-01-05T01:37:55.663Z"
   },
   {
    "duration": 5,
    "start_time": "2023-01-05T01:37:55.677Z"
   },
   {
    "duration": 4,
    "start_time": "2023-01-05T01:37:55.683Z"
   },
   {
    "duration": 34,
    "start_time": "2023-01-05T01:37:55.688Z"
   },
   {
    "duration": 8,
    "start_time": "2023-01-05T01:37:55.727Z"
   },
   {
    "duration": 13,
    "start_time": "2023-01-05T01:37:55.736Z"
   },
   {
    "duration": 3,
    "start_time": "2023-01-05T01:37:55.750Z"
   },
   {
    "duration": 6,
    "start_time": "2023-01-05T01:37:55.754Z"
   },
   {
    "duration": 10,
    "start_time": "2023-01-05T03:49:42.128Z"
   },
   {
    "duration": 8,
    "start_time": "2023-01-05T03:50:10.202Z"
   },
   {
    "duration": 4,
    "start_time": "2023-01-05T04:00:00.067Z"
   },
   {
    "duration": 12,
    "start_time": "2023-01-05T04:11:08.151Z"
   },
   {
    "duration": 425,
    "start_time": "2023-01-05T04:20:36.464Z"
   },
   {
    "duration": 22,
    "start_time": "2023-01-05T04:20:36.890Z"
   },
   {
    "duration": 28,
    "start_time": "2023-01-05T04:20:36.913Z"
   },
   {
    "duration": 8,
    "start_time": "2023-01-05T04:20:36.943Z"
   },
   {
    "duration": 34,
    "start_time": "2023-01-05T04:20:36.953Z"
   },
   {
    "duration": 3,
    "start_time": "2023-01-05T04:20:36.988Z"
   },
   {
    "duration": 10,
    "start_time": "2023-01-05T04:20:36.992Z"
   },
   {
    "duration": 19,
    "start_time": "2023-01-05T04:20:37.003Z"
   },
   {
    "duration": 6,
    "start_time": "2023-01-05T04:20:37.027Z"
   },
   {
    "duration": 3,
    "start_time": "2023-01-05T04:20:37.036Z"
   },
   {
    "duration": 32,
    "start_time": "2023-01-05T04:20:37.040Z"
   },
   {
    "duration": 8,
    "start_time": "2023-01-05T04:20:37.074Z"
   },
   {
    "duration": 3,
    "start_time": "2023-01-05T04:20:37.083Z"
   },
   {
    "duration": 11,
    "start_time": "2023-01-05T04:20:37.087Z"
   },
   {
    "duration": 37,
    "start_time": "2023-01-05T04:20:37.100Z"
   },
   {
    "duration": 14,
    "start_time": "2023-01-05T04:20:37.138Z"
   },
   {
    "duration": 3,
    "start_time": "2023-01-05T04:20:37.154Z"
   },
   {
    "duration": 10,
    "start_time": "2023-01-05T04:20:37.158Z"
   },
   {
    "duration": 8,
    "start_time": "2023-01-05T04:20:37.170Z"
   },
   {
    "duration": 4,
    "start_time": "2023-01-05T04:20:37.179Z"
   },
   {
    "duration": 37,
    "start_time": "2023-01-05T04:20:37.185Z"
   },
   {
    "duration": 10,
    "start_time": "2023-01-05T04:20:37.227Z"
   },
   {
    "duration": 16,
    "start_time": "2023-01-05T04:20:37.238Z"
   },
   {
    "duration": 5,
    "start_time": "2023-01-05T04:20:37.255Z"
   },
   {
    "duration": 6,
    "start_time": "2023-01-05T04:20:37.262Z"
   },
   {
    "duration": 9,
    "start_time": "2023-01-05T04:22:07.929Z"
   },
   {
    "duration": 452,
    "start_time": "2023-01-05T07:07:04.342Z"
   },
   {
    "duration": 21,
    "start_time": "2023-01-05T07:07:04.795Z"
   },
   {
    "duration": 13,
    "start_time": "2023-01-05T07:07:04.818Z"
   },
   {
    "duration": 9,
    "start_time": "2023-01-05T07:07:04.833Z"
   },
   {
    "duration": 37,
    "start_time": "2023-01-05T07:07:04.843Z"
   },
   {
    "duration": 4,
    "start_time": "2023-01-05T07:07:04.881Z"
   },
   {
    "duration": 14,
    "start_time": "2023-01-05T07:07:04.886Z"
   },
   {
    "duration": 21,
    "start_time": "2023-01-05T07:07:04.902Z"
   },
   {
    "duration": 8,
    "start_time": "2023-01-05T07:07:04.925Z"
   },
   {
    "duration": 8,
    "start_time": "2023-01-05T07:07:04.937Z"
   },
   {
    "duration": 45,
    "start_time": "2023-01-05T07:07:04.947Z"
   },
   {
    "duration": 28,
    "start_time": "2023-01-05T07:07:04.994Z"
   },
   {
    "duration": 3,
    "start_time": "2023-01-05T07:07:05.024Z"
   },
   {
    "duration": 21,
    "start_time": "2023-01-05T07:07:05.029Z"
   },
   {
    "duration": 29,
    "start_time": "2023-01-05T07:07:05.051Z"
   },
   {
    "duration": 23,
    "start_time": "2023-01-05T07:07:05.081Z"
   },
   {
    "duration": 3,
    "start_time": "2023-01-05T07:07:05.106Z"
   },
   {
    "duration": 32,
    "start_time": "2023-01-05T07:07:05.110Z"
   },
   {
    "duration": 21,
    "start_time": "2023-01-05T07:07:05.143Z"
   },
   {
    "duration": 18,
    "start_time": "2023-01-05T07:07:05.165Z"
   },
   {
    "duration": 32,
    "start_time": "2023-01-05T07:07:05.184Z"
   },
   {
    "duration": 21,
    "start_time": "2023-01-05T07:07:05.218Z"
   },
   {
    "duration": 26,
    "start_time": "2023-01-05T07:07:05.241Z"
   },
   {
    "duration": 16,
    "start_time": "2023-01-05T07:07:05.268Z"
   },
   {
    "duration": 13,
    "start_time": "2023-01-05T07:07:05.286Z"
   },
   {
    "duration": 45,
    "start_time": "2023-01-06T02:39:52.732Z"
   },
   {
    "duration": 708,
    "start_time": "2023-01-06T02:40:09.717Z"
   },
   {
    "duration": 13,
    "start_time": "2023-01-06T02:40:10.427Z"
   },
   {
    "duration": 21,
    "start_time": "2023-01-06T02:40:10.441Z"
   },
   {
    "duration": 14,
    "start_time": "2023-01-06T02:40:10.464Z"
   },
   {
    "duration": 51,
    "start_time": "2023-01-06T02:40:10.480Z"
   },
   {
    "duration": 3,
    "start_time": "2023-01-06T02:40:10.532Z"
   },
   {
    "duration": 58,
    "start_time": "2023-01-06T02:40:10.537Z"
   },
   {
    "duration": 21,
    "start_time": "2023-01-06T02:40:10.596Z"
   },
   {
    "duration": 45,
    "start_time": "2023-01-06T02:40:10.618Z"
   },
   {
    "duration": 62,
    "start_time": "2023-01-06T02:40:10.665Z"
   },
   {
    "duration": 40,
    "start_time": "2023-01-06T02:40:10.729Z"
   },
   {
    "duration": 9,
    "start_time": "2023-01-06T02:40:10.770Z"
   },
   {
    "duration": 13,
    "start_time": "2023-01-06T02:40:10.780Z"
   },
   {
    "duration": 18,
    "start_time": "2023-01-06T02:40:10.795Z"
   },
   {
    "duration": 28,
    "start_time": "2023-01-06T02:40:10.814Z"
   },
   {
    "duration": 14,
    "start_time": "2023-01-06T02:40:10.844Z"
   },
   {
    "duration": 3,
    "start_time": "2023-01-06T02:40:10.859Z"
   },
   {
    "duration": 20,
    "start_time": "2023-01-06T02:40:10.863Z"
   },
   {
    "duration": 10,
    "start_time": "2023-01-06T02:40:10.885Z"
   },
   {
    "duration": 14,
    "start_time": "2023-01-06T02:40:10.896Z"
   },
   {
    "duration": 20,
    "start_time": "2023-01-06T02:40:10.911Z"
   },
   {
    "duration": 7,
    "start_time": "2023-01-06T02:40:10.932Z"
   },
   {
    "duration": 12,
    "start_time": "2023-01-06T02:40:10.940Z"
   },
   {
    "duration": 7,
    "start_time": "2023-01-06T02:40:10.953Z"
   },
   {
    "duration": 8,
    "start_time": "2023-01-06T02:40:10.961Z"
   },
   {
    "duration": 46,
    "start_time": "2023-01-06T03:07:30.930Z"
   },
   {
    "duration": 395,
    "start_time": "2023-01-06T03:38:23.084Z"
   },
   {
    "duration": 80,
    "start_time": "2023-01-06T03:38:23.481Z"
   },
   {
    "duration": 20,
    "start_time": "2023-01-06T03:38:23.563Z"
   },
   {
    "duration": 16,
    "start_time": "2023-01-06T03:38:23.585Z"
   },
   {
    "duration": 24,
    "start_time": "2023-01-06T03:38:23.603Z"
   },
   {
    "duration": 42,
    "start_time": "2023-01-06T03:38:23.629Z"
   },
   {
    "duration": 3,
    "start_time": "2023-01-06T03:38:23.672Z"
   },
   {
    "duration": 17,
    "start_time": "2023-01-06T03:38:23.677Z"
   },
   {
    "duration": 15,
    "start_time": "2023-01-06T03:38:23.695Z"
   },
   {
    "duration": 11,
    "start_time": "2023-01-06T03:38:23.719Z"
   },
   {
    "duration": 9,
    "start_time": "2023-01-06T03:38:23.733Z"
   },
   {
    "duration": 34,
    "start_time": "2023-01-06T03:38:23.743Z"
   },
   {
    "duration": 10,
    "start_time": "2023-01-06T03:38:23.778Z"
   },
   {
    "duration": 29,
    "start_time": "2023-01-06T03:38:23.789Z"
   },
   {
    "duration": 21,
    "start_time": "2023-01-06T03:38:23.821Z"
   },
   {
    "duration": 21,
    "start_time": "2023-01-06T03:38:23.844Z"
   },
   {
    "duration": 14,
    "start_time": "2023-01-06T03:38:23.866Z"
   },
   {
    "duration": 3,
    "start_time": "2023-01-06T03:38:23.882Z"
   },
   {
    "duration": 35,
    "start_time": "2023-01-06T03:38:23.886Z"
   },
   {
    "duration": 9,
    "start_time": "2023-01-06T03:38:23.924Z"
   },
   {
    "duration": 7,
    "start_time": "2023-01-06T03:38:23.935Z"
   },
   {
    "duration": 11,
    "start_time": "2023-01-06T03:38:23.944Z"
   },
   {
    "duration": 26,
    "start_time": "2023-01-06T03:38:23.957Z"
   },
   {
    "duration": 46,
    "start_time": "2023-01-06T03:38:23.984Z"
   },
   {
    "duration": 12,
    "start_time": "2023-01-06T03:38:24.033Z"
   },
   {
    "duration": 8,
    "start_time": "2023-01-06T03:38:24.046Z"
   },
   {
    "duration": 21,
    "start_time": "2023-01-06T03:38:41.194Z"
   },
   {
    "duration": 46,
    "start_time": "2023-01-06T03:41:19.215Z"
   },
   {
    "duration": 21,
    "start_time": "2023-01-06T03:42:41.924Z"
   },
   {
    "duration": 27,
    "start_time": "2023-01-06T03:43:26.051Z"
   },
   {
    "duration": 27,
    "start_time": "2023-01-06T03:44:41.032Z"
   },
   {
    "duration": 25,
    "start_time": "2023-01-06T03:48:28.132Z"
   },
   {
    "duration": 27,
    "start_time": "2023-01-06T03:56:51.178Z"
   },
   {
    "duration": 385,
    "start_time": "2023-01-06T07:44:34.159Z"
   },
   {
    "duration": 281,
    "start_time": "2023-01-06T07:44:34.546Z"
   },
   {
    "duration": 21,
    "start_time": "2023-01-06T07:44:34.828Z"
   },
   {
    "duration": 14,
    "start_time": "2023-01-06T07:44:34.850Z"
   },
   {
    "duration": 9,
    "start_time": "2023-01-06T07:44:34.865Z"
   },
   {
    "duration": 45,
    "start_time": "2023-01-06T07:44:34.876Z"
   },
   {
    "duration": 4,
    "start_time": "2023-01-06T07:44:34.923Z"
   },
   {
    "duration": 12,
    "start_time": "2023-01-06T07:44:34.928Z"
   },
   {
    "duration": 4,
    "start_time": "2023-01-06T07:44:34.942Z"
   },
   {
    "duration": 13,
    "start_time": "2023-01-06T07:44:34.948Z"
   },
   {
    "duration": 6,
    "start_time": "2023-01-06T07:44:34.963Z"
   },
   {
    "duration": 36,
    "start_time": "2023-01-06T07:44:34.970Z"
   },
   {
    "duration": 18,
    "start_time": "2023-01-06T07:44:35.008Z"
   },
   {
    "duration": 3,
    "start_time": "2023-01-06T07:44:35.028Z"
   },
   {
    "duration": 16,
    "start_time": "2023-01-06T07:44:35.032Z"
   },
   {
    "duration": 18,
    "start_time": "2023-01-06T07:44:35.049Z"
   },
   {
    "duration": 15,
    "start_time": "2023-01-06T07:44:35.068Z"
   },
   {
    "duration": 4,
    "start_time": "2023-01-06T07:44:35.084Z"
   },
   {
    "duration": 38,
    "start_time": "2023-01-06T07:44:35.089Z"
   },
   {
    "duration": 5,
    "start_time": "2023-01-06T07:44:35.129Z"
   },
   {
    "duration": 6,
    "start_time": "2023-01-06T07:44:35.136Z"
   },
   {
    "duration": 32,
    "start_time": "2023-01-06T07:44:35.143Z"
   },
   {
    "duration": 51,
    "start_time": "2023-01-06T07:44:35.177Z"
   },
   {
    "duration": 33,
    "start_time": "2023-01-06T07:44:35.230Z"
   },
   {
    "duration": 34,
    "start_time": "2023-01-06T07:44:35.265Z"
   },
   {
    "duration": 34,
    "start_time": "2023-01-06T07:44:35.320Z"
   },
   {
    "duration": 947,
    "start_time": "2023-01-06T08:27:13.060Z"
   },
   {
    "duration": 384,
    "start_time": "2023-01-06T08:27:43.456Z"
   }
  ],
  "colab": {
   "name": "dpp_template_part2.ipynb",
   "provenance": []
  },
  "kernelspec": {
   "display_name": "Python 3 (ipykernel)",
   "language": "python",
   "name": "python3"
  },
  "language_info": {
   "codemirror_mode": {
    "name": "ipython",
    "version": 3
   },
   "file_extension": ".py",
   "mimetype": "text/x-python",
   "name": "python",
   "nbconvert_exporter": "python",
   "pygments_lexer": "ipython3",
   "version": "3.9.15"
  },
  "toc": {
   "base_numbering": 1,
   "nav_menu": {},
   "number_sections": true,
   "sideBar": true,
   "skip_h1_title": true,
   "title_cell": "Table of Contents",
   "title_sidebar": "Contents",
   "toc_cell": false,
   "toc_position": {},
   "toc_section_display": true,
   "toc_window_display": false
  }
 },
 "nbformat": 4,
 "nbformat_minor": 5
}
