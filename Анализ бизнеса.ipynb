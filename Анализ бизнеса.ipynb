{
 "cells": [
  {
   "cell_type": "markdown",
   "metadata": {},
   "source": [
    "### Проведение A/B-теста теста для интернет-магазина"
   ]
  },
  {
   "cell_type": "markdown",
   "metadata": {},
   "source": [
    "**1.1  Задачи:**\n",
    "1. Анализ гипотез и приоритизация:\n",
    "    - Применить фреймворк ICE для приоритизации гипотез и отсортировать их по приоритету.\n",
    "    - Применить фреймворк RICE для приоритизации гипотез и сравнить результаты с приоритетами по ICE.\n",
    "    - Объяснить, как изменилась приоритизация гипотез при применении RICE вместо ICE.\n",
    "2. Анализ A/B-теста:\n",
    "    - Построить графики кумулятивной выручки и среднего чека по группам.\n",
    "    - Вычислить статистическую значимость различий в среднем количестве заказов и среднем чеке между группами (сырые данные).\n",
    "    - Построить графики кумулятивного среднего количества заказов на посетителя и относительного изменения среднего чека между группами.\n",
    "    - Провести статистический анализ различий в среднем количестве заказов и среднем чеке между группами (очищенные данные).\n",
    "    - Принять решение на основе результатов теста."
   ]
  },
  {
   "cell_type": "markdown",
   "metadata": {},
   "source": [
    "#### Импорт библиотек"
   ]
  },
  {
   "cell_type": "code",
   "execution_count": 1,
   "metadata": {},
   "outputs": [],
   "source": [
    "import pandas as pd\n",
    "from datetime import datetime, timedelta\n",
    "from matplotlib import pyplot as plt\n",
    "import seaborn as sns\n",
    "import datetime as dt\n",
    "import numpy as np\n",
    "import scipy.stats as stats"
   ]
  },
  {
   "cell_type": "markdown",
   "metadata": {},
   "source": [
    "Зададим единый стиль графиков"
   ]
  },
  {
   "cell_type": "code",
   "execution_count": 2,
   "metadata": {},
   "outputs": [],
   "source": [
    "plt.style.use('ggplot')\n",
    "sns.set_style('whitegrid')"
   ]
  },
  {
   "cell_type": "markdown",
   "metadata": {},
   "source": [
    "Зададим параметры отоброжения столбцов"
   ]
  },
  {
   "cell_type": "code",
   "execution_count": 3,
   "metadata": {},
   "outputs": [],
   "source": [
    "pd.set_option('display.max_colwidth', None)"
   ]
  },
  {
   "cell_type": "markdown",
   "metadata": {},
   "source": [
    "#### Загруска данных"
   ]
  },
  {
   "cell_type": "code",
   "execution_count": 4,
   "metadata": {},
   "outputs": [
    {
     "name": "stdout",
     "output_type": "stream",
     "text": [
      "work in local\n"
     ]
    }
   ],
   "source": [
    "try:\n",
    "    hypothesis=pd.read_csv('/datasets/hypothesis.csv')\n",
    "    orders=pd.read_csv('/datasets/orders.csv')\n",
    "    visitors=pd.read_csv('/datasets/visitors.csv')\n",
    "except:\n",
    "    print(\"work in local\")\n",
    "    hypothesis= pd.read_csv('D:/study/dataset/ab_test_project10/hypothesis.csv')\n",
    "    orders=pd.read_csv('D:/study/dataset/ab_test_project10/orders.csv')\n",
    "    visitors=pd.read_csv('D:/study/dataset/ab_test_project10/visitors.csv')"
   ]
  },
  {
   "cell_type": "markdown",
   "metadata": {},
   "source": [
    "#### Изучение общей информации по DataSet"
   ]
  },
  {
   "cell_type": "code",
   "execution_count": 5,
   "metadata": {},
   "outputs": [
    {
     "name": "stdout",
     "output_type": "stream",
     "text": [
      "<class 'pandas.core.frame.DataFrame'>\n",
      "RangeIndex: 9 entries, 0 to 8\n",
      "Data columns (total 5 columns):\n",
      " #   Column      Non-Null Count  Dtype \n",
      "---  ------      --------------  ----- \n",
      " 0   Hypothesis  9 non-null      object\n",
      " 1   Reach       9 non-null      int64 \n",
      " 2   Impact      9 non-null      int64 \n",
      " 3   Confidence  9 non-null      int64 \n",
      " 4   Efforts     9 non-null      int64 \n",
      "dtypes: int64(4), object(1)\n",
      "memory usage: 488.0+ bytes\n"
     ]
    }
   ],
   "source": [
    "hypothesis.info()"
   ]
  },
  {
   "cell_type": "code",
   "execution_count": 6,
   "metadata": {},
   "outputs": [
    {
     "data": {
      "text/html": [
       "<div>\n",
       "<style scoped>\n",
       "    .dataframe tbody tr th:only-of-type {\n",
       "        vertical-align: middle;\n",
       "    }\n",
       "\n",
       "    .dataframe tbody tr th {\n",
       "        vertical-align: top;\n",
       "    }\n",
       "\n",
       "    .dataframe thead th {\n",
       "        text-align: right;\n",
       "    }\n",
       "</style>\n",
       "<table border=\"1\" class=\"dataframe\">\n",
       "  <thead>\n",
       "    <tr style=\"text-align: right;\">\n",
       "      <th></th>\n",
       "      <th>Hypothesis</th>\n",
       "      <th>Reach</th>\n",
       "      <th>Impact</th>\n",
       "      <th>Confidence</th>\n",
       "      <th>Efforts</th>\n",
       "    </tr>\n",
       "  </thead>\n",
       "  <tbody>\n",
       "    <tr>\n",
       "      <th>0</th>\n",
       "      <td>Добавить два новых канала привлечения трафика, что позволит привлекать на 30% больше пользователей</td>\n",
       "      <td>3</td>\n",
       "      <td>10</td>\n",
       "      <td>8</td>\n",
       "      <td>6</td>\n",
       "    </tr>\n",
       "    <tr>\n",
       "      <th>1</th>\n",
       "      <td>Запустить собственную службу доставки, что сократит срок доставки заказов</td>\n",
       "      <td>2</td>\n",
       "      <td>5</td>\n",
       "      <td>4</td>\n",
       "      <td>10</td>\n",
       "    </tr>\n",
       "    <tr>\n",
       "      <th>2</th>\n",
       "      <td>Добавить блоки рекомендаций товаров на сайт интернет магазина, чтобы повысить конверсию и средний чек заказа</td>\n",
       "      <td>8</td>\n",
       "      <td>3</td>\n",
       "      <td>7</td>\n",
       "      <td>3</td>\n",
       "    </tr>\n",
       "    <tr>\n",
       "      <th>3</th>\n",
       "      <td>Изменить структура категорий, что увеличит конверсию, т.к. пользователи быстрее найдут нужный товар</td>\n",
       "      <td>8</td>\n",
       "      <td>3</td>\n",
       "      <td>3</td>\n",
       "      <td>8</td>\n",
       "    </tr>\n",
       "    <tr>\n",
       "      <th>4</th>\n",
       "      <td>Изменить цвет фона главной страницы, чтобы увеличить вовлеченность пользователей</td>\n",
       "      <td>3</td>\n",
       "      <td>1</td>\n",
       "      <td>1</td>\n",
       "      <td>1</td>\n",
       "    </tr>\n",
       "  </tbody>\n",
       "</table>\n",
       "</div>"
      ],
      "text/plain": [
       "                                                                                                     Hypothesis  \\\n",
       "0            Добавить два новых канала привлечения трафика, что позволит привлекать на 30% больше пользователей   \n",
       "1                                     Запустить собственную службу доставки, что сократит срок доставки заказов   \n",
       "2  Добавить блоки рекомендаций товаров на сайт интернет магазина, чтобы повысить конверсию и средний чек заказа   \n",
       "3           Изменить структура категорий, что увеличит конверсию, т.к. пользователи быстрее найдут нужный товар   \n",
       "4                              Изменить цвет фона главной страницы, чтобы увеличить вовлеченность пользователей   \n",
       "\n",
       "   Reach  Impact  Confidence  Efforts  \n",
       "0      3      10           8        6  \n",
       "1      2       5           4       10  \n",
       "2      8       3           7        3  \n",
       "3      8       3           3        8  \n",
       "4      3       1           1        1  "
      ]
     },
     "execution_count": 6,
     "metadata": {},
     "output_type": "execute_result"
    }
   ],
   "source": [
    "hypothesis.head(5)"
   ]
  },
  {
   "cell_type": "code",
   "execution_count": 7,
   "metadata": {},
   "outputs": [
    {
     "name": "stdout",
     "output_type": "stream",
     "text": [
      "<class 'pandas.core.frame.DataFrame'>\n",
      "RangeIndex: 1197 entries, 0 to 1196\n",
      "Data columns (total 5 columns):\n",
      " #   Column         Non-Null Count  Dtype \n",
      "---  ------         --------------  ----- \n",
      " 0   transactionId  1197 non-null   int64 \n",
      " 1   visitorId      1197 non-null   int64 \n",
      " 2   date           1197 non-null   object\n",
      " 3   revenue        1197 non-null   int64 \n",
      " 4   group          1197 non-null   object\n",
      "dtypes: int64(3), object(2)\n",
      "memory usage: 46.9+ KB\n"
     ]
    }
   ],
   "source": [
    "orders.info()"
   ]
  },
  {
   "cell_type": "code",
   "execution_count": 8,
   "metadata": {},
   "outputs": [
    {
     "data": {
      "text/html": [
       "<div>\n",
       "<style scoped>\n",
       "    .dataframe tbody tr th:only-of-type {\n",
       "        vertical-align: middle;\n",
       "    }\n",
       "\n",
       "    .dataframe tbody tr th {\n",
       "        vertical-align: top;\n",
       "    }\n",
       "\n",
       "    .dataframe thead th {\n",
       "        text-align: right;\n",
       "    }\n",
       "</style>\n",
       "<table border=\"1\" class=\"dataframe\">\n",
       "  <thead>\n",
       "    <tr style=\"text-align: right;\">\n",
       "      <th></th>\n",
       "      <th>transactionId</th>\n",
       "      <th>visitorId</th>\n",
       "      <th>date</th>\n",
       "      <th>revenue</th>\n",
       "      <th>group</th>\n",
       "    </tr>\n",
       "  </thead>\n",
       "  <tbody>\n",
       "    <tr>\n",
       "      <th>0</th>\n",
       "      <td>3667963787</td>\n",
       "      <td>3312258926</td>\n",
       "      <td>2019-08-15</td>\n",
       "      <td>1650</td>\n",
       "      <td>B</td>\n",
       "    </tr>\n",
       "    <tr>\n",
       "      <th>1</th>\n",
       "      <td>2804400009</td>\n",
       "      <td>3642806036</td>\n",
       "      <td>2019-08-15</td>\n",
       "      <td>730</td>\n",
       "      <td>B</td>\n",
       "    </tr>\n",
       "    <tr>\n",
       "      <th>2</th>\n",
       "      <td>2961555356</td>\n",
       "      <td>4069496402</td>\n",
       "      <td>2019-08-15</td>\n",
       "      <td>400</td>\n",
       "      <td>A</td>\n",
       "    </tr>\n",
       "    <tr>\n",
       "      <th>3</th>\n",
       "      <td>3797467345</td>\n",
       "      <td>1196621759</td>\n",
       "      <td>2019-08-15</td>\n",
       "      <td>9759</td>\n",
       "      <td>B</td>\n",
       "    </tr>\n",
       "    <tr>\n",
       "      <th>4</th>\n",
       "      <td>2282983706</td>\n",
       "      <td>2322279887</td>\n",
       "      <td>2019-08-15</td>\n",
       "      <td>2308</td>\n",
       "      <td>B</td>\n",
       "    </tr>\n",
       "  </tbody>\n",
       "</table>\n",
       "</div>"
      ],
      "text/plain": [
       "   transactionId   visitorId        date  revenue group\n",
       "0     3667963787  3312258926  2019-08-15     1650     B\n",
       "1     2804400009  3642806036  2019-08-15      730     B\n",
       "2     2961555356  4069496402  2019-08-15      400     A\n",
       "3     3797467345  1196621759  2019-08-15     9759     B\n",
       "4     2282983706  2322279887  2019-08-15     2308     B"
      ]
     },
     "execution_count": 8,
     "metadata": {},
     "output_type": "execute_result"
    }
   ],
   "source": [
    "orders.head(5)"
   ]
  },
  {
   "cell_type": "code",
   "execution_count": 9,
   "metadata": {},
   "outputs": [
    {
     "name": "stdout",
     "output_type": "stream",
     "text": [
      "<class 'pandas.core.frame.DataFrame'>\n",
      "RangeIndex: 62 entries, 0 to 61\n",
      "Data columns (total 3 columns):\n",
      " #   Column    Non-Null Count  Dtype \n",
      "---  ------    --------------  ----- \n",
      " 0   date      62 non-null     object\n",
      " 1   group     62 non-null     object\n",
      " 2   visitors  62 non-null     int64 \n",
      "dtypes: int64(1), object(2)\n",
      "memory usage: 1.6+ KB\n"
     ]
    }
   ],
   "source": [
    "visitors.info()"
   ]
  },
  {
   "cell_type": "code",
   "execution_count": 10,
   "metadata": {},
   "outputs": [
    {
     "data": {
      "text/html": [
       "<div>\n",
       "<style scoped>\n",
       "    .dataframe tbody tr th:only-of-type {\n",
       "        vertical-align: middle;\n",
       "    }\n",
       "\n",
       "    .dataframe tbody tr th {\n",
       "        vertical-align: top;\n",
       "    }\n",
       "\n",
       "    .dataframe thead th {\n",
       "        text-align: right;\n",
       "    }\n",
       "</style>\n",
       "<table border=\"1\" class=\"dataframe\">\n",
       "  <thead>\n",
       "    <tr style=\"text-align: right;\">\n",
       "      <th></th>\n",
       "      <th>date</th>\n",
       "      <th>group</th>\n",
       "      <th>visitors</th>\n",
       "    </tr>\n",
       "  </thead>\n",
       "  <tbody>\n",
       "    <tr>\n",
       "      <th>0</th>\n",
       "      <td>2019-08-01</td>\n",
       "      <td>A</td>\n",
       "      <td>719</td>\n",
       "    </tr>\n",
       "    <tr>\n",
       "      <th>1</th>\n",
       "      <td>2019-08-02</td>\n",
       "      <td>A</td>\n",
       "      <td>619</td>\n",
       "    </tr>\n",
       "    <tr>\n",
       "      <th>2</th>\n",
       "      <td>2019-08-03</td>\n",
       "      <td>A</td>\n",
       "      <td>507</td>\n",
       "    </tr>\n",
       "    <tr>\n",
       "      <th>3</th>\n",
       "      <td>2019-08-04</td>\n",
       "      <td>A</td>\n",
       "      <td>717</td>\n",
       "    </tr>\n",
       "    <tr>\n",
       "      <th>4</th>\n",
       "      <td>2019-08-05</td>\n",
       "      <td>A</td>\n",
       "      <td>756</td>\n",
       "    </tr>\n",
       "  </tbody>\n",
       "</table>\n",
       "</div>"
      ],
      "text/plain": [
       "         date group  visitors\n",
       "0  2019-08-01     A       719\n",
       "1  2019-08-02     A       619\n",
       "2  2019-08-03     A       507\n",
       "3  2019-08-04     A       717\n",
       "4  2019-08-05     A       756"
      ]
     },
     "execution_count": 10,
     "metadata": {},
     "output_type": "execute_result"
    }
   ],
   "source": [
    "visitors.head(5)"
   ]
  },
  {
   "cell_type": "markdown",
   "metadata": {},
   "source": [
    "#### Cтруктуры данных в данных (описание столбцов датасета)"
   ]
  },
  {
   "cell_type": "markdown",
   "metadata": {},
   "source": [
    "**Структура данных в Гипотезах — hypothesis.csv**\n",
    "- **Hypothesis** — краткое описание гипотезы;\n",
    "- **Reach** — охват пользователей по 10-балльной шкале;\n",
    "- **Impact** — влияние на пользователей по 10-балльной шкале;\n",
    "- **Confidence** — уверенность в гипотезе по 10-балльной шкале;\n",
    "- **Efforts** — затраты ресурсов на проверку гипотезы по 10-балльной шкале. Чем больше значение Efforts, тем дороже проверка гипотезы."
   ]
  },
  {
   "cell_type": "markdown",
   "metadata": {},
   "source": [
    "**Структура данных в Заказах — orders.csv**\n",
    "- **transactionId** — идентификатор заказа;\n",
    "- **visitorId** — идентификатор пользователя, совершившего заказ;\n",
    "- **date** — дата, когда был совершён заказ;\n",
    "- **revenue** — выручка заказа;\n",
    "- **group** — группа A/B-теста, в которую попал заказ."
   ]
  },
  {
   "cell_type": "markdown",
   "metadata": {},
   "source": [
    "**Структура данных в Посетителях — visitors.csv**\n",
    "- **date** — дата;\n",
    "- **group** — группа A/B-теста;\n",
    "- **visitors** — количество пользователей в указанную дату в указанной группе A/B-теста"
   ]
  },
  {
   "cell_type": "markdown",
   "metadata": {},
   "source": [
    "Просмотрели основную информацию по dataframe **'hypothesis.csv','orders.csv','visitors.csv'**\n",
    "\n",
    "1. **Выводы:** \n",
    "    1. Размеры датафремов 9,1197,62 строк соответственно. \n",
    "    2. Типы данных object, int, \n",
    "    3. Выявлена ошибка в типе данных в столбцах date df visitors и orders\n",
    "    4. Название колонок не  соответствуют snace_case в df hypothesis.csv и orders\n",
    "    \n",
    "    \n",
    "2. **План работ по предобработке данных:**\n",
    "   1. Выполнить замену типов данных в  столбцах date\n",
    "   2. Привести название колонок в  соответствие с snace_case"
   ]
  },
  {
   "cell_type": "markdown",
   "metadata": {},
   "source": [
    "### Предобработке данных:"
   ]
  },
  {
   "cell_type": "markdown",
   "metadata": {},
   "source": [
    "#### Приведение название колонок в  соответствие с snace_case "
   ]
  },
  {
   "cell_type": "code",
   "execution_count": 11,
   "metadata": {},
   "outputs": [],
   "source": [
    "new_cols_orders=['transaction_id','visitor_id','date','revenue','group']"
   ]
  },
  {
   "cell_type": "code",
   "execution_count": 12,
   "metadata": {},
   "outputs": [],
   "source": [
    "old_cols_orders = orders.columns.tolist()"
   ]
  },
  {
   "cell_type": "code",
   "execution_count": 13,
   "metadata": {},
   "outputs": [],
   "source": [
    "cols_change_dict_hypothesis = {k: v for k, v in zip(old_cols_orders, new_cols_orders)}"
   ]
  },
  {
   "cell_type": "code",
   "execution_count": 14,
   "metadata": {},
   "outputs": [],
   "source": [
    "orders = orders.rename(columns=cols_change_dict_hypothesis)"
   ]
  },
  {
   "cell_type": "code",
   "execution_count": 15,
   "metadata": {},
   "outputs": [
    {
     "name": "stdout",
     "output_type": "stream",
     "text": [
      "<class 'pandas.core.frame.DataFrame'>\n",
      "RangeIndex: 1197 entries, 0 to 1196\n",
      "Data columns (total 5 columns):\n",
      " #   Column          Non-Null Count  Dtype \n",
      "---  ------          --------------  ----- \n",
      " 0   transaction_id  1197 non-null   int64 \n",
      " 1   visitor_id      1197 non-null   int64 \n",
      " 2   date            1197 non-null   object\n",
      " 3   revenue         1197 non-null   int64 \n",
      " 4   group           1197 non-null   object\n",
      "dtypes: int64(3), object(2)\n",
      "memory usage: 46.9+ KB\n"
     ]
    }
   ],
   "source": [
    "orders.info()"
   ]
  },
  {
   "cell_type": "code",
   "execution_count": 16,
   "metadata": {},
   "outputs": [],
   "source": [
    "new_cols_hypothesis=['hypothesis','reach','impact','confidence','efforts']"
   ]
  },
  {
   "cell_type": "code",
   "execution_count": 17,
   "metadata": {},
   "outputs": [],
   "source": [
    "old_cols_hypothesis = hypothesis.columns.tolist()"
   ]
  },
  {
   "cell_type": "code",
   "execution_count": 18,
   "metadata": {},
   "outputs": [],
   "source": [
    "cols_change_dict_hypothesis = {k: v for k, v in zip(old_cols_hypothesis, new_cols_hypothesis)}"
   ]
  },
  {
   "cell_type": "code",
   "execution_count": 19,
   "metadata": {},
   "outputs": [],
   "source": [
    "hypothesis = hypothesis.rename(columns=cols_change_dict_hypothesis)"
   ]
  },
  {
   "cell_type": "code",
   "execution_count": 20,
   "metadata": {},
   "outputs": [
    {
     "name": "stdout",
     "output_type": "stream",
     "text": [
      "<class 'pandas.core.frame.DataFrame'>\n",
      "RangeIndex: 9 entries, 0 to 8\n",
      "Data columns (total 5 columns):\n",
      " #   Column      Non-Null Count  Dtype \n",
      "---  ------      --------------  ----- \n",
      " 0   hypothesis  9 non-null      object\n",
      " 1   reach       9 non-null      int64 \n",
      " 2   impact      9 non-null      int64 \n",
      " 3   confidence  9 non-null      int64 \n",
      " 4   efforts     9 non-null      int64 \n",
      "dtypes: int64(4), object(1)\n",
      "memory usage: 488.0+ bytes\n"
     ]
    }
   ],
   "source": [
    "hypothesis.info()"
   ]
  },
  {
   "cell_type": "markdown",
   "metadata": {},
   "source": [
    "#### Изучение пропусков в Df"
   ]
  },
  {
   "cell_type": "code",
   "execution_count": 21,
   "metadata": {},
   "outputs": [],
   "source": [
    "percent_orders= 100*(orders.isna().sum() / len(orders.index))"
   ]
  },
  {
   "cell_type": "code",
   "execution_count": 22,
   "metadata": {},
   "outputs": [
    {
     "data": {
      "text/plain": [
       "transaction_id    0.0\n",
       "visitor_id        0.0\n",
       "date              0.0\n",
       "revenue           0.0\n",
       "group             0.0\n",
       "dtype: float64"
      ]
     },
     "execution_count": 22,
     "metadata": {},
     "output_type": "execute_result"
    }
   ],
   "source": [
    "percent_orders"
   ]
  },
  {
   "cell_type": "code",
   "execution_count": 23,
   "metadata": {},
   "outputs": [],
   "source": [
    "percent_visitors= 100*(visitors.isna().sum() / len(visitors.index))"
   ]
  },
  {
   "cell_type": "code",
   "execution_count": 24,
   "metadata": {},
   "outputs": [
    {
     "data": {
      "text/plain": [
       "date        0.0\n",
       "group       0.0\n",
       "visitors    0.0\n",
       "dtype: float64"
      ]
     },
     "execution_count": 24,
     "metadata": {},
     "output_type": "execute_result"
    }
   ],
   "source": [
    "percent_visitors"
   ]
  },
  {
   "cell_type": "markdown",
   "metadata": {},
   "source": [
    "Пропуски в данных отсутствуют "
   ]
  },
  {
   "cell_type": "markdown",
   "metadata": {},
   "source": [
    "#### Поиск дубликатов"
   ]
  },
  {
   "cell_type": "code",
   "execution_count": 25,
   "metadata": {},
   "outputs": [
    {
     "data": {
      "text/plain": [
       "0"
      ]
     },
     "execution_count": 25,
     "metadata": {},
     "output_type": "execute_result"
    }
   ],
   "source": [
    "visitors.duplicated().sum()"
   ]
  },
  {
   "cell_type": "code",
   "execution_count": 26,
   "metadata": {},
   "outputs": [
    {
     "data": {
      "text/plain": [
       "0"
      ]
     },
     "execution_count": 26,
     "metadata": {},
     "output_type": "execute_result"
    }
   ],
   "source": [
    "orders.duplicated().sum()"
   ]
  },
  {
   "cell_type": "code",
   "execution_count": 27,
   "metadata": {},
   "outputs": [
    {
     "data": {
      "text/plain": [
       "0"
      ]
     },
     "execution_count": 27,
     "metadata": {},
     "output_type": "execute_result"
    }
   ],
   "source": [
    "hypothesis.duplicated().sum()"
   ]
  },
  {
   "cell_type": "markdown",
   "metadata": {},
   "source": [
    "Дубликаты в данных не выявлены"
   ]
  },
  {
   "cell_type": "markdown",
   "metadata": {},
   "source": [
    "#### Изменение типа данных в столбцах date df visitors и orders"
   ]
  },
  {
   "cell_type": "code",
   "execution_count": 28,
   "metadata": {},
   "outputs": [],
   "source": [
    "visitors['date'] = visitors['date'].map(\n",
    "    lambda x: dt.datetime.strptime(x, '%Y-%m-%d')\n",
    ")"
   ]
  },
  {
   "cell_type": "code",
   "execution_count": 29,
   "metadata": {},
   "outputs": [],
   "source": [
    "orders['date'] = orders['date'].map(\n",
    "    lambda x: dt.datetime.strptime(x, '%Y-%m-%d')\n",
    ")"
   ]
  },
  {
   "cell_type": "code",
   "execution_count": 30,
   "metadata": {
    "scrolled": true
   },
   "outputs": [
    {
     "name": "stdout",
     "output_type": "stream",
     "text": [
      "<class 'pandas.core.frame.DataFrame'>\n",
      "RangeIndex: 62 entries, 0 to 61\n",
      "Data columns (total 3 columns):\n",
      " #   Column    Non-Null Count  Dtype         \n",
      "---  ------    --------------  -----         \n",
      " 0   date      62 non-null     datetime64[ns]\n",
      " 1   group     62 non-null     object        \n",
      " 2   visitors  62 non-null     int64         \n",
      "dtypes: datetime64[ns](1), int64(1), object(1)\n",
      "memory usage: 1.6+ KB\n"
     ]
    }
   ],
   "source": [
    "visitors.info()"
   ]
  },
  {
   "cell_type": "code",
   "execution_count": 31,
   "metadata": {},
   "outputs": [
    {
     "name": "stdout",
     "output_type": "stream",
     "text": [
      "<class 'pandas.core.frame.DataFrame'>\n",
      "RangeIndex: 1197 entries, 0 to 1196\n",
      "Data columns (total 5 columns):\n",
      " #   Column          Non-Null Count  Dtype         \n",
      "---  ------          --------------  -----         \n",
      " 0   transaction_id  1197 non-null   int64         \n",
      " 1   visitor_id      1197 non-null   int64         \n",
      " 2   date            1197 non-null   datetime64[ns]\n",
      " 3   revenue         1197 non-null   int64         \n",
      " 4   group           1197 non-null   object        \n",
      "dtypes: datetime64[ns](1), int64(3), object(1)\n",
      "memory usage: 46.9+ KB\n"
     ]
    }
   ],
   "source": [
    "orders.info()"
   ]
  },
  {
   "cell_type": "markdown",
   "metadata": {},
   "source": [
    "####  Проверка, есть ли в таблице orders пользователи, оказавшиеся одновременно в двух группах."
   ]
  },
  {
   "cell_type": "code",
   "execution_count": 32,
   "metadata": {},
   "outputs": [],
   "source": [
    "user_in_two_group=orders.groupby('visitor_id').agg({'group' : 'nunique'})\\\n",
    ".reset_index().query('group>1')['visitor_id'].unique()"
   ]
  },
  {
   "cell_type": "code",
   "execution_count": 33,
   "metadata": {},
   "outputs": [
    {
     "data": {
      "text/plain": [
       "58"
      ]
     },
     "execution_count": 33,
     "metadata": {},
     "output_type": "execute_result"
    }
   ],
   "source": [
    "len(user_in_two_group)"
   ]
  },
  {
   "cell_type": "markdown",
   "metadata": {},
   "source": [
    "Найдено 58 пользователей в обоих групах, удалим их."
   ]
  },
  {
   "cell_type": "code",
   "execution_count": 34,
   "metadata": {},
   "outputs": [],
   "source": [
    "orders = orders.query('visitor_id not in @user_in_two_group')"
   ]
  },
  {
   "cell_type": "code",
   "execution_count": 35,
   "metadata": {},
   "outputs": [
    {
     "data": {
      "text/plain": [
       "(1016, 5)"
      ]
     },
     "execution_count": 35,
     "metadata": {},
     "output_type": "execute_result"
    }
   ],
   "source": [
    "orders.shape"
   ]
  },
  {
   "cell_type": "code",
   "execution_count": null,
   "metadata": {},
   "outputs": [],
   "source": []
  },
  {
   "cell_type": "markdown",
   "metadata": {},
   "source": [
    "#### Выводы:\n",
    "\n",
    "1. Выполнить замену типов данных в  столбцах date\n",
    "2. Привести название колонок в  соответствие с snace_case\n",
    "3. Дубликаты в данных не выявлены\n",
    "4. Пропуски в данных отсутствуют\n",
    "5. Найдено 58 пользователей в таблице orders пользователи, оказавшиеся одновременно в двух группах. (были удалены)\n",
    "6. Сохронено 1016 строк orders из 1197\n"
   ]
  },
  {
   "cell_type": "markdown",
   "metadata": {},
   "source": [
    "###  Приоритизация гипотез"
   ]
  },
  {
   "cell_type": "code",
   "execution_count": null,
   "metadata": {},
   "outputs": [],
   "source": []
  },
  {
   "cell_type": "markdown",
   "metadata": {},
   "source": [
    " #### Примените фреймворк ICE "
   ]
  },
  {
   "cell_type": "code",
   "execution_count": 36,
   "metadata": {},
   "outputs": [],
   "source": [
    "hypothesis['ICE']=round((hypothesis['impact']*hypothesis['confidence'])/hypothesis['efforts'],2)"
   ]
  },
  {
   "cell_type": "code",
   "execution_count": 37,
   "metadata": {},
   "outputs": [
    {
     "data": {
      "text/html": [
       "<div>\n",
       "<style scoped>\n",
       "    .dataframe tbody tr th:only-of-type {\n",
       "        vertical-align: middle;\n",
       "    }\n",
       "\n",
       "    .dataframe tbody tr th {\n",
       "        vertical-align: top;\n",
       "    }\n",
       "\n",
       "    .dataframe thead th {\n",
       "        text-align: right;\n",
       "    }\n",
       "</style>\n",
       "<table border=\"1\" class=\"dataframe\">\n",
       "  <thead>\n",
       "    <tr style=\"text-align: right;\">\n",
       "      <th></th>\n",
       "      <th>hypothesis</th>\n",
       "      <th>reach</th>\n",
       "      <th>impact</th>\n",
       "      <th>confidence</th>\n",
       "      <th>efforts</th>\n",
       "      <th>ICE</th>\n",
       "    </tr>\n",
       "  </thead>\n",
       "  <tbody>\n",
       "    <tr>\n",
       "      <th>8</th>\n",
       "      <td>Запустить акцию, дающую скидку на товар в день рождения</td>\n",
       "      <td>1</td>\n",
       "      <td>9</td>\n",
       "      <td>9</td>\n",
       "      <td>5</td>\n",
       "      <td>16.20</td>\n",
       "    </tr>\n",
       "    <tr>\n",
       "      <th>0</th>\n",
       "      <td>Добавить два новых канала привлечения трафика, что позволит привлекать на 30% больше пользователей</td>\n",
       "      <td>3</td>\n",
       "      <td>10</td>\n",
       "      <td>8</td>\n",
       "      <td>6</td>\n",
       "      <td>13.33</td>\n",
       "    </tr>\n",
       "    <tr>\n",
       "      <th>7</th>\n",
       "      <td>Добавить форму подписки на все основные страницы, чтобы собрать базу клиентов для email-рассылок</td>\n",
       "      <td>10</td>\n",
       "      <td>7</td>\n",
       "      <td>8</td>\n",
       "      <td>5</td>\n",
       "      <td>11.20</td>\n",
       "    </tr>\n",
       "    <tr>\n",
       "      <th>6</th>\n",
       "      <td>Показать на главной странице баннеры с актуальными акциями и распродажами, чтобы увеличить конверсию</td>\n",
       "      <td>5</td>\n",
       "      <td>3</td>\n",
       "      <td>8</td>\n",
       "      <td>3</td>\n",
       "      <td>8.00</td>\n",
       "    </tr>\n",
       "    <tr>\n",
       "      <th>2</th>\n",
       "      <td>Добавить блоки рекомендаций товаров на сайт интернет магазина, чтобы повысить конверсию и средний чек заказа</td>\n",
       "      <td>8</td>\n",
       "      <td>3</td>\n",
       "      <td>7</td>\n",
       "      <td>3</td>\n",
       "      <td>7.00</td>\n",
       "    </tr>\n",
       "    <tr>\n",
       "      <th>1</th>\n",
       "      <td>Запустить собственную службу доставки, что сократит срок доставки заказов</td>\n",
       "      <td>2</td>\n",
       "      <td>5</td>\n",
       "      <td>4</td>\n",
       "      <td>10</td>\n",
       "      <td>2.00</td>\n",
       "    </tr>\n",
       "    <tr>\n",
       "      <th>5</th>\n",
       "      <td>Добавить страницу отзывов клиентов о магазине, что позволит увеличить количество заказов</td>\n",
       "      <td>3</td>\n",
       "      <td>2</td>\n",
       "      <td>2</td>\n",
       "      <td>3</td>\n",
       "      <td>1.33</td>\n",
       "    </tr>\n",
       "    <tr>\n",
       "      <th>3</th>\n",
       "      <td>Изменить структура категорий, что увеличит конверсию, т.к. пользователи быстрее найдут нужный товар</td>\n",
       "      <td>8</td>\n",
       "      <td>3</td>\n",
       "      <td>3</td>\n",
       "      <td>8</td>\n",
       "      <td>1.12</td>\n",
       "    </tr>\n",
       "    <tr>\n",
       "      <th>4</th>\n",
       "      <td>Изменить цвет фона главной страницы, чтобы увеличить вовлеченность пользователей</td>\n",
       "      <td>3</td>\n",
       "      <td>1</td>\n",
       "      <td>1</td>\n",
       "      <td>1</td>\n",
       "      <td>1.00</td>\n",
       "    </tr>\n",
       "  </tbody>\n",
       "</table>\n",
       "</div>"
      ],
      "text/plain": [
       "                                                                                                     hypothesis  \\\n",
       "8                                                       Запустить акцию, дающую скидку на товар в день рождения   \n",
       "0            Добавить два новых канала привлечения трафика, что позволит привлекать на 30% больше пользователей   \n",
       "7              Добавить форму подписки на все основные страницы, чтобы собрать базу клиентов для email-рассылок   \n",
       "6          Показать на главной странице баннеры с актуальными акциями и распродажами, чтобы увеличить конверсию   \n",
       "2  Добавить блоки рекомендаций товаров на сайт интернет магазина, чтобы повысить конверсию и средний чек заказа   \n",
       "1                                     Запустить собственную службу доставки, что сократит срок доставки заказов   \n",
       "5                      Добавить страницу отзывов клиентов о магазине, что позволит увеличить количество заказов   \n",
       "3           Изменить структура категорий, что увеличит конверсию, т.к. пользователи быстрее найдут нужный товар   \n",
       "4                              Изменить цвет фона главной страницы, чтобы увеличить вовлеченность пользователей   \n",
       "\n",
       "   reach  impact  confidence  efforts    ICE  \n",
       "8      1       9           9        5  16.20  \n",
       "0      3      10           8        6  13.33  \n",
       "7     10       7           8        5  11.20  \n",
       "6      5       3           8        3   8.00  \n",
       "2      8       3           7        3   7.00  \n",
       "1      2       5           4       10   2.00  \n",
       "5      3       2           2        3   1.33  \n",
       "3      8       3           3        8   1.12  \n",
       "4      3       1           1        1   1.00  "
      ]
     },
     "execution_count": 37,
     "metadata": {},
     "output_type": "execute_result"
    }
   ],
   "source": [
    "hypothesis.sort_values(by='ICE',ascending=False)"
   ]
  },
  {
   "cell_type": "markdown",
   "metadata": {},
   "source": [
    "#### Примените фреймворк RICE "
   ]
  },
  {
   "cell_type": "code",
   "execution_count": 38,
   "metadata": {},
   "outputs": [],
   "source": [
    "hypothesis['RICE']=(hypothesis['impact']*hypothesis['confidence']\\\n",
    "                    *hypothesis['reach'])/hypothesis['efforts']"
   ]
  },
  {
   "cell_type": "code",
   "execution_count": 39,
   "metadata": {},
   "outputs": [
    {
     "data": {
      "text/html": [
       "<div>\n",
       "<style scoped>\n",
       "    .dataframe tbody tr th:only-of-type {\n",
       "        vertical-align: middle;\n",
       "    }\n",
       "\n",
       "    .dataframe tbody tr th {\n",
       "        vertical-align: top;\n",
       "    }\n",
       "\n",
       "    .dataframe thead th {\n",
       "        text-align: right;\n",
       "    }\n",
       "</style>\n",
       "<table border=\"1\" class=\"dataframe\">\n",
       "  <thead>\n",
       "    <tr style=\"text-align: right;\">\n",
       "      <th></th>\n",
       "      <th>hypothesis</th>\n",
       "      <th>reach</th>\n",
       "      <th>impact</th>\n",
       "      <th>confidence</th>\n",
       "      <th>efforts</th>\n",
       "      <th>ICE</th>\n",
       "      <th>RICE</th>\n",
       "    </tr>\n",
       "  </thead>\n",
       "  <tbody>\n",
       "    <tr>\n",
       "      <th>7</th>\n",
       "      <td>Добавить форму подписки на все основные страницы, чтобы собрать базу клиентов для email-рассылок</td>\n",
       "      <td>10</td>\n",
       "      <td>7</td>\n",
       "      <td>8</td>\n",
       "      <td>5</td>\n",
       "      <td>11.20</td>\n",
       "      <td>112.0</td>\n",
       "    </tr>\n",
       "    <tr>\n",
       "      <th>2</th>\n",
       "      <td>Добавить блоки рекомендаций товаров на сайт интернет магазина, чтобы повысить конверсию и средний чек заказа</td>\n",
       "      <td>8</td>\n",
       "      <td>3</td>\n",
       "      <td>7</td>\n",
       "      <td>3</td>\n",
       "      <td>7.00</td>\n",
       "      <td>56.0</td>\n",
       "    </tr>\n",
       "    <tr>\n",
       "      <th>0</th>\n",
       "      <td>Добавить два новых канала привлечения трафика, что позволит привлекать на 30% больше пользователей</td>\n",
       "      <td>3</td>\n",
       "      <td>10</td>\n",
       "      <td>8</td>\n",
       "      <td>6</td>\n",
       "      <td>13.33</td>\n",
       "      <td>40.0</td>\n",
       "    </tr>\n",
       "    <tr>\n",
       "      <th>6</th>\n",
       "      <td>Показать на главной странице баннеры с актуальными акциями и распродажами, чтобы увеличить конверсию</td>\n",
       "      <td>5</td>\n",
       "      <td>3</td>\n",
       "      <td>8</td>\n",
       "      <td>3</td>\n",
       "      <td>8.00</td>\n",
       "      <td>40.0</td>\n",
       "    </tr>\n",
       "    <tr>\n",
       "      <th>8</th>\n",
       "      <td>Запустить акцию, дающую скидку на товар в день рождения</td>\n",
       "      <td>1</td>\n",
       "      <td>9</td>\n",
       "      <td>9</td>\n",
       "      <td>5</td>\n",
       "      <td>16.20</td>\n",
       "      <td>16.2</td>\n",
       "    </tr>\n",
       "    <tr>\n",
       "      <th>3</th>\n",
       "      <td>Изменить структура категорий, что увеличит конверсию, т.к. пользователи быстрее найдут нужный товар</td>\n",
       "      <td>8</td>\n",
       "      <td>3</td>\n",
       "      <td>3</td>\n",
       "      <td>8</td>\n",
       "      <td>1.12</td>\n",
       "      <td>9.0</td>\n",
       "    </tr>\n",
       "    <tr>\n",
       "      <th>1</th>\n",
       "      <td>Запустить собственную службу доставки, что сократит срок доставки заказов</td>\n",
       "      <td>2</td>\n",
       "      <td>5</td>\n",
       "      <td>4</td>\n",
       "      <td>10</td>\n",
       "      <td>2.00</td>\n",
       "      <td>4.0</td>\n",
       "    </tr>\n",
       "    <tr>\n",
       "      <th>5</th>\n",
       "      <td>Добавить страницу отзывов клиентов о магазине, что позволит увеличить количество заказов</td>\n",
       "      <td>3</td>\n",
       "      <td>2</td>\n",
       "      <td>2</td>\n",
       "      <td>3</td>\n",
       "      <td>1.33</td>\n",
       "      <td>4.0</td>\n",
       "    </tr>\n",
       "    <tr>\n",
       "      <th>4</th>\n",
       "      <td>Изменить цвет фона главной страницы, чтобы увеличить вовлеченность пользователей</td>\n",
       "      <td>3</td>\n",
       "      <td>1</td>\n",
       "      <td>1</td>\n",
       "      <td>1</td>\n",
       "      <td>1.00</td>\n",
       "      <td>3.0</td>\n",
       "    </tr>\n",
       "  </tbody>\n",
       "</table>\n",
       "</div>"
      ],
      "text/plain": [
       "                                                                                                     hypothesis  \\\n",
       "7              Добавить форму подписки на все основные страницы, чтобы собрать базу клиентов для email-рассылок   \n",
       "2  Добавить блоки рекомендаций товаров на сайт интернет магазина, чтобы повысить конверсию и средний чек заказа   \n",
       "0            Добавить два новых канала привлечения трафика, что позволит привлекать на 30% больше пользователей   \n",
       "6          Показать на главной странице баннеры с актуальными акциями и распродажами, чтобы увеличить конверсию   \n",
       "8                                                       Запустить акцию, дающую скидку на товар в день рождения   \n",
       "3           Изменить структура категорий, что увеличит конверсию, т.к. пользователи быстрее найдут нужный товар   \n",
       "1                                     Запустить собственную службу доставки, что сократит срок доставки заказов   \n",
       "5                      Добавить страницу отзывов клиентов о магазине, что позволит увеличить количество заказов   \n",
       "4                              Изменить цвет фона главной страницы, чтобы увеличить вовлеченность пользователей   \n",
       "\n",
       "   reach  impact  confidence  efforts    ICE   RICE  \n",
       "7     10       7           8        5  11.20  112.0  \n",
       "2      8       3           7        3   7.00   56.0  \n",
       "0      3      10           8        6  13.33   40.0  \n",
       "6      5       3           8        3   8.00   40.0  \n",
       "8      1       9           9        5  16.20   16.2  \n",
       "3      8       3           3        8   1.12    9.0  \n",
       "1      2       5           4       10   2.00    4.0  \n",
       "5      3       2           2        3   1.33    4.0  \n",
       "4      3       1           1        1   1.00    3.0  "
      ]
     },
     "metadata": {},
     "output_type": "display_data"
    }
   ],
   "source": [
    "display(hypothesis.sort_values(by='RICE',ascending=False))"
   ]
  },
  {
   "cell_type": "markdown",
   "metadata": {},
   "source": [
    "**Выводы:**\n",
    "- При применении фреймворка RICE вместо ICE для приоритизации гипотез произошли изменения в их приоритетах. RICE включает в себя дополнительный параметр \"охват\" (Reach), который учитывает, сколько пользователей затронет изменение. \n",
    "- Сравним приоритеты гипотез, используя оба фреймворка:\n",
    "    - При использовании ICE гипотеза 1 имела более высокий приоритет (16.2 сопостовимый с 16.2 у гипотезы 2).\n",
    "    - Однако при применении RICE гипотеза 2 оказалась с более высоким приоритетом (112.0 против 16.2 у гипотезы 1).\n",
    "\n",
    "- Это произошло из-за различий в параметре \"охват\" (Reach). Гипотеза 2 имеет значительно больший охват, так как она затронет всех посетителей, добавив форму на все страницы, в то время как гипотеза 1 имеет низкий охват, так как она касается только дней рождения клиентов. Поэтому RICE увеличил приоритет гипотезы 2 из-за большего ожидаемого воздействия на большее количество пользователей.\n",
    "- Наиболее приоритетная гипотеза **Добавить форму подписки на все основные страницы, чтобы собрать базу клиентов для email-рассылок****"
   ]
  },
  {
   "cell_type": "markdown",
   "metadata": {},
   "source": [
    "### A/B-тест"
   ]
  },
  {
   "cell_type": "markdown",
   "metadata": {},
   "source": [
    "#### Постройка графиков кумулятивной выручки по группам"
   ]
  },
  {
   "cell_type": "markdown",
   "metadata": {},
   "source": [
    "создаем массив уникальных пар значений дат и групп теста"
   ]
  },
  {
   "cell_type": "code",
   "execution_count": 40,
   "metadata": {},
   "outputs": [],
   "source": [
    "datesGroups = orders[['date', 'group']].drop_duplicates()"
   ]
  },
  {
   "cell_type": "markdown",
   "metadata": {},
   "source": [
    "получаем агрегированные кумулятивные по дням данные о заказах "
   ]
  },
  {
   "cell_type": "code",
   "execution_count": 41,
   "metadata": {},
   "outputs": [],
   "source": [
    "ordersAggregated = datesGroups.apply(\n",
    "    lambda x: orders[\n",
    "        np.logical_and(\n",
    "            orders['date'] <= x['date'], orders['group'] == x['group']\n",
    "        )\n",
    "    ].agg(\n",
    "        {\n",
    "            'date': 'max',\n",
    "            'group': 'max',\n",
    "            'transaction_id': 'nunique',\n",
    "            'visitor_id': 'nunique',\n",
    "            'revenue': 'sum',\n",
    "        }\n",
    "    ),\n",
    "    axis=1,\n",
    ").sort_values(by=['date', 'group'])"
   ]
  },
  {
   "cell_type": "markdown",
   "metadata": {},
   "source": [
    "Получаем агрегированные кумулятивные по дням данные о посетителях интернет-магазина "
   ]
  },
  {
   "cell_type": "code",
   "execution_count": 42,
   "metadata": {},
   "outputs": [],
   "source": [
    "\n",
    "visitorsAggregated = datesGroups.apply(\n",
    "    lambda x: visitors[\n",
    "        np.logical_and(\n",
    "            visitors['date'] <= x['date'], visitors['group'] == x['group']\n",
    "        )\n",
    "    ].agg({'date': 'max', 'group': 'max', 'visitors': 'sum'}),\n",
    "    axis=1,\n",
    ").sort_values(by=['date', 'group'])\n"
   ]
  },
  {
   "cell_type": "markdown",
   "metadata": {},
   "source": [
    "Объединяем кумулятивные данные в одной таблице и присваиваем ее столбцам понятные названия"
   ]
  },
  {
   "cell_type": "code",
   "execution_count": 43,
   "metadata": {},
   "outputs": [],
   "source": [
    "\n",
    "cumulativeData = ordersAggregated.merge(\n",
    "    visitorsAggregated, left_on=['date', 'group'], right_on=['date', 'group']\n",
    ")"
   ]
  },
  {
   "cell_type": "code",
   "execution_count": 44,
   "metadata": {},
   "outputs": [],
   "source": [
    "cumulativeData.columns = [\n",
    "    'date',\n",
    "    'group',\n",
    "    'orders',\n",
    "    'buyers',\n",
    "    'revenue',\n",
    "    'visitors',\n",
    "]"
   ]
  },
  {
   "cell_type": "code",
   "execution_count": 45,
   "metadata": {},
   "outputs": [
    {
     "data": {
      "text/html": [
       "<div>\n",
       "<style scoped>\n",
       "    .dataframe tbody tr th:only-of-type {\n",
       "        vertical-align: middle;\n",
       "    }\n",
       "\n",
       "    .dataframe tbody tr th {\n",
       "        vertical-align: top;\n",
       "    }\n",
       "\n",
       "    .dataframe thead th {\n",
       "        text-align: right;\n",
       "    }\n",
       "</style>\n",
       "<table border=\"1\" class=\"dataframe\">\n",
       "  <thead>\n",
       "    <tr style=\"text-align: right;\">\n",
       "      <th></th>\n",
       "      <th>date</th>\n",
       "      <th>group</th>\n",
       "      <th>orders</th>\n",
       "      <th>buyers</th>\n",
       "      <th>revenue</th>\n",
       "      <th>visitors</th>\n",
       "    </tr>\n",
       "  </thead>\n",
       "  <tbody>\n",
       "    <tr>\n",
       "      <th>0</th>\n",
       "      <td>2019-08-01</td>\n",
       "      <td>A</td>\n",
       "      <td>23</td>\n",
       "      <td>19</td>\n",
       "      <td>142779</td>\n",
       "      <td>719</td>\n",
       "    </tr>\n",
       "    <tr>\n",
       "      <th>1</th>\n",
       "      <td>2019-08-01</td>\n",
       "      <td>B</td>\n",
       "      <td>17</td>\n",
       "      <td>17</td>\n",
       "      <td>59758</td>\n",
       "      <td>713</td>\n",
       "    </tr>\n",
       "    <tr>\n",
       "      <th>2</th>\n",
       "      <td>2019-08-02</td>\n",
       "      <td>A</td>\n",
       "      <td>42</td>\n",
       "      <td>36</td>\n",
       "      <td>234381</td>\n",
       "      <td>1338</td>\n",
       "    </tr>\n",
       "    <tr>\n",
       "      <th>3</th>\n",
       "      <td>2019-08-02</td>\n",
       "      <td>B</td>\n",
       "      <td>40</td>\n",
       "      <td>39</td>\n",
       "      <td>221801</td>\n",
       "      <td>1294</td>\n",
       "    </tr>\n",
       "    <tr>\n",
       "      <th>4</th>\n",
       "      <td>2019-08-03</td>\n",
       "      <td>A</td>\n",
       "      <td>66</td>\n",
       "      <td>60</td>\n",
       "      <td>346854</td>\n",
       "      <td>1845</td>\n",
       "    </tr>\n",
       "    <tr>\n",
       "      <th>...</th>\n",
       "      <td>...</td>\n",
       "      <td>...</td>\n",
       "      <td>...</td>\n",
       "      <td>...</td>\n",
       "      <td>...</td>\n",
       "      <td>...</td>\n",
       "    </tr>\n",
       "    <tr>\n",
       "      <th>57</th>\n",
       "      <td>2019-08-29</td>\n",
       "      <td>B</td>\n",
       "      <td>510</td>\n",
       "      <td>490</td>\n",
       "      <td>4746610</td>\n",
       "      <td>17708</td>\n",
       "    </tr>\n",
       "    <tr>\n",
       "      <th>58</th>\n",
       "      <td>2019-08-30</td>\n",
       "      <td>A</td>\n",
       "      <td>460</td>\n",
       "      <td>437</td>\n",
       "      <td>3311413</td>\n",
       "      <td>18037</td>\n",
       "    </tr>\n",
       "    <tr>\n",
       "      <th>59</th>\n",
       "      <td>2019-08-30</td>\n",
       "      <td>B</td>\n",
       "      <td>531</td>\n",
       "      <td>511</td>\n",
       "      <td>4955833</td>\n",
       "      <td>18198</td>\n",
       "    </tr>\n",
       "    <tr>\n",
       "      <th>60</th>\n",
       "      <td>2019-08-31</td>\n",
       "      <td>A</td>\n",
       "      <td>468</td>\n",
       "      <td>445</td>\n",
       "      <td>3364656</td>\n",
       "      <td>18736</td>\n",
       "    </tr>\n",
       "    <tr>\n",
       "      <th>61</th>\n",
       "      <td>2019-08-31</td>\n",
       "      <td>B</td>\n",
       "      <td>548</td>\n",
       "      <td>528</td>\n",
       "      <td>5068972</td>\n",
       "      <td>18916</td>\n",
       "    </tr>\n",
       "  </tbody>\n",
       "</table>\n",
       "<p>62 rows × 6 columns</p>\n",
       "</div>"
      ],
      "text/plain": [
       "         date group  orders  buyers  revenue  visitors\n",
       "0  2019-08-01     A      23      19   142779       719\n",
       "1  2019-08-01     B      17      17    59758       713\n",
       "2  2019-08-02     A      42      36   234381      1338\n",
       "3  2019-08-02     B      40      39   221801      1294\n",
       "4  2019-08-03     A      66      60   346854      1845\n",
       "..        ...   ...     ...     ...      ...       ...\n",
       "57 2019-08-29     B     510     490  4746610     17708\n",
       "58 2019-08-30     A     460     437  3311413     18037\n",
       "59 2019-08-30     B     531     511  4955833     18198\n",
       "60 2019-08-31     A     468     445  3364656     18736\n",
       "61 2019-08-31     B     548     528  5068972     18916\n",
       "\n",
       "[62 rows x 6 columns]"
      ]
     },
     "execution_count": 45,
     "metadata": {},
     "output_type": "execute_result"
    }
   ],
   "source": [
    "cumulativeData"
   ]
  },
  {
   "cell_type": "code",
   "execution_count": 46,
   "metadata": {},
   "outputs": [],
   "source": [
    "# датафрейм с кумулятивным количеством заказов и кумулятивной выручкой по дням в группе А\n",
    "cumulativeRevenueA = cumulativeData[cumulativeData['group']=='A']\\\n",
    "[['date','revenue', 'orders','visitors']]\n",
    "\n",
    "# датафрейм с кумулятивным количеством заказов и кумулятивной выручкой по дням в группе B\n",
    "cumulativeRevenueB = cumulativeData[cumulativeData['group']=='B']\\\n",
    "[['date','revenue', 'orders','visitors']]"
   ]
  },
  {
   "cell_type": "code",
   "execution_count": 47,
   "metadata": {},
   "outputs": [
    {
     "data": {
      "image/png": "[encoded data removed]",
      "text/plain": [
       "<Figure size 900x500 with 1 Axes>"
      ]
     },
     "metadata": {},
     "output_type": "display_data"
    }
   ],
   "source": [
    "plt.figure(figsize=(9,5))\n",
    "plt.plot(cumulativeRevenueA['date'], cumulativeRevenueA['revenue'], label='A')\n",
    "\n",
    "# Строим график выручки группы B\n",
    "plt.plot(cumulativeRevenueB['date'], cumulativeRevenueB['revenue'], label='B')\n",
    "\n",
    "plt.xticks(rotation=90)\n",
    "plt.title('График кумулятивной выручки по группам')\n",
    "plt.ylabel('Кумулятивная выручка')\n",
    "plt.legend(title=\"Группы\",loc='upper left', bbox_to_anchor=(1, 1)) \n",
    "plt.show()"
   ]
  },
  {
   "cell_type": "markdown",
   "metadata": {},
   "source": [
    "#####  Вывод:\n",
    "Кумулятивная выручка группы А с 1 августа по 13 августа равномерно увеличивается с группой B. Но с 13 числа выручка группы B начинает расти быстрее группы A, также выручка группы B резко растет 18.08. Это может сигнализировать о всплесках числа заказов, либо о появлении очень дорогих заказов в выборке. Необходимо провести доп. исследование"
   ]
  },
  {
   "cell_type": "markdown",
   "metadata": {},
   "source": [
    "#### Постройка графика кумулятивного среднего чека по группам"
   ]
  },
  {
   "cell_type": "code",
   "execution_count": 48,
   "metadata": {},
   "outputs": [
    {
     "data": {
      "image/png": "[encoded data removed]",
      "text/plain": [
       "<Figure size 900x500 with 1 Axes>"
      ]
     },
     "metadata": {},
     "output_type": "display_data"
    }
   ],
   "source": [
    "plt.figure(figsize=(9,5))\n",
    "plt.plot(cumulativeRevenueA['date'], cumulativeRevenueA['revenue']/cumulativeRevenueA['orders'], label='A')\n",
    "plt.plot(cumulativeRevenueB['date'], cumulativeRevenueB['revenue']/cumulativeRevenueB['orders'], label='B')\n",
    "plt.xticks(rotation=90)\n",
    "plt.title('График кумулятивного среднего чека по группам')\n",
    "plt.ylabel('Кумулятивный средний чек')\n",
    "plt.legend(title=\"Группы\",loc='upper left', bbox_to_anchor=(1, 1)) \n",
    "plt.show()"
   ]
  },
  {
   "cell_type": "markdown",
   "metadata": {},
   "source": [
    "#####  Вывод:\n",
    "Средний чек группы B значительно выше группы A в конце эксперимента. Так же средний чек становится равномерным ближе к концу теста: установился для группы A и продолжает немного снижаться для группы B. Вероятнее всего данный процесс для группы B наблюдается из за крупных заказов (резкий всплеск на графике 18.08.19). Тогда ей нужно больше данных, чтобы прийти к реальному среднему чеку и установиться на его уровне."
   ]
  },
  {
   "cell_type": "markdown",
   "metadata": {},
   "source": [
    "####  Построение графика относительного изменения кумулятивного среднего чека группах"
   ]
  },
  {
   "cell_type": "code",
   "execution_count": 49,
   "metadata": {},
   "outputs": [
    {
     "data": {
      "image/png": "[encoded data removed]",
      "text/plain": [
       "<Figure size 900x500 with 1 Axes>"
      ]
     },
     "metadata": {},
     "output_type": "display_data"
    }
   ],
   "source": [
    "# собираем данные в одном датафрейме\n",
    "mergedCumulativeRevenue = cumulativeRevenueA.merge(cumulativeRevenueB, left_on='date', right_on='date', how='left', suffixes=['A', 'B'])\n",
    "plt.figure(figsize=(9,5))\n",
    "# cтроим отношение средних чеков\n",
    "plt.plot(mergedCumulativeRevenue['date'], (mergedCumulativeRevenue['revenueB']/mergedCumulativeRevenue['ordersB'])/(mergedCumulativeRevenue['revenueA']/mergedCumulativeRevenue['ordersA'])-1)\n",
    "\n",
    "# добавляем ось X\n",
    "plt.axhline(y=0, color='black', linestyle='--') \n",
    "plt.xticks(rotation=90)\n",
    "plt.title('График относительного изменения среднего чека по группам')\n",
    "plt.show()\n"
   ]
  },
  {
   "cell_type": "markdown",
   "metadata": {},
   "source": [
    "#####  Вывод:\n",
    "В нескольких точках график различия между сегментами резко изменяется. Самое крупные изменения среднего чека по группам происходили 06.08.13 и 18.08.18. Это свидетельствует о крупные заказы и выбросах 18.08.18 , а 06.08.13 свидетельствует флуктуацией данных в начале теста"
   ]
  },
  {
   "cell_type": "markdown",
   "metadata": {},
   "source": [
    "#### График кумулятивного среднего количества заказов на посетителя по группам."
   ]
  },
  {
   "cell_type": "code",
   "execution_count": 50,
   "metadata": {},
   "outputs": [
    {
     "data": {
      "image/png": "[encoded data removed]",
      "text/plain": [
       "<Figure size 900x500 with 1 Axes>"
      ]
     },
     "metadata": {},
     "output_type": "display_data"
    }
   ],
   "source": [
    "plt.figure(figsize=(9,5))\n",
    "plt.plot(cumulativeRevenueA['date'], cumulativeRevenueA['orders']/cumulativeRevenueA['visitors'], label='A')\n",
    "plt.plot(cumulativeRevenueB['date'], cumulativeRevenueB['orders']/cumulativeRevenueB['visitors'], label='B')\n",
    "plt.legend()\n",
    "plt.xticks(rotation=90)\n",
    "plt.title('График кумулятивного среднего количества заказов на посетителя')\n",
    "plt.legend(title=\"Группы\",loc='upper left', bbox_to_anchor=(1, 1))\n",
    "plt.axhline(y=0.029, color='black', linestyle='--')\n",
    "plt.axhline(y=0.0255, color='gray', linestyle='--')\n",
    "plt.show()"
   ]
  },
  {
   "cell_type": "markdown",
   "metadata": {},
   "source": [
    "##### Выводы: \n",
    "Среднее количество заказов на посетителя в группе B значительно выше и стабилизировалось после 18.08.2019. Это позитивное изменение в поведении пользователей группы B может положительно сказаться на выручке и эффективности бизнеса"
   ]
  },
  {
   "cell_type": "markdown",
   "metadata": {},
   "source": [
    "####  Построение графика относительного изменения кумулятивного среднего количества заказов на посетителя группы B к группе A."
   ]
  },
  {
   "cell_type": "code",
   "execution_count": 51,
   "metadata": {},
   "outputs": [
    {
     "data": {
      "image/png": "[encoded data removed]",
      "text/plain": [
       "<Figure size 900x500 with 1 Axes>"
      ]
     },
     "metadata": {},
     "output_type": "display_data"
    }
   ],
   "source": [
    "plt.figure(figsize=(9,5))\n",
    "mergedCumulativeRevenue = cumulativeRevenueA.merge(cumulativeRevenueB, left_on='date', right_on='date', how='left', suffixes=['A', 'B'])\n",
    "\n",
    "# cтроим отношение средних покуплок на одного пользователя\n",
    "plt.plot(mergedCumulativeRevenue['date'], (mergedCumulativeRevenue['ordersB']/mergedCumulativeRevenue['visitorsB'])/(mergedCumulativeRevenue['ordersA']/mergedCumulativeRevenue['visitorsA'])-1)\n",
    "\n",
    "plt.xticks(rotation=90)\n",
    "plt.title('График относительного изменения кумулятивного среднего количества заказов на посетителя')\n",
    "plt.axhline(y=0.159, color='black', linestyle='--')\n",
    "plt.axhline(y=0, color='gray', linestyle='--')\n",
    "plt.show()"
   ]
  },
  {
   "cell_type": "markdown",
   "metadata": {},
   "source": [
    "#####  Выводы: \n",
    "График относительного изменения кумулятивного среднего количества заказов на посетителя стабилизировался на отметке примерно в 16% после 10.08.19. Это свидетельствует о том, что начальные колебания данных скорее всего были временными и не представляют существенного влияния на показатели."
   ]
  },
  {
   "cell_type": "markdown",
   "metadata": {},
   "source": [
    "#### Построение точечного графика количества заказов по пользователям."
   ]
  },
  {
   "cell_type": "code",
   "execution_count": 52,
   "metadata": {},
   "outputs": [],
   "source": [
    "ordersByUsers = (\n",
    "    orders.groupby('visitor_id', as_index=False)\n",
    "    .agg({'transaction_id': 'nunique'})\n",
    ")\n",
    "\n",
    "ordersByUsers.columns = ['visitor_id', 'orders']"
   ]
  },
  {
   "cell_type": "code",
   "execution_count": 53,
   "metadata": {},
   "outputs": [
    {
     "data": {
      "image/png": "[encoded data removed]",
      "text/plain": [
       "<Figure size 640x480 with 1 Axes>"
      ]
     },
     "metadata": {},
     "output_type": "display_data"
    }
   ],
   "source": [
    "plt.hist(ordersByUsers['orders'])\n",
    "plt.title('Гистограмма распределения количества заказов на одного пользователя')\n",
    "plt.ylabel('Количество пользователей')\n",
    "plt.xlabel('Количество заказов')\n",
    "plt.show()"
   ]
  },
  {
   "cell_type": "code",
   "execution_count": 54,
   "metadata": {},
   "outputs": [
    {
     "data": {
      "image/png": "[encoded data removed]",
      "text/plain": [
       "<Figure size 900x500 with 1 Axes>"
      ]
     },
     "metadata": {},
     "output_type": "display_data"
    }
   ],
   "source": [
    "plt.figure(figsize=(9,5))\n",
    "x_values = pd.Series(range(0,len(ordersByUsers)))\n",
    "\n",
    "plt.scatter(x_values, ordersByUsers['orders']) \n",
    "plt.title('График количества заказов по пользователям')\n",
    "plt.ylabel('Количество заказов')\n",
    "plt.xlabel('Количество пользователей')\n",
    "plt.show()"
   ]
  },
  {
   "cell_type": "markdown",
   "metadata": {},
   "source": [
    "Выводы подтверждаются: много пользователей с 2-4 заказами. Их точная доля не ясна — непонятно, считать их аномалиями или нет. "
   ]
  },
  {
   "cell_type": "markdown",
   "metadata": {},
   "source": [
    "Посчитаем выборочные перцентили количества заказов на одного пользователя:"
   ]
  },
  {
   "cell_type": "code",
   "execution_count": 55,
   "metadata": {},
   "outputs": [
    {
     "name": "stdout",
     "output_type": "stream",
     "text": [
      "[1. 1. 2.]\n"
     ]
    }
   ],
   "source": [
    "print(np.percentile(ordersByUsers['orders'], [ 90,95, 99])) "
   ]
  },
  {
   "cell_type": "markdown",
   "metadata": {},
   "source": [
    "# Вывод :\n",
    "Не более 1% пользователей оформляли больше чем 2 заказа. И 10% пользователей заказывали только 1 раз.\n",
    "Разумно выбрать 2  на одного пользователя за верхнюю границу числа заказов, и отсеять аномальных пользователей по ней. "
   ]
  },
  {
   "cell_type": "markdown",
   "metadata": {},
   "source": [
    "#### Построение точечного график стоимостей заказов."
   ]
  },
  {
   "cell_type": "code",
   "execution_count": 56,
   "metadata": {},
   "outputs": [
    {
     "data": {
      "image/png": "[encoded data removed]",
      "text/plain": [
       "<Figure size 640x480 with 1 Axes>"
      ]
     },
     "metadata": {},
     "output_type": "display_data"
    }
   ],
   "source": [
    "plt.hist(orders['revenue'],bins=25) \n",
    "plt.title('Гистограмма распределения цены заказов')\n",
    "plt.ylabel('Количество пользователей')\n",
    "plt.xlabel('Цена заказа')\n",
    "plt.show()"
   ]
  },
  {
   "cell_type": "code",
   "execution_count": 57,
   "metadata": {},
   "outputs": [],
   "source": [
    "x_values = pd.Series(range(0,len(orders['revenue'])))"
   ]
  },
  {
   "cell_type": "code",
   "execution_count": 58,
   "metadata": {
    "scrolled": true
   },
   "outputs": [
    {
     "data": {
      "image/png": "[encoded data removed]",
      "text/plain": [
       "<Figure size 900x500 with 1 Axes>"
      ]
     },
     "metadata": {},
     "output_type": "display_data"
    }
   ],
   "source": [
    "plt.figure(figsize=(9,5))\n",
    "plt.ylim([0,150000])\n",
    "plt.scatter(x_values, orders['revenue']) \n",
    "plt.title('Точечный график стоимостей заказов')\n",
    "plt.xlabel('Количество пользователей')\n",
    "plt.ylabel('Цена заказа')\n",
    "plt.show()"
   ]
  },
  {
   "cell_type": "markdown",
   "metadata": {},
   "source": [
    "Есть немного дорогих заказов. По графику можно выбрать границу аномальных заказов между 30000 рублей. Но для большей точности расчитаем 95-й и 99-й перцентили стоимости заказов."
   ]
  },
  {
   "cell_type": "code",
   "execution_count": 59,
   "metadata": {},
   "outputs": [
    {
     "name": "stdout",
     "output_type": "stream",
     "text": [
      "[17990. 26785. 53904.]\n"
     ]
    }
   ],
   "source": [
    "print(np.percentile(orders['revenue'], [90,95, 99])) "
   ]
  },
  {
   "cell_type": "markdown",
   "metadata": {},
   "source": [
    "**Выводы:**\n",
    "Не более 5% заказов дороже 26785 рублей и не более 1% дороже 53904 рублей."
   ]
  },
  {
   "cell_type": "markdown",
   "metadata": {},
   "source": [
    "#### Подготовка данных"
   ]
  },
  {
   "cell_type": "code",
   "execution_count": 60,
   "metadata": {},
   "outputs": [
    {
     "data": {
      "text/html": [
       "<div>\n",
       "<style scoped>\n",
       "    .dataframe tbody tr th:only-of-type {\n",
       "        vertical-align: middle;\n",
       "    }\n",
       "\n",
       "    .dataframe tbody tr th {\n",
       "        vertical-align: top;\n",
       "    }\n",
       "\n",
       "    .dataframe thead th {\n",
       "        text-align: right;\n",
       "    }\n",
       "</style>\n",
       "<table border=\"1\" class=\"dataframe\">\n",
       "  <thead>\n",
       "    <tr style=\"text-align: right;\">\n",
       "      <th></th>\n",
       "      <th>date</th>\n",
       "      <th>group</th>\n",
       "      <th>orders</th>\n",
       "      <th>buyers</th>\n",
       "      <th>revenue</th>\n",
       "      <th>visitors</th>\n",
       "    </tr>\n",
       "  </thead>\n",
       "  <tbody>\n",
       "    <tr>\n",
       "      <th>0</th>\n",
       "      <td>2019-08-01</td>\n",
       "      <td>A</td>\n",
       "      <td>23</td>\n",
       "      <td>19</td>\n",
       "      <td>142779</td>\n",
       "      <td>719</td>\n",
       "    </tr>\n",
       "    <tr>\n",
       "      <th>1</th>\n",
       "      <td>2019-08-01</td>\n",
       "      <td>B</td>\n",
       "      <td>17</td>\n",
       "      <td>17</td>\n",
       "      <td>59758</td>\n",
       "      <td>713</td>\n",
       "    </tr>\n",
       "    <tr>\n",
       "      <th>2</th>\n",
       "      <td>2019-08-02</td>\n",
       "      <td>A</td>\n",
       "      <td>42</td>\n",
       "      <td>36</td>\n",
       "      <td>234381</td>\n",
       "      <td>1338</td>\n",
       "    </tr>\n",
       "    <tr>\n",
       "      <th>3</th>\n",
       "      <td>2019-08-02</td>\n",
       "      <td>B</td>\n",
       "      <td>40</td>\n",
       "      <td>39</td>\n",
       "      <td>221801</td>\n",
       "      <td>1294</td>\n",
       "    </tr>\n",
       "    <tr>\n",
       "      <th>4</th>\n",
       "      <td>2019-08-03</td>\n",
       "      <td>A</td>\n",
       "      <td>66</td>\n",
       "      <td>60</td>\n",
       "      <td>346854</td>\n",
       "      <td>1845</td>\n",
       "    </tr>\n",
       "    <tr>\n",
       "      <th>...</th>\n",
       "      <td>...</td>\n",
       "      <td>...</td>\n",
       "      <td>...</td>\n",
       "      <td>...</td>\n",
       "      <td>...</td>\n",
       "      <td>...</td>\n",
       "    </tr>\n",
       "    <tr>\n",
       "      <th>57</th>\n",
       "      <td>2019-08-29</td>\n",
       "      <td>B</td>\n",
       "      <td>510</td>\n",
       "      <td>490</td>\n",
       "      <td>4746610</td>\n",
       "      <td>17708</td>\n",
       "    </tr>\n",
       "    <tr>\n",
       "      <th>58</th>\n",
       "      <td>2019-08-30</td>\n",
       "      <td>A</td>\n",
       "      <td>460</td>\n",
       "      <td>437</td>\n",
       "      <td>3311413</td>\n",
       "      <td>18037</td>\n",
       "    </tr>\n",
       "    <tr>\n",
       "      <th>59</th>\n",
       "      <td>2019-08-30</td>\n",
       "      <td>B</td>\n",
       "      <td>531</td>\n",
       "      <td>511</td>\n",
       "      <td>4955833</td>\n",
       "      <td>18198</td>\n",
       "    </tr>\n",
       "    <tr>\n",
       "      <th>60</th>\n",
       "      <td>2019-08-31</td>\n",
       "      <td>A</td>\n",
       "      <td>468</td>\n",
       "      <td>445</td>\n",
       "      <td>3364656</td>\n",
       "      <td>18736</td>\n",
       "    </tr>\n",
       "    <tr>\n",
       "      <th>61</th>\n",
       "      <td>2019-08-31</td>\n",
       "      <td>B</td>\n",
       "      <td>548</td>\n",
       "      <td>528</td>\n",
       "      <td>5068972</td>\n",
       "      <td>18916</td>\n",
       "    </tr>\n",
       "  </tbody>\n",
       "</table>\n",
       "<p>62 rows × 6 columns</p>\n",
       "</div>"
      ],
      "text/plain": [
       "         date group  orders  buyers  revenue  visitors\n",
       "0  2019-08-01     A      23      19   142779       719\n",
       "1  2019-08-01     B      17      17    59758       713\n",
       "2  2019-08-02     A      42      36   234381      1338\n",
       "3  2019-08-02     B      40      39   221801      1294\n",
       "4  2019-08-03     A      66      60   346854      1845\n",
       "..        ...   ...     ...     ...      ...       ...\n",
       "57 2019-08-29     B     510     490  4746610     17708\n",
       "58 2019-08-30     A     460     437  3311413     18037\n",
       "59 2019-08-30     B     531     511  4955833     18198\n",
       "60 2019-08-31     A     468     445  3364656     18736\n",
       "61 2019-08-31     B     548     528  5068972     18916\n",
       "\n",
       "[62 rows x 6 columns]"
      ]
     },
     "execution_count": 60,
     "metadata": {},
     "output_type": "execute_result"
    }
   ],
   "source": [
    "cumulativeData"
   ]
  },
  {
   "cell_type": "markdown",
   "metadata": {},
   "source": [
    "Создание групп пользователей, которые заказывали хотя бы 1"
   ]
  },
  {
   "cell_type": "code",
   "execution_count": 61,
   "metadata": {},
   "outputs": [],
   "source": [
    "ordersByUsersA = (\n",
    "    orders[orders['group'] == 'A']\n",
    "    .groupby('visitor_id', as_index=False)\n",
    "    .agg({'transaction_id': pd.Series.nunique})\n",
    ")\n",
    "ordersByUsersA.columns = ['visitor_id', 'orders']\n",
    "\n",
    "ordersByUsersB = (\n",
    "    orders[orders['group'] == 'B']\n",
    "    .groupby('visitor_id', as_index=False)\n",
    "    .agg({'transaction_id': pd.Series.nunique})\n",
    ")\n",
    "ordersByUsersB.columns = ['visitor_id', 'orders'] "
   ]
  },
  {
   "cell_type": "markdown",
   "metadata": {},
   "source": [
    "Создание sampleA и sampleB, в которых пользователям из разных групп будет соответствовать количество заказов. "
   ]
  },
  {
   "cell_type": "code",
   "execution_count": 62,
   "metadata": {},
   "outputs": [],
   "source": [
    "sampleA = pd.concat([ordersByUsersA['orders'],pd.Series(0, index=np.arange\\\n",
    "        (cumulativeData[cumulativeData['group'] == 'A']['visitors'].max() - len(ordersByUsersA['orders'])), name='orders')],axis=0)\n",
    "\n",
    "sampleB = pd.concat([ordersByUsersB['orders'],pd.Series(0, index=np.arange\\\n",
    "(cumulativeData[cumulativeData['group'] == 'B']['visitors'].max()- len(ordersByUsersB['orders'])), name='orders')],axis=0) "
   ]
  },
  {
   "cell_type": "markdown",
   "metadata": {},
   "source": [
    "#### Формулировка гипотез:\n",
    "1. **Гипотезы**\n",
    "    - Нулевая гипотеза (H0): Статистически значимых различий в конверсии между группами нет.\n",
    "    - Альтернативная гипотеза (H1): Конверсия в группе B статистически значимо выше, чем в группе A.\n",
    "- **Уровень статистической значимости:** В данном анализе выбран уровень статистической значимости α (альфа) равный 0.05, что является стандартным порогом для многих статистических исследований.\n",
    "\n",
    "- **Статистический тест (критерий):** Для проверки статистической значимости различий в конверсии между группами A и B был использован непараметрический тест Манна-Уитни (Mann-Whitney U-тест).\n"
   ]
  },
  {
   "cell_type": "markdown",
   "metadata": {},
   "source": [
    "##### Расчет статистической значимость различий в среднем количестве заказов на посетителя между группами по «сырым» данным"
   ]
  },
  {
   "cell_type": "code",
   "execution_count": null,
   "metadata": {},
   "outputs": [],
   "source": []
  },
  {
   "cell_type": "markdown",
   "metadata": {},
   "source": []
  },
  {
   "cell_type": "code",
   "execution_count": 63,
   "metadata": {},
   "outputs": [
    {
     "name": "stdout",
     "output_type": "stream",
     "text": [
      "P-value = 0.011\n",
      "Относительный прирост среднего группы B к конверсии группы A вавен 0.16\n"
     ]
    }
   ],
   "source": [
    "print('P-value =',\"{0:.3f}\".format(stats.mannwhitneyu(sampleA, sampleB)[1]))\n",
    "\n",
    "print('Относительный прирост среднего группы B к конверсии группы A вавен',\\\n",
    "      \"{0:.2f}\".format(sampleB.mean() / sampleA.mean() - 1))"
   ]
  },
  {
   "cell_type": "markdown",
   "metadata": {},
   "source": [
    "**Выводы**\n",
    "P-value значительно меньше 0.05, потому нулевую гипотезу отвергаем. Анализ «сырых данных» сообщает, что в среднем количестве заказов между группами есть статистически значимые различия. Относительный прирост среднего группы B к конверсии группы A равен 16%.\n",
    "Осталось сравнить средние чеки по «сырым данным», а затем обе метрики ещё раз после удаления выбросов."
   ]
  },
  {
   "cell_type": "markdown",
   "metadata": {},
   "source": [
    "##### Расчет статистической значимости различий в среднем чеке заказа между группами по «сырым» данным"
   ]
  },
  {
   "cell_type": "code",
   "execution_count": 64,
   "metadata": {},
   "outputs": [
    {
     "name": "stdout",
     "output_type": "stream",
     "text": [
      "P-value = 0.829\n",
      "Относительное различие среднего чека 0.29\n"
     ]
    }
   ],
   "source": [
    "print('P-value =','{0:.3f}'.format(stats.mannwhitneyu(orders[orders['group']=='A']['revenue']\\\n",
    "                                          , orders[orders['group']=='B']['revenue'])[1]))\n",
    "print('Относительное различие среднего чека ''{0:.2f}'.format(orders[orders['group']=='B']['revenue'].mean()/orders[orders['group']=='A']\\\n",
    "                       ['revenue'].mean()-1)) "
   ]
  },
  {
   "cell_type": "markdown",
   "metadata": {},
   "source": [
    "**Вывод:**\n",
    "P-value больше 0.05 — статистически значимых отличий в среднем чеке между группами нет. Кроме того, относительное различие среднего чека между сегментами составляет 29 процентов. Вероятнее всего на это повлияли выбросы\n",
    "\n"
   ]
  },
  {
   "cell_type": "markdown",
   "metadata": {},
   "source": [
    "##### Отчистка данных "
   ]
  },
  {
   "cell_type": "code",
   "execution_count": 66,
   "metadata": {},
   "outputs": [],
   "source": [
    "usersWithManyOrders = pd.concat(\n",
    "    [\n",
    "        ordersByUsersA[ordersByUsersA['orders'] > 2]['visitor_id'],\n",
    "        ordersByUsersB[ordersByUsersB['orders'] > 2]['visitor_id'],\n",
    "    ],\n",
    "    axis=0,\n",
    ")\n",
    "usersWithExpensiveOrders = orders[orders['revenue'] > int(np.percentile(orders['revenue'], [95]))]['visitor_id']\n",
    "abnormalUsers = (\n",
    "    pd.concat([usersWithManyOrders, usersWithExpensiveOrders], axis=0)\n",
    "    .drop_duplicates()\n",
    "    .sort_values()\n",
    ")\n",
    "\n",
    "sampleAFiltered = pd.concat(\n",
    "    [\n",
    "        ordersByUsersA[\n",
    "            np.logical_not(ordersByUsersA['visitor_id'].isin(abnormalUsers))\n",
    "        ]['orders'],\n",
    "        pd.Series(\n",
    "            0,\n",
    "            index=np.arange(\n",
    "                cumulativeData[cumulativeData['group'] == 'A']['visitors'].max()- len(ordersByUsersA['orders'])\n",
    "            ),\n",
    "            name='orders',\n",
    "        ),\n",
    "    ],\n",
    "    axis=0,\n",
    ")\n",
    "\n",
    "sampleBFiltered = pd.concat(\n",
    "    [\n",
    "        ordersByUsersB[\n",
    "            np.logical_not(ordersByUsersB['visitor_id'].isin(abnormalUsers))\n",
    "        ]['orders'],\n",
    "        pd.Series(\n",
    "            0,\n",
    "            index=np.arange(\n",
    "                cumulativeData[cumulativeData['group'] == 'B']['visitors'].max() - len(ordersByUsersB['orders'])\n",
    "            ),\n",
    "            name='orders',\n",
    "        ),\n",
    "    ],\n",
    "    axis=0,\n",
    "    ) \n"
   ]
  },
  {
   "cell_type": "markdown",
   "metadata": {},
   "source": [
    "##### Расчет статистической значимости  различий в среднем количестве заказов на посетителя между группами по «очищенным» данным"
   ]
  },
  {
   "cell_type": "code",
   "execution_count": 67,
   "metadata": {},
   "outputs": [
    {
     "name": "stdout",
     "output_type": "stream",
     "text": [
      "P-value = 0.012\n",
      "0.182\n"
     ]
    }
   ],
   "source": [
    "print('P-value =','{0:.3f}'.format(stats.mannwhitneyu(sampleAFiltered, sampleBFiltered)[1]))\n",
    "print('{0:.3f}'.format(sampleBFiltered.mean()/sampleAFiltered.mean()-1)) "
   ]
  },
  {
   "cell_type": "markdown",
   "metadata": {},
   "source": [
    "**Выводы:**\n",
    "Как и в случае с сырыми данными, статистическая значимость достигнута. Сегмент B значительно лучше сегмента A."
   ]
  },
  {
   "cell_type": "markdown",
   "metadata": {},
   "source": [
    "##### Расчет статистической значимости  различий в среднем чеке заказа между группами по «очищенным» данным."
   ]
  },
  {
   "cell_type": "code",
   "execution_count": 68,
   "metadata": {},
   "outputs": [
    {
     "name": "stdout",
     "output_type": "stream",
     "text": [
      "P-value = 0.646\n",
      "-0.048\n"
     ]
    }
   ],
   "source": [
    "print('P-value =',\n",
    "    '{0:.3f}'.format(\n",
    "        stats.mannwhitneyu(\n",
    "            orders[\n",
    "                np.logical_and(\n",
    "                    orders['group'] == 'A',\n",
    "                    np.logical_not(orders['visitor_id'].isin(abnormalUsers)),\n",
    "                )\n",
    "            ]['revenue'],\n",
    "            orders[\n",
    "                np.logical_and(\n",
    "                    orders['group'] == 'B',\n",
    "                    np.logical_not(orders['visitor_id'].isin(abnormalUsers)),\n",
    "                )\n",
    "            ]['revenue'],\n",
    "        )[1]\n",
    "    )\n",
    ")\n",
    "\n",
    "print(\n",
    "    \"{0:.3f}\".format(\n",
    "        orders[\n",
    "            np.logical_and(\n",
    "                orders['group'] == 'B',\n",
    "                np.logical_not(orders['visitor_id'].isin(abnormalUsers)),\n",
    "            )\n",
    "        ]['revenue'].mean()\n",
    "        / orders[\n",
    "            np.logical_and(\n",
    "                orders['group'] == 'A',\n",
    "                np.logical_not(orders['visitor_id'].isin(abnormalUsers)),\n",
    "            )\n",
    "        ]['revenue'].mean()\n",
    "        - 1\n",
    "    )\n",
    ") "
   ]
  },
  {
   "cell_type": "markdown",
   "metadata": {},
   "source": [
    " Выводы:\n",
    "После удаления выбросов статистическая значимость различия среднего чека заказов между группами не обнаружена, и относительное различие составило всего - 5 процентов. Это говорит о том, что ранее выявленные различия в среднем чеке были связаны с аномальными значениями, и после их удаления различия стали незначительными и не имеют практической значимости."
   ]
  },
  {
   "cell_type": "markdown",
   "metadata": {},
   "source": [
    "### Выводы по A/B-тест\n",
    "- **Приоритезации гипотез:** Выбор приоритетной гипотезы был основан на применении фреймворка RICE, который учитывает параметр \"охват\" (Reach). Гипотеза \"Добавить форму подписки на все основные страницы, чтобы собрать базу клиентов для email-рассылок\" получила наивысший приоритет благодаря своему значительному охвату, что позволит затронуть максимальное количество пользователей и потенциально принести большую пользу бизнесу.\n",
    "-  **Динамика кумулятивной выручки:** Начиная с 13 августа и особенно 18 августа, выручка группы B стала значительно превосходить группу A. Это может свидетельствовать о всплесках числа заказов или появлении крупных заказов. Рекомендуется провести дополнительное исследование, чтобы выяснить природу этого изменения и исключить влияние выбросов.\n",
    "\n",
    "- **Средний чек** группы B: В конце теста средний чек группы B оказался значительно выше, однако, он продолжает меняться. Вероятно, это связано с наличием крупных заказов, как указывает резкий всплеск 18 августа. Группе B требуется больше данных, чтобы установить стабильный средний чек.\n",
    "\n",
    "- . **Изменения в различии между сегментами:** В нескольких точках график различия между группами резко изменяется, особенно 13 и 18 августа. Это может быть связано с крупными заказами и выбросами данных, что следует учесть при анализе результатов.\n",
    "\n",
    "- **Поведение пользователей:** Почти все пользователи сделали не более 2 заказов, а 90% пользователей сделали только 1 заказ. Рекомендуется установить ограничение на число заказов на одного пользователя и удалить аномальных пользователей.\n",
    "\n",
    "- **Выбросы в заказах:** Не более 5% заказов имеют стоимость выше 28000 рублей, и не более 1% - выше 58233.2 рублей. Рекомендуется удалить выбросы перед окончательным анализом.\n",
    "\n",
    "- **Статистическая значимость:** Анализ \"сырых данных\" и 'чистых данных показывает статистически значимые различия в конверсии между группами A и B , но отсутствие различий в среднем чеке. Однако после удаления выбросов, статистическая значимость различия в среднем чеке исчезает.\n",
    "\n",
    "- **Завершающее решение:** После всестороннего анализа данных и учитывая результаты, рекомендуется выполнить остановку A/B теста и закрепить победу за группой B. Анализ показал, что группа B демонстрирует статистически значимое увеличение конверсии по сравнению с группой A, как на \"сырых данных\", так и после удаления выбросов.Одновременно статистические тесты не обнаружили значимых различий в среднем чеке между группами после удаления выбросов. Таким образом, изменения, внесенные группой B, не только привели к увеличению конверсии, но и не отрицательно повлияли на средний чек.\n",
    "\n",
    "При этом, важно продолжить мониторинг результатов после внедрения изменений и удостовериться, что улучшенная конверсия долгосрочно остается на уровне и приносит выгоду вашему бизнесу."
   ]
  },
  {
   "cell_type": "code",
   "execution_count": null,
   "metadata": {},
   "outputs": [],
   "source": []
  }
 ],
 "metadata": {
  "ExecuteTimeLog": [
   {
    "duration": 1468,
    "start_time": "2023-09-08T08:04:50.221Z"
   },
   {
    "duration": 4,
    "start_time": "2023-09-08T08:04:53.282Z"
   },
   {
    "duration": 207,
    "start_time": "2023-09-08T08:04:56.019Z"
   },
   {
    "duration": 13,
    "start_time": "2023-09-08T08:06:09.791Z"
   },
   {
    "duration": 14,
    "start_time": "2023-09-08T08:06:15.354Z"
   },
   {
    "duration": 11,
    "start_time": "2023-09-08T08:06:20.532Z"
   },
   {
    "duration": 15,
    "start_time": "2023-09-08T08:08:14.693Z"
   },
   {
    "duration": 9,
    "start_time": "2023-09-08T08:08:19.965Z"
   },
   {
    "duration": 10,
    "start_time": "2023-09-08T08:08:44.931Z"
   },
   {
    "duration": 9,
    "start_time": "2023-09-08T08:08:54.660Z"
   },
   {
    "duration": 91,
    "start_time": "2023-09-08T08:14:00.838Z"
   },
   {
    "duration": 1342,
    "start_time": "2023-09-08T08:27:56.364Z"
   },
   {
    "duration": 10,
    "start_time": "2023-09-08T08:34:24.857Z"
   },
   {
    "duration": 4,
    "start_time": "2023-09-08T08:35:25.494Z"
   },
   {
    "duration": 3,
    "start_time": "2023-09-08T08:35:29.307Z"
   },
   {
    "duration": 3,
    "start_time": "2023-09-08T08:37:04.149Z"
   },
   {
    "duration": 3,
    "start_time": "2023-09-08T08:37:04.927Z"
   },
   {
    "duration": 4,
    "start_time": "2023-09-08T08:37:05.783Z"
   },
   {
    "duration": 3,
    "start_time": "2023-09-08T08:37:06.801Z"
   },
   {
    "duration": 10,
    "start_time": "2023-09-08T08:37:21.014Z"
   },
   {
    "duration": 14,
    "start_time": "2023-09-08T08:42:27.380Z"
   },
   {
    "duration": 4,
    "start_time": "2023-09-08T08:43:25.142Z"
   },
   {
    "duration": 4,
    "start_time": "2023-09-08T08:43:28.123Z"
   },
   {
    "duration": 3,
    "start_time": "2023-09-08T08:43:44.897Z"
   },
   {
    "duration": 3,
    "start_time": "2023-09-08T08:43:48.844Z"
   },
   {
    "duration": 14,
    "start_time": "2023-09-08T08:43:51.685Z"
   },
   {
    "duration": 11,
    "start_time": "2023-09-08T08:45:08.344Z"
   },
   {
    "duration": 3,
    "start_time": "2023-09-08T08:45:13.580Z"
   },
   {
    "duration": 2,
    "start_time": "2023-09-08T08:45:14.003Z"
   },
   {
    "duration": 3,
    "start_time": "2023-09-08T08:45:14.724Z"
   },
   {
    "duration": 3,
    "start_time": "2023-09-08T08:45:15.216Z"
   },
   {
    "duration": 5,
    "start_time": "2023-09-08T08:45:15.644Z"
   },
   {
    "duration": 15,
    "start_time": "2023-09-08T08:45:16.275Z"
   },
   {
    "duration": 2,
    "start_time": "2023-09-08T08:45:19.195Z"
   },
   {
    "duration": 2,
    "start_time": "2023-09-08T08:45:20.133Z"
   },
   {
    "duration": 3,
    "start_time": "2023-09-08T08:45:21.154Z"
   },
   {
    "duration": 4,
    "start_time": "2023-09-08T08:45:22.762Z"
   },
   {
    "duration": 11,
    "start_time": "2023-09-08T08:45:24.326Z"
   },
   {
    "duration": 5,
    "start_time": "2023-09-08T08:45:32.542Z"
   },
   {
    "duration": 11,
    "start_time": "2023-09-08T08:45:33.935Z"
   },
   {
    "duration": 11,
    "start_time": "2023-09-08T08:46:01.243Z"
   },
   {
    "duration": 5,
    "start_time": "2023-09-08T08:46:13.034Z"
   },
   {
    "duration": 9,
    "start_time": "2023-09-08T08:46:44.730Z"
   },
   {
    "duration": 10,
    "start_time": "2023-09-08T08:46:53.102Z"
   },
   {
    "duration": 6,
    "start_time": "2023-09-08T08:48:28.860Z"
   },
   {
    "duration": 13,
    "start_time": "2023-09-08T08:48:30.783Z"
   },
   {
    "duration": 12,
    "start_time": "2023-09-08T08:51:35.591Z"
   },
   {
    "duration": 12,
    "start_time": "2023-09-08T08:52:30.003Z"
   },
   {
    "duration": 3,
    "start_time": "2023-09-08T08:52:49.966Z"
   },
   {
    "duration": 23,
    "start_time": "2023-09-08T08:52:51.233Z"
   },
   {
    "duration": 4,
    "start_time": "2023-09-08T08:53:37.067Z"
   },
   {
    "duration": 11,
    "start_time": "2023-09-08T08:54:02.867Z"
   },
   {
    "duration": 11,
    "start_time": "2023-09-08T08:54:49.405Z"
   },
   {
    "duration": 5,
    "start_time": "2023-09-08T09:05:39.618Z"
   },
   {
    "duration": 12,
    "start_time": "2023-09-08T09:05:40.222Z"
   },
   {
    "duration": 51,
    "start_time": "2023-09-09T06:44:08.799Z"
   },
   {
    "duration": 1277,
    "start_time": "2023-09-09T06:44:22.368Z"
   },
   {
    "duration": 2,
    "start_time": "2023-09-09T06:44:23.647Z"
   },
   {
    "duration": 6,
    "start_time": "2023-09-09T06:44:23.651Z"
   },
   {
    "duration": 186,
    "start_time": "2023-09-09T06:44:23.659Z"
   },
   {
    "duration": 14,
    "start_time": "2023-09-09T06:44:23.847Z"
   },
   {
    "duration": 20,
    "start_time": "2023-09-09T06:44:23.862Z"
   },
   {
    "duration": 11,
    "start_time": "2023-09-09T06:44:23.884Z"
   },
   {
    "duration": 13,
    "start_time": "2023-09-09T06:44:23.897Z"
   },
   {
    "duration": 12,
    "start_time": "2023-09-09T06:44:23.912Z"
   },
   {
    "duration": 9,
    "start_time": "2023-09-09T06:44:23.927Z"
   },
   {
    "duration": 4,
    "start_time": "2023-09-09T06:44:23.938Z"
   },
   {
    "duration": 7,
    "start_time": "2023-09-09T06:44:23.944Z"
   },
   {
    "duration": 131,
    "start_time": "2023-09-09T06:44:23.953Z"
   },
   {
    "duration": 0,
    "start_time": "2023-09-09T06:44:24.086Z"
   },
   {
    "duration": 0,
    "start_time": "2023-09-09T06:44:24.087Z"
   },
   {
    "duration": 0,
    "start_time": "2023-09-09T06:44:24.088Z"
   },
   {
    "duration": 0,
    "start_time": "2023-09-09T06:44:24.089Z"
   },
   {
    "duration": 0,
    "start_time": "2023-09-09T06:44:24.090Z"
   },
   {
    "duration": 0,
    "start_time": "2023-09-09T06:44:24.091Z"
   },
   {
    "duration": 0,
    "start_time": "2023-09-09T06:44:24.092Z"
   },
   {
    "duration": 0,
    "start_time": "2023-09-09T06:44:24.094Z"
   },
   {
    "duration": 0,
    "start_time": "2023-09-09T06:44:24.095Z"
   },
   {
    "duration": 0,
    "start_time": "2023-09-09T06:44:24.096Z"
   },
   {
    "duration": 0,
    "start_time": "2023-09-09T06:44:24.098Z"
   },
   {
    "duration": 0,
    "start_time": "2023-09-09T06:44:24.124Z"
   },
   {
    "duration": 0,
    "start_time": "2023-09-09T06:44:24.126Z"
   },
   {
    "duration": 2,
    "start_time": "2023-09-09T06:46:12.320Z"
   },
   {
    "duration": 3,
    "start_time": "2023-09-09T06:46:13.288Z"
   },
   {
    "duration": 4,
    "start_time": "2023-09-09T06:46:15.486Z"
   },
   {
    "duration": 11,
    "start_time": "2023-09-09T06:46:16.260Z"
   },
   {
    "duration": 3,
    "start_time": "2023-09-09T06:46:43.059Z"
   },
   {
    "duration": 10,
    "start_time": "2023-09-09T06:46:43.876Z"
   },
   {
    "duration": 3,
    "start_time": "2023-09-09T06:46:48.170Z"
   },
   {
    "duration": 2,
    "start_time": "2023-09-09T06:46:50.449Z"
   },
   {
    "duration": 2,
    "start_time": "2023-09-09T06:46:51.871Z"
   },
   {
    "duration": 3,
    "start_time": "2023-09-09T06:46:52.808Z"
   },
   {
    "duration": 10,
    "start_time": "2023-09-09T06:46:53.561Z"
   },
   {
    "duration": 8,
    "start_time": "2023-09-09T06:47:10.990Z"
   },
   {
    "duration": 372,
    "start_time": "2023-09-09T06:47:25.680Z"
   },
   {
    "duration": 3,
    "start_time": "2023-09-09T06:48:14.556Z"
   },
   {
    "duration": 319,
    "start_time": "2023-09-09T06:48:20.478Z"
   },
   {
    "duration": 340,
    "start_time": "2023-09-09T06:48:44.534Z"
   },
   {
    "duration": 354,
    "start_time": "2023-09-09T06:49:14.708Z"
   },
   {
    "duration": 4,
    "start_time": "2023-09-09T06:51:14.389Z"
   },
   {
    "duration": 9,
    "start_time": "2023-09-09T06:51:29.538Z"
   },
   {
    "duration": 14,
    "start_time": "2023-09-09T06:51:51.241Z"
   },
   {
    "duration": 11,
    "start_time": "2023-09-09T06:52:00.806Z"
   },
   {
    "duration": 11,
    "start_time": "2023-09-09T06:52:25.450Z"
   },
   {
    "duration": 22,
    "start_time": "2023-09-09T06:52:53.297Z"
   },
   {
    "duration": 12,
    "start_time": "2023-09-09T06:52:56.379Z"
   },
   {
    "duration": 6,
    "start_time": "2023-09-09T07:04:33.152Z"
   },
   {
    "duration": 6,
    "start_time": "2023-09-09T07:04:36.905Z"
   },
   {
    "duration": 8,
    "start_time": "2023-09-09T07:04:45.398Z"
   },
   {
    "duration": 6,
    "start_time": "2023-09-09T07:04:47.347Z"
   },
   {
    "duration": 5,
    "start_time": "2023-09-09T07:04:48.519Z"
   },
   {
    "duration": 7,
    "start_time": "2023-09-09T07:07:43.389Z"
   },
   {
    "duration": 7,
    "start_time": "2023-09-09T07:07:44.268Z"
   },
   {
    "duration": 7,
    "start_time": "2023-09-09T07:07:44.928Z"
   },
   {
    "duration": 4,
    "start_time": "2023-09-09T07:10:34.366Z"
   },
   {
    "duration": 10,
    "start_time": "2023-09-09T07:10:35.193Z"
   },
   {
    "duration": 5,
    "start_time": "2023-09-09T07:10:35.535Z"
   },
   {
    "duration": 12,
    "start_time": "2023-09-09T07:10:35.705Z"
   },
   {
    "duration": 6,
    "start_time": "2023-09-09T08:05:58.909Z"
   },
   {
    "duration": 28,
    "start_time": "2023-09-09T08:06:00.246Z"
   },
   {
    "duration": 11,
    "start_time": "2023-09-09T08:10:58.599Z"
   },
   {
    "duration": 11,
    "start_time": "2023-09-09T08:14:34.885Z"
   },
   {
    "duration": 3,
    "start_time": "2023-09-09T08:15:12.725Z"
   },
   {
    "duration": 26,
    "start_time": "2023-09-09T08:15:46.884Z"
   },
   {
    "duration": 1062,
    "start_time": "2023-09-09T08:16:11.160Z"
   },
   {
    "duration": 2,
    "start_time": "2023-09-09T08:16:12.224Z"
   },
   {
    "duration": 7,
    "start_time": "2023-09-09T08:16:12.228Z"
   },
   {
    "duration": 77,
    "start_time": "2023-09-09T08:16:12.237Z"
   },
   {
    "duration": 11,
    "start_time": "2023-09-09T08:16:12.316Z"
   },
   {
    "duration": 11,
    "start_time": "2023-09-09T08:16:12.329Z"
   },
   {
    "duration": 10,
    "start_time": "2023-09-09T08:16:12.341Z"
   },
   {
    "duration": 14,
    "start_time": "2023-09-09T08:16:12.353Z"
   },
   {
    "duration": 9,
    "start_time": "2023-09-09T08:16:12.369Z"
   },
   {
    "duration": 10,
    "start_time": "2023-09-09T08:16:12.381Z"
   },
   {
    "duration": 31,
    "start_time": "2023-09-09T08:16:12.393Z"
   },
   {
    "duration": 5,
    "start_time": "2023-09-09T08:16:12.425Z"
   },
   {
    "duration": 12,
    "start_time": "2023-09-09T08:16:12.431Z"
   },
   {
    "duration": 6,
    "start_time": "2023-09-09T08:16:12.444Z"
   },
   {
    "duration": 10,
    "start_time": "2023-09-09T08:16:12.451Z"
   },
   {
    "duration": 3,
    "start_time": "2023-09-09T08:16:12.463Z"
   },
   {
    "duration": 6,
    "start_time": "2023-09-09T08:16:12.468Z"
   },
   {
    "duration": 4,
    "start_time": "2023-09-09T08:16:12.476Z"
   },
   {
    "duration": 18,
    "start_time": "2023-09-09T08:16:12.481Z"
   },
   {
    "duration": 12,
    "start_time": "2023-09-09T08:16:12.500Z"
   },
   {
    "duration": 10,
    "start_time": "2023-09-09T08:16:12.514Z"
   },
   {
    "duration": 5,
    "start_time": "2023-09-09T08:16:12.525Z"
   },
   {
    "duration": 5,
    "start_time": "2023-09-09T08:16:12.531Z"
   },
   {
    "duration": 14,
    "start_time": "2023-09-09T08:16:12.538Z"
   },
   {
    "duration": 9,
    "start_time": "2023-09-09T08:16:12.554Z"
   },
   {
    "duration": 6,
    "start_time": "2023-09-09T08:16:12.565Z"
   },
   {
    "duration": 5,
    "start_time": "2023-09-09T08:16:12.573Z"
   },
   {
    "duration": 4,
    "start_time": "2023-09-09T08:16:12.582Z"
   },
   {
    "duration": 39,
    "start_time": "2023-09-09T08:16:12.588Z"
   },
   {
    "duration": 17,
    "start_time": "2023-09-09T08:16:12.629Z"
   },
   {
    "duration": 19,
    "start_time": "2023-09-09T08:16:12.648Z"
   },
   {
    "duration": 5,
    "start_time": "2023-09-09T08:16:12.668Z"
   },
   {
    "duration": 11,
    "start_time": "2023-09-09T08:16:12.674Z"
   },
   {
    "duration": 5,
    "start_time": "2023-09-09T08:16:12.686Z"
   },
   {
    "duration": 11,
    "start_time": "2023-09-09T08:16:12.693Z"
   },
   {
    "duration": 11,
    "start_time": "2023-09-09T08:16:12.723Z"
   },
   {
    "duration": 23,
    "start_time": "2023-09-09T08:16:12.736Z"
   },
   {
    "duration": 28,
    "start_time": "2023-09-09T08:16:12.761Z"
   },
   {
    "duration": 133,
    "start_time": "2023-09-09T08:16:12.791Z"
   },
   {
    "duration": 0,
    "start_time": "2023-09-09T08:16:12.926Z"
   },
   {
    "duration": 0,
    "start_time": "2023-09-09T08:16:12.927Z"
   },
   {
    "duration": 2,
    "start_time": "2023-09-09T08:17:01.357Z"
   },
   {
    "duration": 3,
    "start_time": "2023-09-09T08:17:07.076Z"
   },
   {
    "duration": 2,
    "start_time": "2023-09-09T08:17:07.677Z"
   },
   {
    "duration": 3,
    "start_time": "2023-09-09T08:17:07.788Z"
   },
   {
    "duration": 4,
    "start_time": "2023-09-09T08:17:07.924Z"
   },
   {
    "duration": 11,
    "start_time": "2023-09-09T08:17:08.061Z"
   },
   {
    "duration": 3,
    "start_time": "2023-09-09T08:17:08.298Z"
   },
   {
    "duration": 3,
    "start_time": "2023-09-09T08:17:08.404Z"
   },
   {
    "duration": 3,
    "start_time": "2023-09-09T08:17:08.521Z"
   },
   {
    "duration": 3,
    "start_time": "2023-09-09T08:17:08.748Z"
   },
   {
    "duration": 11,
    "start_time": "2023-09-09T08:17:08.851Z"
   },
   {
    "duration": 4,
    "start_time": "2023-09-09T08:17:09.309Z"
   },
   {
    "duration": 5,
    "start_time": "2023-09-09T08:17:09.629Z"
   },
   {
    "duration": 5,
    "start_time": "2023-09-09T08:17:09.757Z"
   },
   {
    "duration": 4,
    "start_time": "2023-09-09T08:17:10.237Z"
   },
   {
    "duration": 5,
    "start_time": "2023-09-09T08:17:11.125Z"
   },
   {
    "duration": 6,
    "start_time": "2023-09-09T08:17:11.205Z"
   },
   {
    "duration": 6,
    "start_time": "2023-09-09T08:17:11.409Z"
   },
   {
    "duration": 441,
    "start_time": "2023-09-09T08:17:12.258Z"
   },
   {
    "duration": 0,
    "start_time": "2023-09-09T08:17:12.701Z"
   },
   {
    "duration": 0,
    "start_time": "2023-09-09T08:17:12.702Z"
   },
   {
    "duration": 11,
    "start_time": "2023-09-09T08:17:12.814Z"
   },
   {
    "duration": 171,
    "start_time": "2023-09-09T08:17:34.219Z"
   },
   {
    "duration": 132,
    "start_time": "2023-09-09T08:17:53.258Z"
   },
   {
    "duration": 1159,
    "start_time": "2023-09-09T08:19:11.690Z"
   },
   {
    "duration": 3,
    "start_time": "2023-09-09T08:19:12.851Z"
   },
   {
    "duration": 4,
    "start_time": "2023-09-09T08:19:12.856Z"
   },
   {
    "duration": 77,
    "start_time": "2023-09-09T08:19:12.862Z"
   },
   {
    "duration": 12,
    "start_time": "2023-09-09T08:19:12.941Z"
   },
   {
    "duration": 76,
    "start_time": "2023-09-09T08:19:12.954Z"
   },
   {
    "duration": 51,
    "start_time": "2023-09-09T08:19:13.032Z"
   },
   {
    "duration": 18,
    "start_time": "2023-09-09T08:19:13.085Z"
   },
   {
    "duration": 16,
    "start_time": "2023-09-09T08:19:13.105Z"
   },
   {
    "duration": 13,
    "start_time": "2023-09-09T08:19:13.123Z"
   },
   {
    "duration": 4,
    "start_time": "2023-09-09T08:19:13.138Z"
   },
   {
    "duration": 4,
    "start_time": "2023-09-09T08:19:13.143Z"
   },
   {
    "duration": 4,
    "start_time": "2023-09-09T08:19:13.148Z"
   },
   {
    "duration": 6,
    "start_time": "2023-09-09T08:19:13.154Z"
   },
   {
    "duration": 12,
    "start_time": "2023-09-09T08:19:13.162Z"
   },
   {
    "duration": 4,
    "start_time": "2023-09-09T08:19:13.175Z"
   },
   {
    "duration": 8,
    "start_time": "2023-09-09T08:19:13.180Z"
   },
   {
    "duration": 12,
    "start_time": "2023-09-09T08:19:13.190Z"
   },
   {
    "duration": 5,
    "start_time": "2023-09-09T08:19:13.204Z"
   },
   {
    "duration": 22,
    "start_time": "2023-09-09T08:19:13.211Z"
   },
   {
    "duration": 7,
    "start_time": "2023-09-09T08:19:13.234Z"
   },
   {
    "duration": 5,
    "start_time": "2023-09-09T08:19:13.242Z"
   },
   {
    "duration": 5,
    "start_time": "2023-09-09T08:19:13.248Z"
   },
   {
    "duration": 5,
    "start_time": "2023-09-09T08:19:13.255Z"
   },
   {
    "duration": 7,
    "start_time": "2023-09-09T08:19:13.261Z"
   },
   {
    "duration": 13,
    "start_time": "2023-09-09T08:19:13.269Z"
   },
   {
    "duration": 13,
    "start_time": "2023-09-09T08:19:13.283Z"
   },
   {
    "duration": 24,
    "start_time": "2023-09-09T08:19:13.300Z"
   },
   {
    "duration": 13,
    "start_time": "2023-09-09T08:19:13.325Z"
   },
   {
    "duration": 16,
    "start_time": "2023-09-09T08:19:13.340Z"
   },
   {
    "duration": 14,
    "start_time": "2023-09-09T08:19:13.358Z"
   },
   {
    "duration": 4,
    "start_time": "2023-09-09T08:19:13.373Z"
   },
   {
    "duration": 19,
    "start_time": "2023-09-09T08:19:13.378Z"
   },
   {
    "duration": 35,
    "start_time": "2023-09-09T08:19:13.398Z"
   },
   {
    "duration": 17,
    "start_time": "2023-09-09T08:19:13.434Z"
   },
   {
    "duration": 10,
    "start_time": "2023-09-09T08:19:13.453Z"
   },
   {
    "duration": 15,
    "start_time": "2023-09-09T08:19:13.464Z"
   },
   {
    "duration": 22,
    "start_time": "2023-09-09T08:19:13.480Z"
   },
   {
    "duration": 172,
    "start_time": "2023-09-09T08:19:13.504Z"
   },
   {
    "duration": 118,
    "start_time": "2023-09-09T08:19:13.678Z"
   },
   {
    "duration": 23,
    "start_time": "2023-09-09T08:19:13.798Z"
   },
   {
    "duration": 66,
    "start_time": "2023-09-09T08:19:13.822Z"
   },
   {
    "duration": 91,
    "start_time": "2023-09-09T08:19:13.890Z"
   },
   {
    "duration": 131,
    "start_time": "2023-09-09T08:19:13.982Z"
   },
   {
    "duration": 120,
    "start_time": "2023-09-09T08:19:14.115Z"
   },
   {
    "duration": 666,
    "start_time": "2023-09-09T08:19:14.237Z"
   },
   {
    "duration": 390,
    "start_time": "2023-09-09T08:22:48.112Z"
   },
   {
    "duration": 6,
    "start_time": "2023-09-09T08:22:48.600Z"
   },
   {
    "duration": 1138,
    "start_time": "2023-09-09T08:23:09.258Z"
   },
   {
    "duration": 3,
    "start_time": "2023-09-09T08:23:10.398Z"
   },
   {
    "duration": 12,
    "start_time": "2023-09-09T08:23:10.402Z"
   },
   {
    "duration": 78,
    "start_time": "2023-09-09T08:23:10.415Z"
   },
   {
    "duration": 12,
    "start_time": "2023-09-09T08:23:10.495Z"
   },
   {
    "duration": 17,
    "start_time": "2023-09-09T08:23:10.509Z"
   },
   {
    "duration": 12,
    "start_time": "2023-09-09T08:23:10.527Z"
   },
   {
    "duration": 10,
    "start_time": "2023-09-09T08:23:10.540Z"
   },
   {
    "duration": 13,
    "start_time": "2023-09-09T08:23:10.551Z"
   },
   {
    "duration": 9,
    "start_time": "2023-09-09T08:23:10.565Z"
   },
   {
    "duration": 5,
    "start_time": "2023-09-09T08:23:10.576Z"
   },
   {
    "duration": 8,
    "start_time": "2023-09-09T08:23:10.583Z"
   },
   {
    "duration": 4,
    "start_time": "2023-09-09T08:23:10.593Z"
   },
   {
    "duration": 4,
    "start_time": "2023-09-09T08:23:10.623Z"
   },
   {
    "duration": 16,
    "start_time": "2023-09-09T08:23:10.629Z"
   },
   {
    "duration": 4,
    "start_time": "2023-09-09T08:23:10.647Z"
   },
   {
    "duration": 9,
    "start_time": "2023-09-09T08:23:10.653Z"
   },
   {
    "duration": 12,
    "start_time": "2023-09-09T08:23:10.664Z"
   },
   {
    "duration": 6,
    "start_time": "2023-09-09T08:23:10.677Z"
   },
   {
    "duration": 15,
    "start_time": "2023-09-09T08:23:10.684Z"
   },
   {
    "duration": 8,
    "start_time": "2023-09-09T08:23:10.701Z"
   },
   {
    "duration": 31,
    "start_time": "2023-09-09T08:23:10.711Z"
   },
   {
    "duration": 7,
    "start_time": "2023-09-09T08:23:10.744Z"
   },
   {
    "duration": 6,
    "start_time": "2023-09-09T08:23:10.753Z"
   },
   {
    "duration": 6,
    "start_time": "2023-09-09T08:23:10.761Z"
   },
   {
    "duration": 7,
    "start_time": "2023-09-09T08:23:10.769Z"
   },
   {
    "duration": 5,
    "start_time": "2023-09-09T08:23:10.778Z"
   },
   {
    "duration": 6,
    "start_time": "2023-09-09T08:23:10.785Z"
   },
   {
    "duration": 37,
    "start_time": "2023-09-09T08:23:10.792Z"
   },
   {
    "duration": 23,
    "start_time": "2023-09-09T08:23:10.831Z"
   },
   {
    "duration": 12,
    "start_time": "2023-09-09T08:23:10.856Z"
   },
   {
    "duration": 8,
    "start_time": "2023-09-09T08:23:10.870Z"
   },
   {
    "duration": 16,
    "start_time": "2023-09-09T08:23:10.879Z"
   },
   {
    "duration": 7,
    "start_time": "2023-09-09T08:23:10.896Z"
   },
   {
    "duration": 25,
    "start_time": "2023-09-09T08:23:10.905Z"
   },
   {
    "duration": 10,
    "start_time": "2023-09-09T08:23:10.932Z"
   },
   {
    "duration": 19,
    "start_time": "2023-09-09T08:23:10.944Z"
   },
   {
    "duration": 5,
    "start_time": "2023-09-09T08:23:10.964Z"
   },
   {
    "duration": 184,
    "start_time": "2023-09-09T08:23:10.971Z"
   },
   {
    "duration": 128,
    "start_time": "2023-09-09T08:23:11.156Z"
   },
   {
    "duration": 6,
    "start_time": "2023-09-09T08:23:11.289Z"
   },
   {
    "duration": 5,
    "start_time": "2023-09-09T08:23:11.297Z"
   },
   {
    "duration": 20,
    "start_time": "2023-09-09T08:23:11.304Z"
   },
   {
    "duration": 326,
    "start_time": "2023-09-09T08:23:32.998Z"
   },
   {
    "duration": 253,
    "start_time": "2023-09-09T08:24:32.750Z"
   },
   {
    "duration": 319,
    "start_time": "2023-09-09T08:25:25.597Z"
   },
   {
    "duration": 275,
    "start_time": "2023-09-09T08:25:35.829Z"
   },
   {
    "duration": 252,
    "start_time": "2023-09-09T08:26:37.527Z"
   },
   {
    "duration": 245,
    "start_time": "2023-09-09T08:27:16.225Z"
   },
   {
    "duration": 317,
    "start_time": "2023-09-09T08:31:12.547Z"
   },
   {
    "duration": 310,
    "start_time": "2023-09-09T08:31:21.878Z"
   },
   {
    "duration": 276,
    "start_time": "2023-09-09T08:33:10.367Z"
   },
   {
    "duration": 276,
    "start_time": "2023-09-09T08:33:33.445Z"
   },
   {
    "duration": 101,
    "start_time": "2023-09-09T08:34:27.221Z"
   },
   {
    "duration": 114,
    "start_time": "2023-09-09T08:34:37.242Z"
   },
   {
    "duration": 74,
    "start_time": "2023-09-09T08:34:49.346Z"
   },
   {
    "duration": 264,
    "start_time": "2023-09-09T08:34:58.661Z"
   },
   {
    "duration": 87,
    "start_time": "2023-09-09T08:35:09.389Z"
   },
   {
    "duration": 399,
    "start_time": "2023-09-09T08:35:19.567Z"
   },
   {
    "duration": 273,
    "start_time": "2023-09-09T08:35:44.335Z"
   },
   {
    "duration": 287,
    "start_time": "2023-09-09T08:36:01.577Z"
   },
   {
    "duration": 265,
    "start_time": "2023-09-09T08:48:44.175Z"
   },
   {
    "duration": 310,
    "start_time": "2023-09-09T08:49:37.753Z"
   },
   {
    "duration": 328,
    "start_time": "2023-09-09T09:08:13.375Z"
   },
   {
    "duration": 392,
    "start_time": "2023-09-09T09:10:12.825Z"
   },
   {
    "duration": 341,
    "start_time": "2023-09-09T09:10:26.776Z"
   },
   {
    "duration": 8,
    "start_time": "2023-09-09T09:20:15.386Z"
   },
   {
    "duration": 10,
    "start_time": "2023-09-09T09:22:26.275Z"
   },
   {
    "duration": 10,
    "start_time": "2023-09-09T09:23:02.905Z"
   },
   {
    "duration": 7,
    "start_time": "2023-09-09T09:23:20.698Z"
   },
   {
    "duration": 164,
    "start_time": "2023-09-09T09:23:25.351Z"
   },
   {
    "duration": 234,
    "start_time": "2023-09-09T09:24:59.385Z"
   },
   {
    "duration": 154,
    "start_time": "2023-09-09T09:25:13.995Z"
   },
   {
    "duration": 153,
    "start_time": "2023-09-09T09:26:46.255Z"
   },
   {
    "duration": 6,
    "start_time": "2023-09-09T09:29:07.736Z"
   },
   {
    "duration": 5,
    "start_time": "2023-09-09T09:30:54.356Z"
   },
   {
    "duration": 2,
    "start_time": "2023-09-09T09:33:07.186Z"
   },
   {
    "duration": 3,
    "start_time": "2023-09-09T09:33:11.436Z"
   },
   {
    "duration": 166,
    "start_time": "2023-09-09T09:34:28.225Z"
   },
   {
    "duration": 307,
    "start_time": "2023-09-09T09:35:02.884Z"
   },
   {
    "duration": 845,
    "start_time": "2023-09-09T09:35:27.931Z"
   },
   {
    "duration": 224,
    "start_time": "2023-09-09T09:35:35.076Z"
   },
   {
    "duration": 194,
    "start_time": "2023-09-09T09:35:46.296Z"
   },
   {
    "duration": 12,
    "start_time": "2023-09-09T09:36:40.266Z"
   },
   {
    "duration": 4,
    "start_time": "2023-09-09T09:37:05.899Z"
   },
   {
    "duration": 10,
    "start_time": "2023-09-09T09:37:06.786Z"
   },
   {
    "duration": 9,
    "start_time": "2023-09-09T09:37:21.746Z"
   },
   {
    "duration": 9,
    "start_time": "2023-09-09T09:37:28.666Z"
   },
   {
    "duration": 180,
    "start_time": "2023-09-09T09:37:40.437Z"
   },
   {
    "duration": 177,
    "start_time": "2023-09-09T09:38:10.606Z"
   },
   {
    "duration": 9,
    "start_time": "2023-09-09T09:40:38.966Z"
   },
   {
    "duration": 4,
    "start_time": "2023-09-09T09:40:43.218Z"
   },
   {
    "duration": 3,
    "start_time": "2023-09-09T09:40:57.856Z"
   },
   {
    "duration": 71,
    "start_time": "2023-09-09T09:42:35.065Z"
   },
   {
    "duration": 124,
    "start_time": "2023-09-09T09:57:57.926Z"
   },
   {
    "duration": 12,
    "start_time": "2023-09-09T09:59:49.025Z"
   },
   {
    "duration": 12,
    "start_time": "2023-09-09T10:00:22.293Z"
   },
   {
    "duration": 111,
    "start_time": "2023-09-09T11:20:26.852Z"
   },
   {
    "duration": 11,
    "start_time": "2023-09-09T11:22:26.489Z"
   },
   {
    "duration": 104,
    "start_time": "2023-09-09T11:23:18.468Z"
   },
   {
    "duration": 116,
    "start_time": "2023-09-09T11:23:45.319Z"
   },
   {
    "duration": 226,
    "start_time": "2023-09-09T11:24:17.799Z"
   },
   {
    "duration": 258,
    "start_time": "2023-09-09T11:25:35.734Z"
   },
   {
    "duration": 118,
    "start_time": "2023-09-09T11:25:41.730Z"
   },
   {
    "duration": 6,
    "start_time": "2023-09-09T11:25:51.499Z"
   },
   {
    "duration": 7,
    "start_time": "2023-09-09T11:35:19.485Z"
   },
   {
    "duration": 10,
    "start_time": "2023-09-09T11:35:35.734Z"
   },
   {
    "duration": 4,
    "start_time": "2023-09-09T11:36:15.650Z"
   },
   {
    "duration": 11,
    "start_time": "2023-09-09T11:36:20.737Z"
   },
   {
    "duration": 27,
    "start_time": "2023-09-09T11:40:54.964Z"
   },
   {
    "duration": 25,
    "start_time": "2023-09-09T11:41:05.265Z"
   },
   {
    "duration": 1383,
    "start_time": "2023-09-09T11:47:27.041Z"
   },
   {
    "duration": 1385,
    "start_time": "2023-09-09T11:48:21.785Z"
   },
   {
    "duration": 10,
    "start_time": "2023-09-09T11:48:31.227Z"
   },
   {
    "duration": 1318,
    "start_time": "2023-09-09T11:50:27.875Z"
   },
   {
    "duration": 41,
    "start_time": "2023-09-09T11:50:59.045Z"
   },
   {
    "duration": 31,
    "start_time": "2023-09-09T11:51:37.641Z"
   },
   {
    "duration": 1468,
    "start_time": "2023-09-09T11:53:46.506Z"
   },
   {
    "duration": 29,
    "start_time": "2023-09-09T11:58:22.862Z"
   },
   {
    "duration": 16,
    "start_time": "2023-09-09T12:03:39.989Z"
   },
   {
    "duration": 8,
    "start_time": "2023-09-09T12:03:57.269Z"
   },
   {
    "duration": 18,
    "start_time": "2023-09-09T12:04:20.660Z"
   },
   {
    "duration": 1155,
    "start_time": "2023-09-09T12:04:27.765Z"
   },
   {
    "duration": 3,
    "start_time": "2023-09-09T12:04:28.923Z"
   },
   {
    "duration": 45,
    "start_time": "2023-09-09T12:04:28.928Z"
   },
   {
    "duration": 112,
    "start_time": "2023-09-09T12:04:28.975Z"
   },
   {
    "duration": 12,
    "start_time": "2023-09-09T12:04:29.088Z"
   },
   {
    "duration": 39,
    "start_time": "2023-09-09T12:04:29.102Z"
   },
   {
    "duration": 29,
    "start_time": "2023-09-09T12:04:29.143Z"
   },
   {
    "duration": 30,
    "start_time": "2023-09-09T12:04:29.174Z"
   },
   {
    "duration": 48,
    "start_time": "2023-09-09T12:04:29.206Z"
   },
   {
    "duration": 17,
    "start_time": "2023-09-09T12:04:29.257Z"
   },
   {
    "duration": 21,
    "start_time": "2023-09-09T12:04:29.276Z"
   },
   {
    "duration": 12,
    "start_time": "2023-09-09T12:04:29.300Z"
   },
   {
    "duration": 25,
    "start_time": "2023-09-09T12:04:29.314Z"
   },
   {
    "duration": 20,
    "start_time": "2023-09-09T12:04:29.341Z"
   },
   {
    "duration": 33,
    "start_time": "2023-09-09T12:04:29.363Z"
   },
   {
    "duration": 22,
    "start_time": "2023-09-09T12:04:29.398Z"
   },
   {
    "duration": 29,
    "start_time": "2023-09-09T12:04:29.422Z"
   },
   {
    "duration": 31,
    "start_time": "2023-09-09T12:04:29.453Z"
   },
   {
    "duration": 23,
    "start_time": "2023-09-09T12:04:29.486Z"
   },
   {
    "duration": 44,
    "start_time": "2023-09-09T12:04:29.511Z"
   },
   {
    "duration": 39,
    "start_time": "2023-09-09T12:04:29.557Z"
   },
   {
    "duration": 35,
    "start_time": "2023-09-09T12:04:29.598Z"
   },
   {
    "duration": 58,
    "start_time": "2023-09-09T12:04:29.635Z"
   },
   {
    "duration": 41,
    "start_time": "2023-09-09T12:04:29.695Z"
   },
   {
    "duration": 31,
    "start_time": "2023-09-09T12:04:29.737Z"
   },
   {
    "duration": 18,
    "start_time": "2023-09-09T12:04:29.770Z"
   },
   {
    "duration": 33,
    "start_time": "2023-09-09T12:04:29.790Z"
   },
   {
    "duration": 17,
    "start_time": "2023-09-09T12:04:29.827Z"
   },
   {
    "duration": 48,
    "start_time": "2023-09-09T12:04:29.845Z"
   },
   {
    "duration": 28,
    "start_time": "2023-09-09T12:04:29.894Z"
   },
   {
    "duration": 32,
    "start_time": "2023-09-09T12:04:29.924Z"
   },
   {
    "duration": 23,
    "start_time": "2023-09-09T12:04:29.958Z"
   },
   {
    "duration": 154,
    "start_time": "2023-09-09T12:04:29.983Z"
   },
   {
    "duration": 116,
    "start_time": "2023-09-09T12:04:30.139Z"
   },
   {
    "duration": 62,
    "start_time": "2023-09-09T12:04:30.256Z"
   },
   {
    "duration": 58,
    "start_time": "2023-09-09T12:04:30.319Z"
   },
   {
    "duration": 191,
    "start_time": "2023-09-09T12:04:30.379Z"
   },
   {
    "duration": 139,
    "start_time": "2023-09-09T12:04:30.572Z"
   },
   {
    "duration": 7,
    "start_time": "2023-09-09T12:04:30.723Z"
   },
   {
    "duration": 41,
    "start_time": "2023-09-09T12:04:30.732Z"
   },
   {
    "duration": 54,
    "start_time": "2023-09-09T12:04:30.775Z"
   },
   {
    "duration": 406,
    "start_time": "2023-09-09T12:04:30.831Z"
   },
   {
    "duration": 294,
    "start_time": "2023-09-09T12:04:31.239Z"
   },
   {
    "duration": 377,
    "start_time": "2023-09-09T12:04:31.535Z"
   },
   {
    "duration": 18,
    "start_time": "2023-09-09T12:04:31.914Z"
   },
   {
    "duration": 32,
    "start_time": "2023-09-09T12:04:31.934Z"
   },
   {
    "duration": 185,
    "start_time": "2023-09-09T12:04:31.968Z"
   },
   {
    "duration": 185,
    "start_time": "2023-09-09T12:04:32.155Z"
   },
   {
    "duration": 5,
    "start_time": "2023-09-09T12:04:32.342Z"
   },
   {
    "duration": 232,
    "start_time": "2023-09-09T12:04:32.349Z"
   },
   {
    "duration": 4,
    "start_time": "2023-09-09T12:04:32.583Z"
   },
   {
    "duration": 181,
    "start_time": "2023-09-09T12:04:32.589Z"
   },
   {
    "duration": 4,
    "start_time": "2023-09-09T12:04:32.772Z"
   },
   {
    "duration": 339,
    "start_time": "2023-09-09T12:04:32.778Z"
   },
   {
    "duration": 132,
    "start_time": "2023-09-09T12:04:33.119Z"
   },
   {
    "duration": 7,
    "start_time": "2023-09-09T12:04:33.253Z"
   },
   {
    "duration": 47,
    "start_time": "2023-09-09T12:04:33.262Z"
   },
   {
    "duration": 22,
    "start_time": "2023-09-09T12:04:33.311Z"
   },
   {
    "duration": 24,
    "start_time": "2023-09-09T12:04:33.335Z"
   },
   {
    "duration": 109,
    "start_time": "2023-09-09T12:04:33.361Z"
   },
   {
    "duration": 9,
    "start_time": "2023-09-09T12:04:54.748Z"
   },
   {
    "duration": 34,
    "start_time": "2023-09-09T12:09:51.457Z"
   },
   {
    "duration": 1277,
    "start_time": "2023-09-09T12:11:17.062Z"
   },
   {
    "duration": 86,
    "start_time": "2023-09-09T14:48:48.571Z"
   },
   {
    "duration": 1393,
    "start_time": "2023-09-09T14:49:12.600Z"
   },
   {
    "duration": 4,
    "start_time": "2023-09-09T14:49:13.995Z"
   },
   {
    "duration": 16,
    "start_time": "2023-09-09T14:49:14.000Z"
   },
   {
    "duration": 205,
    "start_time": "2023-09-09T14:49:14.018Z"
   },
   {
    "duration": 14,
    "start_time": "2023-09-09T14:49:14.230Z"
   },
   {
    "duration": 12,
    "start_time": "2023-09-09T14:49:14.246Z"
   },
   {
    "duration": 12,
    "start_time": "2023-09-09T14:49:14.260Z"
   },
   {
    "duration": 11,
    "start_time": "2023-09-09T14:49:14.274Z"
   },
   {
    "duration": 13,
    "start_time": "2023-09-09T14:49:14.287Z"
   },
   {
    "duration": 45,
    "start_time": "2023-09-09T14:49:14.302Z"
   },
   {
    "duration": 31,
    "start_time": "2023-09-09T14:49:14.350Z"
   },
   {
    "duration": 25,
    "start_time": "2023-09-09T14:49:14.383Z"
   },
   {
    "duration": 16,
    "start_time": "2023-09-09T14:49:14.409Z"
   },
   {
    "duration": 5,
    "start_time": "2023-09-09T14:49:14.433Z"
   },
   {
    "duration": 19,
    "start_time": "2023-09-09T14:49:14.440Z"
   },
   {
    "duration": 14,
    "start_time": "2023-09-09T14:49:14.461Z"
   },
   {
    "duration": 5,
    "start_time": "2023-09-09T14:49:14.477Z"
   },
   {
    "duration": 6,
    "start_time": "2023-09-09T14:49:14.484Z"
   },
   {
    "duration": 8,
    "start_time": "2023-09-09T14:49:14.491Z"
   },
   {
    "duration": 13,
    "start_time": "2023-09-09T14:49:14.501Z"
   },
   {
    "duration": 15,
    "start_time": "2023-09-09T14:49:14.516Z"
   },
   {
    "duration": 20,
    "start_time": "2023-09-09T14:49:14.540Z"
   },
   {
    "duration": 13,
    "start_time": "2023-09-09T14:49:14.561Z"
   },
   {
    "duration": 26,
    "start_time": "2023-09-09T14:49:14.575Z"
   },
   {
    "duration": 29,
    "start_time": "2023-09-09T14:49:14.602Z"
   },
   {
    "duration": 22,
    "start_time": "2023-09-09T14:49:14.632Z"
   },
   {
    "duration": 18,
    "start_time": "2023-09-09T14:49:14.657Z"
   },
   {
    "duration": 23,
    "start_time": "2023-09-09T14:49:14.678Z"
   },
   {
    "duration": 22,
    "start_time": "2023-09-09T14:49:14.703Z"
   },
   {
    "duration": 30,
    "start_time": "2023-09-09T14:49:14.727Z"
   },
   {
    "duration": 17,
    "start_time": "2023-09-09T14:49:14.759Z"
   },
   {
    "duration": 19,
    "start_time": "2023-09-09T14:49:14.778Z"
   },
   {
    "duration": 12,
    "start_time": "2023-09-09T14:49:14.798Z"
   },
   {
    "duration": 7,
    "start_time": "2023-09-09T14:49:14.812Z"
   },
   {
    "duration": 24,
    "start_time": "2023-09-09T14:49:14.820Z"
   },
   {
    "duration": 18,
    "start_time": "2023-09-09T14:49:14.847Z"
   },
   {
    "duration": 305,
    "start_time": "2023-09-09T14:49:14.867Z"
   },
   {
    "duration": 128,
    "start_time": "2023-09-09T14:49:15.175Z"
   },
   {
    "duration": 7,
    "start_time": "2023-09-09T14:49:15.304Z"
   },
   {
    "duration": 50,
    "start_time": "2023-09-09T14:49:15.313Z"
   },
   {
    "duration": 17,
    "start_time": "2023-09-09T14:49:15.364Z"
   },
   {
    "duration": 408,
    "start_time": "2023-09-09T14:49:15.385Z"
   },
   {
    "duration": 364,
    "start_time": "2023-09-09T14:49:15.796Z"
   },
   {
    "duration": 441,
    "start_time": "2023-09-09T14:49:16.162Z"
   },
   {
    "duration": 10,
    "start_time": "2023-09-09T14:49:16.605Z"
   },
   {
    "duration": 20,
    "start_time": "2023-09-09T14:49:16.624Z"
   },
   {
    "duration": 163,
    "start_time": "2023-09-09T14:49:16.646Z"
   },
   {
    "duration": 185,
    "start_time": "2023-09-09T14:49:16.812Z"
   },
   {
    "duration": 4,
    "start_time": "2023-09-09T14:49:17.000Z"
   },
   {
    "duration": 211,
    "start_time": "2023-09-09T14:49:17.005Z"
   },
   {
    "duration": 12,
    "start_time": "2023-09-09T14:49:17.223Z"
   },
   {
    "duration": 179,
    "start_time": "2023-09-09T14:49:17.242Z"
   },
   {
    "duration": 10,
    "start_time": "2023-09-09T14:49:17.424Z"
   },
   {
    "duration": 308,
    "start_time": "2023-09-09T14:49:17.445Z"
   },
   {
    "duration": 163,
    "start_time": "2023-09-09T14:49:17.755Z"
   },
   {
    "duration": 12,
    "start_time": "2023-09-09T14:49:17.920Z"
   },
   {
    "duration": 48,
    "start_time": "2023-09-09T14:49:17.935Z"
   },
   {
    "duration": 17,
    "start_time": "2023-09-09T14:49:17.986Z"
   },
   {
    "duration": 30,
    "start_time": "2023-09-09T14:49:18.005Z"
   },
   {
    "duration": 29,
    "start_time": "2023-09-09T14:49:18.043Z"
   },
   {
    "duration": 139,
    "start_time": "2023-09-09T14:49:18.074Z"
   },
   {
    "duration": 1366,
    "start_time": "2023-09-09T14:50:02.373Z"
   },
   {
    "duration": 3,
    "start_time": "2023-09-09T14:50:03.742Z"
   },
   {
    "duration": 9,
    "start_time": "2023-09-09T14:50:03.746Z"
   },
   {
    "duration": 79,
    "start_time": "2023-09-09T14:50:03.758Z"
   },
   {
    "duration": 16,
    "start_time": "2023-09-09T14:50:03.839Z"
   },
   {
    "duration": 202,
    "start_time": "2023-09-09T14:50:03.857Z"
   },
   {
    "duration": 183,
    "start_time": "2023-09-09T14:50:04.061Z"
   },
   {
    "duration": 96,
    "start_time": "2023-09-09T14:50:04.245Z"
   },
   {
    "duration": 61,
    "start_time": "2023-09-09T14:50:04.343Z"
   },
   {
    "duration": 99,
    "start_time": "2023-09-09T14:50:04.408Z"
   },
   {
    "duration": 95,
    "start_time": "2023-09-09T14:50:04.510Z"
   },
   {
    "duration": 65,
    "start_time": "2023-09-09T14:50:04.606Z"
   },
   {
    "duration": 172,
    "start_time": "2023-09-09T14:50:04.674Z"
   },
   {
    "duration": 90,
    "start_time": "2023-09-09T14:50:04.848Z"
   },
   {
    "duration": 203,
    "start_time": "2023-09-09T14:50:04.939Z"
   },
   {
    "duration": 148,
    "start_time": "2023-09-09T14:50:05.143Z"
   },
   {
    "duration": 17,
    "start_time": "2023-09-09T14:50:05.292Z"
   },
   {
    "duration": 29,
    "start_time": "2023-09-09T14:50:05.311Z"
   },
   {
    "duration": 29,
    "start_time": "2023-09-09T14:50:05.342Z"
   },
   {
    "duration": 41,
    "start_time": "2023-09-09T14:50:05.372Z"
   },
   {
    "duration": 52,
    "start_time": "2023-09-09T14:50:05.415Z"
   },
   {
    "duration": 27,
    "start_time": "2023-09-09T14:50:05.468Z"
   },
   {
    "duration": 46,
    "start_time": "2023-09-09T14:50:05.496Z"
   },
   {
    "duration": 37,
    "start_time": "2023-09-09T14:50:05.544Z"
   },
   {
    "duration": 50,
    "start_time": "2023-09-09T14:50:05.583Z"
   },
   {
    "duration": 43,
    "start_time": "2023-09-09T14:50:05.634Z"
   },
   {
    "duration": 64,
    "start_time": "2023-09-09T14:50:05.678Z"
   },
   {
    "duration": 34,
    "start_time": "2023-09-09T14:50:05.745Z"
   },
   {
    "duration": 29,
    "start_time": "2023-09-09T14:50:05.781Z"
   },
   {
    "duration": 44,
    "start_time": "2023-09-09T14:50:05.812Z"
   },
   {
    "duration": 31,
    "start_time": "2023-09-09T14:50:05.858Z"
   },
   {
    "duration": 35,
    "start_time": "2023-09-09T14:50:05.891Z"
   },
   {
    "duration": 65,
    "start_time": "2023-09-09T14:50:05.928Z"
   },
   {
    "duration": 179,
    "start_time": "2023-09-09T14:50:05.996Z"
   },
   {
    "duration": 416,
    "start_time": "2023-09-09T14:50:06.177Z"
   },
   {
    "duration": 184,
    "start_time": "2023-09-09T14:50:06.595Z"
   },
   {
    "duration": 416,
    "start_time": "2023-09-09T14:50:06.781Z"
   },
   {
    "duration": 136,
    "start_time": "2023-09-09T14:50:07.199Z"
   },
   {
    "duration": 21,
    "start_time": "2023-09-09T14:50:07.337Z"
   },
   {
    "duration": 230,
    "start_time": "2023-09-09T14:50:07.360Z"
   },
   {
    "duration": 42,
    "start_time": "2023-09-09T14:50:07.592Z"
   },
   {
    "duration": 401,
    "start_time": "2023-09-09T14:50:07.637Z"
   },
   {
    "duration": 280,
    "start_time": "2023-09-09T14:50:08.040Z"
   },
   {
    "duration": 396,
    "start_time": "2023-09-09T14:50:08.324Z"
   },
   {
    "duration": 12,
    "start_time": "2023-09-09T14:50:08.724Z"
   },
   {
    "duration": 149,
    "start_time": "2023-09-09T14:50:08.742Z"
   },
   {
    "duration": 234,
    "start_time": "2023-09-09T14:50:08.893Z"
   },
   {
    "duration": 173,
    "start_time": "2023-09-09T14:50:09.128Z"
   },
   {
    "duration": 5,
    "start_time": "2023-09-09T14:50:09.302Z"
   },
   {
    "duration": 291,
    "start_time": "2023-09-09T14:50:09.309Z"
   },
   {
    "duration": 3,
    "start_time": "2023-09-09T14:50:09.602Z"
   },
   {
    "duration": 335,
    "start_time": "2023-09-09T14:50:09.607Z"
   },
   {
    "duration": 4,
    "start_time": "2023-09-09T14:50:09.944Z"
   },
   {
    "duration": 421,
    "start_time": "2023-09-09T14:50:09.950Z"
   },
   {
    "duration": 221,
    "start_time": "2023-09-09T14:50:10.373Z"
   },
   {
    "duration": 7,
    "start_time": "2023-09-09T14:50:10.595Z"
   },
   {
    "duration": 113,
    "start_time": "2023-09-09T14:50:10.603Z"
   },
   {
    "duration": 26,
    "start_time": "2023-09-09T14:50:10.718Z"
   },
   {
    "duration": 22,
    "start_time": "2023-09-09T14:50:10.747Z"
   },
   {
    "duration": 116,
    "start_time": "2023-09-09T14:50:10.771Z"
   },
   {
    "duration": 121,
    "start_time": "2023-09-09T14:50:19.612Z"
   },
   {
    "duration": 17,
    "start_time": "2023-09-09T14:54:33.778Z"
   },
   {
    "duration": 7,
    "start_time": "2023-09-09T14:56:50.844Z"
   },
   {
    "duration": 5,
    "start_time": "2023-09-09T14:57:26.858Z"
   },
   {
    "duration": 1393,
    "start_time": "2023-09-09T14:59:15.859Z"
   },
   {
    "duration": 27,
    "start_time": "2023-09-09T14:59:52.558Z"
   },
   {
    "duration": 6,
    "start_time": "2023-09-09T15:03:01.282Z"
   },
   {
    "duration": 1875,
    "start_time": "2023-09-09T15:03:10.064Z"
   },
   {
    "duration": 31,
    "start_time": "2023-09-09T15:03:36.534Z"
   },
   {
    "duration": 4,
    "start_time": "2023-09-09T15:03:58.156Z"
   },
   {
    "duration": 4,
    "start_time": "2023-09-09T15:04:16.149Z"
   },
   {
    "duration": 1272,
    "start_time": "2023-09-10T07:43:25.571Z"
   },
   {
    "duration": 3,
    "start_time": "2023-09-10T07:43:26.845Z"
   },
   {
    "duration": 6,
    "start_time": "2023-09-10T07:43:26.850Z"
   },
   {
    "duration": 189,
    "start_time": "2023-09-10T07:43:26.858Z"
   },
   {
    "duration": 12,
    "start_time": "2023-09-10T07:43:27.049Z"
   },
   {
    "duration": 12,
    "start_time": "2023-09-10T07:43:27.063Z"
   },
   {
    "duration": 12,
    "start_time": "2023-09-10T07:43:27.077Z"
   },
   {
    "duration": 10,
    "start_time": "2023-09-10T07:43:27.090Z"
   },
   {
    "duration": 24,
    "start_time": "2023-09-10T07:43:27.101Z"
   },
   {
    "duration": 9,
    "start_time": "2023-09-10T07:43:27.128Z"
   },
   {
    "duration": 3,
    "start_time": "2023-09-10T07:43:27.138Z"
   },
   {
    "duration": 6,
    "start_time": "2023-09-10T07:43:27.143Z"
   },
   {
    "duration": 6,
    "start_time": "2023-09-10T07:43:27.150Z"
   },
   {
    "duration": 5,
    "start_time": "2023-09-10T07:43:27.157Z"
   },
   {
    "duration": 12,
    "start_time": "2023-09-10T07:43:27.163Z"
   },
   {
    "duration": 3,
    "start_time": "2023-09-10T07:43:27.177Z"
   },
   {
    "duration": 4,
    "start_time": "2023-09-10T07:43:27.182Z"
   },
   {
    "duration": 4,
    "start_time": "2023-09-10T07:43:27.187Z"
   },
   {
    "duration": 34,
    "start_time": "2023-09-10T07:43:27.192Z"
   },
   {
    "duration": 12,
    "start_time": "2023-09-10T07:43:27.227Z"
   },
   {
    "duration": 7,
    "start_time": "2023-09-10T07:43:27.240Z"
   },
   {
    "duration": 12,
    "start_time": "2023-09-10T07:43:27.249Z"
   },
   {
    "duration": 7,
    "start_time": "2023-09-10T07:43:27.263Z"
   },
   {
    "duration": 7,
    "start_time": "2023-09-10T07:43:27.271Z"
   },
   {
    "duration": 6,
    "start_time": "2023-09-10T07:43:27.279Z"
   },
   {
    "duration": 6,
    "start_time": "2023-09-10T07:43:27.286Z"
   },
   {
    "duration": 31,
    "start_time": "2023-09-10T07:43:27.294Z"
   },
   {
    "duration": 5,
    "start_time": "2023-09-10T07:43:27.329Z"
   },
   {
    "duration": 13,
    "start_time": "2023-09-10T07:43:27.335Z"
   },
   {
    "duration": 12,
    "start_time": "2023-09-10T07:43:27.350Z"
   },
   {
    "duration": 12,
    "start_time": "2023-09-10T07:43:27.364Z"
   },
   {
    "duration": 7,
    "start_time": "2023-09-10T07:43:27.378Z"
   },
   {
    "duration": 22,
    "start_time": "2023-09-10T07:43:27.387Z"
   },
   {
    "duration": 5,
    "start_time": "2023-09-10T07:43:27.424Z"
   },
   {
    "duration": 29,
    "start_time": "2023-09-10T07:43:27.431Z"
   },
   {
    "duration": 70,
    "start_time": "2023-09-10T07:43:27.462Z"
   },
   {
    "duration": 218,
    "start_time": "2023-09-10T07:43:27.534Z"
   },
   {
    "duration": 124,
    "start_time": "2023-09-10T07:43:27.754Z"
   },
   {
    "duration": 23,
    "start_time": "2023-09-10T07:43:27.880Z"
   },
   {
    "duration": 11,
    "start_time": "2023-09-10T07:43:27.905Z"
   },
   {
    "duration": 30,
    "start_time": "2023-09-10T07:43:27.918Z"
   },
   {
    "duration": 341,
    "start_time": "2023-09-10T07:43:27.949Z"
   },
   {
    "duration": 272,
    "start_time": "2023-09-10T07:43:28.292Z"
   },
   {
    "duration": 431,
    "start_time": "2023-09-10T07:43:28.566Z"
   },
   {
    "duration": 10,
    "start_time": "2023-09-10T07:43:28.999Z"
   },
   {
    "duration": 20,
    "start_time": "2023-09-10T07:43:29.011Z"
   },
   {
    "duration": 149,
    "start_time": "2023-09-10T07:43:29.033Z"
   },
   {
    "duration": 154,
    "start_time": "2023-09-10T07:43:29.184Z"
   },
   {
    "duration": 5,
    "start_time": "2023-09-10T07:43:29.339Z"
   },
   {
    "duration": 270,
    "start_time": "2023-09-10T07:43:29.345Z"
   },
   {
    "duration": 3,
    "start_time": "2023-09-10T07:43:29.623Z"
   },
   {
    "duration": 180,
    "start_time": "2023-09-10T07:43:29.628Z"
   },
   {
    "duration": 4,
    "start_time": "2023-09-10T07:43:29.809Z"
   },
   {
    "duration": 291,
    "start_time": "2023-09-10T07:43:29.815Z"
   },
   {
    "duration": 132,
    "start_time": "2023-09-10T07:43:30.107Z"
   },
   {
    "duration": 6,
    "start_time": "2023-09-10T07:43:30.241Z"
   },
   {
    "duration": 54,
    "start_time": "2023-09-10T07:43:30.249Z"
   },
   {
    "duration": 59,
    "start_time": "2023-09-10T07:43:30.305Z"
   },
   {
    "duration": 45,
    "start_time": "2023-09-10T07:43:30.365Z"
   },
   {
    "duration": 61,
    "start_time": "2023-09-10T07:43:30.411Z"
   },
   {
    "duration": 26,
    "start_time": "2023-09-10T07:43:30.474Z"
   },
   {
    "duration": 24,
    "start_time": "2023-09-10T07:43:30.502Z"
   },
   {
    "duration": 41,
    "start_time": "2023-09-10T07:43:30.528Z"
   },
   {
    "duration": 187,
    "start_time": "2023-09-10T07:43:30.571Z"
   },
   {
    "duration": 5,
    "start_time": "2023-09-10T07:43:40.820Z"
   },
   {
    "duration": 125,
    "start_time": "2023-09-10T07:45:21.440Z"
   },
   {
    "duration": 6,
    "start_time": "2023-09-10T07:46:26.247Z"
   },
   {
    "duration": 9,
    "start_time": "2023-09-10T07:46:33.369Z"
   },
   {
    "duration": 8,
    "start_time": "2023-09-10T07:46:51.802Z"
   },
   {
    "duration": 4,
    "start_time": "2023-09-10T07:46:59.916Z"
   },
   {
    "duration": 4,
    "start_time": "2023-09-10T07:47:53.610Z"
   },
   {
    "duration": 124,
    "start_time": "2023-09-10T07:48:45.256Z"
   },
   {
    "duration": 16,
    "start_time": "2023-09-10T07:48:45.794Z"
   },
   {
    "duration": 4,
    "start_time": "2023-09-10T07:48:49.435Z"
   },
   {
    "duration": 5,
    "start_time": "2023-09-10T07:49:06.871Z"
   },
   {
    "duration": 105,
    "start_time": "2023-09-10T07:52:11.799Z"
   },
   {
    "duration": 32,
    "start_time": "2023-09-10T07:52:31.895Z"
   },
   {
    "duration": 36,
    "start_time": "2023-09-10T07:53:08.893Z"
   },
   {
    "duration": 18,
    "start_time": "2023-09-10T08:39:43.050Z"
   },
   {
    "duration": 33,
    "start_time": "2023-09-10T08:40:03.130Z"
   },
   {
    "duration": 19,
    "start_time": "2023-09-10T08:40:12.258Z"
   },
   {
    "duration": 29,
    "start_time": "2023-09-10T08:44:16.104Z"
   },
   {
    "duration": 17,
    "start_time": "2023-09-10T08:45:23.737Z"
   },
   {
    "duration": 10,
    "start_time": "2023-09-10T08:50:27.025Z"
   },
   {
    "duration": 11,
    "start_time": "2023-09-10T08:50:34.382Z"
   },
   {
    "duration": 12,
    "start_time": "2023-09-10T08:50:57.361Z"
   },
   {
    "duration": 11,
    "start_time": "2023-09-10T08:51:46.007Z"
   },
   {
    "duration": 25,
    "start_time": "2023-09-10T08:54:18.756Z"
   },
   {
    "duration": 24,
    "start_time": "2023-09-10T08:54:35.429Z"
   },
   {
    "duration": 13,
    "start_time": "2023-09-10T08:54:47.309Z"
   },
   {
    "duration": 13,
    "start_time": "2023-09-10T08:55:12.712Z"
   },
   {
    "duration": 25,
    "start_time": "2023-09-10T09:04:02.906Z"
   },
   {
    "duration": 14,
    "start_time": "2023-09-10T09:05:17.451Z"
   },
   {
    "duration": 1103,
    "start_time": "2023-09-10T09:05:43.713Z"
   },
   {
    "duration": 3,
    "start_time": "2023-09-10T09:05:44.818Z"
   },
   {
    "duration": 15,
    "start_time": "2023-09-10T09:05:44.823Z"
   },
   {
    "duration": 81,
    "start_time": "2023-09-10T09:05:44.840Z"
   },
   {
    "duration": 11,
    "start_time": "2023-09-10T09:05:44.922Z"
   },
   {
    "duration": 12,
    "start_time": "2023-09-10T09:05:44.934Z"
   },
   {
    "duration": 9,
    "start_time": "2023-09-10T09:05:44.948Z"
   },
   {
    "duration": 8,
    "start_time": "2023-09-10T09:05:44.959Z"
   },
   {
    "duration": 11,
    "start_time": "2023-09-10T09:05:44.969Z"
   },
   {
    "duration": 7,
    "start_time": "2023-09-10T09:05:44.982Z"
   },
   {
    "duration": 49,
    "start_time": "2023-09-10T09:05:44.991Z"
   },
   {
    "duration": 8,
    "start_time": "2023-09-10T09:05:45.041Z"
   },
   {
    "duration": 11,
    "start_time": "2023-09-10T09:05:45.050Z"
   },
   {
    "duration": 11,
    "start_time": "2023-09-10T09:05:45.062Z"
   },
   {
    "duration": 16,
    "start_time": "2023-09-10T09:05:45.075Z"
   },
   {
    "duration": 15,
    "start_time": "2023-09-10T09:05:45.093Z"
   },
   {
    "duration": 5,
    "start_time": "2023-09-10T09:05:45.109Z"
   },
   {
    "duration": 6,
    "start_time": "2023-09-10T09:05:45.115Z"
   },
   {
    "duration": 5,
    "start_time": "2023-09-10T09:05:45.122Z"
   },
   {
    "duration": 13,
    "start_time": "2023-09-10T09:05:45.128Z"
   },
   {
    "duration": 6,
    "start_time": "2023-09-10T09:05:45.142Z"
   },
   {
    "duration": 5,
    "start_time": "2023-09-10T09:05:45.149Z"
   },
   {
    "duration": 5,
    "start_time": "2023-09-10T09:05:45.156Z"
   },
   {
    "duration": 6,
    "start_time": "2023-09-10T09:05:45.162Z"
   },
   {
    "duration": 6,
    "start_time": "2023-09-10T09:05:45.169Z"
   },
   {
    "duration": 7,
    "start_time": "2023-09-10T09:05:45.177Z"
   },
   {
    "duration": 40,
    "start_time": "2023-09-10T09:05:45.185Z"
   },
   {
    "duration": 5,
    "start_time": "2023-09-10T09:05:45.229Z"
   },
   {
    "duration": 13,
    "start_time": "2023-09-10T09:05:45.236Z"
   },
   {
    "duration": 12,
    "start_time": "2023-09-10T09:05:45.250Z"
   },
   {
    "duration": 11,
    "start_time": "2023-09-10T09:05:45.264Z"
   },
   {
    "duration": 13,
    "start_time": "2023-09-10T09:05:45.277Z"
   },
   {
    "duration": 32,
    "start_time": "2023-09-10T09:05:45.292Z"
   },
   {
    "duration": 5,
    "start_time": "2023-09-10T09:05:45.325Z"
   },
   {
    "duration": 15,
    "start_time": "2023-09-10T09:05:45.332Z"
   },
   {
    "duration": 7,
    "start_time": "2023-09-10T09:05:45.348Z"
   },
   {
    "duration": 177,
    "start_time": "2023-09-10T09:05:45.356Z"
   },
   {
    "duration": 128,
    "start_time": "2023-09-10T09:05:45.534Z"
   },
   {
    "duration": 6,
    "start_time": "2023-09-10T09:05:45.663Z"
   },
   {
    "duration": 7,
    "start_time": "2023-09-10T09:05:45.671Z"
   },
   {
    "duration": 9,
    "start_time": "2023-09-10T09:05:45.679Z"
   },
   {
    "duration": 388,
    "start_time": "2023-09-10T09:05:45.690Z"
   },
   {
    "duration": 309,
    "start_time": "2023-09-10T09:05:46.080Z"
   },
   {
    "duration": 404,
    "start_time": "2023-09-10T09:05:46.391Z"
   },
   {
    "duration": 10,
    "start_time": "2023-09-10T09:05:46.797Z"
   },
   {
    "duration": 19,
    "start_time": "2023-09-10T09:05:46.808Z"
   },
   {
    "duration": 159,
    "start_time": "2023-09-10T09:05:46.828Z"
   },
   {
    "duration": 157,
    "start_time": "2023-09-10T09:05:46.989Z"
   },
   {
    "duration": 4,
    "start_time": "2023-09-10T09:05:47.148Z"
   },
   {
    "duration": 187,
    "start_time": "2023-09-10T09:05:47.154Z"
   },
   {
    "duration": 3,
    "start_time": "2023-09-10T09:05:47.344Z"
   },
   {
    "duration": 177,
    "start_time": "2023-09-10T09:05:47.349Z"
   },
   {
    "duration": 4,
    "start_time": "2023-09-10T09:05:47.528Z"
   },
   {
    "duration": 293,
    "start_time": "2023-09-10T09:05:47.534Z"
   },
   {
    "duration": 132,
    "start_time": "2023-09-10T09:05:47.829Z"
   },
   {
    "duration": 7,
    "start_time": "2023-09-10T09:05:47.962Z"
   },
   {
    "duration": 26,
    "start_time": "2023-09-10T09:05:47.970Z"
   },
   {
    "duration": 29,
    "start_time": "2023-09-10T09:05:47.998Z"
   },
   {
    "duration": 12,
    "start_time": "2023-09-10T09:05:48.029Z"
   },
   {
    "duration": 24,
    "start_time": "2023-09-10T09:05:48.043Z"
   },
   {
    "duration": 14,
    "start_time": "2023-09-10T09:05:48.069Z"
   },
   {
    "duration": 4,
    "start_time": "2023-09-10T09:09:08.593Z"
   },
   {
    "duration": 12,
    "start_time": "2023-09-10T09:09:28.373Z"
   },
   {
    "duration": 25,
    "start_time": "2023-09-10T09:09:30.453Z"
   },
   {
    "duration": 13,
    "start_time": "2023-09-10T09:09:34.196Z"
   },
   {
    "duration": 12,
    "start_time": "2023-09-10T09:09:48.778Z"
   },
   {
    "duration": 22,
    "start_time": "2023-09-10T09:09:49.816Z"
   },
   {
    "duration": 36,
    "start_time": "2023-09-10T09:12:23.025Z"
   },
   {
    "duration": 1075,
    "start_time": "2023-09-10T09:26:59.270Z"
   },
   {
    "duration": 4,
    "start_time": "2023-09-10T09:27:00.348Z"
   },
   {
    "duration": 220,
    "start_time": "2023-09-10T09:27:00.354Z"
   },
   {
    "duration": 231,
    "start_time": "2023-09-10T09:27:00.577Z"
   },
   {
    "duration": 12,
    "start_time": "2023-09-10T09:27:00.810Z"
   },
   {
    "duration": 60,
    "start_time": "2023-09-10T09:27:00.824Z"
   },
   {
    "duration": 46,
    "start_time": "2023-09-10T09:27:00.885Z"
   },
   {
    "duration": 57,
    "start_time": "2023-09-10T09:27:00.932Z"
   },
   {
    "duration": 39,
    "start_time": "2023-09-10T09:27:00.990Z"
   },
   {
    "duration": 41,
    "start_time": "2023-09-10T09:27:01.031Z"
   },
   {
    "duration": 41,
    "start_time": "2023-09-10T09:27:01.074Z"
   },
   {
    "duration": 75,
    "start_time": "2023-09-10T09:27:01.117Z"
   },
   {
    "duration": 85,
    "start_time": "2023-09-10T09:27:01.193Z"
   },
   {
    "duration": 76,
    "start_time": "2023-09-10T09:27:01.280Z"
   },
   {
    "duration": 55,
    "start_time": "2023-09-10T09:27:01.358Z"
   },
   {
    "duration": 58,
    "start_time": "2023-09-10T09:27:01.415Z"
   },
   {
    "duration": 29,
    "start_time": "2023-09-10T09:27:01.474Z"
   },
   {
    "duration": 26,
    "start_time": "2023-09-10T09:27:01.504Z"
   },
   {
    "duration": 33,
    "start_time": "2023-09-10T09:27:01.532Z"
   },
   {
    "duration": 28,
    "start_time": "2023-09-10T09:27:01.567Z"
   },
   {
    "duration": 46,
    "start_time": "2023-09-10T09:27:01.596Z"
   },
   {
    "duration": 36,
    "start_time": "2023-09-10T09:27:01.643Z"
   },
   {
    "duration": 78,
    "start_time": "2023-09-10T09:27:01.681Z"
   },
   {
    "duration": 45,
    "start_time": "2023-09-10T09:27:01.760Z"
   },
   {
    "duration": 44,
    "start_time": "2023-09-10T09:27:01.806Z"
   },
   {
    "duration": 45,
    "start_time": "2023-09-10T09:27:01.852Z"
   },
   {
    "duration": 27,
    "start_time": "2023-09-10T09:27:01.898Z"
   },
   {
    "duration": 57,
    "start_time": "2023-09-10T09:27:01.928Z"
   },
   {
    "duration": 41,
    "start_time": "2023-09-10T09:27:01.986Z"
   },
   {
    "duration": 38,
    "start_time": "2023-09-10T09:27:02.028Z"
   },
   {
    "duration": 41,
    "start_time": "2023-09-10T09:27:02.067Z"
   },
   {
    "duration": 56,
    "start_time": "2023-09-10T09:27:02.109Z"
   },
   {
    "duration": 37,
    "start_time": "2023-09-10T09:27:02.167Z"
   },
   {
    "duration": 51,
    "start_time": "2023-09-10T09:27:02.205Z"
   },
   {
    "duration": 38,
    "start_time": "2023-09-10T09:27:02.257Z"
   },
   {
    "duration": 45,
    "start_time": "2023-09-10T09:27:02.297Z"
   },
   {
    "duration": 221,
    "start_time": "2023-09-10T09:27:02.344Z"
   },
   {
    "duration": 122,
    "start_time": "2023-09-10T09:27:02.567Z"
   },
   {
    "duration": 14,
    "start_time": "2023-09-10T09:27:02.691Z"
   },
   {
    "duration": 168,
    "start_time": "2023-09-10T09:27:02.707Z"
   },
   {
    "duration": 118,
    "start_time": "2023-09-10T09:27:02.877Z"
   },
   {
    "duration": 463,
    "start_time": "2023-09-10T09:27:02.997Z"
   },
   {
    "duration": 270,
    "start_time": "2023-09-10T09:27:03.462Z"
   },
   {
    "duration": 359,
    "start_time": "2023-09-10T09:27:03.734Z"
   },
   {
    "duration": 10,
    "start_time": "2023-09-10T09:27:04.095Z"
   },
   {
    "duration": 20,
    "start_time": "2023-09-10T09:27:04.107Z"
   },
   {
    "duration": 155,
    "start_time": "2023-09-10T09:27:04.128Z"
   },
   {
    "duration": 156,
    "start_time": "2023-09-10T09:27:04.285Z"
   },
   {
    "duration": 4,
    "start_time": "2023-09-10T09:27:04.443Z"
   },
   {
    "duration": 184,
    "start_time": "2023-09-10T09:27:04.449Z"
   },
   {
    "duration": 4,
    "start_time": "2023-09-10T09:27:04.634Z"
   },
   {
    "duration": 164,
    "start_time": "2023-09-10T09:27:04.639Z"
   },
   {
    "duration": 3,
    "start_time": "2023-09-10T09:27:04.805Z"
   },
   {
    "duration": 287,
    "start_time": "2023-09-10T09:27:04.810Z"
   },
   {
    "duration": 142,
    "start_time": "2023-09-10T09:27:05.099Z"
   },
   {
    "duration": 7,
    "start_time": "2023-09-10T09:27:05.242Z"
   },
   {
    "duration": 30,
    "start_time": "2023-09-10T09:27:05.251Z"
   },
   {
    "duration": 18,
    "start_time": "2023-09-10T09:27:05.283Z"
   },
   {
    "duration": 34,
    "start_time": "2023-09-10T09:27:05.303Z"
   },
   {
    "duration": 41,
    "start_time": "2023-09-10T09:27:05.339Z"
   },
   {
    "duration": 13,
    "start_time": "2023-09-10T09:27:05.382Z"
   },
   {
    "duration": 1321,
    "start_time": "2023-09-10T13:34:44.338Z"
   },
   {
    "duration": 3,
    "start_time": "2023-09-10T13:34:45.661Z"
   },
   {
    "duration": 8,
    "start_time": "2023-09-10T13:34:45.665Z"
   },
   {
    "duration": 220,
    "start_time": "2023-09-10T13:34:45.675Z"
   },
   {
    "duration": 12,
    "start_time": "2023-09-10T13:34:45.897Z"
   },
   {
    "duration": 29,
    "start_time": "2023-09-10T13:34:45.910Z"
   },
   {
    "duration": 28,
    "start_time": "2023-09-10T13:34:45.941Z"
   },
   {
    "duration": 19,
    "start_time": "2023-09-10T13:34:45.971Z"
   },
   {
    "duration": 19,
    "start_time": "2023-09-10T13:34:45.992Z"
   },
   {
    "duration": 22,
    "start_time": "2023-09-10T13:34:46.013Z"
   },
   {
    "duration": 19,
    "start_time": "2023-09-10T13:34:46.036Z"
   },
   {
    "duration": 14,
    "start_time": "2023-09-10T13:34:46.057Z"
   },
   {
    "duration": 27,
    "start_time": "2023-09-10T13:34:46.072Z"
   },
   {
    "duration": 16,
    "start_time": "2023-09-10T13:34:46.100Z"
   },
   {
    "duration": 13,
    "start_time": "2023-09-10T13:34:46.117Z"
   },
   {
    "duration": 5,
    "start_time": "2023-09-10T13:34:46.132Z"
   },
   {
    "duration": 17,
    "start_time": "2023-09-10T13:34:46.139Z"
   },
   {
    "duration": 14,
    "start_time": "2023-09-10T13:34:46.157Z"
   },
   {
    "duration": 20,
    "start_time": "2023-09-10T13:34:46.173Z"
   },
   {
    "duration": 17,
    "start_time": "2023-09-10T13:34:46.194Z"
   },
   {
    "duration": 6,
    "start_time": "2023-09-10T13:34:46.213Z"
   },
   {
    "duration": 17,
    "start_time": "2023-09-10T13:34:46.220Z"
   },
   {
    "duration": 18,
    "start_time": "2023-09-10T13:34:46.239Z"
   },
   {
    "duration": 10,
    "start_time": "2023-09-10T13:34:46.259Z"
   },
   {
    "duration": 7,
    "start_time": "2023-09-10T13:34:46.271Z"
   },
   {
    "duration": 14,
    "start_time": "2023-09-10T13:34:46.279Z"
   },
   {
    "duration": 12,
    "start_time": "2023-09-10T13:34:46.294Z"
   },
   {
    "duration": 7,
    "start_time": "2023-09-10T13:34:46.309Z"
   },
   {
    "duration": 13,
    "start_time": "2023-09-10T13:34:46.317Z"
   },
   {
    "duration": 31,
    "start_time": "2023-09-10T13:34:46.332Z"
   },
   {
    "duration": 13,
    "start_time": "2023-09-10T13:34:46.365Z"
   },
   {
    "duration": 6,
    "start_time": "2023-09-10T13:34:46.379Z"
   },
   {
    "duration": 20,
    "start_time": "2023-09-10T13:34:46.386Z"
   },
   {
    "duration": 29,
    "start_time": "2023-09-10T13:34:46.407Z"
   },
   {
    "duration": 26,
    "start_time": "2023-09-10T13:34:46.437Z"
   },
   {
    "duration": 7,
    "start_time": "2023-09-10T13:34:46.465Z"
   },
   {
    "duration": 161,
    "start_time": "2023-09-10T13:34:46.473Z"
   },
   {
    "duration": 119,
    "start_time": "2023-09-10T13:34:46.635Z"
   },
   {
    "duration": 6,
    "start_time": "2023-09-10T13:34:46.756Z"
   },
   {
    "duration": 6,
    "start_time": "2023-09-10T13:34:46.763Z"
   },
   {
    "duration": 9,
    "start_time": "2023-09-10T13:34:46.770Z"
   },
   {
    "duration": 343,
    "start_time": "2023-09-10T13:34:46.780Z"
   },
   {
    "duration": 267,
    "start_time": "2023-09-10T13:34:47.124Z"
   },
   {
    "duration": 376,
    "start_time": "2023-09-10T13:34:47.392Z"
   },
   {
    "duration": 10,
    "start_time": "2023-09-10T13:34:47.770Z"
   },
   {
    "duration": 24,
    "start_time": "2023-09-10T13:34:47.782Z"
   },
   {
    "duration": 160,
    "start_time": "2023-09-10T13:34:47.808Z"
   },
   {
    "duration": 148,
    "start_time": "2023-09-10T13:34:47.970Z"
   },
   {
    "duration": 4,
    "start_time": "2023-09-10T13:34:48.120Z"
   },
   {
    "duration": 187,
    "start_time": "2023-09-10T13:34:48.125Z"
   },
   {
    "duration": 3,
    "start_time": "2023-09-10T13:34:48.313Z"
   },
   {
    "duration": 167,
    "start_time": "2023-09-10T13:34:48.318Z"
   },
   {
    "duration": 4,
    "start_time": "2023-09-10T13:34:48.486Z"
   },
   {
    "duration": 297,
    "start_time": "2023-09-10T13:34:48.492Z"
   },
   {
    "duration": 139,
    "start_time": "2023-09-10T13:34:48.790Z"
   },
   {
    "duration": 26,
    "start_time": "2023-09-10T13:34:48.931Z"
   },
   {
    "duration": 23,
    "start_time": "2023-09-10T13:34:48.959Z"
   },
   {
    "duration": 9,
    "start_time": "2023-09-10T13:34:48.984Z"
   },
   {
    "duration": 11,
    "start_time": "2023-09-10T13:34:48.994Z"
   },
   {
    "duration": 50,
    "start_time": "2023-09-10T13:34:49.006Z"
   },
   {
    "duration": 14,
    "start_time": "2023-09-10T13:34:49.059Z"
   },
   {
    "duration": 1163,
    "start_time": "2023-09-10T14:16:14.568Z"
   },
   {
    "duration": 3,
    "start_time": "2023-09-10T14:16:15.733Z"
   },
   {
    "duration": 16,
    "start_time": "2023-09-10T14:16:15.737Z"
   },
   {
    "duration": 100,
    "start_time": "2023-09-10T14:16:15.754Z"
   },
   {
    "duration": 11,
    "start_time": "2023-09-10T14:16:15.856Z"
   },
   {
    "duration": 16,
    "start_time": "2023-09-10T14:16:15.868Z"
   },
   {
    "duration": 13,
    "start_time": "2023-09-10T14:16:15.886Z"
   },
   {
    "duration": 13,
    "start_time": "2023-09-10T14:16:15.900Z"
   },
   {
    "duration": 13,
    "start_time": "2023-09-10T14:16:15.914Z"
   },
   {
    "duration": 13,
    "start_time": "2023-09-10T14:16:15.928Z"
   },
   {
    "duration": 19,
    "start_time": "2023-09-10T14:16:15.943Z"
   },
   {
    "duration": 23,
    "start_time": "2023-09-10T14:16:15.963Z"
   },
   {
    "duration": 12,
    "start_time": "2023-09-10T14:16:15.987Z"
   },
   {
    "duration": 33,
    "start_time": "2023-09-10T14:16:16.002Z"
   },
   {
    "duration": 41,
    "start_time": "2023-09-10T14:16:16.037Z"
   },
   {
    "duration": 38,
    "start_time": "2023-09-10T14:16:16.080Z"
   },
   {
    "duration": 23,
    "start_time": "2023-09-10T14:16:16.120Z"
   },
   {
    "duration": 23,
    "start_time": "2023-09-10T14:16:16.144Z"
   },
   {
    "duration": 16,
    "start_time": "2023-09-10T14:16:16.169Z"
   },
   {
    "duration": 13,
    "start_time": "2023-09-10T14:16:16.187Z"
   },
   {
    "duration": 19,
    "start_time": "2023-09-10T14:16:16.202Z"
   },
   {
    "duration": 16,
    "start_time": "2023-09-10T14:16:16.222Z"
   },
   {
    "duration": 11,
    "start_time": "2023-09-10T14:16:16.239Z"
   },
   {
    "duration": 21,
    "start_time": "2023-09-10T14:16:16.251Z"
   },
   {
    "duration": 14,
    "start_time": "2023-09-10T14:16:16.274Z"
   },
   {
    "duration": 11,
    "start_time": "2023-09-10T14:16:16.289Z"
   },
   {
    "duration": 4,
    "start_time": "2023-09-10T14:16:16.302Z"
   },
   {
    "duration": 8,
    "start_time": "2023-09-10T14:16:16.307Z"
   },
   {
    "duration": 18,
    "start_time": "2023-09-10T14:16:16.317Z"
   },
   {
    "duration": 21,
    "start_time": "2023-09-10T14:16:16.336Z"
   },
   {
    "duration": 30,
    "start_time": "2023-09-10T14:16:16.359Z"
   },
   {
    "duration": 7,
    "start_time": "2023-09-10T14:16:16.391Z"
   },
   {
    "duration": 24,
    "start_time": "2023-09-10T14:16:16.399Z"
   },
   {
    "duration": 14,
    "start_time": "2023-09-10T14:16:16.425Z"
   },
   {
    "duration": 34,
    "start_time": "2023-09-10T14:16:16.440Z"
   },
   {
    "duration": 9,
    "start_time": "2023-09-10T14:16:16.476Z"
   },
   {
    "duration": 174,
    "start_time": "2023-09-10T14:16:16.486Z"
   },
   {
    "duration": 121,
    "start_time": "2023-09-10T14:16:16.662Z"
   },
   {
    "duration": 24,
    "start_time": "2023-09-10T14:16:16.785Z"
   },
   {
    "duration": 12,
    "start_time": "2023-09-10T14:16:16.811Z"
   },
   {
    "duration": 31,
    "start_time": "2023-09-10T14:16:16.827Z"
   },
   {
    "duration": 348,
    "start_time": "2023-09-10T14:16:16.860Z"
   },
   {
    "duration": 258,
    "start_time": "2023-09-10T14:16:17.210Z"
   },
   {
    "duration": 342,
    "start_time": "2023-09-10T14:16:17.470Z"
   },
   {
    "duration": 11,
    "start_time": "2023-09-10T14:16:17.814Z"
   },
   {
    "duration": 21,
    "start_time": "2023-09-10T14:16:17.826Z"
   },
   {
    "duration": 145,
    "start_time": "2023-09-10T14:16:17.849Z"
   },
   {
    "duration": 155,
    "start_time": "2023-09-10T14:16:17.995Z"
   },
   {
    "duration": 4,
    "start_time": "2023-09-10T14:16:18.151Z"
   },
   {
    "duration": 205,
    "start_time": "2023-09-10T14:16:18.157Z"
   },
   {
    "duration": 4,
    "start_time": "2023-09-10T14:16:18.363Z"
   },
   {
    "duration": 180,
    "start_time": "2023-09-10T14:16:18.368Z"
   },
   {
    "duration": 3,
    "start_time": "2023-09-10T14:16:18.550Z"
   },
   {
    "duration": 279,
    "start_time": "2023-09-10T14:16:18.555Z"
   },
   {
    "duration": 128,
    "start_time": "2023-09-10T14:16:18.836Z"
   },
   {
    "duration": 6,
    "start_time": "2023-09-10T14:16:18.966Z"
   },
   {
    "duration": 36,
    "start_time": "2023-09-10T14:16:18.973Z"
   },
   {
    "duration": 10,
    "start_time": "2023-09-10T14:16:19.010Z"
   },
   {
    "duration": 26,
    "start_time": "2023-09-10T14:16:19.021Z"
   },
   {
    "duration": 40,
    "start_time": "2023-09-10T14:16:19.049Z"
   },
   {
    "duration": 15,
    "start_time": "2023-09-10T14:16:19.091Z"
   },
   {
    "duration": 45,
    "start_time": "2023-09-11T05:22:17.524Z"
   },
   {
    "duration": 1370,
    "start_time": "2023-09-11T05:22:24.022Z"
   },
   {
    "duration": 3,
    "start_time": "2023-09-11T05:22:25.394Z"
   },
   {
    "duration": 84,
    "start_time": "2023-09-11T05:22:25.398Z"
   },
   {
    "duration": 245,
    "start_time": "2023-09-11T05:22:25.485Z"
   },
   {
    "duration": 14,
    "start_time": "2023-09-11T05:22:25.733Z"
   },
   {
    "duration": 48,
    "start_time": "2023-09-11T05:22:25.750Z"
   },
   {
    "duration": 15,
    "start_time": "2023-09-11T05:22:25.801Z"
   },
   {
    "duration": 30,
    "start_time": "2023-09-11T05:22:25.818Z"
   },
   {
    "duration": 29,
    "start_time": "2023-09-11T05:22:25.850Z"
   },
   {
    "duration": 52,
    "start_time": "2023-09-11T05:22:25.882Z"
   },
   {
    "duration": 36,
    "start_time": "2023-09-11T05:22:25.935Z"
   },
   {
    "duration": 12,
    "start_time": "2023-09-11T05:22:25.973Z"
   },
   {
    "duration": 16,
    "start_time": "2023-09-11T05:22:25.986Z"
   },
   {
    "duration": 53,
    "start_time": "2023-09-11T05:22:26.004Z"
   },
   {
    "duration": 56,
    "start_time": "2023-09-11T05:22:26.058Z"
   },
   {
    "duration": 44,
    "start_time": "2023-09-11T05:22:26.115Z"
   },
   {
    "duration": 34,
    "start_time": "2023-09-11T05:22:26.160Z"
   },
   {
    "duration": 65,
    "start_time": "2023-09-11T05:22:26.196Z"
   },
   {
    "duration": 51,
    "start_time": "2023-09-11T05:22:26.262Z"
   },
   {
    "duration": 146,
    "start_time": "2023-09-11T05:22:26.314Z"
   },
   {
    "duration": 30,
    "start_time": "2023-09-11T05:22:26.462Z"
   },
   {
    "duration": 23,
    "start_time": "2023-09-11T05:22:26.494Z"
   },
   {
    "duration": 23,
    "start_time": "2023-09-11T05:22:26.519Z"
   },
   {
    "duration": 57,
    "start_time": "2023-09-11T05:22:26.543Z"
   },
   {
    "duration": 27,
    "start_time": "2023-09-11T05:22:26.601Z"
   },
   {
    "duration": 32,
    "start_time": "2023-09-11T05:22:26.629Z"
   },
   {
    "duration": 38,
    "start_time": "2023-09-11T05:22:26.662Z"
   },
   {
    "duration": 45,
    "start_time": "2023-09-11T05:22:26.703Z"
   },
   {
    "duration": 20,
    "start_time": "2023-09-11T05:22:26.749Z"
   },
   {
    "duration": 35,
    "start_time": "2023-09-11T05:22:26.770Z"
   },
   {
    "duration": 34,
    "start_time": "2023-09-11T05:22:26.807Z"
   },
   {
    "duration": 24,
    "start_time": "2023-09-11T05:22:26.843Z"
   },
   {
    "duration": 5,
    "start_time": "2023-09-11T05:22:26.868Z"
   },
   {
    "duration": 18,
    "start_time": "2023-09-11T05:22:26.875Z"
   },
   {
    "duration": 11,
    "start_time": "2023-09-11T05:22:26.894Z"
   },
   {
    "duration": 15,
    "start_time": "2023-09-11T05:22:26.907Z"
   },
   {
    "duration": 20,
    "start_time": "2023-09-11T05:22:26.924Z"
   },
   {
    "duration": 180,
    "start_time": "2023-09-11T05:22:26.946Z"
   },
   {
    "duration": 128,
    "start_time": "2023-09-11T05:22:27.128Z"
   },
   {
    "duration": 7,
    "start_time": "2023-09-11T05:22:27.257Z"
   },
   {
    "duration": 95,
    "start_time": "2023-09-11T05:22:27.265Z"
   },
   {
    "duration": 66,
    "start_time": "2023-09-11T05:22:27.362Z"
   },
   {
    "duration": 457,
    "start_time": "2023-09-11T05:22:27.430Z"
   },
   {
    "duration": 277,
    "start_time": "2023-09-11T05:22:27.888Z"
   },
   {
    "duration": 366,
    "start_time": "2023-09-11T05:22:28.167Z"
   },
   {
    "duration": 11,
    "start_time": "2023-09-11T05:22:28.534Z"
   },
   {
    "duration": 17,
    "start_time": "2023-09-11T05:22:28.546Z"
   },
   {
    "duration": 171,
    "start_time": "2023-09-11T05:22:28.564Z"
   },
   {
    "duration": 167,
    "start_time": "2023-09-11T05:22:28.736Z"
   },
   {
    "duration": 4,
    "start_time": "2023-09-11T05:22:28.905Z"
   },
   {
    "duration": 232,
    "start_time": "2023-09-11T05:22:28.910Z"
   },
   {
    "duration": 4,
    "start_time": "2023-09-11T05:22:29.144Z"
   },
   {
    "duration": 252,
    "start_time": "2023-09-11T05:22:29.150Z"
   },
   {
    "duration": 4,
    "start_time": "2023-09-11T05:22:29.403Z"
   },
   {
    "duration": 316,
    "start_time": "2023-09-11T05:22:29.409Z"
   },
   {
    "duration": 125,
    "start_time": "2023-09-11T05:22:29.727Z"
   },
   {
    "duration": 7,
    "start_time": "2023-09-11T05:22:29.853Z"
   },
   {
    "duration": 102,
    "start_time": "2023-09-11T05:22:29.861Z"
   },
   {
    "duration": 14,
    "start_time": "2023-09-11T05:22:29.965Z"
   },
   {
    "duration": 76,
    "start_time": "2023-09-11T05:22:29.982Z"
   },
   {
    "duration": 124,
    "start_time": "2023-09-11T05:22:30.060Z"
   },
   {
    "duration": 25,
    "start_time": "2023-09-11T05:22:30.187Z"
   },
   {
    "duration": 92,
    "start_time": "2023-09-11T05:25:03.082Z"
   },
   {
    "duration": 7,
    "start_time": "2023-09-11T05:25:09.027Z"
   },
   {
    "duration": 6,
    "start_time": "2023-09-11T05:25:09.749Z"
   },
   {
    "duration": 9,
    "start_time": "2023-09-11T05:29:31.801Z"
   },
   {
    "duration": 10,
    "start_time": "2023-09-11T05:29:45.198Z"
   },
   {
    "duration": 111,
    "start_time": "2023-09-11T05:30:18.538Z"
   },
   {
    "duration": 10,
    "start_time": "2023-09-11T05:30:36.418Z"
   },
   {
    "duration": 11,
    "start_time": "2023-09-11T05:30:44.933Z"
   },
   {
    "duration": 12,
    "start_time": "2023-09-11T05:30:53.192Z"
   },
   {
    "duration": 3,
    "start_time": "2023-09-11T05:31:16.489Z"
   },
   {
    "duration": 11,
    "start_time": "2023-09-11T05:31:21.322Z"
   },
   {
    "duration": 9,
    "start_time": "2023-09-11T05:32:01.293Z"
   },
   {
    "duration": 1537,
    "start_time": "2023-09-11T05:32:11.114Z"
   },
   {
    "duration": 11,
    "start_time": "2023-09-11T05:32:40.813Z"
   },
   {
    "duration": 1270,
    "start_time": "2023-09-11T05:33:06.879Z"
   },
   {
    "duration": 9,
    "start_time": "2023-09-11T05:33:27.347Z"
   },
   {
    "duration": 1282,
    "start_time": "2023-09-11T05:33:47.531Z"
   },
   {
    "duration": 112,
    "start_time": "2023-09-11T06:09:30.812Z"
   },
   {
    "duration": 8,
    "start_time": "2023-09-11T06:09:31.343Z"
   },
   {
    "duration": 8,
    "start_time": "2023-09-11T06:09:41.811Z"
   },
   {
    "duration": 9,
    "start_time": "2023-09-11T06:09:43.004Z"
   },
   {
    "duration": 4,
    "start_time": "2023-09-11T06:10:00.969Z"
   },
   {
    "duration": 30,
    "start_time": "2023-09-11T06:10:13.405Z"
   },
   {
    "duration": 5,
    "start_time": "2023-09-11T06:10:24.061Z"
   },
   {
    "duration": 4,
    "start_time": "2023-09-11T06:11:21.562Z"
   },
   {
    "duration": 6,
    "start_time": "2023-09-11T06:11:24.691Z"
   },
   {
    "duration": 5,
    "start_time": "2023-09-11T06:11:25.738Z"
   },
   {
    "duration": 9,
    "start_time": "2023-09-11T06:12:07.791Z"
   },
   {
    "duration": 6,
    "start_time": "2023-09-11T06:12:09.143Z"
   },
   {
    "duration": 3,
    "start_time": "2023-09-11T06:12:10.758Z"
   },
   {
    "duration": 1319,
    "start_time": "2023-09-11T06:12:17.851Z"
   },
   {
    "duration": 4,
    "start_time": "2023-09-11T06:12:19.172Z"
   },
   {
    "duration": 17,
    "start_time": "2023-09-11T06:12:19.178Z"
   },
   {
    "duration": 89,
    "start_time": "2023-09-11T06:12:19.198Z"
   },
   {
    "duration": 12,
    "start_time": "2023-09-11T06:12:19.289Z"
   },
   {
    "duration": 254,
    "start_time": "2023-09-11T06:12:19.303Z"
   },
   {
    "duration": 74,
    "start_time": "2023-09-11T06:12:19.558Z"
   },
   {
    "duration": 117,
    "start_time": "2023-09-11T06:12:19.635Z"
   },
   {
    "duration": 97,
    "start_time": "2023-09-11T06:12:19.754Z"
   },
   {
    "duration": 64,
    "start_time": "2023-09-11T06:12:19.854Z"
   },
   {
    "duration": 39,
    "start_time": "2023-09-11T06:12:19.919Z"
   },
   {
    "duration": 130,
    "start_time": "2023-09-11T06:12:19.959Z"
   },
   {
    "duration": 60,
    "start_time": "2023-09-11T06:12:20.091Z"
   },
   {
    "duration": 34,
    "start_time": "2023-09-11T06:12:20.153Z"
   },
   {
    "duration": 20,
    "start_time": "2023-09-11T06:12:20.189Z"
   },
   {
    "duration": 13,
    "start_time": "2023-09-11T06:12:20.211Z"
   },
   {
    "duration": 15,
    "start_time": "2023-09-11T06:12:20.227Z"
   },
   {
    "duration": 12,
    "start_time": "2023-09-11T06:12:20.246Z"
   },
   {
    "duration": 8,
    "start_time": "2023-09-11T06:12:20.260Z"
   },
   {
    "duration": 11,
    "start_time": "2023-09-11T06:12:20.270Z"
   },
   {
    "duration": 29,
    "start_time": "2023-09-11T06:12:20.283Z"
   },
   {
    "duration": 31,
    "start_time": "2023-09-11T06:12:20.313Z"
   },
   {
    "duration": 13,
    "start_time": "2023-09-11T06:12:20.349Z"
   },
   {
    "duration": 45,
    "start_time": "2023-09-11T06:12:20.364Z"
   },
   {
    "duration": 35,
    "start_time": "2023-09-11T06:12:20.410Z"
   },
   {
    "duration": 7,
    "start_time": "2023-09-11T06:12:20.449Z"
   },
   {
    "duration": 6,
    "start_time": "2023-09-11T06:12:20.458Z"
   },
   {
    "duration": 14,
    "start_time": "2023-09-11T06:12:20.469Z"
   },
   {
    "duration": 30,
    "start_time": "2023-09-11T06:12:20.485Z"
   },
   {
    "duration": 24,
    "start_time": "2023-09-11T06:12:20.517Z"
   },
   {
    "duration": 20,
    "start_time": "2023-09-11T06:12:20.543Z"
   },
   {
    "duration": 14,
    "start_time": "2023-09-11T06:12:20.565Z"
   },
   {
    "duration": 17,
    "start_time": "2023-09-11T06:12:20.581Z"
   },
   {
    "duration": 11,
    "start_time": "2023-09-11T06:12:20.601Z"
   },
   {
    "duration": 29,
    "start_time": "2023-09-11T06:12:20.613Z"
   },
   {
    "duration": 9,
    "start_time": "2023-09-11T06:12:20.645Z"
   },
   {
    "duration": 81,
    "start_time": "2023-09-11T06:12:20.656Z"
   },
   {
    "duration": 0,
    "start_time": "2023-09-11T06:12:20.740Z"
   },
   {
    "duration": 0,
    "start_time": "2023-09-11T06:12:20.742Z"
   },
   {
    "duration": 0,
    "start_time": "2023-09-11T06:12:20.743Z"
   },
   {
    "duration": 0,
    "start_time": "2023-09-11T06:12:20.745Z"
   },
   {
    "duration": 0,
    "start_time": "2023-09-11T06:12:20.747Z"
   },
   {
    "duration": 0,
    "start_time": "2023-09-11T06:12:20.749Z"
   },
   {
    "duration": 0,
    "start_time": "2023-09-11T06:12:20.750Z"
   },
   {
    "duration": 0,
    "start_time": "2023-09-11T06:12:20.752Z"
   },
   {
    "duration": 0,
    "start_time": "2023-09-11T06:12:20.753Z"
   },
   {
    "duration": 0,
    "start_time": "2023-09-11T06:12:20.755Z"
   },
   {
    "duration": 0,
    "start_time": "2023-09-11T06:12:20.756Z"
   },
   {
    "duration": 0,
    "start_time": "2023-09-11T06:12:20.757Z"
   },
   {
    "duration": 0,
    "start_time": "2023-09-11T06:12:20.759Z"
   },
   {
    "duration": 0,
    "start_time": "2023-09-11T06:12:20.760Z"
   },
   {
    "duration": 0,
    "start_time": "2023-09-11T06:12:20.761Z"
   },
   {
    "duration": 0,
    "start_time": "2023-09-11T06:12:20.763Z"
   },
   {
    "duration": 0,
    "start_time": "2023-09-11T06:12:20.765Z"
   },
   {
    "duration": 0,
    "start_time": "2023-09-11T06:12:20.766Z"
   },
   {
    "duration": 0,
    "start_time": "2023-09-11T06:12:20.767Z"
   },
   {
    "duration": 0,
    "start_time": "2023-09-11T06:12:20.769Z"
   },
   {
    "duration": 0,
    "start_time": "2023-09-11T06:12:20.770Z"
   },
   {
    "duration": 0,
    "start_time": "2023-09-11T06:12:20.771Z"
   },
   {
    "duration": 0,
    "start_time": "2023-09-11T06:12:20.774Z"
   },
   {
    "duration": 0,
    "start_time": "2023-09-11T06:12:20.775Z"
   },
   {
    "duration": 0,
    "start_time": "2023-09-11T06:12:20.776Z"
   },
   {
    "duration": 0,
    "start_time": "2023-09-11T06:12:20.778Z"
   },
   {
    "duration": 0,
    "start_time": "2023-09-11T06:12:20.823Z"
   },
   {
    "duration": 0,
    "start_time": "2023-09-11T06:12:20.825Z"
   },
   {
    "duration": 0,
    "start_time": "2023-09-11T06:12:20.827Z"
   },
   {
    "duration": 0,
    "start_time": "2023-09-11T06:12:20.831Z"
   },
   {
    "duration": 105,
    "start_time": "2023-09-11T06:18:34.242Z"
   },
   {
    "duration": 14,
    "start_time": "2023-09-11T06:18:39.368Z"
   },
   {
    "duration": 6,
    "start_time": "2023-09-11T06:19:28.530Z"
   },
   {
    "duration": 11,
    "start_time": "2023-09-11T06:19:31.090Z"
   },
   {
    "duration": 9,
    "start_time": "2023-09-11T06:20:29.537Z"
   },
   {
    "duration": 12,
    "start_time": "2023-09-11T06:20:30.101Z"
   },
   {
    "duration": 1333,
    "start_time": "2023-09-11T06:21:10.146Z"
   },
   {
    "duration": 3,
    "start_time": "2023-09-11T06:21:11.481Z"
   },
   {
    "duration": 29,
    "start_time": "2023-09-11T06:21:11.485Z"
   },
   {
    "duration": 95,
    "start_time": "2023-09-11T06:21:11.516Z"
   },
   {
    "duration": 13,
    "start_time": "2023-09-11T06:21:11.612Z"
   },
   {
    "duration": 35,
    "start_time": "2023-09-11T06:21:11.628Z"
   },
   {
    "duration": 25,
    "start_time": "2023-09-11T06:21:11.665Z"
   },
   {
    "duration": 19,
    "start_time": "2023-09-11T06:21:11.692Z"
   },
   {
    "duration": 28,
    "start_time": "2023-09-11T06:21:11.713Z"
   },
   {
    "duration": 21,
    "start_time": "2023-09-11T06:21:11.744Z"
   },
   {
    "duration": 15,
    "start_time": "2023-09-11T06:21:11.767Z"
   },
   {
    "duration": 11,
    "start_time": "2023-09-11T06:21:11.784Z"
   },
   {
    "duration": 21,
    "start_time": "2023-09-11T06:21:11.797Z"
   },
   {
    "duration": 16,
    "start_time": "2023-09-11T06:21:11.820Z"
   },
   {
    "duration": 35,
    "start_time": "2023-09-11T06:21:11.838Z"
   },
   {
    "duration": 34,
    "start_time": "2023-09-11T06:21:11.875Z"
   },
   {
    "duration": 16,
    "start_time": "2023-09-11T06:21:11.911Z"
   },
   {
    "duration": 20,
    "start_time": "2023-09-11T06:21:11.928Z"
   },
   {
    "duration": 25,
    "start_time": "2023-09-11T06:21:11.950Z"
   },
   {
    "duration": 17,
    "start_time": "2023-09-11T06:21:11.977Z"
   },
   {
    "duration": 21,
    "start_time": "2023-09-11T06:21:11.995Z"
   },
   {
    "duration": 38,
    "start_time": "2023-09-11T06:21:12.017Z"
   },
   {
    "duration": 30,
    "start_time": "2023-09-11T06:21:12.057Z"
   },
   {
    "duration": 14,
    "start_time": "2023-09-11T06:21:12.089Z"
   },
   {
    "duration": 30,
    "start_time": "2023-09-11T06:21:12.105Z"
   },
   {
    "duration": 23,
    "start_time": "2023-09-11T06:21:12.137Z"
   },
   {
    "duration": 30,
    "start_time": "2023-09-11T06:21:12.162Z"
   },
   {
    "duration": 20,
    "start_time": "2023-09-11T06:21:12.195Z"
   },
   {
    "duration": 41,
    "start_time": "2023-09-11T06:21:12.216Z"
   },
   {
    "duration": 28,
    "start_time": "2023-09-11T06:21:12.258Z"
   },
   {
    "duration": 28,
    "start_time": "2023-09-11T06:21:12.288Z"
   },
   {
    "duration": 35,
    "start_time": "2023-09-11T06:21:12.317Z"
   },
   {
    "duration": 30,
    "start_time": "2023-09-11T06:21:12.354Z"
   },
   {
    "duration": 27,
    "start_time": "2023-09-11T06:21:12.386Z"
   },
   {
    "duration": 42,
    "start_time": "2023-09-11T06:21:12.415Z"
   },
   {
    "duration": 28,
    "start_time": "2023-09-11T06:21:12.458Z"
   },
   {
    "duration": 40,
    "start_time": "2023-09-11T06:21:12.487Z"
   },
   {
    "duration": 22,
    "start_time": "2023-09-11T06:21:12.530Z"
   },
   {
    "duration": 15,
    "start_time": "2023-09-11T06:21:12.554Z"
   },
   {
    "duration": 7,
    "start_time": "2023-09-11T06:21:12.571Z"
   },
   {
    "duration": 183,
    "start_time": "2023-09-11T06:21:12.580Z"
   },
   {
    "duration": 129,
    "start_time": "2023-09-11T06:21:12.765Z"
   },
   {
    "duration": 8,
    "start_time": "2023-09-11T06:21:12.896Z"
   },
   {
    "duration": 5,
    "start_time": "2023-09-11T06:21:12.929Z"
   },
   {
    "duration": 39,
    "start_time": "2023-09-11T06:21:12.936Z"
   },
   {
    "duration": 420,
    "start_time": "2023-09-11T06:21:12.977Z"
   },
   {
    "duration": 301,
    "start_time": "2023-09-11T06:21:13.399Z"
   },
   {
    "duration": 403,
    "start_time": "2023-09-11T06:21:13.702Z"
   },
   {
    "duration": 26,
    "start_time": "2023-09-11T06:21:14.106Z"
   },
   {
    "duration": 8,
    "start_time": "2023-09-11T06:21:14.135Z"
   },
   {
    "duration": 231,
    "start_time": "2023-09-11T06:21:14.145Z"
   },
   {
    "duration": 182,
    "start_time": "2023-09-11T06:21:14.378Z"
   },
   {
    "duration": 4,
    "start_time": "2023-09-11T06:21:14.562Z"
   },
   {
    "duration": 212,
    "start_time": "2023-09-11T06:21:14.567Z"
   },
   {
    "duration": 4,
    "start_time": "2023-09-11T06:21:14.780Z"
   },
   {
    "duration": 196,
    "start_time": "2023-09-11T06:21:14.785Z"
   },
   {
    "duration": 4,
    "start_time": "2023-09-11T06:21:14.983Z"
   },
   {
    "duration": 379,
    "start_time": "2023-09-11T06:21:14.989Z"
   },
   {
    "duration": 159,
    "start_time": "2023-09-11T06:21:15.370Z"
   },
   {
    "duration": 11,
    "start_time": "2023-09-11T06:21:15.531Z"
   },
   {
    "duration": 40,
    "start_time": "2023-09-11T06:21:15.545Z"
   },
   {
    "duration": 45,
    "start_time": "2023-09-11T06:21:15.587Z"
   },
   {
    "duration": 21,
    "start_time": "2023-09-11T06:21:15.635Z"
   },
   {
    "duration": 37,
    "start_time": "2023-09-11T06:21:15.657Z"
   },
   {
    "duration": 14,
    "start_time": "2023-09-11T06:21:15.696Z"
   },
   {
    "duration": 394,
    "start_time": "2023-09-11T06:23:08.950Z"
   },
   {
    "duration": 268,
    "start_time": "2023-09-11T06:23:16.450Z"
   },
   {
    "duration": 286,
    "start_time": "2023-09-11T06:29:13.660Z"
   },
   {
    "duration": 342,
    "start_time": "2023-09-11T06:33:47.437Z"
   },
   {
    "duration": 338,
    "start_time": "2023-09-11T06:34:12.747Z"
   },
   {
    "duration": 367,
    "start_time": "2023-09-11T06:34:34.663Z"
   },
   {
    "duration": 349,
    "start_time": "2023-09-11T06:35:18.969Z"
   },
   {
    "duration": 3,
    "start_time": "2023-09-11T06:51:30.660Z"
   },
   {
    "duration": 196,
    "start_time": "2023-09-11T06:57:04.209Z"
   },
   {
    "duration": 350,
    "start_time": "2023-09-11T06:58:16.016Z"
   },
   {
    "duration": 317,
    "start_time": "2023-09-11T06:58:31.439Z"
   },
   {
    "duration": 383,
    "start_time": "2023-09-11T07:01:11.773Z"
   },
   {
    "duration": 14,
    "start_time": "2023-09-11T07:03:09.448Z"
   },
   {
    "duration": 325,
    "start_time": "2023-09-11T07:04:12.452Z"
   },
   {
    "duration": 13,
    "start_time": "2023-09-11T07:06:06.709Z"
   },
   {
    "duration": 1907,
    "start_time": "2023-09-11T07:09:14.464Z"
   },
   {
    "duration": 2099,
    "start_time": "2023-09-11T07:09:28.990Z"
   },
   {
    "duration": 6,
    "start_time": "2023-09-11T07:10:03.993Z"
   },
   {
    "duration": 6,
    "start_time": "2023-09-11T07:10:23.491Z"
   },
   {
    "duration": 352,
    "start_time": "2023-09-11T07:10:30.989Z"
   },
   {
    "duration": 491,
    "start_time": "2023-09-11T07:10:40.603Z"
   },
   {
    "duration": 427,
    "start_time": "2023-09-11T07:10:43.404Z"
   },
   {
    "duration": 357,
    "start_time": "2023-09-11T07:10:47.972Z"
   },
   {
    "duration": 419,
    "start_time": "2023-09-11T07:12:01.202Z"
   },
   {
    "duration": 440,
    "start_time": "2023-09-11T07:13:06.750Z"
   },
   {
    "duration": 464,
    "start_time": "2023-09-11T07:13:34.365Z"
   },
   {
    "duration": 462,
    "start_time": "2023-09-11T07:13:42.258Z"
   },
   {
    "duration": 7,
    "start_time": "2023-09-11T07:16:27.579Z"
   },
   {
    "duration": 18,
    "start_time": "2023-09-11T07:16:36.880Z"
   },
   {
    "duration": 371,
    "start_time": "2023-09-11T07:17:40.474Z"
   },
   {
    "duration": 510,
    "start_time": "2023-09-11T07:19:28.202Z"
   },
   {
    "duration": 516,
    "start_time": "2023-09-11T07:19:45.653Z"
   },
   {
    "duration": 459,
    "start_time": "2023-09-11T07:20:41.488Z"
   },
   {
    "duration": 439,
    "start_time": "2023-09-11T07:21:51.074Z"
   },
   {
    "duration": 108,
    "start_time": "2023-09-11T07:33:00.848Z"
   },
   {
    "duration": 388,
    "start_time": "2023-09-11T07:34:21.637Z"
   },
   {
    "duration": 463,
    "start_time": "2023-09-11T07:34:42.988Z"
   },
   {
    "duration": 205,
    "start_time": "2023-09-11T07:39:45.847Z"
   },
   {
    "duration": 209,
    "start_time": "2023-09-11T07:39:57.977Z"
   },
   {
    "duration": 377,
    "start_time": "2023-09-11T07:46:56.166Z"
   },
   {
    "duration": 6,
    "start_time": "2023-09-11T07:47:13.705Z"
   },
   {
    "duration": 216,
    "start_time": "2023-09-11T07:47:34.846Z"
   },
   {
    "duration": 208,
    "start_time": "2023-09-11T07:48:05.287Z"
   },
   {
    "duration": 210,
    "start_time": "2023-09-11T07:48:16.859Z"
   },
   {
    "duration": 216,
    "start_time": "2023-09-11T07:48:57.945Z"
   },
   {
    "duration": 217,
    "start_time": "2023-09-11T07:49:13.921Z"
   },
   {
    "duration": 351,
    "start_time": "2023-09-11T07:49:26.344Z"
   },
   {
    "duration": 218,
    "start_time": "2023-09-11T07:49:28.061Z"
   },
   {
    "duration": 219,
    "start_time": "2023-09-11T07:50:23.067Z"
   },
   {
    "duration": 212,
    "start_time": "2023-09-11T07:51:05.491Z"
   },
   {
    "duration": 191,
    "start_time": "2023-09-11T07:51:21.018Z"
   },
   {
    "duration": 174,
    "start_time": "2023-09-11T07:51:35.275Z"
   },
   {
    "duration": 195,
    "start_time": "2023-09-11T07:51:59.187Z"
   },
   {
    "duration": 169,
    "start_time": "2023-09-11T07:52:03.013Z"
   },
   {
    "duration": 174,
    "start_time": "2023-09-11T07:52:16.749Z"
   },
   {
    "duration": 1403,
    "start_time": "2023-09-11T07:52:39.695Z"
   },
   {
    "duration": 3,
    "start_time": "2023-09-11T07:52:41.100Z"
   },
   {
    "duration": 12,
    "start_time": "2023-09-11T07:52:41.105Z"
   },
   {
    "duration": 84,
    "start_time": "2023-09-11T07:52:41.119Z"
   },
   {
    "duration": 12,
    "start_time": "2023-09-11T07:52:41.205Z"
   },
   {
    "duration": 36,
    "start_time": "2023-09-11T07:52:41.218Z"
   },
   {
    "duration": 12,
    "start_time": "2023-09-11T07:52:41.256Z"
   },
   {
    "duration": 11,
    "start_time": "2023-09-11T07:52:41.270Z"
   },
   {
    "duration": 33,
    "start_time": "2023-09-11T07:52:41.283Z"
   },
   {
    "duration": 19,
    "start_time": "2023-09-11T07:52:41.320Z"
   },
   {
    "duration": 18,
    "start_time": "2023-09-11T07:52:41.341Z"
   },
   {
    "duration": 15,
    "start_time": "2023-09-11T07:52:41.361Z"
   },
   {
    "duration": 8,
    "start_time": "2023-09-11T07:52:41.377Z"
   },
   {
    "duration": 12,
    "start_time": "2023-09-11T07:52:41.386Z"
   },
   {
    "duration": 35,
    "start_time": "2023-09-11T07:52:41.400Z"
   },
   {
    "duration": 12,
    "start_time": "2023-09-11T07:52:41.437Z"
   },
   {
    "duration": 8,
    "start_time": "2023-09-11T07:52:41.450Z"
   },
   {
    "duration": 15,
    "start_time": "2023-09-11T07:52:41.459Z"
   },
   {
    "duration": 35,
    "start_time": "2023-09-11T07:52:41.476Z"
   },
   {
    "duration": 40,
    "start_time": "2023-09-11T07:52:41.513Z"
   },
   {
    "duration": 18,
    "start_time": "2023-09-11T07:52:41.555Z"
   },
   {
    "duration": 14,
    "start_time": "2023-09-11T07:52:41.574Z"
   },
   {
    "duration": 17,
    "start_time": "2023-09-11T07:52:41.589Z"
   },
   {
    "duration": 28,
    "start_time": "2023-09-11T07:52:41.607Z"
   },
   {
    "duration": 13,
    "start_time": "2023-09-11T07:52:41.637Z"
   },
   {
    "duration": 24,
    "start_time": "2023-09-11T07:52:41.651Z"
   },
   {
    "duration": 18,
    "start_time": "2023-09-11T07:52:41.676Z"
   },
   {
    "duration": 11,
    "start_time": "2023-09-11T07:52:41.698Z"
   },
   {
    "duration": 52,
    "start_time": "2023-09-11T07:52:41.711Z"
   },
   {
    "duration": 34,
    "start_time": "2023-09-11T07:52:41.764Z"
   },
   {
    "duration": 34,
    "start_time": "2023-09-11T07:52:41.800Z"
   },
   {
    "duration": 51,
    "start_time": "2023-09-11T07:52:41.836Z"
   },
   {
    "duration": 30,
    "start_time": "2023-09-11T07:52:41.888Z"
   },
   {
    "duration": 69,
    "start_time": "2023-09-11T07:52:41.920Z"
   },
   {
    "duration": 28,
    "start_time": "2023-09-11T07:52:41.991Z"
   },
   {
    "duration": 42,
    "start_time": "2023-09-11T07:52:42.021Z"
   },
   {
    "duration": 22,
    "start_time": "2023-09-11T07:52:42.064Z"
   },
   {
    "duration": 10,
    "start_time": "2023-09-11T07:52:42.088Z"
   },
   {
    "duration": 23,
    "start_time": "2023-09-11T07:52:42.099Z"
   },
   {
    "duration": 18,
    "start_time": "2023-09-11T07:52:42.125Z"
   },
   {
    "duration": 232,
    "start_time": "2023-09-11T07:52:42.145Z"
   },
   {
    "duration": 160,
    "start_time": "2023-09-11T07:52:42.378Z"
   },
   {
    "duration": 10,
    "start_time": "2023-09-11T07:52:42.541Z"
   },
   {
    "duration": 56,
    "start_time": "2023-09-11T07:52:42.552Z"
   },
   {
    "duration": 40,
    "start_time": "2023-09-11T07:52:42.610Z"
   },
   {
    "duration": 31,
    "start_time": "2023-09-11T07:52:42.653Z"
   },
   {
    "duration": 434,
    "start_time": "2023-09-11T07:52:42.685Z"
   },
   {
    "duration": 339,
    "start_time": "2023-09-11T07:52:43.124Z"
   },
   {
    "duration": 389,
    "start_time": "2023-09-11T07:52:43.465Z"
   },
   {
    "duration": 417,
    "start_time": "2023-09-11T07:52:43.855Z"
   },
   {
    "duration": 440,
    "start_time": "2023-09-11T07:52:44.273Z"
   },
   {
    "duration": 18,
    "start_time": "2023-09-11T07:52:44.714Z"
   },
   {
    "duration": 242,
    "start_time": "2023-09-11T07:52:44.735Z"
   },
   {
    "duration": 221,
    "start_time": "2023-09-11T07:52:44.980Z"
   },
   {
    "duration": 5,
    "start_time": "2023-09-11T07:52:45.203Z"
   },
   {
    "duration": 319,
    "start_time": "2023-09-11T07:52:45.223Z"
   },
   {
    "duration": 5,
    "start_time": "2023-09-11T07:52:45.545Z"
   },
   {
    "duration": 336,
    "start_time": "2023-09-11T07:52:45.552Z"
   },
   {
    "duration": 47,
    "start_time": "2023-09-11T07:52:45.890Z"
   },
   {
    "duration": 273,
    "start_time": "2023-09-11T07:52:45.943Z"
   },
   {
    "duration": 216,
    "start_time": "2023-09-11T07:52:46.218Z"
   },
   {
    "duration": 15,
    "start_time": "2023-09-11T07:52:46.437Z"
   },
   {
    "duration": 19,
    "start_time": "2023-09-11T07:52:46.455Z"
   },
   {
    "duration": 54,
    "start_time": "2023-09-11T07:52:46.477Z"
   },
   {
    "duration": 17,
    "start_time": "2023-09-11T07:52:46.534Z"
   },
   {
    "duration": 19,
    "start_time": "2023-09-11T07:52:46.553Z"
   },
   {
    "duration": 24,
    "start_time": "2023-09-11T07:52:46.573Z"
   },
   {
    "duration": 34,
    "start_time": "2023-09-11T07:52:46.598Z"
   },
   {
    "duration": 192,
    "start_time": "2023-09-11T07:53:15.637Z"
   },
   {
    "duration": 190,
    "start_time": "2023-09-11T07:53:48.355Z"
   },
   {
    "duration": 13,
    "start_time": "2023-09-11T07:56:12.613Z"
   },
   {
    "duration": 12,
    "start_time": "2023-09-11T07:58:55.400Z"
   },
   {
    "duration": 506,
    "start_time": "2023-09-11T07:59:46.650Z"
   },
   {
    "duration": 4,
    "start_time": "2023-09-11T08:01:35.499Z"
   },
   {
    "duration": 94,
    "start_time": "2023-09-11T08:02:52.461Z"
   },
   {
    "duration": 5,
    "start_time": "2023-09-11T08:03:02.170Z"
   },
   {
    "duration": 97,
    "start_time": "2023-09-11T08:03:11.904Z"
   },
   {
    "duration": 5,
    "start_time": "2023-09-11T08:03:25.622Z"
   },
   {
    "duration": 4,
    "start_time": "2023-09-11T08:03:56.328Z"
   },
   {
    "duration": 11,
    "start_time": "2023-09-11T08:04:34.998Z"
   },
   {
    "duration": 1292,
    "start_time": "2023-09-11T08:41:37.295Z"
   },
   {
    "duration": 3,
    "start_time": "2023-09-11T08:41:38.589Z"
   },
   {
    "duration": 13,
    "start_time": "2023-09-11T08:41:38.593Z"
   },
   {
    "duration": 82,
    "start_time": "2023-09-11T08:41:38.608Z"
   },
   {
    "duration": 18,
    "start_time": "2023-09-11T08:41:38.692Z"
   },
   {
    "duration": 18,
    "start_time": "2023-09-11T08:41:38.712Z"
   },
   {
    "duration": 17,
    "start_time": "2023-09-11T08:41:38.733Z"
   },
   {
    "duration": 12,
    "start_time": "2023-09-11T08:41:38.752Z"
   },
   {
    "duration": 23,
    "start_time": "2023-09-11T08:41:38.765Z"
   },
   {
    "duration": 15,
    "start_time": "2023-09-11T08:41:38.792Z"
   },
   {
    "duration": 26,
    "start_time": "2023-09-11T08:41:38.809Z"
   },
   {
    "duration": 20,
    "start_time": "2023-09-11T08:41:38.838Z"
   },
   {
    "duration": 11,
    "start_time": "2023-09-11T08:41:38.860Z"
   },
   {
    "duration": 36,
    "start_time": "2023-09-11T08:41:38.873Z"
   },
   {
    "duration": 34,
    "start_time": "2023-09-11T08:41:38.910Z"
   },
   {
    "duration": 21,
    "start_time": "2023-09-11T08:41:38.946Z"
   },
   {
    "duration": 17,
    "start_time": "2023-09-11T08:41:38.968Z"
   },
   {
    "duration": 35,
    "start_time": "2023-09-11T08:41:38.987Z"
   },
   {
    "duration": 39,
    "start_time": "2023-09-11T08:41:39.025Z"
   },
   {
    "duration": 281,
    "start_time": "2023-09-11T08:41:39.445Z"
   },
   {
    "duration": 95,
    "start_time": "2023-09-11T08:41:39.729Z"
   },
   {
    "duration": 163,
    "start_time": "2023-09-11T08:41:39.827Z"
   },
   {
    "duration": 60,
    "start_time": "2023-09-11T08:41:39.992Z"
   },
   {
    "duration": 24,
    "start_time": "2023-09-11T08:41:40.056Z"
   },
   {
    "duration": 14,
    "start_time": "2023-09-11T08:41:40.082Z"
   },
   {
    "duration": 33,
    "start_time": "2023-09-11T08:41:40.098Z"
   },
   {
    "duration": 24,
    "start_time": "2023-09-11T08:41:40.134Z"
   },
   {
    "duration": 35,
    "start_time": "2023-09-11T08:41:40.160Z"
   },
   {
    "duration": 11,
    "start_time": "2023-09-11T08:41:40.197Z"
   },
   {
    "duration": 34,
    "start_time": "2023-09-11T08:41:40.210Z"
   },
   {
    "duration": 29,
    "start_time": "2023-09-11T08:41:40.246Z"
   },
   {
    "duration": 13,
    "start_time": "2023-09-11T08:41:40.277Z"
   },
   {
    "duration": 30,
    "start_time": "2023-09-11T08:41:40.292Z"
   },
   {
    "duration": 38,
    "start_time": "2023-09-11T08:41:40.326Z"
   },
   {
    "duration": 20,
    "start_time": "2023-09-11T08:41:40.366Z"
   },
   {
    "duration": 28,
    "start_time": "2023-09-11T08:41:40.388Z"
   },
   {
    "duration": 196,
    "start_time": "2023-09-11T08:41:40.417Z"
   },
   {
    "duration": 153,
    "start_time": "2023-09-11T08:41:40.615Z"
   },
   {
    "duration": 19,
    "start_time": "2023-09-11T08:41:40.824Z"
   },
   {
    "duration": 71,
    "start_time": "2023-09-11T08:41:40.846Z"
   },
   {
    "duration": 47,
    "start_time": "2023-09-11T08:41:40.920Z"
   },
   {
    "duration": 193,
    "start_time": "2023-09-11T08:41:40.969Z"
   },
   {
    "duration": 589,
    "start_time": "2023-09-11T08:41:41.165Z"
   },
   {
    "duration": 379,
    "start_time": "2023-09-11T08:41:41.756Z"
   },
   {
    "duration": 410,
    "start_time": "2023-09-11T08:41:42.137Z"
   },
   {
    "duration": 439,
    "start_time": "2023-09-11T08:41:42.549Z"
   },
   {
    "duration": 430,
    "start_time": "2023-09-11T08:41:42.990Z"
   },
   {
    "duration": 11,
    "start_time": "2023-09-11T08:41:43.424Z"
   },
   {
    "duration": 219,
    "start_time": "2023-09-11T08:41:43.438Z"
   },
   {
    "duration": 207,
    "start_time": "2023-09-11T08:41:43.658Z"
   },
   {
    "duration": 6,
    "start_time": "2023-09-11T08:41:43.867Z"
   },
   {
    "duration": 327,
    "start_time": "2023-09-11T08:41:43.875Z"
   },
   {
    "duration": 3,
    "start_time": "2023-09-11T08:41:44.203Z"
   },
   {
    "duration": 207,
    "start_time": "2023-09-11T08:41:44.208Z"
   },
   {
    "duration": 5,
    "start_time": "2023-09-11T08:41:44.425Z"
   },
   {
    "duration": 275,
    "start_time": "2023-09-11T08:41:44.433Z"
   },
   {
    "duration": 23,
    "start_time": "2023-09-11T08:41:44.710Z"
   },
   {
    "duration": 271,
    "start_time": "2023-09-11T08:41:44.739Z"
   },
   {
    "duration": 14,
    "start_time": "2023-09-11T08:41:45.012Z"
   },
   {
    "duration": 330,
    "start_time": "2023-09-11T08:41:45.028Z"
   },
   {
    "duration": 54,
    "start_time": "2023-09-11T08:41:45.360Z"
   },
   {
    "duration": 34,
    "start_time": "2023-09-11T08:41:45.416Z"
   },
   {
    "duration": 43,
    "start_time": "2023-09-11T08:41:45.452Z"
   },
   {
    "duration": 99,
    "start_time": "2023-09-11T08:41:45.497Z"
   },
   {
    "duration": 63,
    "start_time": "2023-09-11T08:41:45.598Z"
   },
   {
    "duration": 107,
    "start_time": "2023-09-11T11:23:30.649Z"
   },
   {
    "duration": 53,
    "start_time": "2023-09-11T11:23:44.919Z"
   },
   {
    "duration": 1566,
    "start_time": "2023-09-11T11:23:51.983Z"
   },
   {
    "duration": 5,
    "start_time": "2023-09-11T11:23:53.551Z"
   },
   {
    "duration": 244,
    "start_time": "2023-09-11T11:23:53.558Z"
   },
   {
    "duration": 238,
    "start_time": "2023-09-11T11:23:53.805Z"
   },
   {
    "duration": 14,
    "start_time": "2023-09-11T11:23:54.045Z"
   },
   {
    "duration": 20,
    "start_time": "2023-09-11T11:23:54.062Z"
   },
   {
    "duration": 39,
    "start_time": "2023-09-11T11:23:54.084Z"
   },
   {
    "duration": 22,
    "start_time": "2023-09-11T11:23:54.125Z"
   },
   {
    "duration": 17,
    "start_time": "2023-09-11T11:23:54.149Z"
   },
   {
    "duration": 25,
    "start_time": "2023-09-11T11:23:54.170Z"
   },
   {
    "duration": 11,
    "start_time": "2023-09-11T11:23:54.197Z"
   },
   {
    "duration": 5,
    "start_time": "2023-09-11T11:23:54.210Z"
   },
   {
    "duration": 7,
    "start_time": "2023-09-11T11:23:54.216Z"
   },
   {
    "duration": 12,
    "start_time": "2023-09-11T11:23:54.224Z"
   },
   {
    "duration": 17,
    "start_time": "2023-09-11T11:23:54.238Z"
   },
   {
    "duration": 10,
    "start_time": "2023-09-11T11:23:54.257Z"
   },
   {
    "duration": 17,
    "start_time": "2023-09-11T11:23:54.269Z"
   },
   {
    "duration": 18,
    "start_time": "2023-09-11T11:23:54.288Z"
   },
   {
    "duration": 15,
    "start_time": "2023-09-11T11:23:54.308Z"
   },
   {
    "duration": 22,
    "start_time": "2023-09-11T11:23:54.325Z"
   },
   {
    "duration": 17,
    "start_time": "2023-09-11T11:23:54.349Z"
   },
   {
    "duration": 21,
    "start_time": "2023-09-11T11:23:54.368Z"
   },
   {
    "duration": 17,
    "start_time": "2023-09-11T11:23:54.391Z"
   },
   {
    "duration": 21,
    "start_time": "2023-09-11T11:23:54.411Z"
   },
   {
    "duration": 9,
    "start_time": "2023-09-11T11:23:54.434Z"
   },
   {
    "duration": 25,
    "start_time": "2023-09-11T11:23:54.445Z"
   },
   {
    "duration": 14,
    "start_time": "2023-09-11T11:23:54.472Z"
   },
   {
    "duration": 10,
    "start_time": "2023-09-11T11:23:54.490Z"
   },
   {
    "duration": 24,
    "start_time": "2023-09-11T11:23:54.502Z"
   },
   {
    "duration": 12,
    "start_time": "2023-09-11T11:23:54.528Z"
   },
   {
    "duration": 29,
    "start_time": "2023-09-11T11:23:54.541Z"
   },
   {
    "duration": 14,
    "start_time": "2023-09-11T11:23:54.573Z"
   },
   {
    "duration": 5,
    "start_time": "2023-09-11T11:23:54.590Z"
   },
   {
    "duration": 8,
    "start_time": "2023-09-11T11:23:54.597Z"
   },
   {
    "duration": 9,
    "start_time": "2023-09-11T11:23:54.607Z"
   },
   {
    "duration": 6,
    "start_time": "2023-09-11T11:23:54.618Z"
   },
   {
    "duration": 47,
    "start_time": "2023-09-11T11:23:54.626Z"
   },
   {
    "duration": 7,
    "start_time": "2023-09-11T11:23:54.676Z"
   },
   {
    "duration": 24,
    "start_time": "2023-09-11T11:23:54.685Z"
   },
   {
    "duration": 7,
    "start_time": "2023-09-11T11:23:54.711Z"
   },
   {
    "duration": 219,
    "start_time": "2023-09-11T11:23:54.720Z"
   },
   {
    "duration": 151,
    "start_time": "2023-09-11T11:23:54.941Z"
   },
   {
    "duration": 8,
    "start_time": "2023-09-11T11:23:55.094Z"
   },
   {
    "duration": 22,
    "start_time": "2023-09-11T11:23:55.105Z"
   },
   {
    "duration": 38,
    "start_time": "2023-09-11T11:23:55.130Z"
   },
   {
    "duration": 14,
    "start_time": "2023-09-11T11:23:55.171Z"
   },
   {
    "duration": 421,
    "start_time": "2023-09-11T11:23:55.187Z"
   },
   {
    "duration": 315,
    "start_time": "2023-09-11T11:23:55.610Z"
   },
   {
    "duration": 464,
    "start_time": "2023-09-11T11:23:55.927Z"
   },
   {
    "duration": 408,
    "start_time": "2023-09-11T11:23:56.392Z"
   },
   {
    "duration": 431,
    "start_time": "2023-09-11T11:23:56.803Z"
   },
   {
    "duration": 7,
    "start_time": "2023-09-11T11:23:57.236Z"
   },
   {
    "duration": 240,
    "start_time": "2023-09-11T11:23:57.245Z"
   },
   {
    "duration": 209,
    "start_time": "2023-09-11T11:23:57.487Z"
   },
   {
    "duration": 5,
    "start_time": "2023-09-11T11:23:57.698Z"
   },
   {
    "duration": 317,
    "start_time": "2023-09-11T11:23:57.704Z"
   },
   {
    "duration": 5,
    "start_time": "2023-09-11T11:23:58.024Z"
   },
   {
    "duration": 228,
    "start_time": "2023-09-11T11:23:58.031Z"
   },
   {
    "duration": 6,
    "start_time": "2023-09-11T11:23:58.262Z"
   },
   {
    "duration": 274,
    "start_time": "2023-09-11T11:23:58.270Z"
   },
   {
    "duration": 25,
    "start_time": "2023-09-11T11:23:58.546Z"
   },
   {
    "duration": 170,
    "start_time": "2023-09-11T11:23:58.574Z"
   },
   {
    "duration": 20,
    "start_time": "2023-09-11T11:23:58.746Z"
   },
   {
    "duration": 30,
    "start_time": "2023-09-11T11:23:58.769Z"
   },
   {
    "duration": 15,
    "start_time": "2023-09-11T11:23:58.802Z"
   },
   {
    "duration": 44,
    "start_time": "2023-09-11T11:23:58.819Z"
   },
   {
    "duration": 6,
    "start_time": "2023-09-11T11:23:58.868Z"
   },
   {
    "duration": 43,
    "start_time": "2023-09-11T11:23:58.877Z"
   },
   {
    "duration": 51,
    "start_time": "2023-09-11T11:23:58.922Z"
   },
   {
    "duration": 5,
    "start_time": "2023-09-11T11:44:05.762Z"
   },
   {
    "duration": 5,
    "start_time": "2023-09-11T11:44:57.799Z"
   },
   {
    "duration": 131,
    "start_time": "2023-09-11T11:45:51.923Z"
   },
   {
    "duration": 92,
    "start_time": "2023-09-11T11:46:09.081Z"
   },
   {
    "duration": 6,
    "start_time": "2023-09-11T11:46:39.585Z"
   },
   {
    "duration": 7,
    "start_time": "2023-09-11T11:46:44.319Z"
   },
   {
    "duration": 6,
    "start_time": "2023-09-11T11:48:39.873Z"
   },
   {
    "duration": 5,
    "start_time": "2023-09-11T11:49:05.692Z"
   },
   {
    "duration": 2014,
    "start_time": "2023-09-11T12:01:07.535Z"
   },
   {
    "duration": 1357,
    "start_time": "2023-09-11T12:01:21.451Z"
   },
   {
    "duration": 4,
    "start_time": "2023-09-11T12:01:22.811Z"
   },
   {
    "duration": 43,
    "start_time": "2023-09-11T12:01:22.817Z"
   },
   {
    "duration": 108,
    "start_time": "2023-09-11T12:01:22.865Z"
   },
   {
    "duration": 18,
    "start_time": "2023-09-11T12:01:22.976Z"
   },
   {
    "duration": 22,
    "start_time": "2023-09-11T12:01:22.996Z"
   },
   {
    "duration": 17,
    "start_time": "2023-09-11T12:01:23.021Z"
   },
   {
    "duration": 33,
    "start_time": "2023-09-11T12:01:23.040Z"
   },
   {
    "duration": 17,
    "start_time": "2023-09-11T12:01:23.075Z"
   },
   {
    "duration": 19,
    "start_time": "2023-09-11T12:01:23.095Z"
   },
   {
    "duration": 14,
    "start_time": "2023-09-11T12:01:23.117Z"
   },
   {
    "duration": 17,
    "start_time": "2023-09-11T12:01:23.133Z"
   },
   {
    "duration": 15,
    "start_time": "2023-09-11T12:01:23.152Z"
   },
   {
    "duration": 37,
    "start_time": "2023-09-11T12:01:23.169Z"
   },
   {
    "duration": 17,
    "start_time": "2023-09-11T12:01:23.208Z"
   },
   {
    "duration": 6,
    "start_time": "2023-09-11T12:01:23.227Z"
   },
   {
    "duration": 12,
    "start_time": "2023-09-11T12:01:23.235Z"
   },
   {
    "duration": 15,
    "start_time": "2023-09-11T12:01:23.249Z"
   },
   {
    "duration": 15,
    "start_time": "2023-09-11T12:01:23.266Z"
   },
   {
    "duration": 90,
    "start_time": "2023-09-11T12:01:23.284Z"
   },
   {
    "duration": 24,
    "start_time": "2023-09-11T12:01:23.377Z"
   },
   {
    "duration": 28,
    "start_time": "2023-09-11T12:01:23.405Z"
   },
   {
    "duration": 13,
    "start_time": "2023-09-11T12:01:23.436Z"
   },
   {
    "duration": 11,
    "start_time": "2023-09-11T12:01:23.451Z"
   },
   {
    "duration": 12,
    "start_time": "2023-09-11T12:01:23.464Z"
   },
   {
    "duration": 42,
    "start_time": "2023-09-11T12:01:23.478Z"
   },
   {
    "duration": 30,
    "start_time": "2023-09-11T12:01:23.523Z"
   },
   {
    "duration": 8,
    "start_time": "2023-09-11T12:01:23.561Z"
   },
   {
    "duration": 28,
    "start_time": "2023-09-11T12:01:23.571Z"
   },
   {
    "duration": 32,
    "start_time": "2023-09-11T12:01:23.602Z"
   },
   {
    "duration": 36,
    "start_time": "2023-09-11T12:01:23.636Z"
   },
   {
    "duration": 48,
    "start_time": "2023-09-11T12:01:23.675Z"
   },
   {
    "duration": 13,
    "start_time": "2023-09-11T12:01:23.727Z"
   },
   {
    "duration": 28,
    "start_time": "2023-09-11T12:01:23.741Z"
   },
   {
    "duration": 52,
    "start_time": "2023-09-11T12:01:23.772Z"
   },
   {
    "duration": 21,
    "start_time": "2023-09-11T12:01:23.827Z"
   },
   {
    "duration": 60,
    "start_time": "2023-09-11T12:01:23.851Z"
   },
   {
    "duration": 20,
    "start_time": "2023-09-11T12:01:23.914Z"
   },
   {
    "duration": 37,
    "start_time": "2023-09-11T12:01:23.937Z"
   },
   {
    "duration": 66,
    "start_time": "2023-09-11T12:01:23.977Z"
   },
   {
    "duration": 246,
    "start_time": "2023-09-11T12:01:24.046Z"
   },
   {
    "duration": 164,
    "start_time": "2023-09-11T12:01:24.294Z"
   },
   {
    "duration": 9,
    "start_time": "2023-09-11T12:01:24.461Z"
   },
   {
    "duration": 1715,
    "start_time": "2023-09-11T12:01:24.473Z"
   },
   {
    "duration": 0,
    "start_time": "2023-09-11T12:01:26.190Z"
   },
   {
    "duration": 0,
    "start_time": "2023-09-11T12:01:26.192Z"
   },
   {
    "duration": 0,
    "start_time": "2023-09-11T12:01:26.193Z"
   },
   {
    "duration": 0,
    "start_time": "2023-09-11T12:01:26.194Z"
   },
   {
    "duration": 0,
    "start_time": "2023-09-11T12:01:26.195Z"
   },
   {
    "duration": 0,
    "start_time": "2023-09-11T12:01:26.196Z"
   },
   {
    "duration": 0,
    "start_time": "2023-09-11T12:01:26.199Z"
   },
   {
    "duration": 0,
    "start_time": "2023-09-11T12:01:26.200Z"
   },
   {
    "duration": 0,
    "start_time": "2023-09-11T12:01:26.202Z"
   },
   {
    "duration": 0,
    "start_time": "2023-09-11T12:01:26.203Z"
   },
   {
    "duration": 0,
    "start_time": "2023-09-11T12:01:26.205Z"
   },
   {
    "duration": 0,
    "start_time": "2023-09-11T12:01:26.206Z"
   },
   {
    "duration": 0,
    "start_time": "2023-09-11T12:01:26.208Z"
   },
   {
    "duration": 0,
    "start_time": "2023-09-11T12:01:26.209Z"
   },
   {
    "duration": 0,
    "start_time": "2023-09-11T12:01:26.210Z"
   },
   {
    "duration": 0,
    "start_time": "2023-09-11T12:01:26.212Z"
   },
   {
    "duration": 0,
    "start_time": "2023-09-11T12:01:26.214Z"
   },
   {
    "duration": 0,
    "start_time": "2023-09-11T12:01:26.215Z"
   },
   {
    "duration": 0,
    "start_time": "2023-09-11T12:01:26.216Z"
   },
   {
    "duration": 0,
    "start_time": "2023-09-11T12:01:26.218Z"
   },
   {
    "duration": 0,
    "start_time": "2023-09-11T12:01:26.219Z"
   },
   {
    "duration": 0,
    "start_time": "2023-09-11T12:01:26.220Z"
   },
   {
    "duration": 0,
    "start_time": "2023-09-11T12:01:26.221Z"
   },
   {
    "duration": 0,
    "start_time": "2023-09-11T12:01:26.222Z"
   },
   {
    "duration": 0,
    "start_time": "2023-09-11T12:01:26.223Z"
   },
   {
    "duration": 0,
    "start_time": "2023-09-11T12:01:26.224Z"
   },
   {
    "duration": 0,
    "start_time": "2023-09-11T12:01:26.225Z"
   },
   {
    "duration": 0,
    "start_time": "2023-09-11T12:01:26.226Z"
   },
   {
    "duration": 0,
    "start_time": "2023-09-11T12:01:26.227Z"
   },
   {
    "duration": 0,
    "start_time": "2023-09-11T12:01:26.257Z"
   },
   {
    "duration": 0,
    "start_time": "2023-09-11T12:01:26.258Z"
   },
   {
    "duration": 4,
    "start_time": "2023-09-11T12:01:51.380Z"
   },
   {
    "duration": 22,
    "start_time": "2023-09-11T12:01:52.523Z"
   },
   {
    "duration": 12,
    "start_time": "2023-09-11T12:01:52.906Z"
   },
   {
    "duration": 417,
    "start_time": "2023-09-11T12:01:53.073Z"
   },
   {
    "duration": 335,
    "start_time": "2023-09-11T12:01:55.375Z"
   },
   {
    "duration": 426,
    "start_time": "2023-09-11T12:01:56.102Z"
   },
   {
    "duration": 484,
    "start_time": "2023-09-11T12:01:57.550Z"
   },
   {
    "duration": 495,
    "start_time": "2023-09-11T12:01:58.408Z"
   },
   {
    "duration": 11,
    "start_time": "2023-09-11T12:02:00.821Z"
   },
   {
    "duration": 253,
    "start_time": "2023-09-11T12:02:01.786Z"
   },
   {
    "duration": 304,
    "start_time": "2023-09-11T12:02:02.292Z"
   },
   {
    "duration": 5,
    "start_time": "2023-09-11T12:02:11.279Z"
   },
   {
    "duration": 303,
    "start_time": "2023-09-11T12:02:11.915Z"
   },
   {
    "duration": 4,
    "start_time": "2023-09-11T12:02:12.220Z"
   },
   {
    "duration": 230,
    "start_time": "2023-09-11T12:02:12.241Z"
   },
   {
    "duration": 5,
    "start_time": "2023-09-11T12:02:13.489Z"
   },
   {
    "duration": 403,
    "start_time": "2023-09-11T12:02:23.099Z"
   },
   {
    "duration": 14,
    "start_time": "2023-09-11T12:02:26.772Z"
   },
   {
    "duration": 175,
    "start_time": "2023-09-11T12:02:36.382Z"
   },
   {
    "duration": 8,
    "start_time": "2023-09-11T12:02:44.780Z"
   },
   {
    "duration": 7,
    "start_time": "2023-09-11T12:02:45.647Z"
   },
   {
    "duration": 8,
    "start_time": "2023-09-11T12:02:46.942Z"
   },
   {
    "duration": 9,
    "start_time": "2023-09-11T12:02:55.236Z"
   },
   {
    "duration": 1279,
    "start_time": "2023-09-11T12:03:08.952Z"
   },
   {
    "duration": 7,
    "start_time": "2023-09-11T12:03:16.690Z"
   },
   {
    "duration": 1499,
    "start_time": "2023-09-11T12:03:22.073Z"
   },
   {
    "duration": 8,
    "start_time": "2023-09-11T12:03:38.273Z"
   },
   {
    "duration": 6,
    "start_time": "2023-09-11T12:03:41.023Z"
   },
   {
    "duration": 5,
    "start_time": "2023-09-11T12:03:43.185Z"
   },
   {
    "duration": 15,
    "start_time": "2023-09-11T12:04:29.467Z"
   },
   {
    "duration": 8,
    "start_time": "2023-09-11T12:04:55.508Z"
   },
   {
    "duration": 11,
    "start_time": "2023-09-11T12:05:39.073Z"
   },
   {
    "duration": 1409,
    "start_time": "2023-09-11T12:06:26.624Z"
   },
   {
    "duration": 5,
    "start_time": "2023-09-11T12:06:28.036Z"
   },
   {
    "duration": 28,
    "start_time": "2023-09-11T12:06:28.043Z"
   },
   {
    "duration": 104,
    "start_time": "2023-09-11T12:06:28.073Z"
   },
   {
    "duration": 14,
    "start_time": "2023-09-11T12:06:28.179Z"
   },
   {
    "duration": 23,
    "start_time": "2023-09-11T12:06:28.195Z"
   },
   {
    "duration": 29,
    "start_time": "2023-09-11T12:06:28.220Z"
   },
   {
    "duration": 22,
    "start_time": "2023-09-11T12:06:28.251Z"
   },
   {
    "duration": 19,
    "start_time": "2023-09-11T12:06:28.275Z"
   },
   {
    "duration": 37,
    "start_time": "2023-09-11T12:06:28.297Z"
   },
   {
    "duration": 24,
    "start_time": "2023-09-11T12:06:28.337Z"
   },
   {
    "duration": 10,
    "start_time": "2023-09-11T12:06:28.363Z"
   },
   {
    "duration": 7,
    "start_time": "2023-09-11T12:06:28.376Z"
   },
   {
    "duration": 20,
    "start_time": "2023-09-11T12:06:28.385Z"
   },
   {
    "duration": 26,
    "start_time": "2023-09-11T12:06:28.407Z"
   },
   {
    "duration": 11,
    "start_time": "2023-09-11T12:06:28.438Z"
   },
   {
    "duration": 18,
    "start_time": "2023-09-11T12:06:28.451Z"
   },
   {
    "duration": 10,
    "start_time": "2023-09-11T12:06:28.472Z"
   },
   {
    "duration": 23,
    "start_time": "2023-09-11T12:06:28.484Z"
   },
   {
    "duration": 27,
    "start_time": "2023-09-11T12:06:28.509Z"
   },
   {
    "duration": 29,
    "start_time": "2023-09-11T12:06:28.538Z"
   },
   {
    "duration": 7,
    "start_time": "2023-09-11T12:06:28.570Z"
   },
   {
    "duration": 11,
    "start_time": "2023-09-11T12:06:28.579Z"
   },
   {
    "duration": 21,
    "start_time": "2023-09-11T12:06:28.592Z"
   },
   {
    "duration": 12,
    "start_time": "2023-09-11T12:06:28.615Z"
   },
   {
    "duration": 30,
    "start_time": "2023-09-11T12:06:28.628Z"
   },
   {
    "duration": 7,
    "start_time": "2023-09-11T12:06:28.660Z"
   },
   {
    "duration": 12,
    "start_time": "2023-09-11T12:06:28.672Z"
   },
   {
    "duration": 39,
    "start_time": "2023-09-11T12:06:28.686Z"
   },
   {
    "duration": 29,
    "start_time": "2023-09-11T12:06:28.728Z"
   },
   {
    "duration": 15,
    "start_time": "2023-09-11T12:06:28.759Z"
   },
   {
    "duration": 18,
    "start_time": "2023-09-11T12:06:28.776Z"
   },
   {
    "duration": 4,
    "start_time": "2023-09-11T12:06:28.796Z"
   },
   {
    "duration": 22,
    "start_time": "2023-09-11T12:06:28.803Z"
   },
   {
    "duration": 32,
    "start_time": "2023-09-11T12:06:28.828Z"
   },
   {
    "duration": 14,
    "start_time": "2023-09-11T12:06:28.861Z"
   },
   {
    "duration": 44,
    "start_time": "2023-09-11T12:06:28.880Z"
   },
   {
    "duration": 27,
    "start_time": "2023-09-11T12:06:28.927Z"
   },
   {
    "duration": 65,
    "start_time": "2023-09-11T12:06:28.957Z"
   },
   {
    "duration": 19,
    "start_time": "2023-09-11T12:06:29.024Z"
   },
   {
    "duration": 262,
    "start_time": "2023-09-11T12:06:29.045Z"
   },
   {
    "duration": 149,
    "start_time": "2023-09-11T12:06:29.309Z"
   },
   {
    "duration": 7,
    "start_time": "2023-09-11T12:06:29.460Z"
   },
   {
    "duration": 26,
    "start_time": "2023-09-11T12:06:29.469Z"
   },
   {
    "duration": 46,
    "start_time": "2023-09-11T12:06:29.497Z"
   },
   {
    "duration": 24,
    "start_time": "2023-09-11T12:06:29.545Z"
   },
   {
    "duration": 433,
    "start_time": "2023-09-11T12:06:29.571Z"
   },
   {
    "duration": 333,
    "start_time": "2023-09-11T12:06:30.007Z"
   },
   {
    "duration": 435,
    "start_time": "2023-09-11T12:06:30.342Z"
   },
   {
    "duration": 440,
    "start_time": "2023-09-11T12:06:30.780Z"
   },
   {
    "duration": 440,
    "start_time": "2023-09-11T12:06:31.222Z"
   },
   {
    "duration": 7,
    "start_time": "2023-09-11T12:06:31.664Z"
   },
   {
    "duration": 360,
    "start_time": "2023-09-11T12:06:31.673Z"
   },
   {
    "duration": 227,
    "start_time": "2023-09-11T12:06:32.035Z"
   },
   {
    "duration": 7,
    "start_time": "2023-09-11T12:06:32.264Z"
   },
   {
    "duration": 450,
    "start_time": "2023-09-11T12:06:32.273Z"
   },
   {
    "duration": 4,
    "start_time": "2023-09-11T12:06:32.725Z"
   },
   {
    "duration": 234,
    "start_time": "2023-09-11T12:06:32.731Z"
   },
   {
    "duration": 5,
    "start_time": "2023-09-11T12:06:32.967Z"
   },
   {
    "duration": 36,
    "start_time": "2023-09-11T12:06:32.974Z"
   },
   {
    "duration": 175,
    "start_time": "2023-09-11T12:06:33.013Z"
   },
   {
    "duration": 8,
    "start_time": "2023-09-11T12:06:33.191Z"
   },
   {
    "duration": 73,
    "start_time": "2023-09-11T12:06:33.201Z"
   },
   {
    "duration": 14,
    "start_time": "2023-09-11T12:06:33.276Z"
   },
   {
    "duration": 176,
    "start_time": "2023-09-11T12:06:33.292Z"
   },
   {
    "duration": 0,
    "start_time": "2023-09-11T12:06:33.469Z"
   },
   {
    "duration": 0,
    "start_time": "2023-09-11T12:06:33.471Z"
   },
   {
    "duration": 0,
    "start_time": "2023-09-11T12:06:33.472Z"
   },
   {
    "duration": 25,
    "start_time": "2023-09-11T12:07:15.088Z"
   },
   {
    "duration": 5,
    "start_time": "2023-09-11T12:07:22.633Z"
   },
   {
    "duration": 32,
    "start_time": "2023-09-11T12:07:27.373Z"
   },
   {
    "duration": 18,
    "start_time": "2023-09-11T12:07:40.773Z"
   },
   {
    "duration": 142,
    "start_time": "2023-09-11T12:12:34.705Z"
   },
   {
    "duration": 1366,
    "start_time": "2023-09-11T12:12:41.145Z"
   },
   {
    "duration": 5,
    "start_time": "2023-09-11T12:12:42.513Z"
   },
   {
    "duration": 8,
    "start_time": "2023-09-11T12:12:42.521Z"
   },
   {
    "duration": 103,
    "start_time": "2023-09-11T12:12:42.532Z"
   },
   {
    "duration": 15,
    "start_time": "2023-09-11T12:12:42.637Z"
   },
   {
    "duration": 18,
    "start_time": "2023-09-11T12:12:42.654Z"
   },
   {
    "duration": 12,
    "start_time": "2023-09-11T12:12:42.674Z"
   },
   {
    "duration": 23,
    "start_time": "2023-09-11T12:12:42.688Z"
   },
   {
    "duration": 46,
    "start_time": "2023-09-11T12:12:42.713Z"
   },
   {
    "duration": 14,
    "start_time": "2023-09-11T12:12:42.763Z"
   },
   {
    "duration": 15,
    "start_time": "2023-09-11T12:12:42.780Z"
   },
   {
    "duration": 7,
    "start_time": "2023-09-11T12:12:42.797Z"
   },
   {
    "duration": 7,
    "start_time": "2023-09-11T12:12:42.806Z"
   },
   {
    "duration": 15,
    "start_time": "2023-09-11T12:12:42.815Z"
   },
   {
    "duration": 39,
    "start_time": "2023-09-11T12:12:42.833Z"
   },
   {
    "duration": 3,
    "start_time": "2023-09-11T12:12:42.874Z"
   },
   {
    "duration": 22,
    "start_time": "2023-09-11T12:12:42.879Z"
   },
   {
    "duration": 10,
    "start_time": "2023-09-11T12:12:42.903Z"
   },
   {
    "duration": 6,
    "start_time": "2023-09-11T12:12:42.916Z"
   },
   {
    "duration": 24,
    "start_time": "2023-09-11T12:12:42.924Z"
   },
   {
    "duration": 8,
    "start_time": "2023-09-11T12:12:42.957Z"
   },
   {
    "duration": 22,
    "start_time": "2023-09-11T12:12:42.967Z"
   },
   {
    "duration": 12,
    "start_time": "2023-09-11T12:12:42.991Z"
   },
   {
    "duration": 19,
    "start_time": "2023-09-11T12:12:43.005Z"
   },
   {
    "duration": 22,
    "start_time": "2023-09-11T12:12:43.026Z"
   },
   {
    "duration": 18,
    "start_time": "2023-09-11T12:12:43.051Z"
   },
   {
    "duration": 10,
    "start_time": "2023-09-11T12:12:43.072Z"
   },
   {
    "duration": 13,
    "start_time": "2023-09-11T12:12:43.090Z"
   },
   {
    "duration": 48,
    "start_time": "2023-09-11T12:12:43.106Z"
   },
   {
    "duration": 26,
    "start_time": "2023-09-11T12:12:43.157Z"
   },
   {
    "duration": 32,
    "start_time": "2023-09-11T12:12:43.186Z"
   },
   {
    "duration": 18,
    "start_time": "2023-09-11T12:12:43.221Z"
   },
   {
    "duration": 10,
    "start_time": "2023-09-11T12:12:43.241Z"
   },
   {
    "duration": 29,
    "start_time": "2023-09-11T12:12:43.252Z"
   },
   {
    "duration": 18,
    "start_time": "2023-09-11T12:12:43.283Z"
   },
   {
    "duration": 24,
    "start_time": "2023-09-11T12:12:43.302Z"
   },
   {
    "duration": 28,
    "start_time": "2023-09-11T12:12:43.327Z"
   },
   {
    "duration": 17,
    "start_time": "2023-09-11T12:12:43.358Z"
   },
   {
    "duration": 37,
    "start_time": "2023-09-11T12:12:43.378Z"
   },
   {
    "duration": 6,
    "start_time": "2023-09-11T12:12:43.418Z"
   },
   {
    "duration": 199,
    "start_time": "2023-09-11T12:12:43.426Z"
   },
   {
    "duration": 147,
    "start_time": "2023-09-11T12:12:43.627Z"
   },
   {
    "duration": 8,
    "start_time": "2023-09-11T12:12:43.776Z"
   },
   {
    "duration": 9,
    "start_time": "2023-09-11T12:12:43.786Z"
   },
   {
    "duration": 34,
    "start_time": "2023-09-11T12:12:43.797Z"
   },
   {
    "duration": 12,
    "start_time": "2023-09-11T12:12:43.833Z"
   },
   {
    "duration": 393,
    "start_time": "2023-09-11T12:12:43.856Z"
   },
   {
    "duration": 341,
    "start_time": "2023-09-11T12:12:44.251Z"
   },
   {
    "duration": 385,
    "start_time": "2023-09-11T12:12:44.594Z"
   },
   {
    "duration": 400,
    "start_time": "2023-09-11T12:12:44.981Z"
   },
   {
    "duration": 392,
    "start_time": "2023-09-11T12:12:45.383Z"
   },
   {
    "duration": 8,
    "start_time": "2023-09-11T12:12:45.777Z"
   },
   {
    "duration": 232,
    "start_time": "2023-09-11T12:12:45.786Z"
   },
   {
    "duration": 211,
    "start_time": "2023-09-11T12:12:46.021Z"
   },
   {
    "duration": 4,
    "start_time": "2023-09-11T12:12:46.234Z"
   },
   {
    "duration": 329,
    "start_time": "2023-09-11T12:12:46.240Z"
   },
   {
    "duration": 3,
    "start_time": "2023-09-11T12:12:46.572Z"
   },
   {
    "duration": 217,
    "start_time": "2023-09-11T12:12:46.577Z"
   },
   {
    "duration": 8,
    "start_time": "2023-09-11T12:12:46.796Z"
   },
   {
    "duration": 23,
    "start_time": "2023-09-11T12:12:46.807Z"
   },
   {
    "duration": 163,
    "start_time": "2023-09-11T12:12:46.857Z"
   },
   {
    "duration": 12,
    "start_time": "2023-09-11T12:12:47.022Z"
   },
   {
    "duration": 51,
    "start_time": "2023-09-11T12:12:47.036Z"
   },
   {
    "duration": 12,
    "start_time": "2023-09-11T12:12:47.089Z"
   },
   {
    "duration": 32,
    "start_time": "2023-09-11T12:12:47.103Z"
   },
   {
    "duration": 20,
    "start_time": "2023-09-11T12:12:47.137Z"
   },
   {
    "duration": 37,
    "start_time": "2023-09-11T12:12:47.158Z"
   },
   {
    "duration": 15,
    "start_time": "2023-09-11T12:12:47.197Z"
   },
   {
    "duration": 6,
    "start_time": "2023-09-11T12:14:36.058Z"
   },
   {
    "duration": 29,
    "start_time": "2023-09-11T12:16:07.395Z"
   },
   {
    "duration": 12,
    "start_time": "2023-09-11T12:16:17.152Z"
   },
   {
    "duration": 1598,
    "start_time": "2023-09-11T12:17:16.588Z"
   },
   {
    "duration": 5,
    "start_time": "2023-09-11T12:17:18.194Z"
   },
   {
    "duration": 18,
    "start_time": "2023-09-11T12:17:18.206Z"
   },
   {
    "duration": 111,
    "start_time": "2023-09-11T12:17:18.226Z"
   },
   {
    "duration": 13,
    "start_time": "2023-09-11T12:17:18.340Z"
   },
   {
    "duration": 26,
    "start_time": "2023-09-11T12:17:18.360Z"
   },
   {
    "duration": 17,
    "start_time": "2023-09-11T12:17:18.388Z"
   },
   {
    "duration": 12,
    "start_time": "2023-09-11T12:17:18.407Z"
   },
   {
    "duration": 58,
    "start_time": "2023-09-11T12:17:18.421Z"
   },
   {
    "duration": 21,
    "start_time": "2023-09-11T12:17:18.482Z"
   },
   {
    "duration": 12,
    "start_time": "2023-09-11T12:17:18.506Z"
   },
   {
    "duration": 14,
    "start_time": "2023-09-11T12:17:18.520Z"
   },
   {
    "duration": 20,
    "start_time": "2023-09-11T12:17:18.536Z"
   },
   {
    "duration": 10,
    "start_time": "2023-09-11T12:17:18.565Z"
   },
   {
    "duration": 17,
    "start_time": "2023-09-11T12:17:18.580Z"
   },
   {
    "duration": 30,
    "start_time": "2023-09-11T12:17:18.599Z"
   },
   {
    "duration": 32,
    "start_time": "2023-09-11T12:17:18.631Z"
   },
   {
    "duration": 11,
    "start_time": "2023-09-11T12:17:18.674Z"
   },
   {
    "duration": 9,
    "start_time": "2023-09-11T12:17:18.687Z"
   },
   {
    "duration": 16,
    "start_time": "2023-09-11T12:17:18.699Z"
   },
   {
    "duration": 9,
    "start_time": "2023-09-11T12:17:18.718Z"
   },
   {
    "duration": 13,
    "start_time": "2023-09-11T12:17:18.729Z"
   },
   {
    "duration": 10,
    "start_time": "2023-09-11T12:17:18.767Z"
   },
   {
    "duration": 227,
    "start_time": "2023-09-11T12:17:18.779Z"
   },
   {
    "duration": 172,
    "start_time": "2023-09-11T12:17:19.008Z"
   },
   {
    "duration": 44,
    "start_time": "2023-09-11T12:17:19.182Z"
   },
   {
    "duration": 16,
    "start_time": "2023-09-11T12:17:19.228Z"
   },
   {
    "duration": 51,
    "start_time": "2023-09-11T12:17:19.247Z"
   },
   {
    "duration": 26,
    "start_time": "2023-09-11T12:17:19.300Z"
   },
   {
    "duration": 77,
    "start_time": "2023-09-11T12:17:19.328Z"
   },
   {
    "duration": 44,
    "start_time": "2023-09-11T12:17:19.407Z"
   },
   {
    "duration": 50,
    "start_time": "2023-09-11T12:17:19.453Z"
   },
   {
    "duration": 22,
    "start_time": "2023-09-11T12:17:19.505Z"
   },
   {
    "duration": 34,
    "start_time": "2023-09-11T12:17:19.529Z"
   },
   {
    "duration": 27,
    "start_time": "2023-09-11T12:17:19.566Z"
   },
   {
    "duration": 11,
    "start_time": "2023-09-11T12:17:19.595Z"
   },
   {
    "duration": 36,
    "start_time": "2023-09-11T12:17:19.609Z"
   },
   {
    "duration": 34,
    "start_time": "2023-09-11T12:17:19.648Z"
   },
   {
    "duration": 15,
    "start_time": "2023-09-11T12:17:19.685Z"
   },
   {
    "duration": 17,
    "start_time": "2023-09-11T12:17:19.702Z"
   },
   {
    "duration": 228,
    "start_time": "2023-09-11T12:17:19.725Z"
   },
   {
    "duration": 168,
    "start_time": "2023-09-11T12:17:19.955Z"
   },
   {
    "duration": 10,
    "start_time": "2023-09-11T12:17:20.125Z"
   },
   {
    "duration": 11,
    "start_time": "2023-09-11T12:17:20.137Z"
   },
   {
    "duration": 31,
    "start_time": "2023-09-11T12:17:20.165Z"
   },
   {
    "duration": 22,
    "start_time": "2023-09-11T12:17:20.198Z"
   },
   {
    "duration": 501,
    "start_time": "2023-09-11T12:17:20.221Z"
   },
   {
    "duration": 472,
    "start_time": "2023-09-11T12:17:20.724Z"
   },
   {
    "duration": 500,
    "start_time": "2023-09-11T12:17:21.199Z"
   },
   {
    "duration": 584,
    "start_time": "2023-09-11T12:17:21.702Z"
   },
   {
    "duration": 515,
    "start_time": "2023-09-11T12:17:22.288Z"
   },
   {
    "duration": 9,
    "start_time": "2023-09-11T12:17:22.806Z"
   },
   {
    "duration": 299,
    "start_time": "2023-09-11T12:17:22.817Z"
   },
   {
    "duration": 245,
    "start_time": "2023-09-11T12:17:23.118Z"
   },
   {
    "duration": 9,
    "start_time": "2023-09-11T12:17:23.366Z"
   },
   {
    "duration": 361,
    "start_time": "2023-09-11T12:17:23.378Z"
   },
   {
    "duration": 20,
    "start_time": "2023-09-11T12:17:23.742Z"
   },
   {
    "duration": 298,
    "start_time": "2023-09-11T12:17:23.766Z"
   },
   {
    "duration": 11,
    "start_time": "2023-09-11T12:17:24.074Z"
   },
   {
    "duration": 40,
    "start_time": "2023-09-11T12:17:24.088Z"
   },
   {
    "duration": 183,
    "start_time": "2023-09-11T12:17:24.131Z"
   },
   {
    "duration": 9,
    "start_time": "2023-09-11T12:17:24.316Z"
   },
   {
    "duration": 75,
    "start_time": "2023-09-11T12:17:24.327Z"
   },
   {
    "duration": 44,
    "start_time": "2023-09-11T12:17:24.405Z"
   },
   {
    "duration": 48,
    "start_time": "2023-09-11T12:17:24.451Z"
   },
   {
    "duration": 44,
    "start_time": "2023-09-11T12:17:24.501Z"
   },
   {
    "duration": 70,
    "start_time": "2023-09-11T12:17:24.548Z"
   },
   {
    "duration": 21,
    "start_time": "2023-09-11T12:17:24.620Z"
   },
   {
    "duration": 1628,
    "start_time": "2023-09-12T06:54:27.236Z"
   },
   {
    "duration": 4,
    "start_time": "2023-09-12T06:54:28.866Z"
   },
   {
    "duration": 29,
    "start_time": "2023-09-12T06:54:28.871Z"
   },
   {
    "duration": 216,
    "start_time": "2023-09-12T06:54:28.902Z"
   },
   {
    "duration": 12,
    "start_time": "2023-09-12T06:54:29.121Z"
   },
   {
    "duration": 15,
    "start_time": "2023-09-12T06:54:29.135Z"
   },
   {
    "duration": 13,
    "start_time": "2023-09-12T06:54:29.152Z"
   },
   {
    "duration": 13,
    "start_time": "2023-09-12T06:54:29.167Z"
   },
   {
    "duration": 15,
    "start_time": "2023-09-12T06:54:29.182Z"
   },
   {
    "duration": 19,
    "start_time": "2023-09-12T06:54:29.208Z"
   },
   {
    "duration": 7,
    "start_time": "2023-09-12T06:54:29.228Z"
   },
   {
    "duration": 13,
    "start_time": "2023-09-12T06:54:29.236Z"
   },
   {
    "duration": 6,
    "start_time": "2023-09-12T06:54:29.251Z"
   },
   {
    "duration": 9,
    "start_time": "2023-09-12T06:54:29.258Z"
   },
   {
    "duration": 13,
    "start_time": "2023-09-12T06:54:29.269Z"
   },
   {
    "duration": 13,
    "start_time": "2023-09-12T06:54:29.284Z"
   },
   {
    "duration": 23,
    "start_time": "2023-09-12T06:54:29.299Z"
   },
   {
    "duration": 5,
    "start_time": "2023-09-12T06:54:29.324Z"
   },
   {
    "duration": 5,
    "start_time": "2023-09-12T06:54:29.330Z"
   },
   {
    "duration": 16,
    "start_time": "2023-09-12T06:54:29.337Z"
   },
   {
    "duration": 8,
    "start_time": "2023-09-12T06:54:29.355Z"
   },
   {
    "duration": 6,
    "start_time": "2023-09-12T06:54:29.365Z"
   },
   {
    "duration": 7,
    "start_time": "2023-09-12T06:54:29.372Z"
   },
   {
    "duration": 9,
    "start_time": "2023-09-12T06:54:29.380Z"
   },
   {
    "duration": 24,
    "start_time": "2023-09-12T06:54:29.390Z"
   },
   {
    "duration": 21,
    "start_time": "2023-09-12T06:54:29.415Z"
   },
   {
    "duration": 21,
    "start_time": "2023-09-12T06:54:29.437Z"
   },
   {
    "duration": 16,
    "start_time": "2023-09-12T06:54:29.462Z"
   },
   {
    "duration": 16,
    "start_time": "2023-09-12T06:54:29.480Z"
   },
   {
    "duration": 17,
    "start_time": "2023-09-12T06:54:29.497Z"
   },
   {
    "duration": 16,
    "start_time": "2023-09-12T06:54:29.516Z"
   },
   {
    "duration": 12,
    "start_time": "2023-09-12T06:54:29.533Z"
   },
   {
    "duration": 8,
    "start_time": "2023-09-12T06:54:29.547Z"
   },
   {
    "duration": 8,
    "start_time": "2023-09-12T06:54:29.556Z"
   },
   {
    "duration": 16,
    "start_time": "2023-09-12T06:54:29.566Z"
   },
   {
    "duration": 13,
    "start_time": "2023-09-12T06:54:29.583Z"
   },
   {
    "duration": 16,
    "start_time": "2023-09-12T06:54:29.598Z"
   },
   {
    "duration": 5,
    "start_time": "2023-09-12T06:54:29.615Z"
   },
   {
    "duration": 14,
    "start_time": "2023-09-12T06:54:29.622Z"
   },
   {
    "duration": 9,
    "start_time": "2023-09-12T06:54:29.638Z"
   },
   {
    "duration": 182,
    "start_time": "2023-09-12T06:54:29.649Z"
   },
   {
    "duration": 122,
    "start_time": "2023-09-12T06:54:29.833Z"
   },
   {
    "duration": 6,
    "start_time": "2023-09-12T06:54:29.957Z"
   },
   {
    "duration": 18,
    "start_time": "2023-09-12T06:54:29.965Z"
   },
   {
    "duration": 33,
    "start_time": "2023-09-12T06:54:29.985Z"
   },
   {
    "duration": 73,
    "start_time": "2023-09-12T06:54:30.020Z"
   },
   {
    "duration": 437,
    "start_time": "2023-09-12T06:54:30.095Z"
   },
   {
    "duration": 326,
    "start_time": "2023-09-12T06:54:30.534Z"
   },
   {
    "duration": 465,
    "start_time": "2023-09-12T06:54:30.862Z"
   },
   {
    "duration": 415,
    "start_time": "2023-09-12T06:54:31.329Z"
   },
   {
    "duration": 389,
    "start_time": "2023-09-12T06:54:31.746Z"
   },
   {
    "duration": 7,
    "start_time": "2023-09-12T06:54:32.137Z"
   },
   {
    "duration": 222,
    "start_time": "2023-09-12T06:54:32.146Z"
   },
   {
    "duration": 269,
    "start_time": "2023-09-12T06:54:32.370Z"
   },
   {
    "duration": 5,
    "start_time": "2023-09-12T06:54:32.641Z"
   },
   {
    "duration": 329,
    "start_time": "2023-09-12T06:54:32.648Z"
   },
   {
    "duration": 3,
    "start_time": "2023-09-12T06:54:32.979Z"
   },
   {
    "duration": 229,
    "start_time": "2023-09-12T06:54:32.983Z"
   },
   {
    "duration": 4,
    "start_time": "2023-09-12T06:54:33.214Z"
   },
   {
    "duration": 23,
    "start_time": "2023-09-12T06:54:33.220Z"
   },
   {
    "duration": 139,
    "start_time": "2023-09-12T06:54:33.245Z"
   },
   {
    "duration": 8,
    "start_time": "2023-09-12T06:54:33.386Z"
   },
   {
    "duration": 44,
    "start_time": "2023-09-12T06:54:33.396Z"
   },
   {
    "duration": 13,
    "start_time": "2023-09-12T06:54:33.442Z"
   },
   {
    "duration": 16,
    "start_time": "2023-09-12T06:54:33.456Z"
   },
   {
    "duration": 14,
    "start_time": "2023-09-12T06:54:33.474Z"
   },
   {
    "duration": 50,
    "start_time": "2023-09-12T06:54:33.489Z"
   },
   {
    "duration": 15,
    "start_time": "2023-09-12T06:54:33.540Z"
   },
   {
    "duration": 1218,
    "start_time": "2023-09-12T06:56:19.768Z"
   },
   {
    "duration": 3,
    "start_time": "2023-09-12T06:56:20.988Z"
   },
   {
    "duration": 28,
    "start_time": "2023-09-12T06:56:20.993Z"
   },
   {
    "duration": 258,
    "start_time": "2023-09-12T06:56:21.023Z"
   },
   {
    "duration": 12,
    "start_time": "2023-09-12T06:56:21.284Z"
   },
   {
    "duration": 14,
    "start_time": "2023-09-12T06:56:21.297Z"
   },
   {
    "duration": 10,
    "start_time": "2023-09-12T06:56:21.312Z"
   },
   {
    "duration": 10,
    "start_time": "2023-09-12T06:56:21.324Z"
   },
   {
    "duration": 13,
    "start_time": "2023-09-12T06:56:21.336Z"
   },
   {
    "duration": 11,
    "start_time": "2023-09-12T06:56:21.352Z"
   },
   {
    "duration": 5,
    "start_time": "2023-09-12T06:56:21.365Z"
   },
   {
    "duration": 11,
    "start_time": "2023-09-12T06:56:21.372Z"
   },
   {
    "duration": 23,
    "start_time": "2023-09-12T06:56:21.385Z"
   },
   {
    "duration": 7,
    "start_time": "2023-09-12T06:56:21.411Z"
   },
   {
    "duration": 14,
    "start_time": "2023-09-12T06:56:21.419Z"
   },
   {
    "duration": 8,
    "start_time": "2023-09-12T06:56:21.435Z"
   },
   {
    "duration": 6,
    "start_time": "2023-09-12T06:56:21.445Z"
   },
   {
    "duration": 5,
    "start_time": "2023-09-12T06:56:21.452Z"
   },
   {
    "duration": 5,
    "start_time": "2023-09-12T06:56:21.459Z"
   },
   {
    "duration": 17,
    "start_time": "2023-09-12T06:56:21.466Z"
   },
   {
    "duration": 27,
    "start_time": "2023-09-12T06:56:21.485Z"
   },
   {
    "duration": 13,
    "start_time": "2023-09-12T06:56:21.513Z"
   },
   {
    "duration": 8,
    "start_time": "2023-09-12T06:56:21.527Z"
   },
   {
    "duration": 12,
    "start_time": "2023-09-12T06:56:21.537Z"
   },
   {
    "duration": 8,
    "start_time": "2023-09-12T06:56:21.551Z"
   },
   {
    "duration": 7,
    "start_time": "2023-09-12T06:56:21.561Z"
   },
   {
    "duration": 6,
    "start_time": "2023-09-12T06:56:21.570Z"
   },
   {
    "duration": 32,
    "start_time": "2023-09-12T06:56:21.578Z"
   },
   {
    "duration": 13,
    "start_time": "2023-09-12T06:56:21.612Z"
   },
   {
    "duration": 15,
    "start_time": "2023-09-12T06:56:21.627Z"
   },
   {
    "duration": 20,
    "start_time": "2023-09-12T06:56:21.643Z"
   },
   {
    "duration": 10,
    "start_time": "2023-09-12T06:56:21.665Z"
   },
   {
    "duration": 4,
    "start_time": "2023-09-12T06:56:21.677Z"
   },
   {
    "duration": 30,
    "start_time": "2023-09-12T06:56:21.683Z"
   },
   {
    "duration": 4,
    "start_time": "2023-09-12T06:56:21.715Z"
   },
   {
    "duration": 6,
    "start_time": "2023-09-12T06:56:21.721Z"
   },
   {
    "duration": 12,
    "start_time": "2023-09-12T06:56:21.728Z"
   },
   {
    "duration": 9,
    "start_time": "2023-09-12T06:56:21.741Z"
   },
   {
    "duration": 13,
    "start_time": "2023-09-12T06:56:21.752Z"
   },
   {
    "duration": 5,
    "start_time": "2023-09-12T06:56:21.767Z"
   },
   {
    "duration": 200,
    "start_time": "2023-09-12T06:56:21.777Z"
   },
   {
    "duration": 131,
    "start_time": "2023-09-12T06:56:21.978Z"
   },
   {
    "duration": 7,
    "start_time": "2023-09-12T06:56:22.112Z"
   },
   {
    "duration": 12,
    "start_time": "2023-09-12T06:56:22.121Z"
   },
   {
    "duration": 21,
    "start_time": "2023-09-12T06:56:22.134Z"
   },
   {
    "duration": 8,
    "start_time": "2023-09-12T06:56:22.156Z"
   },
   {
    "duration": 447,
    "start_time": "2023-09-12T06:56:22.166Z"
   },
   {
    "duration": 325,
    "start_time": "2023-09-12T06:56:22.615Z"
   },
   {
    "duration": 361,
    "start_time": "2023-09-12T06:56:22.942Z"
   },
   {
    "duration": 416,
    "start_time": "2023-09-12T06:56:23.305Z"
   },
   {
    "duration": 379,
    "start_time": "2023-09-12T06:56:23.722Z"
   },
   {
    "duration": 7,
    "start_time": "2023-09-12T06:56:24.109Z"
   },
   {
    "duration": 206,
    "start_time": "2023-09-12T06:56:24.118Z"
   },
   {
    "duration": 203,
    "start_time": "2023-09-12T06:56:24.326Z"
   },
   {
    "duration": 4,
    "start_time": "2023-09-12T06:56:24.531Z"
   },
   {
    "duration": 290,
    "start_time": "2023-09-12T06:56:24.537Z"
   },
   {
    "duration": 4,
    "start_time": "2023-09-12T06:56:24.828Z"
   },
   {
    "duration": 200,
    "start_time": "2023-09-12T06:56:24.833Z"
   },
   {
    "duration": 4,
    "start_time": "2023-09-12T06:56:25.035Z"
   },
   {
    "duration": 33,
    "start_time": "2023-09-12T06:56:25.041Z"
   },
   {
    "duration": 145,
    "start_time": "2023-09-12T06:56:25.076Z"
   },
   {
    "duration": 9,
    "start_time": "2023-09-12T06:56:25.223Z"
   },
   {
    "duration": 32,
    "start_time": "2023-09-12T06:56:25.234Z"
   },
   {
    "duration": 12,
    "start_time": "2023-09-12T06:56:25.268Z"
   },
   {
    "duration": 41,
    "start_time": "2023-09-12T06:56:25.282Z"
   },
   {
    "duration": 10,
    "start_time": "2023-09-12T06:56:25.325Z"
   },
   {
    "duration": 230,
    "start_time": "2023-09-12T06:56:25.338Z"
   },
   {
    "duration": 15,
    "start_time": "2023-09-12T06:56:25.570Z"
   },
   {
    "duration": 1352,
    "start_time": "2023-09-12T07:07:15.397Z"
   },
   {
    "duration": 3,
    "start_time": "2023-09-12T07:07:16.751Z"
   },
   {
    "duration": 5,
    "start_time": "2023-09-12T07:07:16.756Z"
   },
   {
    "duration": 86,
    "start_time": "2023-09-12T07:07:16.763Z"
   },
   {
    "duration": 12,
    "start_time": "2023-09-12T07:07:16.851Z"
   },
   {
    "duration": 18,
    "start_time": "2023-09-12T07:07:16.865Z"
   },
   {
    "duration": 17,
    "start_time": "2023-09-12T07:07:16.884Z"
   },
   {
    "duration": 13,
    "start_time": "2023-09-12T07:07:16.902Z"
   },
   {
    "duration": 20,
    "start_time": "2023-09-12T07:07:16.917Z"
   },
   {
    "duration": 10,
    "start_time": "2023-09-12T07:07:16.939Z"
   },
   {
    "duration": 12,
    "start_time": "2023-09-12T07:07:16.951Z"
   },
   {
    "duration": 6,
    "start_time": "2023-09-12T07:07:16.965Z"
   },
   {
    "duration": 11,
    "start_time": "2023-09-12T07:07:16.972Z"
   },
   {
    "duration": 13,
    "start_time": "2023-09-12T07:07:16.986Z"
   },
   {
    "duration": 11,
    "start_time": "2023-09-12T07:07:17.009Z"
   },
   {
    "duration": 94,
    "start_time": "2023-09-12T07:07:17.022Z"
   },
   {
    "duration": 12,
    "start_time": "2023-09-12T07:07:17.119Z"
   },
   {
    "duration": 6,
    "start_time": "2023-09-12T07:07:17.133Z"
   },
   {
    "duration": 9,
    "start_time": "2023-09-12T07:07:17.141Z"
   },
   {
    "duration": 23,
    "start_time": "2023-09-12T07:07:17.152Z"
   },
   {
    "duration": 18,
    "start_time": "2023-09-12T07:07:17.177Z"
   },
   {
    "duration": 13,
    "start_time": "2023-09-12T07:07:17.197Z"
   },
   {
    "duration": 25,
    "start_time": "2023-09-12T07:07:17.212Z"
   },
   {
    "duration": 28,
    "start_time": "2023-09-12T07:07:17.239Z"
   },
   {
    "duration": 38,
    "start_time": "2023-09-12T07:07:17.268Z"
   },
   {
    "duration": 24,
    "start_time": "2023-09-12T07:07:17.308Z"
   },
   {
    "duration": 8,
    "start_time": "2023-09-12T07:07:17.334Z"
   },
   {
    "duration": 23,
    "start_time": "2023-09-12T07:07:17.343Z"
   },
   {
    "duration": 28,
    "start_time": "2023-09-12T07:07:17.368Z"
   },
   {
    "duration": 18,
    "start_time": "2023-09-12T07:07:17.398Z"
   },
   {
    "duration": 27,
    "start_time": "2023-09-12T07:07:17.418Z"
   },
   {
    "duration": 23,
    "start_time": "2023-09-12T07:07:17.447Z"
   },
   {
    "duration": 7,
    "start_time": "2023-09-12T07:07:17.472Z"
   },
   {
    "duration": 17,
    "start_time": "2023-09-12T07:07:17.481Z"
   },
   {
    "duration": 23,
    "start_time": "2023-09-12T07:07:17.500Z"
   },
   {
    "duration": 10,
    "start_time": "2023-09-12T07:07:17.524Z"
   },
   {
    "duration": 37,
    "start_time": "2023-09-12T07:07:17.536Z"
   },
   {
    "duration": 10,
    "start_time": "2023-09-12T07:07:17.575Z"
   },
   {
    "duration": 31,
    "start_time": "2023-09-12T07:07:17.586Z"
   },
   {
    "duration": 23,
    "start_time": "2023-09-12T07:07:17.619Z"
   },
   {
    "duration": 187,
    "start_time": "2023-09-12T07:07:17.646Z"
   },
   {
    "duration": 138,
    "start_time": "2023-09-12T07:07:17.835Z"
   },
   {
    "duration": 7,
    "start_time": "2023-09-12T07:07:17.974Z"
   },
   {
    "duration": 35,
    "start_time": "2023-09-12T07:07:17.983Z"
   },
   {
    "duration": 41,
    "start_time": "2023-09-12T07:07:18.020Z"
   },
   {
    "duration": 17,
    "start_time": "2023-09-12T07:07:18.063Z"
   },
   {
    "duration": 394,
    "start_time": "2023-09-12T07:07:18.082Z"
   },
   {
    "duration": 320,
    "start_time": "2023-09-12T07:07:18.478Z"
   },
   {
    "duration": 397,
    "start_time": "2023-09-12T07:07:18.800Z"
   },
   {
    "duration": 418,
    "start_time": "2023-09-12T07:07:19.199Z"
   },
   {
    "duration": 411,
    "start_time": "2023-09-12T07:07:19.619Z"
   },
   {
    "duration": 7,
    "start_time": "2023-09-12T07:07:20.031Z"
   },
   {
    "duration": 223,
    "start_time": "2023-09-12T07:07:20.040Z"
   },
   {
    "duration": 200,
    "start_time": "2023-09-12T07:07:20.264Z"
   },
   {
    "duration": 4,
    "start_time": "2023-09-12T07:07:20.466Z"
   },
   {
    "duration": 322,
    "start_time": "2023-09-12T07:07:20.472Z"
   },
   {
    "duration": 3,
    "start_time": "2023-09-12T07:07:20.796Z"
   },
   {
    "duration": 203,
    "start_time": "2023-09-12T07:07:20.801Z"
   },
   {
    "duration": 4,
    "start_time": "2023-09-12T07:07:21.010Z"
   },
   {
    "duration": 19,
    "start_time": "2023-09-12T07:07:21.016Z"
   },
   {
    "duration": 150,
    "start_time": "2023-09-12T07:07:21.037Z"
   },
   {
    "duration": 7,
    "start_time": "2023-09-12T07:07:21.189Z"
   },
   {
    "duration": 26,
    "start_time": "2023-09-12T07:07:21.209Z"
   },
   {
    "duration": 10,
    "start_time": "2023-09-12T07:07:21.237Z"
   },
   {
    "duration": 14,
    "start_time": "2023-09-12T07:07:21.249Z"
   },
   {
    "duration": 4,
    "start_time": "2023-09-12T07:07:21.265Z"
   },
   {
    "duration": 64,
    "start_time": "2023-09-12T07:07:21.270Z"
   },
   {
    "duration": 14,
    "start_time": "2023-09-12T07:07:21.336Z"
   }
  ],
  "kernelspec": {
   "display_name": "Python 3 (ipykernel)",
   "language": "python",
   "name": "python3"
  },
  "language_info": {
   "codemirror_mode": {
    "name": "ipython",
    "version": 3
   },
   "file_extension": ".py",
   "mimetype": "text/x-python",
   "name": "python",
   "nbconvert_exporter": "python",
   "pygments_lexer": "ipython3",
   "version": "3.10.9"
  },
  "toc": {
   "base_numbering": 1,
   "nav_menu": {},
   "number_sections": true,
   "sideBar": true,
   "skip_h1_title": true,
   "title_cell": "Table of Contents",
   "title_sidebar": "Contents",
   "toc_cell": false,
   "toc_position": {},
   "toc_section_display": true,
   "toc_window_display": false
  },
  "varInspector": {
   "cols": {
    "lenName": 16,
    "lenType": 16,
    "lenVar": 40
   },
   "kernels_config": {
    "python": {
     "delete_cmd_postfix": "",
     "delete_cmd_prefix": "del ",
     "library": "var_list.py",
     "varRefreshCmd": "print(var_dic_list())"
    },
    "r": {
     "delete_cmd_postfix": ") ",
     "delete_cmd_prefix": "rm(",
     "library": "var_list.r",
     "varRefreshCmd": "cat(var_dic_list()) "
    }
   },
   "types_to_exclude": [
    "module",
    "function",
    "builtin_function_or_method",
    "instance",
    "_Feature"
   ],
   "window_display": false
  }
 },
 "nbformat": 4,
 "nbformat_minor": 2
}
