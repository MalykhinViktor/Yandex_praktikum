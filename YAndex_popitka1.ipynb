{
 "cells": [
  {
   "cell_type": "markdown",
   "metadata": {
    "deletable": false,
    "editable": false,
    "id": "E0vqbgi9ay0H"
   },
   "source": [
    "# Яндекс Музыка"
   ]
  },
  {
   "cell_type": "markdown",
   "metadata": {
    "deletable": false,
    "editable": false,
    "id": "VUC88oWjTJw2"
   },
   "source": [
    "Сравнение Москвы и Петербурга окружено мифами. Например:\n",
    " * Москва — мегаполис, подчинённый жёсткому ритму рабочей недели;\n",
    " * Петербург — культурная столица, со своими вкусами.\n",
    "\n",
    "На данных Яндекс Музыки вы сравните поведение пользователей двух столиц.\n",
    "\n",
    "**Цель исследования** — проверьте три гипотезы:\n",
    "1. Активность пользователей зависит от дня недели. Причём в Москве и Петербурге это проявляется по-разному.\n",
    "2. В понедельник утром в Москве преобладают одни жанры, а в Петербурге — другие. Так же и вечером пятницы преобладают разные жанры — в зависимости от города. \n",
    "3. Москва и Петербург предпочитают разные жанры музыки. В Москве чаще слушают поп-музыку, в Петербурге — русский рэп.\n",
    "\n",
    "**Ход исследования**\n",
    "\n",
    "Данные о поведении пользователей вы получите из файла `yandex_music_project.csv`. О качестве данных ничего не известно. Поэтому перед проверкой гипотез понадобится обзор данных. \n",
    "\n",
    "Вы проверите данные на ошибки и оцените их влияние на исследование. Затем, на этапе предобработки вы поищете возможность исправить самые критичные ошибки данных.\n",
    " \n",
    "Таким образом, исследование пройдёт в три этапа:\n",
    " 1. Обзор данных.\n",
    " 2. Предобработка данных.\n",
    " 3. Проверка гипотез.\n",
    "\n"
   ]
  },
  {
   "cell_type": "markdown",
   "metadata": {
    "deletable": false,
    "editable": false,
    "id": "Ml1hmfXC_Zcs"
   },
   "source": [
    "## Обзор данных\n",
    "\n",
    "Составьте первое представление о данных Яндекс Музыки.\n",
    "\n",
    "\n"
   ]
  },
  {
   "cell_type": "markdown",
   "metadata": {
    "deletable": false,
    "editable": false,
    "id": "57eAOGIz_Zcs",
    "tags": [
     "start_task"
    ]
   },
   "source": [
    "**Задание 1**\n",
    "\n",
    "Основной инструмент аналитика — `pandas`. Импортируйте эту библиотеку."
   ]
  },
  {
   "cell_type": "code",
   "execution_count": null,
   "metadata": {
    "deletable": false,
    "id": "AXN7PHPN_Zcs"
   },
   "outputs": [],
   "source": [
    "import pandas as pd# импорт библиотеки pandas"
   ]
  },
  {
   "cell_type": "markdown",
   "metadata": {
    "deletable": false,
    "editable": false,
    "id": "SG23P8tt_Zcs",
    "tags": [
     "start_task"
    ]
   },
   "source": [
    "**Задание 2**\n",
    "\n",
    "Прочитайте файл `yandex_music_project.csv` из папки `/datasets` и сохраните его в переменной `df`:"
   ]
  },
  {
   "cell_type": "code",
   "execution_count": null,
   "metadata": {
    "deletable": false,
    "id": "fFVu7vqh_Zct"
   },
   "outputs": [],
   "source": [
    "df=pd.read_csv(\"/datasets/yandex_music_project.csv\")# чтение файла с данными и сохранение в df"
   ]
  },
  {
   "cell_type": "markdown",
   "metadata": {
    "deletable": false,
    "editable": false,
    "id": "rDoOMd3uTqnZ",
    "tags": [
     "start_task"
    ]
   },
   "source": [
    "**Задание 3**\n",
    "\n",
    "\n",
    "Выведите на экран первые десять строк таблицы:"
   ]
  },
  {
   "cell_type": "code",
   "execution_count": null,
   "metadata": {
    "deletable": false,
    "id": "oWTVX3gW_Zct"
   },
   "outputs": [],
   "source": [
    "print(df.head(10))# получение первых 10 строк таблицы df"
   ]
  },
  {
   "cell_type": "markdown",
   "metadata": {
    "deletable": false,
    "editable": false,
    "id": "EO73Kwic_Zct",
    "tags": [
     "start_task"
    ]
   },
   "source": [
    "**Задание 4**\n",
    "\n",
    "\n",
    "Одной командой получить общую информацию о таблице c помощью метода `info()`:"
   ]
  },
  {
   "cell_type": "code",
   "execution_count": null,
   "metadata": {
    "deletable": false,
    "id": "DSf2kIb-_Zct"
   },
   "outputs": [],
   "source": [
    "df.info()# получение общей информации о данных в таблице df"
   ]
  },
  {
   "cell_type": "markdown",
   "metadata": {
    "deletable": false,
    "editable": false,
    "id": "TaQ2Iwbr_Zct"
   },
   "source": [
    "Итак, в таблице семь столбцов. Тип данных во всех столбцах — `object`.\n",
    "\n",
    "Согласно документации к данным:\n",
    "* `userID` — идентификатор пользователя;\n",
    "* `Track` — название трека;  \n",
    "* `artist` — имя исполнителя;\n",
    "* `genre` — название жанра;\n",
    "* `City` — город пользователя;\n",
    "* `time` — время начала прослушивания;\n",
    "* `Day` — день недели.\n",
    "\n",
    "Количество значений в столбцах различается. Значит, в данных есть пропущенные значения."
   ]
  },
  {
   "cell_type": "markdown",
   "metadata": {
    "deletable": false,
    "editable": false,
    "id": "rAfziTBDmf2h",
    "tags": [
     "start_task"
    ]
   },
   "source": [
    "**Задание 5**\n",
    "\n",
    "**Вопрос со свободной формой ответа**\n",
    "\n",
    "В названиях колонок видны нарушения стиля:\n",
    "* Строчные буквы сочетаются с прописными.\n",
    "* Встречаются пробелы.\n",
    "\n",
    "Какое третье нарушение?"
   ]
  },
  {
   "cell_type": "code",
   "execution_count": null,
   "metadata": {
    "id": "jD8EXEIvmf2h"
   },
   "outputs": [],
   "source": [
    "#Переменная userId написана на манер JAVA# Напишите ваш ответ здесь комментарием. Не удаляйте символ #. Не меняйте тип этой ячейки на Markdown."
   ]
  },
  {
   "cell_type": "markdown",
   "metadata": {
    "deletable": false,
    "editable": false,
    "id": "MCB6-dXG_Zct"
   },
   "source": [
    "**Выводы**\n",
    "\n",
    "В каждой строке таблицы — данные о прослушанном треке. Часть колонок описывает саму композицию: название, исполнителя и жанр. Остальные данные рассказывают о пользователе: из какого он города, когда он слушал музыку. \n",
    "\n",
    "Предварительно можно утверждать, что данных достаточно для проверки гипотез. Но встречаются пропуски в данных, а в названиях колонок — расхождения с хорошим стилем.\n",
    "\n",
    "Чтобы двигаться дальше, нужно устранить проблемы в данных."
   ]
  },
  {
   "cell_type": "markdown",
   "metadata": {
    "deletable": false,
    "editable": false,
    "id": "SjYF6Ub9_Zct"
   },
   "source": [
    "## Предобработка данных\n",
    "Исправьте стиль в заголовках столбцов, исключите пропуски. Затем проверьте данные на дубликаты."
   ]
  },
  {
   "cell_type": "markdown",
   "metadata": {
    "deletable": false,
    "editable": false,
    "id": "dIaKXr29_Zct",
    "tags": [
     "start_task"
    ]
   },
   "source": [
    "### Стиль заголовков\n",
    "\n",
    "**Задание 6**\n",
    "\n",
    "Выведите на экран названия столбцов:"
   ]
  },
  {
   "cell_type": "code",
   "execution_count": null,
   "metadata": {
    "deletable": false,
    "id": "oKOTdF_Q_Zct"
   },
   "outputs": [],
   "source": [
    "df.columns# перечень названий столбцов таблицы df"
   ]
  },
  {
   "cell_type": "markdown",
   "metadata": {
    "deletable": false,
    "editable": false,
    "id": "zj5534cv_Zct",
    "tags": [
     "start_task"
    ]
   },
   "source": [
    "**Задание 7**\n",
    "\n",
    "\n",
    "Приведите названия в соответствие с хорошим стилем:\n",
    "* несколько слов в названии запишите в «змеином_регистре»,\n",
    "* все символы сделайте строчными,\n",
    "* устраните пробелы.\n",
    "\n",
    "Для этого переименуйте колонки так:\n",
    "* `'  userID'` → `'user_id'`;\n",
    "* `'Track'` → `'track'`;\n",
    "* `'  City  '` → `'city'`;\n",
    "* `'Day'` → `'day'`."
   ]
  },
  {
   "cell_type": "code",
   "execution_count": null,
   "metadata": {
    "deletable": false,
    "id": "ISlFqs5y_Zct"
   },
   "outputs": [],
   "source": [
    "df = df.rename(columns={'  userID':  \"user_id\", 'Track': 'track', '  City  ': 'city', 'Day': 'day'})# переименование столбцов"
   ]
  },
  {
   "cell_type": "markdown",
   "metadata": {
    "deletable": false,
    "editable": false,
    "id": "1dqbh00J_Zct",
    "tags": [
     "start_task"
    ]
   },
   "source": [
    "**Задание 8**\n",
    "\n",
    "\n",
    "Проверьте результат. Для этого ещё раз выведите на экран названия столбцов:"
   ]
  },
  {
   "cell_type": "code",
   "execution_count": null,
   "metadata": {
    "deletable": false,
    "id": "d4NOAmTW_Zct"
   },
   "outputs": [],
   "source": [
    "df.columns# проверка результатов - перечень названий столбцов"
   ]
  },
  {
   "cell_type": "markdown",
   "metadata": {
    "deletable": false,
    "editable": false,
    "id": "5ISfbcfY_Zct",
    "tags": [
     "start_task"
    ]
   },
   "source": [
    "### Пропуски значений\n",
    "\n",
    "**Задание 9**\n",
    "\n",
    "Сначала посчитайте, сколько в таблице пропущенных значений. Для этого достаточно двух методов `pandas`:"
   ]
  },
  {
   "cell_type": "code",
   "execution_count": null,
   "metadata": {
    "deletable": false,
    "id": "RskX29qr_Zct"
   },
   "outputs": [],
   "source": [
    "print(df.isna().sum())# подсчёт пропусков"
   ]
  },
  {
   "cell_type": "markdown",
   "metadata": {
    "deletable": false,
    "editable": false,
    "id": "qubhgnlO_Zct"
   },
   "source": [
    "Не все пропущенные значения влияют на исследование. Так в `track` и `artist` пропуски не важны для вашей работы. Достаточно заменить их явными обозначениями.\n",
    "\n",
    "Но пропуски в `genre` могут помешать сравнению музыкальных вкусов в Москве и Санкт-Петербурге. На практике было бы правильно установить причину пропусков и восстановить данные. Такой возможности нет в учебном проекте. Придётся:\n",
    "* заполнить и эти пропуски явными обозначениями;\n",
    "* оценить, насколько они повредят расчётам. "
   ]
  },
  {
   "cell_type": "markdown",
   "metadata": {
    "deletable": false,
    "editable": false,
    "id": "fSv2laPA_Zct",
    "tags": [
     "start_task"
    ]
   },
   "source": [
    "**Задание 10**\n",
    "\n",
    "Замените пропущенные значения в столбцах `track`, `artist` и `genre` на строку `'unknown'`. Для этого создайте список `columns_to_replace`, переберите его элементы циклом `for` и для каждого столбца выполните замену пропущенных значений:"
   ]
  },
  {
   "cell_type": "code",
   "execution_count": null,
   "metadata": {
    "deletable": false,
    "id": "KplB5qWs_Zct"
   },
   "outputs": [],
   "source": [
    "columns_to_replace=['track', 'artist', 'genre']\n",
    "for value in columns_to_replace:\n",
    "    df[value] = df[value].fillna('unknown')\n",
    "# перебор названий столбцов в цикле и замена пропущенных значений на 'unknown'"
   ]
  },
  {
   "cell_type": "markdown",
   "metadata": {
    "deletable": false,
    "editable": false,
    "id": "Ilsm-MZo_Zct",
    "tags": [
     "start_task"
    ]
   },
   "source": [
    "**Задание 11**\n",
    "\n",
    "Убедитесь, что в таблице не осталось пропусков. Для этого ещё раз посчитайте пропущенные значения."
   ]
  },
  {
   "cell_type": "code",
   "execution_count": null,
   "metadata": {
    "deletable": false,
    "id": "Tq4nYRX4_Zct"
   },
   "outputs": [],
   "source": [
    "print(df.isna().sum())\n",
    "# подсчёт пропусков"
   ]
  },
  {
   "cell_type": "markdown",
   "metadata": {
    "deletable": false,
    "editable": false,
    "id": "BWKRtBJ3_Zct",
    "tags": [
     "start_task"
    ]
   },
   "source": [
    "### Дубликаты\n",
    "\n",
    "**Задание 12**\n",
    "\n",
    "Посчитайте явные дубликаты в таблице одной командой:"
   ]
  },
  {
   "cell_type": "code",
   "execution_count": null,
   "metadata": {
    "deletable": false,
    "id": "36eES_S0_Zct"
   },
   "outputs": [],
   "source": [
    "print(df.duplicated().sum())# подсчёт явных дубликатов"
   ]
  },
  {
   "cell_type": "markdown",
   "metadata": {
    "deletable": false,
    "editable": false,
    "id": "Ot25h6XR_Zct",
    "tags": [
     "start_task"
    ]
   },
   "source": [
    "**Задание 13**\n",
    "\n",
    "Вызовите специальный метод `pandas`, чтобы удалить явные дубликаты:"
   ]
  },
  {
   "cell_type": "code",
   "execution_count": null,
   "metadata": {
    "deletable": false,
    "id": "exFHq6tt_Zct"
   },
   "outputs": [],
   "source": [
    "df = df.drop_duplicates() # удаление явных дубликатов"
   ]
  },
  {
   "cell_type": "markdown",
   "metadata": {
    "deletable": false,
    "editable": false,
    "id": "Im2YwBEG_Zct",
    "tags": [
     "start_task"
    ]
   },
   "source": [
    "**Задание 14**\n",
    "\n",
    "Ещё раз посчитайте явные дубликаты в таблице — убедитесь, что полностью от них избавились:"
   ]
  },
  {
   "cell_type": "code",
   "execution_count": null,
   "metadata": {
    "deletable": false,
    "id": "-8PuNWQ0_Zct"
   },
   "outputs": [],
   "source": [
    "print(df.duplicated().sum())# проверка на отсутствие дубликатов"
   ]
  },
  {
   "cell_type": "markdown",
   "metadata": {
    "deletable": false,
    "editable": false,
    "id": "QlFBsxAr_Zct"
   },
   "source": [
    "Теперь избавьтесь от неявных дубликатов в колонке `genre`. Например, название одного и того же жанра может быть записано немного по-разному. Такие ошибки тоже повлияют на результат исследования."
   ]
  },
  {
   "cell_type": "markdown",
   "metadata": {
    "deletable": false,
    "editable": false,
    "id": "eSjWwsOh_Zct",
    "tags": [
     "start_task"
    ]
   },
   "source": [
    "**Задание 15**\n",
    "\n",
    "Выведите на экран список уникальных названий жанров, отсортированный в алфавитном порядке. Для этого:\n",
    "1. извлеките нужный столбец датафрейма; \n",
    "2. примените к нему метод сортировки;\n",
    "3. для отсортированного столбца вызовите метод, который вернёт уникальные значения из столбца."
   ]
  },
  {
   "cell_type": "code",
   "execution_count": null,
   "metadata": {
    "deletable": false,
    "id": "JIUcqzZN_Zct"
   },
   "outputs": [],
   "source": [
    "unique_genre=df['genre'].sort_values().unique()\n",
    "print(unique_genre)# Просмотр уникальных названий жанров"
   ]
  },
  {
   "cell_type": "markdown",
   "metadata": {
    "deletable": false,
    "editable": false,
    "id": "qej-Qmuo_Zct",
    "tags": [
     "start_task"
    ]
   },
   "source": [
    "**Задание 16**\n",
    "\n",
    "Просмотрите список и найдите неявные дубликаты названия `hiphop`. Это могут быть названия с ошибками или альтернативные названия того же жанра.\n",
    "\n",
    "Вы увидите следующие неявные дубликаты:\n",
    "* *hip*,\n",
    "* *hop*,\n",
    "* *hip-hop*.\n",
    "\n",
    "Чтобы очистить от них таблицу используйте метод `replace()` с двумя аргументами: списком строк-дубликатов (включащий *hip*, *hop* и *hip-hop*) и строкой с правильным значением. Вам нужно исправить колонку `genre` в таблице `df`: заменить каждое значение из списка дубликатов на верное. Вместо `hip`, `hop` и `hip-hop` в таблице должно быть значение `hiphop`:"
   ]
  },
  {
   "cell_type": "code",
   "execution_count": null,
   "metadata": {
    "deletable": false,
    "id": "ErNDkmns_Zct"
   },
   "outputs": [],
   "source": [
    "to_replace = ['hip', 'hip-hop', 'hop']\n",
    "for value in to_replace:\n",
    "    df['genre']=df['genre'].replace(value, 'hiphop')\n",
    "# Устранение неявных дубликатов"
   ]
  },
  {
   "cell_type": "markdown",
   "metadata": {
    "deletable": false,
    "editable": false,
    "id": "zQKF16_RG15m",
    "tags": [
     "start_task"
    ]
   },
   "source": [
    "**Задание 17**\n",
    "\n",
    "Проверьте, что заменили неправильные названия:\n",
    "\n",
    "*   hip,\n",
    "*   hop,\n",
    "*   hip-hop.\n",
    "\n",
    "Выведите отсортированный список уникальных значений столбца `genre`:"
   ]
  },
  {
   "cell_type": "code",
   "execution_count": null,
   "metadata": {
    "deletable": false,
    "id": "wvixALnFG15m"
   },
   "outputs": [],
   "source": [
    "print(df['genre'].sort_values().unique())# Проверка на неявные дубликаты"
   ]
  },
  {
   "cell_type": "markdown",
   "metadata": {
    "deletable": false,
    "editable": false,
    "id": "jz6a9-7HQUDd"
   },
   "source": [
    "**Выводы**\n",
    "\n",
    "Предобработка обнаружила три проблемы в данных:\n",
    "\n",
    "- нарушения в стиле заголовков,\n",
    "- пропущенные значения,\n",
    "- дубликаты — явные и неявные.\n",
    "\n",
    "Вы исправили заголовки, чтобы упростить работу с таблицей. Без дубликатов исследование станет более точным.\n",
    "\n",
    "Пропущенные значения вы заменили на `'unknown'`. Ещё предстоит увидеть, не повредят ли исследованию пропуски в колонке `genre`.\n",
    "\n",
    "Теперь можно перейти к проверке гипотез. "
   ]
  },
  {
   "cell_type": "markdown",
   "metadata": {
    "deletable": false,
    "editable": false,
    "id": "WttZHXH0SqKk"
   },
   "source": [
    "## Проверка гипотез"
   ]
  },
  {
   "cell_type": "markdown",
   "metadata": {
    "deletable": false,
    "editable": false,
    "id": "Im936VVi_Zcu"
   },
   "source": [
    "### Сравнение поведения пользователей двух столиц"
   ]
  },
  {
   "cell_type": "markdown",
   "metadata": {
    "deletable": false,
    "editable": false,
    "id": "nwt_MuaL_Zcu"
   },
   "source": [
    "Первая гипотеза утверждает, что пользователи по-разному слушают музыку в Москве и Санкт-Петербурге. Проверьте это предположение по данным о трёх днях недели — понедельнике, среде и пятнице. Для этого:\n",
    "\n",
    "* Разделите пользователей Москвы и Санкт-Петербурга.\n",
    "* Сравните, сколько треков послушала каждая группа пользователей в понедельник, среду и пятницу.\n"
   ]
  },
  {
   "cell_type": "markdown",
   "metadata": {
    "deletable": false,
    "editable": false,
    "id": "8Dw_YMmT_Zcu",
    "tags": [
     "start_task"
    ]
   },
   "source": [
    "**Задание 18**\n",
    "\n",
    "Для тренировки сначала выполните каждый из расчётов по отдельности. \n",
    "\n",
    "Оцените активность пользователей в каждом городе. Сгруппируйте данные по городу и посчитайте прослушивания в каждой группе.\n",
    "\n"
   ]
  },
  {
   "cell_type": "code",
   "execution_count": null,
   "metadata": {
    "deletable": false,
    "id": "0_Qs96oh_Zcu"
   },
   "outputs": [],
   "source": [
    "group_by_city  = df.groupby('city').count()\n",
    "# Подсчёт прослушиваний в каждом городе\n",
    "\n",
    "# Подсчёт прослушиваний в каждом городе\n",
    "print(group_by_city ['time'])"
   ]
  },
  {
   "cell_type": "markdown",
   "metadata": {
    "deletable": false,
    "editable": false,
    "id": "dzli3w8o_Zcu",
    "tags": [
     "start_task"
    ]
   },
   "source": [
    "В Москве прослушиваний больше, чем в Петербурге. Из этого не следует, что московские пользователи чаще слушают музыку. Просто самих пользователей в Москве больше.\n",
    "\n",
    "**Задание 19**\n",
    "\n",
    "Теперь сгруппируйте данные по дню недели и посчитайте прослушивания в понедельник, среду и пятницу. Учтите, что в данных есть информация о прослушиваниях только за эти дни.\n"
   ]
  },
  {
   "cell_type": "code",
   "execution_count": null,
   "metadata": {
    "deletable": false,
    "id": "uZMKjiJz_Zcu"
   },
   "outputs": [],
   "source": [
    "group_by_day=df.groupby('day').count()\n",
    "print(group_by_day['time'])# Подсчёт прослушиваний в каждый из трёх дней"
   ]
  },
  {
   "cell_type": "markdown",
   "metadata": {
    "deletable": false,
    "editable": false,
    "id": "cC2tNrlL_Zcu"
   },
   "source": [
    "В среднем пользователи из двух городов менее активны по средам. Но картина может измениться, если рассмотреть каждый город в отдельности."
   ]
  },
  {
   "cell_type": "markdown",
   "metadata": {
    "deletable": false,
    "editable": false,
    "id": "POzs8bGa_Zcu",
    "tags": [
     "start_task"
    ]
   },
   "source": [
    "**Задание 20**\n",
    "\n",
    "\n",
    "Вы видели, как работает группировка по городу и по дням недели. Теперь напишите функцию, которая объединит два эти расчёта.\n",
    "\n",
    "Создайте функцию `number_tracks()`, которая посчитает прослушивания для заданного дня и города. Ей понадобятся два параметра:\n",
    "* день недели,\n",
    "* название города.\n",
    "\n",
    "В функции сохраните в переменную строки исходной таблицы, у которых значение:\n",
    "  * в колонке `day` равно параметру `day`,\n",
    "  * в колонке `city` равно параметру `city`.\n",
    "\n",
    "Для этого примените последовательную фильтрацию с логической индексацией (или сложные логические выражения в одну строку, если вы уже знакомы с ними).\n",
    "\n",
    "Затем посчитайте значения в столбце `user_id` получившейся таблицы. Результат сохраните в новую переменную. Верните эту переменную из функции."
   ]
  },
  {
   "cell_type": "code",
   "execution_count": null,
   "metadata": {
    "deletable": false,
    "id": "Nz3GdQB1_Zcu"
   },
   "outputs": [],
   "source": [
    "# <создание функции number_tracks()>\n",
    "# Объявляется функция с двумя параметрами: day, city.\n",
    "# В переменной track_list сохраняются те строки таблицы df, для которых \n",
    "# значение в столбце 'day' равно параметру day и одновременно значение\n",
    "# в столбце 'city' равно параметру city (используйте последовательную фильтрацию\n",
    "# с помощью логической индексации или сложные логические выражения в одну строку, если вы уже знакомы с ними).\n",
    "# В переменной track_list_count сохраняется число значений столбца 'user_id',\n",
    "# рассчитанное методом count() для таблицы track_list.\n",
    "# Функция возвращает число - значение track_list_count.\n",
    "\n",
    "# Функция для подсчёта прослушиваний для конкретного города и дня.\n",
    "# С помощью последовательной фильтрации с логической индексацией она \n",
    "# сначала получит из исходной таблицы строки с нужным днём,\n",
    "# затем из результата отфильтрует строки с нужным городом,\n",
    "# методом count() посчитает количество значений в колонке user_id. \n",
    "# Это количество функция вернёт в качестве результата\n",
    "def number_tracks(day, city):\n",
    "    track_list = df[df['day'] == day]\n",
    "    track_list = track_list[track_list['city'] == city]\n",
    "    track_list_count=track_list['user_id'].count()\n",
    "    return track_list_count"
   ]
  },
  {
   "cell_type": "markdown",
   "metadata": {
    "deletable": false,
    "editable": false,
    "id": "ytf7xFrFJQ2r",
    "tags": [
     "start_task"
    ]
   },
   "source": [
    "**Задание 21**\n",
    "\n",
    "Вызовите `number_tracks()` шесть раз, меняя значение параметров — так, чтобы получить данные для каждого города в каждый из трёх дней."
   ]
  },
  {
   "cell_type": "code",
   "execution_count": null,
   "metadata": {
    "deletable": false,
    "id": "rJcRATNQ_Zcu"
   },
   "outputs": [],
   "source": [
    "print(number_tracks('Monday','Moscow'))# количество прослушиваний в Москве по понедельникам"
   ]
  },
  {
   "cell_type": "code",
   "execution_count": null,
   "metadata": {
    "deletable": false,
    "id": "hq_ncZ5T_Zcu"
   },
   "outputs": [],
   "source": [
    "print(number_tracks('Monday','Saint-Petersburg'))# количество прослушиваний в Санкт-Петербурге по понедельникам"
   ]
  },
  {
   "cell_type": "code",
   "execution_count": null,
   "metadata": {
    "deletable": false,
    "id": "_NTy2VPU_Zcu"
   },
   "outputs": [],
   "source": [
    "print(number_tracks('Wednesday','Moscow'))# количество прослушиваний в Москве по средам"
   ]
  },
  {
   "cell_type": "code",
   "execution_count": null,
   "metadata": {
    "deletable": false,
    "id": "j2y3TAwo_Zcu"
   },
   "outputs": [],
   "source": [
    "print(number_tracks('Wednesday','Saint-Petersburg'))# количество прослушиваний в Санкт-Петербурге по средам"
   ]
  },
  {
   "cell_type": "code",
   "execution_count": null,
   "metadata": {
    "deletable": false,
    "id": "vYDw5u_K_Zcu"
   },
   "outputs": [],
   "source": [
    "print(number_tracks('Friday','Moscow'))# количество прослушиваний в Москве по пятницам"
   ]
  },
  {
   "cell_type": "code",
   "execution_count": null,
   "metadata": {
    "deletable": false,
    "id": "8_yzFtW3_Zcu"
   },
   "outputs": [],
   "source": [
    "print(number_tracks('Friday','Saint-Petersburg'))# количество прослушиваний в Санкт-Петербурге по пятницам"
   ]
  },
  {
   "cell_type": "markdown",
   "metadata": {
    "deletable": false,
    "editable": false,
    "id": "7QXffbO-_Zcu",
    "tags": [
     "start_task"
    ]
   },
   "source": [
    "**Задание 22**\n",
    "\n",
    "Создайте c помощью конструктора `pd.DataFrame` таблицу, где\n",
    "* названия колонок — `['city', 'monday', 'wednesday', 'friday']`;\n",
    "* данные — результаты, которые вы получили с помощью `number_tracks`."
   ]
  },
  {
   "cell_type": "code",
   "execution_count": null,
   "metadata": {
    "deletable": false,
    "id": "APAcLpOr_Zcu"
   },
   "outputs": [],
   "source": [
    "days_of_week = ['city', 'monday', 'wednesday', 'friday']\n",
    "data = [\n",
    "    ['Moscow', 15740, 11056, 15945],\n",
    "    ['Saint-Petersburg', 5614, 7003, 5895]\n",
    "]\n",
    "\n",
    "pd.DataFrame(data=data,columns=days_of_week)"
   ]
  },
  {
   "cell_type": "markdown",
   "metadata": {
    "deletable": false,
    "editable": false,
    "id": "-EgPIHYu_Zcu"
   },
   "source": [
    "**Выводы**\n",
    "\n",
    "Данные показывают разницу поведения пользователей:\n",
    "\n",
    "- В Москве пик прослушиваний приходится на понедельник и пятницу, а в среду заметен спад.\n",
    "- В Петербурге, наоборот, больше слушают музыку по средам. Активность в понедельник и пятницу здесь почти в равной мере уступает среде.\n",
    "\n",
    "Значит, данные говорят в пользу первой гипотезы."
   ]
  },
  {
   "cell_type": "markdown",
   "metadata": {
    "deletable": false,
    "editable": false,
    "id": "atZAxtq4_Zcu"
   },
   "source": [
    "### Музыка в начале и в конце недели"
   ]
  },
  {
   "cell_type": "markdown",
   "metadata": {
    "deletable": false,
    "editable": false,
    "id": "eXrQqXFH_Zcu"
   },
   "source": [
    "Согласно второй гипотезе, утром в понедельник в Москве преобладают одни жанры, а в Петербурге — другие. Так же и вечером пятницы преобладают разные жанры — в зависимости от города."
   ]
  },
  {
   "cell_type": "markdown",
   "metadata": {
    "deletable": false,
    "editable": false,
    "id": "S8UcW6Hw_Zcu",
    "tags": [
     "start_task"
    ]
   },
   "source": [
    "**Задание 23**\n",
    "\n",
    "Сохраните таблицы с данными в две переменные:\n",
    "* по Москве — в `moscow_general`;\n",
    "* по Санкт-Петербургу — в `spb_general`."
   ]
  },
  {
   "cell_type": "code",
   "execution_count": null,
   "metadata": {
    "deletable": false,
    "id": "qeaFfM_P_Zcu"
   },
   "outputs": [],
   "source": [
    "# получение таблицы moscow_general из тех строк таблицы df, \n",
    "# для которых значение в столбце 'city' равно 'Moscow'\n",
    "moscow_general = df[df['city'] == 'Moscow']\n",
    "\n"
   ]
  },
  {
   "cell_type": "code",
   "execution_count": null,
   "metadata": {
    "deletable": false,
    "id": "ORaVRKto_Zcu"
   },
   "outputs": [],
   "source": [
    "# получение таблицы spb_general из тех строк таблицы df,\n",
    "# для которых значение в столбце 'city' равно 'Saint-Petersburg'\n",
    "spb_general = df[df['city'] == 'Saint-Petersburg']"
   ]
  },
  {
   "cell_type": "markdown",
   "metadata": {
    "deletable": false,
    "editable": false,
    "id": "MEJV-CX2_Zcu",
    "tags": [
     "start_task"
    ]
   },
   "source": [
    "**Задание 24**\n",
    "\n",
    "Создайте функцию `genre_weekday()` с четырьмя параметрами:\n",
    "* таблица (датафрейм) с данными,\n",
    "* день недели,\n",
    "* начальная временная метка в формате 'hh:mm', \n",
    "* последняя временная метка в формате 'hh:mm'.\n",
    "\n",
    "Функция должна вернуть информацию о топ-10 жанров тех треков, которые прослушивали в указанный день, в промежутке между двумя отметками времени."
   ]
  },
  {
   "cell_type": "code",
   "execution_count": null,
   "metadata": {
    "deletable": false,
    "id": "laJT9BYl_Zcu"
   },
   "outputs": [],
   "source": [
    "# Объявление функции genre_weekday() с параметрами table, day, time1, time2,\n",
    "# которая возвращает информацию о самых популярных жанрах в указанный день в\n",
    "# заданное время:\n",
    "# 1) в переменную genre_df сохраняются те строки переданного датафрейма table, для\n",
    "#    которых одновременно:\n",
    "#    - значение в столбце day равно значению аргумента day\n",
    "#    - значение в столбце time больше значения аргумента time1\n",
    "#    - значение в столбце time меньше значения аргумента time2\n",
    "#    Используйте последовательную фильтрацию с помощью логической индексации.\n",
    "# 2) сгруппировать датафрейм genre_df по столбцу genre, взять один из его\n",
    "#    столбцов и посчитать методом count() количество записей для каждого из\n",
    "#    присутствующих жанров, получившийся Series записать в переменную\n",
    "#    genre_df_count\n",
    "# 3) отсортировать genre_df_count по убыванию встречаемости и сохранить\n",
    "#    в переменную genre_df_sorted\n",
    "# 4) вернуть Series из 10 первых значений genre_df_sorted, это будут топ-10\n",
    "#    популярных жанров (в указанный день, в заданное время)\n",
    "\n",
    "def genre_weekday(df, day, time1, time2):\n",
    "    # последовательная фильтрация\n",
    "    # оставляем в genre_df только те строки df, у которых день равен day\n",
    "    genre_df = df[df['day'] == day]# ваш код здесь\n",
    "    # оставляем в genre_df только те строки genre_df, у которых время меньше time2\n",
    "    genre_df = genre_df[ genre_df ['time'] < time2] # ваш код здесь\n",
    "    # оставляем в genre_df только те строки genre_df, у которых время больше time1\n",
    "    genre_df = genre_df[genre_df['time'] > time1] # ваш код здесь\n",
    "    # сгруппируем отфильтрованный датафрейм по столбцу с названиями жанров, возьмём столбец genre и посчитаем кол-во строк для каждого жанра методом count()\n",
    "    genre_df_grouped = genre_df.groupby('genre')['genre'].count() # ваш код здесь\n",
    "    # отсортируем результат по убыванию (чтобы в начале Series оказались самые популярные жанры)\n",
    "    genre_df_sorted = genre_df_grouped.sort_values( ascending=False) # ваш код здесь\n",
    "    # вернём Series с 10 самыми популярными жанрами в указанный отрезок времени заданного дня\n",
    "    return genre_df_sorted[:10]"
   ]
  },
  {
   "cell_type": "markdown",
   "metadata": {
    "deletable": false,
    "editable": false,
    "id": "la2s2_PF_Zcu",
    "tags": [
     "start_task"
    ]
   },
   "source": [
    "**Задание 25**\n",
    "\n",
    "\n",
    "Cравните результаты функции `genre_weekday()` для Москвы и Санкт-Петербурга в понедельник утром (с 7:00 до 11:00) и в пятницу вечером (с 17:00 до 23:00):"
   ]
  },
  {
   "cell_type": "code",
   "execution_count": null,
   "metadata": {
    "deletable": false,
    "id": "yz7itPUQ_Zcu"
   },
   "outputs": [],
   "source": [
    "# вызов функции для утра понедельника в Москве (вместо df — таблица moscow_general)\n",
    "genre_weekday(moscow_general, 'Monday', '07:00', '11:00')\n",
    "# объекты, хранящие время, являются строками и сравниваются как строки\n",
    "# пример вызова: genre_weekday(moscow_general, 'Monday', '07:00', '11:00')"
   ]
  },
  {
   "cell_type": "code",
   "execution_count": null,
   "metadata": {
    "deletable": false,
    "id": "kwUcHPdy_Zcu"
   },
   "outputs": [],
   "source": [
    "genre_weekday(spb_general, 'Monday', '07:00', '11:00')# вызов функции для утра понедельника в Петербурге (вместо df — таблица spb_general)"
   ]
  },
  {
   "cell_type": "code",
   "execution_count": null,
   "metadata": {
    "deletable": false,
    "id": "EzXVRE1o_Zcu"
   },
   "outputs": [],
   "source": [
    "genre_weekday(moscow_general, 'Friday', '17:00', '23:00')# вызов функции для вечера пятницы в Москве"
   ]
  },
  {
   "cell_type": "code",
   "execution_count": null,
   "metadata": {
    "deletable": false,
    "id": "JZaEKu5v_Zcu"
   },
   "outputs": [],
   "source": [
    "genre_weekday(spb_general, 'Friday', '17:00', '23:00')# вызов функции для вечера пятницы в Петербурге"
   ]
  },
  {
   "cell_type": "markdown",
   "metadata": {
    "deletable": false,
    "editable": false,
    "id": "wrCe4MNX_Zcu"
   },
   "source": [
    "**Выводы**\n",
    "\n",
    "Если сравнить топ-10 жанров в понедельник утром, можно сделать такие выводы:\n",
    "\n",
    "1. В Москве и Петербурге слушают похожую музыку. Единственное отличие — в московский рейтинг вошёл жанр “world”, а в петербургский — джаз и классика.\n",
    "\n",
    "2. В Москве пропущенных значений оказалось так много, что значение `'unknown'` заняло десятое место среди самых популярных жанров. Значит, пропущенные значения занимают существенную долю в данных и угрожают достоверности исследования.\n",
    "\n",
    "Вечер пятницы не меняет эту картину. Некоторые жанры поднимаются немного выше, другие спускаются, но в целом топ-10 остаётся тем же самым.\n",
    "\n",
    "Таким образом, вторая гипотеза подтвердилась лишь частично:\n",
    "* Пользователи слушают похожую музыку в начале недели и в конце.\n",
    "* Разница между Москвой и Петербургом не слишком выражена. В Москве чаще слушают русскую популярную музыку, в Петербурге — джаз.\n",
    "\n",
    "Однако пропуски в данных ставят под сомнение этот результат. В Москве их так много, что рейтинг топ-10 мог бы выглядеть иначе, если бы не утерянные  данные о жанрах."
   ]
  },
  {
   "cell_type": "markdown",
   "metadata": {
    "deletable": false,
    "editable": false,
    "id": "JolODAqr_Zcu"
   },
   "source": [
    "### Жанровые предпочтения в Москве и Петербурге\n",
    "\n",
    "Гипотеза: Петербург — столица рэпа, музыку этого жанра там слушают чаще, чем в Москве.  А Москва — город контрастов, в котором, тем не менее, преобладает поп-музыка."
   ]
  },
  {
   "cell_type": "markdown",
   "metadata": {
    "deletable": false,
    "editable": false,
    "id": "DlegSvaT_Zcu",
    "tags": [
     "start_task"
    ]
   },
   "source": [
    "**Задание 26**\n",
    "\n",
    "Сгруппируйте таблицу `moscow_general` по жанру и посчитайте прослушивания треков каждого жанра методом `count()`. Затем отсортируйте результат в порядке убывания и сохраните его в таблице `moscow_genres`."
   ]
  },
  {
   "cell_type": "code",
   "execution_count": null,
   "metadata": {
    "deletable": false,
    "id": "r19lIPke_Zcu"
   },
   "outputs": [],
   "source": [
    "moscow_genres = moscow_general.groupby('genre')['genre'].count()\n",
    "moscow_genres = moscow_genres.sort_values(ascending=False)\n",
    "# одной строкой: группировка таблицы moscow_general по столбцу 'genre', \n",
    "# подсчёт числа значений 'genre' в этой группировке методом count(), \n",
    "# сортировка получившегося Series в порядке убывания и сохранение в moscow_genres"
   ]
  },
  {
   "cell_type": "markdown",
   "metadata": {
    "deletable": false,
    "editable": false,
    "id": "6kMuomxTiIr8",
    "tags": [
     "start_task"
    ]
   },
   "source": [
    "**Задание 27**\n",
    "\n",
    "Выведите на экран первые десять строк `moscow_genres`:"
   ]
  },
  {
   "cell_type": "code",
   "execution_count": null,
   "metadata": {
    "deletable": false,
    "id": "WhCSooF8_Zcv"
   },
   "outputs": [],
   "source": [
    "print(moscow_genres.head(10))# просмотр первых 10 строк moscow_genres"
   ]
  },
  {
   "cell_type": "markdown",
   "metadata": {
    "deletable": false,
    "editable": false,
    "id": "cnPG2vnN_Zcv",
    "tags": [
     "start_task"
    ]
   },
   "source": [
    "**Задание 28**\n",
    "\n",
    "\n",
    "Теперь повторите то же и для Петербурга.\n",
    "\n",
    "Сгруппируйте таблицу `spb_general` по жанру. Посчитайте прослушивания треков каждого жанра. Результат отсортируйте в порядке убывания и сохраните в таблице `spb_genres`:\n"
   ]
  },
  {
   "cell_type": "code",
   "execution_count": null,
   "metadata": {
    "deletable": false,
    "id": "gluLIpE7_Zcv"
   },
   "outputs": [],
   "source": [
    "spb_group=spb_general.groupby('genre')['genre'].count()\n",
    "spb_genres=spb_group.sort_values(ascending=False)\n",
    "# одной строкой: группировка таблицы spb_general по столбцу 'genre', \n",
    "# подсчёт числа значений 'genre' в этой группировке методом count(), \n",
    "# сортировка получившегося Series в порядке убывания и сохранение в spb_genres"
   ]
  },
  {
   "cell_type": "markdown",
   "metadata": {
    "deletable": false,
    "editable": false,
    "id": "5Doha_ODgyQ8",
    "tags": [
     "start_task"
    ]
   },
   "source": [
    "**Задание 29**\n",
    "\n",
    "Выведите на экран первые десять строк `spb_genres`:"
   ]
  },
  {
   "cell_type": "code",
   "execution_count": null,
   "metadata": {
    "deletable": false,
    "id": "uaGJHjVU_Zcv"
   },
   "outputs": [],
   "source": [
    "print(spb_genres.head(10))# просмотр первых 10 строк spb_genres"
   ]
  },
  {
   "cell_type": "markdown",
   "metadata": {
    "deletable": false,
    "editable": false,
    "id": "RY51YJYu_Zcv"
   },
   "source": [
    "**Выводы**"
   ]
  },
  {
   "cell_type": "markdown",
   "metadata": {
    "deletable": false,
    "editable": false,
    "id": "nVhnJEm__Zcv"
   },
   "source": [
    "Гипотеза частично подтвердилась:\n",
    "* Поп-музыка — самый популярный жанр в Москве, как и предполагала гипотеза. Более того, в топ-10 жанров встречается близкий жанр — русская популярная музыка.\n",
    "* Вопреки ожиданиям, рэп одинаково популярен в Москве и Петербурге. \n"
   ]
  },
  {
   "cell_type": "markdown",
   "metadata": {
    "deletable": false,
    "editable": false,
    "id": "ykKQ0N65_Zcv"
   },
   "source": [
    "## Итоги исследования"
   ]
  },
  {
   "cell_type": "markdown",
   "metadata": {
    "deletable": false,
    "editable": false,
    "id": "tjUwbHb3_Zcv"
   },
   "source": [
    "Вы проверили три гипотезы и установили:\n",
    "\n",
    "1. День недели по-разному влияет на активность пользователей в Москве и Петербурге. \n",
    "\n",
    "Первая гипотеза полностью подтвердилась.\n",
    "\n",
    "2. Музыкальные предпочтения не сильно меняются в течение недели — будь то Москва или Петербург. Небольшие различия заметны в начале недели, по понедельникам:\n",
    "* в Москве слушают музыку жанра “world”,\n",
    "* в Петербурге — джаз и классику.\n",
    "\n",
    "Таким образом, вторая гипотеза подтвердилась лишь отчасти. Этот результат мог оказаться иным, если бы не пропуски в данных.\n",
    "\n",
    "3. Во вкусах пользователей Москвы и Петербурга больше общего чем различий. Вопреки ожиданиям, предпочтения жанров в Петербурге напоминают московские.\n",
    "\n",
    "Третья гипотеза не подтвердилась. Если различия в предпочтениях и существуют, на основной массе пользователей они незаметны.\n",
    "\n",
    "**На практике исследования содержат проверки статистических гипотез.**\n",
    "Из данных одного сервиса не всегда можно сделать вывод о всех жителях города.\n",
    "Проверки статистических гипотез покажут, насколько они достоверны, исходя из имеющихся данных. \n",
    "С методами проверок гипотез вы ещё познакомитесь в следующих темах."
   ]
  }
 ],
 "metadata": {
  "ExecuteTimeLog": [
   {
    "duration": 46,
    "start_time": "2022-12-13T07:30:04.006Z"
   },
   {
    "duration": 60,
    "start_time": "2022-12-13T07:30:15.326Z"
   },
   {
    "duration": 401,
    "start_time": "2022-12-13T07:30:21.988Z"
   },
   {
    "duration": 50,
    "start_time": "2022-12-13T07:30:26.637Z"
   },
   {
    "duration": 7,
    "start_time": "2022-12-13T07:30:56.706Z"
   },
   {
    "duration": 8,
    "start_time": "2022-12-13T07:31:22.285Z"
   },
   {
    "duration": 42,
    "start_time": "2022-12-13T07:31:32.546Z"
   },
   {
    "duration": 3,
    "start_time": "2022-12-13T07:32:02.466Z"
   },
   {
    "duration": 29,
    "start_time": "2022-12-13T07:32:05.099Z"
   },
   {
    "duration": 9,
    "start_time": "2022-12-13T07:38:02.991Z"
   },
   {
    "duration": 351,
    "start_time": "2022-12-13T07:39:59.870Z"
   },
   {
    "duration": 94,
    "start_time": "2022-12-13T07:40:00.223Z"
   },
   {
    "duration": 0,
    "start_time": "2022-12-13T07:40:00.319Z"
   },
   {
    "duration": 0,
    "start_time": "2022-12-13T07:40:00.321Z"
   },
   {
    "duration": 0,
    "start_time": "2022-12-13T07:40:00.322Z"
   },
   {
    "duration": 0,
    "start_time": "2022-12-13T07:40:00.322Z"
   },
   {
    "duration": 0,
    "start_time": "2022-12-13T07:40:00.323Z"
   },
   {
    "duration": 0,
    "start_time": "2022-12-13T07:40:00.325Z"
   },
   {
    "duration": 0,
    "start_time": "2022-12-13T07:40:00.326Z"
   },
   {
    "duration": 0,
    "start_time": "2022-12-13T07:40:00.326Z"
   },
   {
    "duration": 0,
    "start_time": "2022-12-13T07:40:00.327Z"
   },
   {
    "duration": 0,
    "start_time": "2022-12-13T07:40:00.328Z"
   },
   {
    "duration": 0,
    "start_time": "2022-12-13T07:40:00.329Z"
   },
   {
    "duration": 0,
    "start_time": "2022-12-13T07:40:00.330Z"
   },
   {
    "duration": 0,
    "start_time": "2022-12-13T07:40:00.331Z"
   },
   {
    "duration": 0,
    "start_time": "2022-12-13T07:40:00.332Z"
   },
   {
    "duration": 0,
    "start_time": "2022-12-13T07:40:00.333Z"
   },
   {
    "duration": 0,
    "start_time": "2022-12-13T07:40:00.334Z"
   },
   {
    "duration": 0,
    "start_time": "2022-12-13T07:40:00.335Z"
   },
   {
    "duration": 0,
    "start_time": "2022-12-13T07:40:00.335Z"
   },
   {
    "duration": 0,
    "start_time": "2022-12-13T07:40:00.336Z"
   },
   {
    "duration": 0,
    "start_time": "2022-12-13T07:40:00.337Z"
   },
   {
    "duration": 0,
    "start_time": "2022-12-13T07:40:00.338Z"
   },
   {
    "duration": 0,
    "start_time": "2022-12-13T07:40:00.339Z"
   },
   {
    "duration": 0,
    "start_time": "2022-12-13T07:40:00.340Z"
   },
   {
    "duration": 0,
    "start_time": "2022-12-13T07:40:00.341Z"
   },
   {
    "duration": 0,
    "start_time": "2022-12-13T07:40:00.342Z"
   },
   {
    "duration": 0,
    "start_time": "2022-12-13T07:40:00.343Z"
   },
   {
    "duration": 0,
    "start_time": "2022-12-13T07:40:00.344Z"
   },
   {
    "duration": 0,
    "start_time": "2022-12-13T07:40:00.346Z"
   },
   {
    "duration": 0,
    "start_time": "2022-12-13T07:40:00.347Z"
   },
   {
    "duration": 0,
    "start_time": "2022-12-13T07:40:00.348Z"
   },
   {
    "duration": 0,
    "start_time": "2022-12-13T07:40:00.349Z"
   },
   {
    "duration": 0,
    "start_time": "2022-12-13T07:40:00.351Z"
   },
   {
    "duration": 0,
    "start_time": "2022-12-13T07:40:00.352Z"
   },
   {
    "duration": 0,
    "start_time": "2022-12-13T07:40:00.353Z"
   },
   {
    "duration": 0,
    "start_time": "2022-12-13T07:40:00.355Z"
   },
   {
    "duration": 0,
    "start_time": "2022-12-13T07:40:00.356Z"
   },
   {
    "duration": 7,
    "start_time": "2022-12-13T07:40:17.986Z"
   },
   {
    "duration": 31,
    "start_time": "2022-12-13T07:41:30.246Z"
   },
   {
    "duration": 39,
    "start_time": "2022-12-13T07:44:32.838Z"
   },
   {
    "duration": 216,
    "start_time": "2022-12-13T08:00:36.815Z"
   },
   {
    "duration": 8,
    "start_time": "2022-12-13T08:00:44.766Z"
   },
   {
    "duration": 24,
    "start_time": "2022-12-13T08:03:01.678Z"
   },
   {
    "duration": 765,
    "start_time": "2022-12-13T08:03:08.598Z"
   },
   {
    "duration": 366,
    "start_time": "2022-12-13T08:03:33.761Z"
   },
   {
    "duration": 158,
    "start_time": "2022-12-13T08:03:34.130Z"
   },
   {
    "duration": 10,
    "start_time": "2022-12-13T08:03:34.290Z"
   },
   {
    "duration": 35,
    "start_time": "2022-12-13T08:03:34.302Z"
   },
   {
    "duration": 6,
    "start_time": "2022-12-13T08:03:34.339Z"
   },
   {
    "duration": 16,
    "start_time": "2022-12-13T08:03:34.346Z"
   },
   {
    "duration": 14,
    "start_time": "2022-12-13T08:03:34.364Z"
   },
   {
    "duration": 16,
    "start_time": "2022-12-13T08:03:34.380Z"
   },
   {
    "duration": 44,
    "start_time": "2022-12-13T08:03:34.397Z"
   },
   {
    "duration": 18,
    "start_time": "2022-12-13T08:03:34.444Z"
   },
   {
    "duration": 31,
    "start_time": "2022-12-13T08:03:34.463Z"
   },
   {
    "duration": 4,
    "start_time": "2022-12-13T08:03:34.496Z"
   },
   {
    "duration": 9,
    "start_time": "2022-12-13T08:03:34.501Z"
   },
   {
    "duration": 9,
    "start_time": "2022-12-13T08:03:34.511Z"
   },
   {
    "duration": 7,
    "start_time": "2022-12-13T08:03:34.522Z"
   },
   {
    "duration": 5,
    "start_time": "2022-12-13T08:03:34.530Z"
   },
   {
    "duration": 10,
    "start_time": "2022-12-13T08:03:34.537Z"
   },
   {
    "duration": 7,
    "start_time": "2022-12-13T08:03:34.548Z"
   },
   {
    "duration": 8,
    "start_time": "2022-12-13T08:03:34.557Z"
   },
   {
    "duration": 9,
    "start_time": "2022-12-13T08:03:34.567Z"
   },
   {
    "duration": 11,
    "start_time": "2022-12-13T08:03:34.577Z"
   },
   {
    "duration": 19,
    "start_time": "2022-12-13T08:03:34.589Z"
   },
   {
    "duration": 19,
    "start_time": "2022-12-13T08:03:34.610Z"
   },
   {
    "duration": 15,
    "start_time": "2022-12-13T08:03:34.631Z"
   },
   {
    "duration": 15,
    "start_time": "2022-12-13T08:03:34.647Z"
   },
   {
    "duration": 16,
    "start_time": "2022-12-13T08:03:34.663Z"
   },
   {
    "duration": 19,
    "start_time": "2022-12-13T08:03:34.680Z"
   },
   {
    "duration": 24,
    "start_time": "2022-12-13T08:03:34.702Z"
   },
   {
    "duration": 34,
    "start_time": "2022-12-13T08:03:34.727Z"
   },
   {
    "duration": 72,
    "start_time": "2022-12-13T08:03:34.763Z"
   },
   {
    "duration": 0,
    "start_time": "2022-12-13T08:03:34.836Z"
   },
   {
    "duration": 0,
    "start_time": "2022-12-13T08:03:34.837Z"
   },
   {
    "duration": 0,
    "start_time": "2022-12-13T08:03:34.838Z"
   },
   {
    "duration": 0,
    "start_time": "2022-12-13T08:03:34.839Z"
   },
   {
    "duration": 0,
    "start_time": "2022-12-13T08:03:34.840Z"
   },
   {
    "duration": 0,
    "start_time": "2022-12-13T08:03:34.840Z"
   },
   {
    "duration": 0,
    "start_time": "2022-12-13T08:03:34.841Z"
   },
   {
    "duration": 0,
    "start_time": "2022-12-13T08:03:34.842Z"
   },
   {
    "duration": 63,
    "start_time": "2022-12-13T08:07:32.292Z"
   },
   {
    "duration": 70,
    "start_time": "2022-12-13T08:07:35.084Z"
   },
   {
    "duration": 55,
    "start_time": "2022-12-13T08:07:39.144Z"
   },
   {
    "duration": 56,
    "start_time": "2022-12-14T01:09:50.056Z"
   },
   {
    "duration": 8,
    "start_time": "2022-12-14T01:10:45.412Z"
   },
   {
    "duration": 6,
    "start_time": "2022-12-14T01:11:02.623Z"
   },
   {
    "duration": 433,
    "start_time": "2022-12-14T01:11:39.763Z"
   },
   {
    "duration": 542,
    "start_time": "2022-12-14T01:11:40.198Z"
   },
   {
    "duration": 13,
    "start_time": "2022-12-14T01:11:40.742Z"
   },
   {
    "duration": 33,
    "start_time": "2022-12-14T01:11:40.761Z"
   },
   {
    "duration": 3,
    "start_time": "2022-12-14T01:11:40.795Z"
   },
   {
    "duration": 12,
    "start_time": "2022-12-14T01:11:40.800Z"
   },
   {
    "duration": 15,
    "start_time": "2022-12-14T01:11:40.815Z"
   },
   {
    "duration": 28,
    "start_time": "2022-12-14T01:11:40.832Z"
   },
   {
    "duration": 26,
    "start_time": "2022-12-14T01:11:40.862Z"
   },
   {
    "duration": 25,
    "start_time": "2022-12-14T01:11:40.891Z"
   },
   {
    "duration": 28,
    "start_time": "2022-12-14T01:11:40.917Z"
   },
   {
    "duration": 80,
    "start_time": "2022-12-14T01:11:40.955Z"
   },
   {
    "duration": 96,
    "start_time": "2022-12-14T01:11:41.036Z"
   },
   {
    "duration": 76,
    "start_time": "2022-12-14T01:11:41.133Z"
   },
   {
    "duration": 50,
    "start_time": "2022-12-14T01:11:41.210Z"
   },
   {
    "duration": 10,
    "start_time": "2022-12-14T01:11:41.262Z"
   },
   {
    "duration": 45,
    "start_time": "2022-12-14T01:11:41.274Z"
   },
   {
    "duration": 3,
    "start_time": "2022-12-14T01:11:41.321Z"
   },
   {
    "duration": 7,
    "start_time": "2022-12-14T01:11:41.326Z"
   },
   {
    "duration": 25,
    "start_time": "2022-12-14T01:11:41.335Z"
   },
   {
    "duration": 14,
    "start_time": "2022-12-14T01:11:41.362Z"
   },
   {
    "duration": 9,
    "start_time": "2022-12-14T01:11:41.378Z"
   },
   {
    "duration": 7,
    "start_time": "2022-12-14T01:11:41.390Z"
   },
   {
    "duration": 7,
    "start_time": "2022-12-14T01:11:41.399Z"
   },
   {
    "duration": 8,
    "start_time": "2022-12-14T01:11:41.408Z"
   },
   {
    "duration": 6,
    "start_time": "2022-12-14T01:11:41.418Z"
   },
   {
    "duration": 8,
    "start_time": "2022-12-14T01:11:41.425Z"
   },
   {
    "duration": 12,
    "start_time": "2022-12-14T01:11:41.436Z"
   },
   {
    "duration": 16,
    "start_time": "2022-12-14T01:11:41.450Z"
   },
   {
    "duration": 71,
    "start_time": "2022-12-14T01:11:41.468Z"
   },
   {
    "duration": 0,
    "start_time": "2022-12-14T01:11:41.541Z"
   },
   {
    "duration": 0,
    "start_time": "2022-12-14T01:11:41.542Z"
   },
   {
    "duration": 0,
    "start_time": "2022-12-14T01:11:41.543Z"
   },
   {
    "duration": 0,
    "start_time": "2022-12-14T01:11:41.544Z"
   },
   {
    "duration": 0,
    "start_time": "2022-12-14T01:11:41.545Z"
   },
   {
    "duration": 0,
    "start_time": "2022-12-14T01:11:41.546Z"
   },
   {
    "duration": 0,
    "start_time": "2022-12-14T01:11:41.547Z"
   },
   {
    "duration": 0,
    "start_time": "2022-12-14T01:11:41.548Z"
   },
   {
    "duration": 42,
    "start_time": "2022-12-14T01:13:22.161Z"
   },
   {
    "duration": 107,
    "start_time": "2022-12-14T01:13:51.541Z"
   },
   {
    "duration": 32,
    "start_time": "2022-12-14T01:14:08.995Z"
   },
   {
    "duration": 34,
    "start_time": "2022-12-14T01:18:38.698Z"
   },
   {
    "duration": 93,
    "start_time": "2022-12-14T01:33:16.248Z"
   },
   {
    "duration": 464,
    "start_time": "2022-12-14T01:33:35.240Z"
   },
   {
    "duration": 232,
    "start_time": "2022-12-14T01:33:35.707Z"
   },
   {
    "duration": 12,
    "start_time": "2022-12-14T01:33:35.941Z"
   },
   {
    "duration": 69,
    "start_time": "2022-12-14T01:33:35.955Z"
   },
   {
    "duration": 9,
    "start_time": "2022-12-14T01:33:36.027Z"
   },
   {
    "duration": 19,
    "start_time": "2022-12-14T01:33:36.038Z"
   },
   {
    "duration": 51,
    "start_time": "2022-12-14T01:33:36.059Z"
   },
   {
    "duration": 12,
    "start_time": "2022-12-14T01:33:36.112Z"
   },
   {
    "duration": 27,
    "start_time": "2022-12-14T01:33:36.125Z"
   },
   {
    "duration": 58,
    "start_time": "2022-12-14T01:33:36.154Z"
   },
   {
    "duration": 36,
    "start_time": "2022-12-14T01:33:36.214Z"
   },
   {
    "duration": 93,
    "start_time": "2022-12-14T01:33:36.252Z"
   },
   {
    "duration": 113,
    "start_time": "2022-12-14T01:33:36.347Z"
   },
   {
    "duration": 71,
    "start_time": "2022-12-14T01:33:36.465Z"
   },
   {
    "duration": 69,
    "start_time": "2022-12-14T01:33:36.538Z"
   },
   {
    "duration": 10,
    "start_time": "2022-12-14T01:33:36.609Z"
   },
   {
    "duration": 74,
    "start_time": "2022-12-14T01:33:36.621Z"
   },
   {
    "duration": 34,
    "start_time": "2022-12-14T01:33:36.697Z"
   },
   {
    "duration": 64,
    "start_time": "2022-12-14T01:33:36.733Z"
   },
   {
    "duration": 3,
    "start_time": "2022-12-14T01:33:36.799Z"
   },
   {
    "duration": 23,
    "start_time": "2022-12-14T01:33:36.805Z"
   },
   {
    "duration": 97,
    "start_time": "2022-12-14T01:33:36.830Z"
   },
   {
    "duration": 0,
    "start_time": "2022-12-14T01:33:36.929Z"
   },
   {
    "duration": 0,
    "start_time": "2022-12-14T01:33:36.931Z"
   },
   {
    "duration": 0,
    "start_time": "2022-12-14T01:33:36.932Z"
   },
   {
    "duration": 0,
    "start_time": "2022-12-14T01:33:36.933Z"
   },
   {
    "duration": 0,
    "start_time": "2022-12-14T01:33:36.934Z"
   },
   {
    "duration": 0,
    "start_time": "2022-12-14T01:33:36.936Z"
   },
   {
    "duration": 0,
    "start_time": "2022-12-14T01:33:36.937Z"
   },
   {
    "duration": 0,
    "start_time": "2022-12-14T01:33:36.938Z"
   },
   {
    "duration": 0,
    "start_time": "2022-12-14T01:33:36.939Z"
   },
   {
    "duration": 0,
    "start_time": "2022-12-14T01:33:36.940Z"
   },
   {
    "duration": 0,
    "start_time": "2022-12-14T01:33:36.940Z"
   },
   {
    "duration": 0,
    "start_time": "2022-12-14T01:33:36.941Z"
   },
   {
    "duration": 0,
    "start_time": "2022-12-14T01:33:36.941Z"
   },
   {
    "duration": 0,
    "start_time": "2022-12-14T01:33:36.942Z"
   },
   {
    "duration": 0,
    "start_time": "2022-12-14T01:33:36.942Z"
   },
   {
    "duration": 0,
    "start_time": "2022-12-14T01:33:36.952Z"
   },
   {
    "duration": 15,
    "start_time": "2022-12-14T01:34:21.495Z"
   },
   {
    "duration": 445,
    "start_time": "2022-12-14T01:34:33.732Z"
   },
   {
    "duration": 197,
    "start_time": "2022-12-14T01:34:34.180Z"
   },
   {
    "duration": 8,
    "start_time": "2022-12-14T01:34:34.379Z"
   },
   {
    "duration": 34,
    "start_time": "2022-12-14T01:34:34.390Z"
   },
   {
    "duration": 3,
    "start_time": "2022-12-14T01:34:34.425Z"
   },
   {
    "duration": 38,
    "start_time": "2022-12-14T01:34:34.429Z"
   },
   {
    "duration": 15,
    "start_time": "2022-12-14T01:34:34.468Z"
   },
   {
    "duration": 8,
    "start_time": "2022-12-14T01:34:34.485Z"
   },
   {
    "duration": 28,
    "start_time": "2022-12-14T01:34:34.494Z"
   },
   {
    "duration": 49,
    "start_time": "2022-12-14T01:34:34.525Z"
   },
   {
    "duration": 25,
    "start_time": "2022-12-14T01:34:34.575Z"
   },
   {
    "duration": 84,
    "start_time": "2022-12-14T01:34:34.602Z"
   },
   {
    "duration": 96,
    "start_time": "2022-12-14T01:34:34.688Z"
   },
   {
    "duration": 61,
    "start_time": "2022-12-14T01:34:34.785Z"
   },
   {
    "duration": 51,
    "start_time": "2022-12-14T01:34:34.850Z"
   },
   {
    "duration": 10,
    "start_time": "2022-12-14T01:34:34.903Z"
   },
   {
    "duration": 61,
    "start_time": "2022-12-14T01:34:34.914Z"
   },
   {
    "duration": 32,
    "start_time": "2022-12-14T01:34:34.977Z"
   },
   {
    "duration": 51,
    "start_time": "2022-12-14T01:34:35.010Z"
   },
   {
    "duration": 3,
    "start_time": "2022-12-14T01:34:35.063Z"
   },
   {
    "duration": 31,
    "start_time": "2022-12-14T01:34:35.069Z"
   },
   {
    "duration": 15,
    "start_time": "2022-12-14T01:34:35.102Z"
   },
   {
    "duration": 16,
    "start_time": "2022-12-14T01:34:35.119Z"
   },
   {
    "duration": 33,
    "start_time": "2022-12-14T01:34:35.136Z"
   },
   {
    "duration": 26,
    "start_time": "2022-12-14T01:34:35.176Z"
   },
   {
    "duration": 22,
    "start_time": "2022-12-14T01:34:35.205Z"
   },
   {
    "duration": 29,
    "start_time": "2022-12-14T01:34:35.230Z"
   },
   {
    "duration": 3,
    "start_time": "2022-12-14T01:34:35.270Z"
   },
   {
    "duration": 6,
    "start_time": "2022-12-14T01:34:35.276Z"
   },
   {
    "duration": 88,
    "start_time": "2022-12-14T01:34:35.284Z"
   },
   {
    "duration": 0,
    "start_time": "2022-12-14T01:34:35.374Z"
   },
   {
    "duration": 0,
    "start_time": "2022-12-14T01:34:35.376Z"
   },
   {
    "duration": 0,
    "start_time": "2022-12-14T01:34:35.378Z"
   },
   {
    "duration": 0,
    "start_time": "2022-12-14T01:34:35.379Z"
   },
   {
    "duration": 0,
    "start_time": "2022-12-14T01:34:35.381Z"
   },
   {
    "duration": 0,
    "start_time": "2022-12-14T01:34:35.383Z"
   },
   {
    "duration": 0,
    "start_time": "2022-12-14T01:34:35.384Z"
   },
   {
    "duration": 1,
    "start_time": "2022-12-14T01:34:35.386Z"
   },
   {
    "duration": 72,
    "start_time": "2022-12-14T01:43:41.877Z"
   },
   {
    "duration": 97,
    "start_time": "2022-12-14T01:43:58.552Z"
   },
   {
    "duration": 77,
    "start_time": "2022-12-14T01:45:24.969Z"
   },
   {
    "duration": 87,
    "start_time": "2022-12-14T01:45:45.617Z"
   },
   {
    "duration": 94,
    "start_time": "2022-12-14T01:46:00.110Z"
   },
   {
    "duration": 64,
    "start_time": "2022-12-14T02:24:37.484Z"
   },
   {
    "duration": 10,
    "start_time": "2022-12-14T02:25:20.738Z"
   },
   {
    "duration": 7,
    "start_time": "2022-12-14T02:52:10.856Z"
   },
   {
    "duration": 8,
    "start_time": "2022-12-14T02:54:44.180Z"
   },
   {
    "duration": 432,
    "start_time": "2022-12-14T02:54:55.431Z"
   },
   {
    "duration": 197,
    "start_time": "2022-12-14T02:54:55.866Z"
   },
   {
    "duration": 7,
    "start_time": "2022-12-14T02:54:56.067Z"
   },
   {
    "duration": 41,
    "start_time": "2022-12-14T02:54:56.076Z"
   },
   {
    "duration": 5,
    "start_time": "2022-12-14T02:54:56.118Z"
   },
   {
    "duration": 15,
    "start_time": "2022-12-14T02:54:56.124Z"
   },
   {
    "duration": 23,
    "start_time": "2022-12-14T02:54:56.140Z"
   },
   {
    "duration": 18,
    "start_time": "2022-12-14T02:54:56.167Z"
   },
   {
    "duration": 30,
    "start_time": "2022-12-14T02:54:56.187Z"
   },
   {
    "duration": 24,
    "start_time": "2022-12-14T02:54:56.220Z"
   },
   {
    "duration": 38,
    "start_time": "2022-12-14T02:54:56.246Z"
   },
   {
    "duration": 89,
    "start_time": "2022-12-14T02:54:56.286Z"
   },
   {
    "duration": 89,
    "start_time": "2022-12-14T02:54:56.377Z"
   },
   {
    "duration": 56,
    "start_time": "2022-12-14T02:54:56.468Z"
   },
   {
    "duration": 49,
    "start_time": "2022-12-14T02:54:56.525Z"
   },
   {
    "duration": 11,
    "start_time": "2022-12-14T02:54:56.576Z"
   },
   {
    "duration": 43,
    "start_time": "2022-12-14T02:54:56.589Z"
   },
   {
    "duration": 56,
    "start_time": "2022-12-14T02:54:56.634Z"
   },
   {
    "duration": 32,
    "start_time": "2022-12-14T02:54:56.692Z"
   },
   {
    "duration": 4,
    "start_time": "2022-12-14T02:54:56.725Z"
   },
   {
    "duration": 44,
    "start_time": "2022-12-14T02:54:56.731Z"
   },
   {
    "duration": 18,
    "start_time": "2022-12-14T02:54:56.777Z"
   },
   {
    "duration": 21,
    "start_time": "2022-12-14T02:54:56.797Z"
   },
   {
    "duration": 48,
    "start_time": "2022-12-14T02:54:56.820Z"
   },
   {
    "duration": 25,
    "start_time": "2022-12-14T02:54:56.870Z"
   },
   {
    "duration": 23,
    "start_time": "2022-12-14T02:54:56.897Z"
   },
   {
    "duration": 43,
    "start_time": "2022-12-14T02:54:56.922Z"
   },
   {
    "duration": 28,
    "start_time": "2022-12-14T02:54:56.969Z"
   },
   {
    "duration": 19,
    "start_time": "2022-12-14T02:54:56.999Z"
   },
   {
    "duration": 18,
    "start_time": "2022-12-14T02:54:57.020Z"
   },
   {
    "duration": 45,
    "start_time": "2022-12-14T02:54:57.039Z"
   },
   {
    "duration": 2,
    "start_time": "2022-12-14T02:54:57.086Z"
   },
   {
    "duration": 10,
    "start_time": "2022-12-14T02:54:57.090Z"
   },
   {
    "duration": 7,
    "start_time": "2022-12-14T02:54:57.102Z"
   },
   {
    "duration": 11,
    "start_time": "2022-12-14T02:54:57.111Z"
   },
   {
    "duration": 8,
    "start_time": "2022-12-14T02:54:57.123Z"
   },
   {
    "duration": 5,
    "start_time": "2022-12-14T02:54:57.133Z"
   },
   {
    "duration": 6,
    "start_time": "2022-12-14T02:54:57.140Z"
   },
   {
    "duration": 52,
    "start_time": "2022-12-15T10:41:32.148Z"
   },
   {
    "duration": 462,
    "start_time": "2022-12-15T10:41:45.703Z"
   },
   {
    "duration": 597,
    "start_time": "2022-12-15T10:41:46.167Z"
   },
   {
    "duration": 10,
    "start_time": "2022-12-15T10:41:46.765Z"
   },
   {
    "duration": 53,
    "start_time": "2022-12-15T10:41:46.777Z"
   },
   {
    "duration": 5,
    "start_time": "2022-12-15T10:41:46.833Z"
   },
   {
    "duration": 23,
    "start_time": "2022-12-15T10:41:46.840Z"
   },
   {
    "duration": 37,
    "start_time": "2022-12-15T10:41:46.866Z"
   },
   {
    "duration": 29,
    "start_time": "2022-12-15T10:41:46.905Z"
   },
   {
    "duration": 50,
    "start_time": "2022-12-15T10:41:46.937Z"
   },
   {
    "duration": 33,
    "start_time": "2022-12-15T10:41:46.992Z"
   },
   {
    "duration": 42,
    "start_time": "2022-12-15T10:41:47.028Z"
   },
   {
    "duration": 92,
    "start_time": "2022-12-15T10:41:47.072Z"
   },
   {
    "duration": 124,
    "start_time": "2022-12-15T10:41:47.167Z"
   },
   {
    "duration": 86,
    "start_time": "2022-12-15T10:41:47.294Z"
   },
   {
    "duration": 54,
    "start_time": "2022-12-15T10:41:47.383Z"
   },
   {
    "duration": 17,
    "start_time": "2022-12-15T10:41:47.439Z"
   },
   {
    "duration": 59,
    "start_time": "2022-12-15T10:41:47.459Z"
   },
   {
    "duration": 67,
    "start_time": "2022-12-15T10:41:47.521Z"
   },
   {
    "duration": 67,
    "start_time": "2022-12-15T10:41:47.590Z"
   },
   {
    "duration": 5,
    "start_time": "2022-12-15T10:41:47.659Z"
   },
   {
    "duration": 40,
    "start_time": "2022-12-15T10:41:47.670Z"
   },
   {
    "duration": 28,
    "start_time": "2022-12-15T10:41:47.712Z"
   },
   {
    "duration": 23,
    "start_time": "2022-12-15T10:41:47.742Z"
   },
   {
    "duration": 34,
    "start_time": "2022-12-15T10:41:47.767Z"
   },
   {
    "duration": 23,
    "start_time": "2022-12-15T10:41:47.803Z"
   },
   {
    "duration": 37,
    "start_time": "2022-12-15T10:41:47.828Z"
   },
   {
    "duration": 16,
    "start_time": "2022-12-15T10:41:47.867Z"
   },
   {
    "duration": 23,
    "start_time": "2022-12-15T10:41:47.888Z"
   },
   {
    "duration": 29,
    "start_time": "2022-12-15T10:41:47.913Z"
   },
   {
    "duration": 138,
    "start_time": "2022-12-15T10:41:47.947Z"
   },
   {
    "duration": 55,
    "start_time": "2022-12-15T10:41:48.087Z"
   },
   {
    "duration": 17,
    "start_time": "2022-12-15T10:41:48.144Z"
   },
   {
    "duration": 15,
    "start_time": "2022-12-15T10:41:48.162Z"
   },
   {
    "duration": 27,
    "start_time": "2022-12-15T10:41:48.180Z"
   },
   {
    "duration": 6,
    "start_time": "2022-12-15T10:41:48.209Z"
   },
   {
    "duration": 47,
    "start_time": "2022-12-15T10:41:48.218Z"
   },
   {
    "duration": 24,
    "start_time": "2022-12-15T10:41:48.268Z"
   },
   {
    "duration": 14,
    "start_time": "2022-12-15T10:41:48.294Z"
   },
   {
    "duration": 24,
    "start_time": "2022-12-15T10:44:07.633Z"
   },
   {
    "duration": 26,
    "start_time": "2022-12-15T10:44:20.187Z"
   },
   {
    "duration": 18,
    "start_time": "2022-12-15T10:44:31.243Z"
   },
   {
    "duration": 93,
    "start_time": "2022-12-15T10:49:50.091Z"
   },
   {
    "duration": 6,
    "start_time": "2022-12-15T10:52:28.393Z"
   },
   {
    "duration": 5,
    "start_time": "2022-12-15T10:52:32.195Z"
   },
   {
    "duration": 7,
    "start_time": "2022-12-15T10:53:04.188Z"
   },
   {
    "duration": 6,
    "start_time": "2022-12-15T10:59:02.818Z"
   },
   {
    "duration": 481,
    "start_time": "2022-12-15T10:59:19.223Z"
   },
   {
    "duration": 190,
    "start_time": "2022-12-15T10:59:19.706Z"
   },
   {
    "duration": 9,
    "start_time": "2022-12-15T10:59:19.898Z"
   },
   {
    "duration": 43,
    "start_time": "2022-12-15T10:59:19.909Z"
   },
   {
    "duration": 3,
    "start_time": "2022-12-15T10:59:19.953Z"
   },
   {
    "duration": 10,
    "start_time": "2022-12-15T10:59:19.958Z"
   },
   {
    "duration": 16,
    "start_time": "2022-12-15T10:59:19.970Z"
   },
   {
    "duration": 9,
    "start_time": "2022-12-15T10:59:19.988Z"
   },
   {
    "duration": 43,
    "start_time": "2022-12-15T10:59:19.999Z"
   },
   {
    "duration": 21,
    "start_time": "2022-12-15T10:59:20.045Z"
   },
   {
    "duration": 27,
    "start_time": "2022-12-15T10:59:20.068Z"
   },
   {
    "duration": 89,
    "start_time": "2022-12-15T10:59:20.097Z"
   },
   {
    "duration": 92,
    "start_time": "2022-12-15T10:59:20.188Z"
   },
   {
    "duration": 66,
    "start_time": "2022-12-15T10:59:20.282Z"
   },
   {
    "duration": 45,
    "start_time": "2022-12-15T10:59:20.350Z"
   },
   {
    "duration": 11,
    "start_time": "2022-12-15T10:59:20.397Z"
   },
   {
    "duration": 60,
    "start_time": "2022-12-15T10:59:20.409Z"
   },
   {
    "duration": 31,
    "start_time": "2022-12-15T10:59:20.471Z"
   },
   {
    "duration": 49,
    "start_time": "2022-12-15T10:59:20.504Z"
   },
   {
    "duration": 4,
    "start_time": "2022-12-15T10:59:20.555Z"
   },
   {
    "duration": 27,
    "start_time": "2022-12-15T10:59:20.561Z"
   },
   {
    "duration": 15,
    "start_time": "2022-12-15T10:59:20.589Z"
   },
   {
    "duration": 36,
    "start_time": "2022-12-15T10:59:20.606Z"
   },
   {
    "duration": 18,
    "start_time": "2022-12-15T10:59:20.644Z"
   },
   {
    "duration": 16,
    "start_time": "2022-12-15T10:59:20.664Z"
   },
   {
    "duration": 17,
    "start_time": "2022-12-15T10:59:20.682Z"
   },
   {
    "duration": 37,
    "start_time": "2022-12-15T10:59:20.701Z"
   },
   {
    "duration": 11,
    "start_time": "2022-12-15T10:59:20.741Z"
   },
   {
    "duration": 11,
    "start_time": "2022-12-15T10:59:20.754Z"
   },
   {
    "duration": 9,
    "start_time": "2022-12-15T10:59:20.767Z"
   },
   {
    "duration": 33,
    "start_time": "2022-12-15T10:59:20.778Z"
   },
   {
    "duration": 31,
    "start_time": "2022-12-15T10:59:20.813Z"
   },
   {
    "duration": 29,
    "start_time": "2022-12-15T10:59:20.846Z"
   },
   {
    "duration": 20,
    "start_time": "2022-12-15T10:59:20.877Z"
   },
   {
    "duration": 57,
    "start_time": "2022-12-15T10:59:20.899Z"
   },
   {
    "duration": 6,
    "start_time": "2022-12-15T10:59:20.958Z"
   },
   {
    "duration": 9,
    "start_time": "2022-12-15T10:59:20.966Z"
   },
   {
    "duration": 10,
    "start_time": "2022-12-15T10:59:20.977Z"
   },
   {
    "duration": 18,
    "start_time": "2022-12-15T11:02:03.213Z"
   },
   {
    "duration": 7,
    "start_time": "2022-12-15T11:02:04.989Z"
   },
   {
    "duration": 422,
    "start_time": "2022-12-15T11:13:53.148Z"
   },
   {
    "duration": 181,
    "start_time": "2022-12-15T11:13:53.572Z"
   },
   {
    "duration": 9,
    "start_time": "2022-12-15T11:13:53.755Z"
   },
   {
    "duration": 36,
    "start_time": "2022-12-15T11:13:53.766Z"
   },
   {
    "duration": 2,
    "start_time": "2022-12-15T11:13:53.804Z"
   },
   {
    "duration": 32,
    "start_time": "2022-12-15T11:13:53.808Z"
   },
   {
    "duration": 18,
    "start_time": "2022-12-15T11:13:53.844Z"
   },
   {
    "duration": 14,
    "start_time": "2022-12-15T11:13:53.865Z"
   },
   {
    "duration": 28,
    "start_time": "2022-12-15T11:13:53.881Z"
   },
   {
    "duration": 39,
    "start_time": "2022-12-15T11:13:53.912Z"
   },
   {
    "duration": 25,
    "start_time": "2022-12-15T11:13:53.953Z"
   },
   {
    "duration": 73,
    "start_time": "2022-12-15T11:13:53.980Z"
   },
   {
    "duration": 75,
    "start_time": "2022-12-15T11:13:54.055Z"
   },
   {
    "duration": 67,
    "start_time": "2022-12-15T11:13:54.132Z"
   },
   {
    "duration": 58,
    "start_time": "2022-12-15T11:13:54.201Z"
   },
   {
    "duration": 9,
    "start_time": "2022-12-15T11:13:54.260Z"
   },
   {
    "duration": 40,
    "start_time": "2022-12-15T11:13:54.271Z"
   },
   {
    "duration": 55,
    "start_time": "2022-12-15T11:13:54.313Z"
   },
   {
    "duration": 34,
    "start_time": "2022-12-15T11:13:54.370Z"
   },
   {
    "duration": 4,
    "start_time": "2022-12-15T11:13:54.405Z"
   },
   {
    "duration": 23,
    "start_time": "2022-12-15T11:13:54.439Z"
   },
   {
    "duration": 14,
    "start_time": "2022-12-15T11:13:54.463Z"
   },
   {
    "duration": 15,
    "start_time": "2022-12-15T11:13:54.479Z"
   },
   {
    "duration": 13,
    "start_time": "2022-12-15T11:13:54.495Z"
   },
   {
    "duration": 49,
    "start_time": "2022-12-15T11:13:54.509Z"
   },
   {
    "duration": 15,
    "start_time": "2022-12-15T11:13:54.560Z"
   },
   {
    "duration": 21,
    "start_time": "2022-12-15T11:13:54.577Z"
   },
   {
    "duration": 11,
    "start_time": "2022-12-15T11:13:54.602Z"
   },
   {
    "duration": 24,
    "start_time": "2022-12-15T11:13:54.615Z"
   },
   {
    "duration": 9,
    "start_time": "2022-12-15T11:13:54.640Z"
   },
   {
    "duration": 29,
    "start_time": "2022-12-15T11:13:54.651Z"
   },
   {
    "duration": 16,
    "start_time": "2022-12-15T11:13:54.682Z"
   },
   {
    "duration": 51,
    "start_time": "2022-12-15T11:13:54.700Z"
   },
   {
    "duration": 18,
    "start_time": "2022-12-15T11:13:54.753Z"
   },
   {
    "duration": 25,
    "start_time": "2022-12-15T11:13:54.772Z"
   },
   {
    "duration": 5,
    "start_time": "2022-12-15T11:13:54.799Z"
   },
   {
    "duration": 34,
    "start_time": "2022-12-15T11:13:54.806Z"
   },
   {
    "duration": 6,
    "start_time": "2022-12-15T11:13:54.850Z"
   },
   {
    "duration": 85,
    "start_time": "2022-12-15T11:37:01.950Z"
   },
   {
    "duration": 67,
    "start_time": "2022-12-15T11:39:11.455Z"
   },
   {
    "duration": 100,
    "start_time": "2022-12-15T11:39:27.793Z"
   },
   {
    "duration": 48,
    "start_time": "2022-12-15T11:39:33.371Z"
   },
   {
    "duration": 1274,
    "start_time": "2022-12-15T11:39:46.909Z"
   },
   {
    "duration": 30,
    "start_time": "2022-12-15T11:40:20.599Z"
   },
   {
    "duration": 43,
    "start_time": "2022-12-15T11:43:47.826Z"
   },
   {
    "duration": 424,
    "start_time": "2022-12-15T11:46:47.548Z"
   },
   {
    "duration": 211,
    "start_time": "2022-12-15T11:46:47.974Z"
   },
   {
    "duration": 9,
    "start_time": "2022-12-15T11:46:48.187Z"
   },
   {
    "duration": 45,
    "start_time": "2022-12-15T11:46:48.198Z"
   },
   {
    "duration": 10,
    "start_time": "2022-12-15T11:46:48.245Z"
   },
   {
    "duration": 10,
    "start_time": "2022-12-15T11:46:48.257Z"
   },
   {
    "duration": 15,
    "start_time": "2022-12-15T11:46:48.269Z"
   },
   {
    "duration": 9,
    "start_time": "2022-12-15T11:46:48.286Z"
   },
   {
    "duration": 27,
    "start_time": "2022-12-15T11:46:48.297Z"
   },
   {
    "duration": 28,
    "start_time": "2022-12-15T11:46:48.340Z"
   },
   {
    "duration": 29,
    "start_time": "2022-12-15T11:46:48.370Z"
   },
   {
    "duration": 97,
    "start_time": "2022-12-15T11:46:48.401Z"
   },
   {
    "duration": 96,
    "start_time": "2022-12-15T11:46:48.500Z"
   },
   {
    "duration": 77,
    "start_time": "2022-12-15T11:46:48.598Z"
   },
   {
    "duration": 40,
    "start_time": "2022-12-15T11:46:48.677Z"
   },
   {
    "duration": 31,
    "start_time": "2022-12-15T11:46:48.719Z"
   },
   {
    "duration": 46,
    "start_time": "2022-12-15T11:46:48.752Z"
   },
   {
    "duration": 46,
    "start_time": "2022-12-15T11:46:48.799Z"
   },
   {
    "duration": 58,
    "start_time": "2022-12-15T11:46:48.847Z"
   },
   {
    "duration": 5,
    "start_time": "2022-12-15T11:46:48.906Z"
   },
   {
    "duration": 37,
    "start_time": "2022-12-15T11:46:48.913Z"
   },
   {
    "duration": 18,
    "start_time": "2022-12-15T11:46:48.956Z"
   },
   {
    "duration": 19,
    "start_time": "2022-12-15T11:46:48.976Z"
   },
   {
    "duration": 30,
    "start_time": "2022-12-15T11:46:48.997Z"
   },
   {
    "duration": 27,
    "start_time": "2022-12-15T11:46:49.037Z"
   },
   {
    "duration": 83,
    "start_time": "2022-12-15T11:46:49.067Z"
   },
   {
    "duration": 27,
    "start_time": "2022-12-15T11:46:49.154Z"
   },
   {
    "duration": 68,
    "start_time": "2022-12-15T11:46:49.187Z"
   },
   {
    "duration": 33,
    "start_time": "2022-12-15T11:46:49.258Z"
   },
   {
    "duration": 22,
    "start_time": "2022-12-15T11:46:49.294Z"
   },
   {
    "duration": 86,
    "start_time": "2022-12-15T11:46:49.319Z"
   },
   {
    "duration": 18,
    "start_time": "2022-12-15T11:46:49.407Z"
   },
   {
    "duration": 57,
    "start_time": "2022-12-15T11:46:49.427Z"
   },
   {
    "duration": 19,
    "start_time": "2022-12-15T11:46:49.486Z"
   },
   {
    "duration": 56,
    "start_time": "2022-12-15T11:46:49.507Z"
   },
   {
    "duration": 7,
    "start_time": "2022-12-15T11:46:49.565Z"
   },
   {
    "duration": 22,
    "start_time": "2022-12-15T11:46:49.574Z"
   },
   {
    "duration": 5,
    "start_time": "2022-12-15T11:46:49.598Z"
   },
   {
    "duration": 32,
    "start_time": "2022-12-15T11:55:45.228Z"
   },
   {
    "duration": 40,
    "start_time": "2022-12-15T11:56:30.898Z"
   },
   {
    "duration": 90,
    "start_time": "2022-12-15T12:10:32.043Z"
   },
   {
    "duration": 441,
    "start_time": "2022-12-15T12:13:29.008Z"
   },
   {
    "duration": 179,
    "start_time": "2022-12-15T12:13:29.451Z"
   },
   {
    "duration": 9,
    "start_time": "2022-12-15T12:13:29.632Z"
   },
   {
    "duration": 38,
    "start_time": "2022-12-15T12:13:29.643Z"
   },
   {
    "duration": 3,
    "start_time": "2022-12-15T12:13:29.683Z"
   },
   {
    "duration": 11,
    "start_time": "2022-12-15T12:13:29.688Z"
   },
   {
    "duration": 39,
    "start_time": "2022-12-15T12:13:29.701Z"
   },
   {
    "duration": 5,
    "start_time": "2022-12-15T12:13:29.743Z"
   },
   {
    "duration": 31,
    "start_time": "2022-12-15T12:13:29.750Z"
   },
   {
    "duration": 20,
    "start_time": "2022-12-15T12:13:29.784Z"
   },
   {
    "duration": 39,
    "start_time": "2022-12-15T12:13:29.806Z"
   },
   {
    "duration": 79,
    "start_time": "2022-12-15T12:13:29.850Z"
   },
   {
    "duration": 75,
    "start_time": "2022-12-15T12:13:29.931Z"
   },
   {
    "duration": 80,
    "start_time": "2022-12-15T12:13:30.007Z"
   },
   {
    "duration": 58,
    "start_time": "2022-12-15T12:13:30.089Z"
   },
   {
    "duration": 13,
    "start_time": "2022-12-15T12:13:30.149Z"
   },
   {
    "duration": 91,
    "start_time": "2022-12-15T12:13:30.165Z"
   },
   {
    "duration": 52,
    "start_time": "2022-12-15T12:13:30.260Z"
   },
   {
    "duration": 68,
    "start_time": "2022-12-15T12:13:30.315Z"
   },
   {
    "duration": 5,
    "start_time": "2022-12-15T12:13:30.386Z"
   },
   {
    "duration": 36,
    "start_time": "2022-12-15T12:13:30.393Z"
   },
   {
    "duration": 24,
    "start_time": "2022-12-15T12:13:30.430Z"
   },
   {
    "duration": 27,
    "start_time": "2022-12-15T12:13:30.456Z"
   },
   {
    "duration": 27,
    "start_time": "2022-12-15T12:13:30.485Z"
   },
   {
    "duration": 19,
    "start_time": "2022-12-15T12:13:30.514Z"
   },
   {
    "duration": 23,
    "start_time": "2022-12-15T12:13:30.536Z"
   },
   {
    "duration": 13,
    "start_time": "2022-12-15T12:13:30.561Z"
   },
   {
    "duration": 14,
    "start_time": "2022-12-15T12:13:30.579Z"
   },
   {
    "duration": 15,
    "start_time": "2022-12-15T12:13:30.595Z"
   },
   {
    "duration": 26,
    "start_time": "2022-12-15T12:13:30.612Z"
   },
   {
    "duration": 58,
    "start_time": "2022-12-15T12:13:30.639Z"
   },
   {
    "duration": 14,
    "start_time": "2022-12-15T12:13:30.699Z"
   },
   {
    "duration": 36,
    "start_time": "2022-12-15T12:13:30.714Z"
   },
   {
    "duration": 16,
    "start_time": "2022-12-15T12:13:30.752Z"
   },
   {
    "duration": 88,
    "start_time": "2022-12-15T12:13:30.769Z"
   },
   {
    "duration": 8,
    "start_time": "2022-12-15T12:13:30.859Z"
   },
   {
    "duration": 39,
    "start_time": "2022-12-15T12:13:30.869Z"
   },
   {
    "duration": 8,
    "start_time": "2022-12-15T12:13:30.910Z"
   },
   {
    "duration": 504,
    "start_time": "2022-12-15T12:14:03.063Z"
   },
   {
    "duration": 180,
    "start_time": "2022-12-15T12:14:03.569Z"
   },
   {
    "duration": 11,
    "start_time": "2022-12-15T12:14:03.752Z"
   },
   {
    "duration": 37,
    "start_time": "2022-12-15T12:14:03.766Z"
   },
   {
    "duration": 3,
    "start_time": "2022-12-15T12:14:03.805Z"
   },
   {
    "duration": 17,
    "start_time": "2022-12-15T12:14:03.846Z"
   },
   {
    "duration": 19,
    "start_time": "2022-12-15T12:14:03.866Z"
   },
   {
    "duration": 12,
    "start_time": "2022-12-15T12:14:03.887Z"
   },
   {
    "duration": 58,
    "start_time": "2022-12-15T12:14:03.901Z"
   },
   {
    "duration": 22,
    "start_time": "2022-12-15T12:14:03.964Z"
   },
   {
    "duration": 50,
    "start_time": "2022-12-15T12:14:03.988Z"
   },
   {
    "duration": 70,
    "start_time": "2022-12-15T12:14:04.040Z"
   },
   {
    "duration": 109,
    "start_time": "2022-12-15T12:14:04.112Z"
   },
   {
    "duration": 104,
    "start_time": "2022-12-15T12:14:04.224Z"
   },
   {
    "duration": 46,
    "start_time": "2022-12-15T12:14:04.338Z"
   },
   {
    "duration": 11,
    "start_time": "2022-12-15T12:14:04.386Z"
   },
   {
    "duration": 72,
    "start_time": "2022-12-15T12:14:04.399Z"
   },
   {
    "duration": 36,
    "start_time": "2022-12-15T12:14:04.473Z"
   },
   {
    "duration": 52,
    "start_time": "2022-12-15T12:14:04.511Z"
   },
   {
    "duration": 5,
    "start_time": "2022-12-15T12:14:04.566Z"
   },
   {
    "duration": 22,
    "start_time": "2022-12-15T12:14:04.574Z"
   },
   {
    "duration": 40,
    "start_time": "2022-12-15T12:14:04.598Z"
   },
   {
    "duration": 16,
    "start_time": "2022-12-15T12:14:04.640Z"
   },
   {
    "duration": 19,
    "start_time": "2022-12-15T12:14:04.658Z"
   },
   {
    "duration": 19,
    "start_time": "2022-12-15T12:14:04.678Z"
   },
   {
    "duration": 54,
    "start_time": "2022-12-15T12:14:04.698Z"
   },
   {
    "duration": 13,
    "start_time": "2022-12-15T12:14:04.754Z"
   },
   {
    "duration": 16,
    "start_time": "2022-12-15T12:14:04.771Z"
   },
   {
    "duration": 14,
    "start_time": "2022-12-15T12:14:04.790Z"
   },
   {
    "duration": 7,
    "start_time": "2022-12-15T12:14:04.837Z"
   },
   {
    "duration": 31,
    "start_time": "2022-12-15T12:14:04.846Z"
   },
   {
    "duration": 18,
    "start_time": "2022-12-15T12:14:04.881Z"
   },
   {
    "duration": 49,
    "start_time": "2022-12-15T12:14:04.901Z"
   },
   {
    "duration": 19,
    "start_time": "2022-12-15T12:14:04.952Z"
   },
   {
    "duration": 35,
    "start_time": "2022-12-15T12:14:04.974Z"
   },
   {
    "duration": 35,
    "start_time": "2022-12-15T12:14:05.011Z"
   },
   {
    "duration": 34,
    "start_time": "2022-12-15T12:14:05.049Z"
   },
   {
    "duration": 8,
    "start_time": "2022-12-15T12:14:05.085Z"
   },
   {
    "duration": 5,
    "start_time": "2022-12-15T12:19:03.316Z"
   },
   {
    "duration": 1226,
    "start_time": "2022-12-15T12:19:59.930Z"
   },
   {
    "duration": 5,
    "start_time": "2022-12-15T12:20:11.757Z"
   },
   {
    "duration": 5,
    "start_time": "2022-12-15T12:20:48.646Z"
   },
   {
    "duration": 4,
    "start_time": "2022-12-15T12:22:17.325Z"
   },
   {
    "duration": 6,
    "start_time": "2022-12-15T12:23:01.251Z"
   },
   {
    "duration": 4,
    "start_time": "2022-12-15T12:23:40.410Z"
   },
   {
    "duration": 7,
    "start_time": "2022-12-15T12:23:50.806Z"
   },
   {
    "duration": 4,
    "start_time": "2022-12-15T12:25:10.425Z"
   },
   {
    "duration": 11,
    "start_time": "2022-12-15T12:29:37.970Z"
   },
   {
    "duration": 9,
    "start_time": "2022-12-15T12:30:26.799Z"
   },
   {
    "duration": 9,
    "start_time": "2022-12-15T12:33:04.337Z"
   },
   {
    "duration": 9,
    "start_time": "2022-12-15T12:33:26.229Z"
   },
   {
    "duration": 396,
    "start_time": "2022-12-15T12:33:39.167Z"
   },
   {
    "duration": 172,
    "start_time": "2022-12-15T12:33:39.565Z"
   },
   {
    "duration": 9,
    "start_time": "2022-12-15T12:33:39.738Z"
   },
   {
    "duration": 34,
    "start_time": "2022-12-15T12:33:39.748Z"
   },
   {
    "duration": 2,
    "start_time": "2022-12-15T12:33:39.785Z"
   },
   {
    "duration": 12,
    "start_time": "2022-12-15T12:33:39.789Z"
   },
   {
    "duration": 22,
    "start_time": "2022-12-15T12:33:39.802Z"
   },
   {
    "duration": 7,
    "start_time": "2022-12-15T12:33:39.838Z"
   },
   {
    "duration": 37,
    "start_time": "2022-12-15T12:33:39.847Z"
   },
   {
    "duration": 25,
    "start_time": "2022-12-15T12:33:39.885Z"
   },
   {
    "duration": 25,
    "start_time": "2022-12-15T12:33:39.912Z"
   },
   {
    "duration": 73,
    "start_time": "2022-12-15T12:33:39.939Z"
   },
   {
    "duration": 85,
    "start_time": "2022-12-15T12:33:40.013Z"
   },
   {
    "duration": 72,
    "start_time": "2022-12-15T12:33:40.101Z"
   },
   {
    "duration": 39,
    "start_time": "2022-12-15T12:33:40.175Z"
   },
   {
    "duration": 22,
    "start_time": "2022-12-15T12:33:40.216Z"
   },
   {
    "duration": 39,
    "start_time": "2022-12-15T12:33:40.239Z"
   },
   {
    "duration": 31,
    "start_time": "2022-12-15T12:33:40.279Z"
   },
   {
    "duration": 50,
    "start_time": "2022-12-15T12:33:40.311Z"
   },
   {
    "duration": 4,
    "start_time": "2022-12-15T12:33:40.362Z"
   },
   {
    "duration": 21,
    "start_time": "2022-12-15T12:33:40.368Z"
   },
   {
    "duration": 12,
    "start_time": "2022-12-15T12:33:40.391Z"
   },
   {
    "duration": 33,
    "start_time": "2022-12-15T12:33:40.405Z"
   },
   {
    "duration": 14,
    "start_time": "2022-12-15T12:33:40.440Z"
   },
   {
    "duration": 15,
    "start_time": "2022-12-15T12:33:40.456Z"
   },
   {
    "duration": 13,
    "start_time": "2022-12-15T12:33:40.473Z"
   },
   {
    "duration": 10,
    "start_time": "2022-12-15T12:33:40.488Z"
   },
   {
    "duration": 44,
    "start_time": "2022-12-15T12:33:40.499Z"
   },
   {
    "duration": 10,
    "start_time": "2022-12-15T12:33:40.544Z"
   },
   {
    "duration": 11,
    "start_time": "2022-12-15T12:33:40.556Z"
   },
   {
    "duration": 23,
    "start_time": "2022-12-15T12:33:40.569Z"
   },
   {
    "duration": 10,
    "start_time": "2022-12-15T12:33:40.594Z"
   },
   {
    "duration": 34,
    "start_time": "2022-12-15T12:33:40.606Z"
   },
   {
    "duration": 12,
    "start_time": "2022-12-15T12:33:40.642Z"
   },
   {
    "duration": 9,
    "start_time": "2022-12-15T12:33:40.656Z"
   },
   {
    "duration": 5,
    "start_time": "2022-12-15T12:33:40.667Z"
   },
   {
    "duration": 83,
    "start_time": "2022-12-15T12:33:40.674Z"
   },
   {
    "duration": 0,
    "start_time": "2022-12-15T12:33:40.759Z"
   }
  ],
  "colab": {
   "collapsed_sections": [
    "E0vqbgi9ay0H",
    "VUC88oWjTJw2"
   ],
   "name": "automatization_template_upd4.ipynb",
   "provenance": []
  },
  "kernelspec": {
   "display_name": "Python 3 (ipykernel)",
   "language": "python",
   "name": "python3"
  },
  "language_info": {
   "codemirror_mode": {
    "name": "ipython",
    "version": 3
   },
   "file_extension": ".py",
   "mimetype": "text/x-python",
   "name": "python",
   "nbconvert_exporter": "python",
   "pygments_lexer": "ipython3",
   "version": "3.9.15"
  },
  "toc": {
   "base_numbering": 1,
   "nav_menu": {
    "height": "215px",
    "width": "403px"
   },
   "number_sections": true,
   "sideBar": true,
   "skip_h1_title": true,
   "title_cell": "Table of Contents",
   "title_sidebar": "Contents",
   "toc_cell": false,
   "toc_position": {
    "height": "calc(100% - 180px)",
    "left": "10px",
    "top": "150px",
    "width": "285.825px"
   },
   "toc_section_display": true,
   "toc_window_display": false
  }
 },
 "nbformat": 4,
 "nbformat_minor": 1
}
